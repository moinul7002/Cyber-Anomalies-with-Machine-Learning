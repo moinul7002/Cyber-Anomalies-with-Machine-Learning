{
 "cells": [
  {
   "cell_type": "code",
   "execution_count": 6,
   "id": "d3a487bc",
   "metadata": {},
   "outputs": [],
   "source": [
    "import pandas as pd\n",
    "import numpy as np\n",
    "import matplotlib.pyplot as plt\n",
    "import seaborn as sns"
   ]
  },
  {
   "cell_type": "code",
   "execution_count": 7,
   "id": "507fc0cc",
   "metadata": {},
   "outputs": [],
   "source": [
    "from sklearn.model_selection import cross_validate, RepeatedStratifiedKFold, learning_curve,  cross_val_score, RandomizedSearchCV, train_test_split, StratifiedKFold\n",
    "from sklearn.neighbors import KNeighborsClassifier\n",
    "from sklearn.tree import DecisionTreeClassifier\n",
    "from sklearn.svm import SVC\n",
    "from sklearn.ensemble import RandomForestClassifier, AdaBoostClassifier, GradientBoostingClassifier, IsolationForest\n",
    "from sklearn.linear_model import LogisticRegression \n",
    "from sklearn.neural_network import MLPClassifier\n",
    "from sklearn.naive_bayes import GaussianNB\n",
    "# from sklearn.preprocessing import KBinsDiscretizer\n",
    "# from sklearn.covariance import EllipticEnvelope\n",
    "from sklearn.decomposition import PCA\n",
    "from sklearn.ensemble import ExtraTreesClassifier\n",
    "import xgboost as xgb\n",
    "\n",
    "from sklearn.metrics import classification_report, accuracy_score, auc\n",
    "from sklearn.metrics import roc_auc_score\n",
    "from sklearn.metrics import roc_curve\n",
    "from sklearn import metrics\n",
    "from sklearn.metrics import confusion_matrix\n",
    "from sklearn.model_selection import RepeatedKFold\n",
    "from sklearn.model_selection import cross_val_score\n",
    "from numpy import mean\n",
    "from numpy import std\n",
    "from sklearn.preprocessing import StandardScaler, RobustScaler"
   ]
  },
  {
   "cell_type": "code",
   "execution_count": 8,
   "id": "9ba92cea",
   "metadata": {},
   "outputs": [],
   "source": [
    "df = pd.read_csv('cicds_data_low.csv')"
   ]
  },
  {
   "cell_type": "code",
   "execution_count": 9,
   "id": "ac385a4a",
   "metadata": {},
   "outputs": [
    {
     "data": {
      "text/html": [
       "<div>\n",
       "<style scoped>\n",
       "    .dataframe tbody tr th:only-of-type {\n",
       "        vertical-align: middle;\n",
       "    }\n",
       "\n",
       "    .dataframe tbody tr th {\n",
       "        vertical-align: top;\n",
       "    }\n",
       "\n",
       "    .dataframe thead th {\n",
       "        text-align: right;\n",
       "    }\n",
       "</style>\n",
       "<table border=\"1\" class=\"dataframe\">\n",
       "  <thead>\n",
       "    <tr style=\"text-align: right;\">\n",
       "      <th></th>\n",
       "      <th>Destination Port</th>\n",
       "      <th>Flow Duration</th>\n",
       "      <th>Total Fwd Packets</th>\n",
       "      <th>Total Backward Packets</th>\n",
       "      <th>Total Length of Fwd Packets</th>\n",
       "      <th>Total Length of Bwd Packets</th>\n",
       "      <th>Fwd Packet Length Max</th>\n",
       "      <th>Fwd Packet Length Min</th>\n",
       "      <th>Fwd Packet Length Mean</th>\n",
       "      <th>Fwd Packet Length Std</th>\n",
       "      <th>...</th>\n",
       "      <th>min_seg_size_forward</th>\n",
       "      <th>Active Mean</th>\n",
       "      <th>Active Std</th>\n",
       "      <th>Active Max</th>\n",
       "      <th>Active Min</th>\n",
       "      <th>Idle Mean</th>\n",
       "      <th>Idle Std</th>\n",
       "      <th>Idle Max</th>\n",
       "      <th>Idle Min</th>\n",
       "      <th>Label</th>\n",
       "    </tr>\n",
       "  </thead>\n",
       "  <tbody>\n",
       "    <tr>\n",
       "      <th>0</th>\n",
       "      <td>22</td>\n",
       "      <td>1266342</td>\n",
       "      <td>41</td>\n",
       "      <td>44</td>\n",
       "      <td>2664</td>\n",
       "      <td>6954</td>\n",
       "      <td>456</td>\n",
       "      <td>0</td>\n",
       "      <td>64.975610</td>\n",
       "      <td>109.864573</td>\n",
       "      <td>...</td>\n",
       "      <td>32</td>\n",
       "      <td>0.0</td>\n",
       "      <td>0.0</td>\n",
       "      <td>0</td>\n",
       "      <td>0</td>\n",
       "      <td>0.0</td>\n",
       "      <td>0.0</td>\n",
       "      <td>0</td>\n",
       "      <td>0</td>\n",
       "      <td>0</td>\n",
       "    </tr>\n",
       "    <tr>\n",
       "      <th>1</th>\n",
       "      <td>22</td>\n",
       "      <td>1319353</td>\n",
       "      <td>41</td>\n",
       "      <td>44</td>\n",
       "      <td>2664</td>\n",
       "      <td>6954</td>\n",
       "      <td>456</td>\n",
       "      <td>0</td>\n",
       "      <td>64.975610</td>\n",
       "      <td>109.864573</td>\n",
       "      <td>...</td>\n",
       "      <td>32</td>\n",
       "      <td>0.0</td>\n",
       "      <td>0.0</td>\n",
       "      <td>0</td>\n",
       "      <td>0</td>\n",
       "      <td>0.0</td>\n",
       "      <td>0.0</td>\n",
       "      <td>0</td>\n",
       "      <td>0</td>\n",
       "      <td>0</td>\n",
       "    </tr>\n",
       "    <tr>\n",
       "      <th>2</th>\n",
       "      <td>22</td>\n",
       "      <td>160</td>\n",
       "      <td>1</td>\n",
       "      <td>1</td>\n",
       "      <td>0</td>\n",
       "      <td>0</td>\n",
       "      <td>0</td>\n",
       "      <td>0</td>\n",
       "      <td>0.000000</td>\n",
       "      <td>0.000000</td>\n",
       "      <td>...</td>\n",
       "      <td>32</td>\n",
       "      <td>0.0</td>\n",
       "      <td>0.0</td>\n",
       "      <td>0</td>\n",
       "      <td>0</td>\n",
       "      <td>0.0</td>\n",
       "      <td>0.0</td>\n",
       "      <td>0</td>\n",
       "      <td>0</td>\n",
       "      <td>0</td>\n",
       "    </tr>\n",
       "    <tr>\n",
       "      <th>3</th>\n",
       "      <td>22</td>\n",
       "      <td>1303488</td>\n",
       "      <td>41</td>\n",
       "      <td>42</td>\n",
       "      <td>2728</td>\n",
       "      <td>6634</td>\n",
       "      <td>456</td>\n",
       "      <td>0</td>\n",
       "      <td>66.536585</td>\n",
       "      <td>110.129945</td>\n",
       "      <td>...</td>\n",
       "      <td>32</td>\n",
       "      <td>0.0</td>\n",
       "      <td>0.0</td>\n",
       "      <td>0</td>\n",
       "      <td>0</td>\n",
       "      <td>0.0</td>\n",
       "      <td>0.0</td>\n",
       "      <td>0</td>\n",
       "      <td>0</td>\n",
       "      <td>0</td>\n",
       "    </tr>\n",
       "    <tr>\n",
       "      <th>4</th>\n",
       "      <td>35396</td>\n",
       "      <td>77</td>\n",
       "      <td>1</td>\n",
       "      <td>2</td>\n",
       "      <td>0</td>\n",
       "      <td>0</td>\n",
       "      <td>0</td>\n",
       "      <td>0</td>\n",
       "      <td>0.000000</td>\n",
       "      <td>0.000000</td>\n",
       "      <td>...</td>\n",
       "      <td>32</td>\n",
       "      <td>0.0</td>\n",
       "      <td>0.0</td>\n",
       "      <td>0</td>\n",
       "      <td>0</td>\n",
       "      <td>0.0</td>\n",
       "      <td>0.0</td>\n",
       "      <td>0</td>\n",
       "      <td>0</td>\n",
       "      <td>0</td>\n",
       "    </tr>\n",
       "    <tr>\n",
       "      <th>...</th>\n",
       "      <td>...</td>\n",
       "      <td>...</td>\n",
       "      <td>...</td>\n",
       "      <td>...</td>\n",
       "      <td>...</td>\n",
       "      <td>...</td>\n",
       "      <td>...</td>\n",
       "      <td>...</td>\n",
       "      <td>...</td>\n",
       "      <td>...</td>\n",
       "      <td>...</td>\n",
       "      <td>...</td>\n",
       "      <td>...</td>\n",
       "      <td>...</td>\n",
       "      <td>...</td>\n",
       "      <td>...</td>\n",
       "      <td>...</td>\n",
       "      <td>...</td>\n",
       "      <td>...</td>\n",
       "      <td>...</td>\n",
       "      <td>...</td>\n",
       "    </tr>\n",
       "    <tr>\n",
       "      <th>26395</th>\n",
       "      <td>53</td>\n",
       "      <td>31957</td>\n",
       "      <td>4</td>\n",
       "      <td>2</td>\n",
       "      <td>144</td>\n",
       "      <td>136</td>\n",
       "      <td>36</td>\n",
       "      <td>36</td>\n",
       "      <td>36.000000</td>\n",
       "      <td>0.000000</td>\n",
       "      <td>...</td>\n",
       "      <td>20</td>\n",
       "      <td>0.0</td>\n",
       "      <td>0.0</td>\n",
       "      <td>0</td>\n",
       "      <td>0</td>\n",
       "      <td>0.0</td>\n",
       "      <td>0.0</td>\n",
       "      <td>0</td>\n",
       "      <td>0</td>\n",
       "      <td>0</td>\n",
       "    </tr>\n",
       "    <tr>\n",
       "      <th>26396</th>\n",
       "      <td>443</td>\n",
       "      <td>10</td>\n",
       "      <td>2</td>\n",
       "      <td>0</td>\n",
       "      <td>0</td>\n",
       "      <td>0</td>\n",
       "      <td>0</td>\n",
       "      <td>0</td>\n",
       "      <td>0.000000</td>\n",
       "      <td>0.000000</td>\n",
       "      <td>...</td>\n",
       "      <td>32</td>\n",
       "      <td>0.0</td>\n",
       "      <td>0.0</td>\n",
       "      <td>0</td>\n",
       "      <td>0</td>\n",
       "      <td>0.0</td>\n",
       "      <td>0.0</td>\n",
       "      <td>0</td>\n",
       "      <td>0</td>\n",
       "      <td>0</td>\n",
       "    </tr>\n",
       "    <tr>\n",
       "      <th>26397</th>\n",
       "      <td>389</td>\n",
       "      <td>105762643</td>\n",
       "      <td>22</td>\n",
       "      <td>13</td>\n",
       "      <td>2986</td>\n",
       "      <td>6356</td>\n",
       "      <td>1305</td>\n",
       "      <td>0</td>\n",
       "      <td>135.727273</td>\n",
       "      <td>379.293351</td>\n",
       "      <td>...</td>\n",
       "      <td>32</td>\n",
       "      <td>139398.0</td>\n",
       "      <td>0.0</td>\n",
       "      <td>139398</td>\n",
       "      <td>139398</td>\n",
       "      <td>106000000.0</td>\n",
       "      <td>0.0</td>\n",
       "      <td>106000000</td>\n",
       "      <td>106000000</td>\n",
       "      <td>0</td>\n",
       "    </tr>\n",
       "    <tr>\n",
       "      <th>26398</th>\n",
       "      <td>53</td>\n",
       "      <td>48436</td>\n",
       "      <td>2</td>\n",
       "      <td>2</td>\n",
       "      <td>96</td>\n",
       "      <td>438</td>\n",
       "      <td>48</td>\n",
       "      <td>48</td>\n",
       "      <td>48.000000</td>\n",
       "      <td>0.000000</td>\n",
       "      <td>...</td>\n",
       "      <td>32</td>\n",
       "      <td>0.0</td>\n",
       "      <td>0.0</td>\n",
       "      <td>0</td>\n",
       "      <td>0</td>\n",
       "      <td>0.0</td>\n",
       "      <td>0.0</td>\n",
       "      <td>0</td>\n",
       "      <td>0</td>\n",
       "      <td>0</td>\n",
       "    </tr>\n",
       "    <tr>\n",
       "      <th>26399</th>\n",
       "      <td>80</td>\n",
       "      <td>88</td>\n",
       "      <td>2</td>\n",
       "      <td>0</td>\n",
       "      <td>12</td>\n",
       "      <td>0</td>\n",
       "      <td>6</td>\n",
       "      <td>6</td>\n",
       "      <td>6.000000</td>\n",
       "      <td>0.000000</td>\n",
       "      <td>...</td>\n",
       "      <td>20</td>\n",
       "      <td>0.0</td>\n",
       "      <td>0.0</td>\n",
       "      <td>0</td>\n",
       "      <td>0</td>\n",
       "      <td>0.0</td>\n",
       "      <td>0.0</td>\n",
       "      <td>0</td>\n",
       "      <td>0</td>\n",
       "      <td>0</td>\n",
       "    </tr>\n",
       "  </tbody>\n",
       "</table>\n",
       "<p>26400 rows × 79 columns</p>\n",
       "</div>"
      ],
      "text/plain": [
       "       Destination Port  Flow Duration  Total Fwd Packets  \\\n",
       "0                    22        1266342                 41   \n",
       "1                    22        1319353                 41   \n",
       "2                    22            160                  1   \n",
       "3                    22        1303488                 41   \n",
       "4                 35396             77                  1   \n",
       "...                 ...            ...                ...   \n",
       "26395                53          31957                  4   \n",
       "26396               443             10                  2   \n",
       "26397               389      105762643                 22   \n",
       "26398                53          48436                  2   \n",
       "26399                80             88                  2   \n",
       "\n",
       "       Total Backward Packets  Total Length of Fwd Packets  \\\n",
       "0                          44                         2664   \n",
       "1                          44                         2664   \n",
       "2                           1                            0   \n",
       "3                          42                         2728   \n",
       "4                           2                            0   \n",
       "...                       ...                          ...   \n",
       "26395                       2                          144   \n",
       "26396                       0                            0   \n",
       "26397                      13                         2986   \n",
       "26398                       2                           96   \n",
       "26399                       0                           12   \n",
       "\n",
       "       Total Length of Bwd Packets  Fwd Packet Length Max  \\\n",
       "0                             6954                    456   \n",
       "1                             6954                    456   \n",
       "2                                0                      0   \n",
       "3                             6634                    456   \n",
       "4                                0                      0   \n",
       "...                            ...                    ...   \n",
       "26395                          136                     36   \n",
       "26396                            0                      0   \n",
       "26397                         6356                   1305   \n",
       "26398                          438                     48   \n",
       "26399                            0                      6   \n",
       "\n",
       "       Fwd Packet Length Min  Fwd Packet Length Mean  Fwd Packet Length Std  \\\n",
       "0                          0               64.975610             109.864573   \n",
       "1                          0               64.975610             109.864573   \n",
       "2                          0                0.000000               0.000000   \n",
       "3                          0               66.536585             110.129945   \n",
       "4                          0                0.000000               0.000000   \n",
       "...                      ...                     ...                    ...   \n",
       "26395                     36               36.000000               0.000000   \n",
       "26396                      0                0.000000               0.000000   \n",
       "26397                      0              135.727273             379.293351   \n",
       "26398                     48               48.000000               0.000000   \n",
       "26399                      6                6.000000               0.000000   \n",
       "\n",
       "       ...  min_seg_size_forward  Active Mean  Active Std  Active Max  \\\n",
       "0      ...                    32          0.0         0.0           0   \n",
       "1      ...                    32          0.0         0.0           0   \n",
       "2      ...                    32          0.0         0.0           0   \n",
       "3      ...                    32          0.0         0.0           0   \n",
       "4      ...                    32          0.0         0.0           0   \n",
       "...    ...                   ...          ...         ...         ...   \n",
       "26395  ...                    20          0.0         0.0           0   \n",
       "26396  ...                    32          0.0         0.0           0   \n",
       "26397  ...                    32     139398.0         0.0      139398   \n",
       "26398  ...                    32          0.0         0.0           0   \n",
       "26399  ...                    20          0.0         0.0           0   \n",
       "\n",
       "       Active Min    Idle Mean  Idle Std   Idle Max   Idle Min  Label  \n",
       "0               0          0.0       0.0          0          0      0  \n",
       "1               0          0.0       0.0          0          0      0  \n",
       "2               0          0.0       0.0          0          0      0  \n",
       "3               0          0.0       0.0          0          0      0  \n",
       "4               0          0.0       0.0          0          0      0  \n",
       "...           ...          ...       ...        ...        ...    ...  \n",
       "26395           0          0.0       0.0          0          0      0  \n",
       "26396           0          0.0       0.0          0          0      0  \n",
       "26397      139398  106000000.0       0.0  106000000  106000000      0  \n",
       "26398           0          0.0       0.0          0          0      0  \n",
       "26399           0          0.0       0.0          0          0      0  \n",
       "\n",
       "[26400 rows x 79 columns]"
      ]
     },
     "execution_count": 9,
     "metadata": {},
     "output_type": "execute_result"
    }
   ],
   "source": [
    "df"
   ]
  },
  {
   "cell_type": "code",
   "execution_count": 10,
   "id": "3f4fee03",
   "metadata": {},
   "outputs": [
    {
     "data": {
      "text/plain": [
       "0    26393\n",
       "1        7\n",
       "Name: Label, dtype: int64"
      ]
     },
     "execution_count": 10,
     "metadata": {},
     "output_type": "execute_result"
    }
   ],
   "source": [
    "df.Label.value_counts()"
   ]
  },
  {
   "cell_type": "code",
   "execution_count": 11,
   "id": "fa175cd8",
   "metadata": {},
   "outputs": [
    {
     "data": {
      "text/plain": [
       "3"
      ]
     },
     "execution_count": 11,
     "metadata": {},
     "output_type": "execute_result"
    }
   ],
   "source": [
    "df.isnull().sum().sum()"
   ]
  },
  {
   "cell_type": "code",
   "execution_count": 12,
   "id": "81f68b4d",
   "metadata": {},
   "outputs": [
    {
     "data": {
      "text/plain": [
       "Index(['Destination Port', 'Flow Duration', 'Total Fwd Packets',\n",
       "       'Total Backward Packets', 'Total Length of Fwd Packets',\n",
       "       'Total Length of Bwd Packets', 'Fwd Packet Length Max',\n",
       "       'Fwd Packet Length Min', 'Fwd Packet Length Mean',\n",
       "       'Fwd Packet Length Std', 'Bwd Packet Length Max',\n",
       "       'Bwd Packet Length Min', 'Bwd Packet Length Mean',\n",
       "       'Bwd Packet Length Std', 'Flow Bytes/s', 'Flow Packets/s',\n",
       "       'Flow IAT Mean', 'Flow IAT Std', 'Flow IAT Max', 'Flow IAT Min',\n",
       "       'Fwd IAT Total', 'Fwd IAT Mean', 'Fwd IAT Std', 'Fwd IAT Max',\n",
       "       'Fwd IAT Min', 'Bwd IAT Total', 'Bwd IAT Mean', 'Bwd IAT Std',\n",
       "       'Bwd IAT Max', 'Bwd IAT Min', 'Fwd PSH Flags', 'Bwd PSH Flags',\n",
       "       'Fwd URG Flags', 'Bwd URG Flags', 'Fwd Header Length',\n",
       "       'Bwd Header Length', 'Fwd Packets/s', 'Bwd Packets/s',\n",
       "       'Min Packet Length', 'Max Packet Length', 'Packet Length Mean',\n",
       "       'Packet Length Std', 'Packet Length Variance', 'FIN Flag Count',\n",
       "       'SYN Flag Count', 'RST Flag Count', 'PSH Flag Count', 'ACK Flag Count',\n",
       "       'URG Flag Count', 'CWE Flag Count', 'ECE Flag Count', 'Down/Up Ratio',\n",
       "       'Average Packet Size', 'Avg Fwd Segment Size', 'Avg Bwd Segment Size',\n",
       "       'Fwd Header Length.1', 'Fwd Avg Bytes/Bulk', 'Fwd Avg Packets/Bulk',\n",
       "       'Fwd Avg Bulk Rate', 'Bwd Avg Bytes/Bulk', 'Bwd Avg Packets/Bulk',\n",
       "       'Bwd Avg Bulk Rate', 'Subflow Fwd Packets', 'Subflow Fwd Bytes',\n",
       "       'Subflow Bwd Packets', 'Subflow Bwd Bytes', 'Init_Win_bytes_forward',\n",
       "       'Init_Win_bytes_backward', 'act_data_pkt_fwd', 'min_seg_size_forward',\n",
       "       'Active Mean', 'Active Std', 'Active Max', 'Active Min', 'Idle Mean',\n",
       "       'Idle Std', 'Idle Max', 'Idle Min', 'Label'],\n",
       "      dtype='object')"
      ]
     },
     "execution_count": 12,
     "metadata": {},
     "output_type": "execute_result"
    }
   ],
   "source": [
    "df.columns"
   ]
  },
  {
   "cell_type": "code",
   "execution_count": 13,
   "id": "09ead15b",
   "metadata": {},
   "outputs": [],
   "source": [
    "df.columns= ['Destination_Port', 'Flow_Duration', 'Total_Fwd_Packets',\n",
    "       'Total_Backward_Packets', 'Total_Length_of_Fwd_Packets',\n",
    "       'Total_Length_of_Bwd_Packets', 'Fwd_Packet_Length_Max',\n",
    "       'Fwd_Packet_Length_Min', 'Fwd_Packet_Length_Mean',\n",
    "       'Fwd_Packet_Length_Std', 'Bwd_Packet_Length_Max',\n",
    "       'Bwd_Packet_Length_Min', 'Bwd_Packet_Length_Mean',\n",
    "       'Bwd_Packet_Length_Std', 'Flow_Bytes', 'Flow_Packets',\n",
    "       'Flow_IAT_Mean', 'Flow_IAT_Std', 'Flow_IAT_Max', 'Flow_IAT_Min',\n",
    "       'Fwd_IAT_Total', 'Fwd_IAT_Mean', 'Fwd_IAT_Std', 'Fwd_IAT_Max',\n",
    "       'Fwd_IAT_Min', 'Bwd_IAT_Total', 'Bwd_IAT_Mean', 'Bwd IAT_Std',\n",
    "       'Bwd_IAT_Max', 'Bwd_IAT_Min', 'Fwd_PSH_Flags', 'Bwd_PSH_Flags',\n",
    "       'Fwd_URG_Flags', 'Bwd_URG_Flags', 'Fwd_Header_Length',\n",
    "       'Bwd_Header_Length', 'Fwd_Packets', 'Bwd_Packets',\n",
    "       'Min_Packet_Length', 'Max_Packet_Length', 'Packet_Length_Mean',\n",
    "       'Packet_Length_Std', 'Packet_Length_Variance', 'FIN_Flag_Count',\n",
    "       'SYN_Flag_Count', 'RST_Flag_Count', 'PSH_Flag_Count', 'ACK_Flag_Count',\n",
    "       'URG_Flag_Count', 'CWE_Flag_Count', 'ECE_Flag_Count', 'Down_Up_Ratio',\n",
    "       'Average_Packet_Size', 'Avg_Fwd_Segment_Size', 'Avg_Bwd_Segment_Size',\n",
    "       'Fwd_Header_Length', 'Fwd_Avg_Bytes', 'Fwd_Avg_Packets',\n",
    "       'Fwd_Avg_Bulk_Rate', 'Bwd_Avg_Bytes', 'Bwd_Avg_Packets',\n",
    "       'Bwd_Avg_Bulk_Rate', 'Subflow_Fwd_Packets', 'Subflow_Fwd_Bytes',\n",
    "       'Subflow Bwd Packets', 'Subflow Bwd Bytes', 'Init_Win_bytes_forward',\n",
    "       'Init_Win_bytes_backward', 'act_data_pkt_fwd', 'min_seg_size_forward',\n",
    "       'Active_Mean', 'Active_Std', 'Active_Max', 'Active_Min', 'Idle_Mean',\n",
    "       'Idle_Std', 'Idle_Max', 'Idle_Min', 'Label']"
   ]
  },
  {
   "cell_type": "code",
   "execution_count": 14,
   "id": "c7ba9ccc",
   "metadata": {},
   "outputs": [
    {
     "data": {
      "text/plain": [
       "(26400, 79)"
      ]
     },
     "execution_count": 14,
     "metadata": {},
     "output_type": "execute_result"
    }
   ],
   "source": [
    "df.shape"
   ]
  },
  {
   "cell_type": "code",
   "execution_count": 11,
   "id": "34cdf590",
   "metadata": {},
   "outputs": [
    {
     "data": {
      "text/plain": [
       "<AxesSubplot:>"
      ]
     },
     "execution_count": 11,
     "metadata": {},
     "output_type": "execute_result"
    },
    {
     "data": {
      "image/png": "[encoded data removed]",
      "text/plain": [
       "<Figure size 1728x720 with 1 Axes>"
      ]
     },
     "metadata": {
      "needs_background": "light"
     },
     "output_type": "display_data"
    }
   ],
   "source": [
    "plt.figure(figsize=(24,10))\n",
    "np.round(df.isnull().sum()/df.shape[0]*100).sort_values().plot(kind='bar')"
   ]
  },
  {
   "cell_type": "code",
   "execution_count": 13,
   "id": "40b2c9cd",
   "metadata": {},
   "outputs": [],
   "source": [
    "# # Changing option to use infinite as nan\n",
    "# pd.set_option('mode.use_inf_as_na', True)\n",
    "\n",
    "# # Dropping all the rows with nan values\n",
    "# df.dropna(inplace=True)\n",
    "  \n",
    "# # Printing df\n",
    "# df"
   ]
  },
  {
   "cell_type": "code",
   "execution_count": 15,
   "id": "5fb27af9",
   "metadata": {},
   "outputs": [],
   "source": [
    "df.replace([np.inf,-np.inf], np.nan, inplace = True)"
   ]
  },
  {
   "cell_type": "code",
   "execution_count": 16,
   "id": "58685c7d",
   "metadata": {},
   "outputs": [],
   "source": [
    "df.dropna(inplace = True)"
   ]
  },
  {
   "cell_type": "code",
   "execution_count": 17,
   "id": "36202bf3",
   "metadata": {},
   "outputs": [],
   "source": [
    "df.reset_index(inplace = True)"
   ]
  },
  {
   "cell_type": "code",
   "execution_count": 18,
   "id": "ed333dbf",
   "metadata": {},
   "outputs": [],
   "source": [
    "# sns.heatmap(df.iloc[:,0:5].isnull(),yticklabels=False,cbar=False,cmap='viridis')"
   ]
  },
  {
   "cell_type": "code",
   "execution_count": 19,
   "id": "f3107db7",
   "metadata": {
    "scrolled": true
   },
   "outputs": [],
   "source": [
    "# df.info()"
   ]
  },
  {
   "cell_type": "code",
   "execution_count": 20,
   "id": "171c2466",
   "metadata": {},
   "outputs": [
    {
     "data": {
      "text/plain": [
       "0        0\n",
       "1        0\n",
       "2        0\n",
       "3        0\n",
       "4        0\n",
       "        ..\n",
       "26387    0\n",
       "26388    0\n",
       "26389    0\n",
       "26390    0\n",
       "26391    0\n",
       "Name: Label, Length: 26392, dtype: int64"
      ]
     },
     "execution_count": 20,
     "metadata": {},
     "output_type": "execute_result"
    }
   ],
   "source": [
    "df['Label']"
   ]
  },
  {
   "cell_type": "code",
   "execution_count": 21,
   "id": "4d3fe8e3",
   "metadata": {},
   "outputs": [],
   "source": [
    "features = df.drop(['Label'], axis = 1)\n",
    "target = df['Label']"
   ]
  },
  {
   "cell_type": "code",
   "execution_count": 22,
   "id": "30db820d",
   "metadata": {},
   "outputs": [],
   "source": [
    "from sklearn.preprocessing import MinMaxScaler\n",
    "scaler = MinMaxScaler()\n",
    "scaler.fit(features)\n",
    "scaled_features = scaler.transform(features)"
   ]
  },
  {
   "cell_type": "code",
   "execution_count": 23,
   "id": "356d8639",
   "metadata": {},
   "outputs": [
    {
     "data": {
      "text/html": [
       "<div>\n",
       "<style scoped>\n",
       "    .dataframe tbody tr th:only-of-type {\n",
       "        vertical-align: middle;\n",
       "    }\n",
       "\n",
       "    .dataframe tbody tr th {\n",
       "        vertical-align: top;\n",
       "    }\n",
       "\n",
       "    .dataframe thead th {\n",
       "        text-align: right;\n",
       "    }\n",
       "</style>\n",
       "<table border=\"1\" class=\"dataframe\">\n",
       "  <thead>\n",
       "    <tr style=\"text-align: right;\">\n",
       "      <th></th>\n",
       "      <th>index</th>\n",
       "      <th>Destination_Port</th>\n",
       "      <th>Flow_Duration</th>\n",
       "      <th>Total_Fwd_Packets</th>\n",
       "      <th>Total_Backward_Packets</th>\n",
       "      <th>Total_Length_of_Fwd_Packets</th>\n",
       "      <th>Total_Length_of_Bwd_Packets</th>\n",
       "      <th>Fwd_Packet_Length_Max</th>\n",
       "      <th>Fwd_Packet_Length_Min</th>\n",
       "      <th>Fwd_Packet_Length_Mean</th>\n",
       "      <th>...</th>\n",
       "      <th>act_data_pkt_fwd</th>\n",
       "      <th>min_seg_size_forward</th>\n",
       "      <th>Active_Mean</th>\n",
       "      <th>Active_Std</th>\n",
       "      <th>Active_Max</th>\n",
       "      <th>Active_Min</th>\n",
       "      <th>Idle_Mean</th>\n",
       "      <th>Idle_Std</th>\n",
       "      <th>Idle_Max</th>\n",
       "      <th>Idle_Min</th>\n",
       "    </tr>\n",
       "  </thead>\n",
       "  <tbody>\n",
       "    <tr>\n",
       "      <th>0</th>\n",
       "      <td>0.000000</td>\n",
       "      <td>0.000342</td>\n",
       "      <td>1.055287e-02</td>\n",
       "      <td>0.022247</td>\n",
       "      <td>0.015759</td>\n",
       "      <td>0.011466</td>\n",
       "      <td>0.001370</td>\n",
       "      <td>0.032737</td>\n",
       "      <td>0.000000</td>\n",
       "      <td>0.019038</td>\n",
       "      <td>...</td>\n",
       "      <td>0.013348</td>\n",
       "      <td>0.727273</td>\n",
       "      <td>0.000000</td>\n",
       "      <td>0.0</td>\n",
       "      <td>0.000000</td>\n",
       "      <td>0.000000</td>\n",
       "      <td>0.000000</td>\n",
       "      <td>0.0</td>\n",
       "      <td>0.000000</td>\n",
       "      <td>0.000000</td>\n",
       "    </tr>\n",
       "    <tr>\n",
       "      <th>1</th>\n",
       "      <td>0.000038</td>\n",
       "      <td>0.000342</td>\n",
       "      <td>1.099463e-02</td>\n",
       "      <td>0.022247</td>\n",
       "      <td>0.015759</td>\n",
       "      <td>0.011466</td>\n",
       "      <td>0.001370</td>\n",
       "      <td>0.032737</td>\n",
       "      <td>0.000000</td>\n",
       "      <td>0.019038</td>\n",
       "      <td>...</td>\n",
       "      <td>0.013348</td>\n",
       "      <td>0.727273</td>\n",
       "      <td>0.000000</td>\n",
       "      <td>0.0</td>\n",
       "      <td>0.000000</td>\n",
       "      <td>0.000000</td>\n",
       "      <td>0.000000</td>\n",
       "      <td>0.0</td>\n",
       "      <td>0.000000</td>\n",
       "      <td>0.000000</td>\n",
       "    </tr>\n",
       "    <tr>\n",
       "      <th>2</th>\n",
       "      <td>0.000076</td>\n",
       "      <td>0.000342</td>\n",
       "      <td>1.325003e-06</td>\n",
       "      <td>0.000000</td>\n",
       "      <td>0.000358</td>\n",
       "      <td>0.000000</td>\n",
       "      <td>0.000000</td>\n",
       "      <td>0.000000</td>\n",
       "      <td>0.000000</td>\n",
       "      <td>0.000000</td>\n",
       "      <td>...</td>\n",
       "      <td>0.000000</td>\n",
       "      <td>0.727273</td>\n",
       "      <td>0.000000</td>\n",
       "      <td>0.0</td>\n",
       "      <td>0.000000</td>\n",
       "      <td>0.000000</td>\n",
       "      <td>0.000000</td>\n",
       "      <td>0.0</td>\n",
       "      <td>0.000000</td>\n",
       "      <td>0.000000</td>\n",
       "    </tr>\n",
       "    <tr>\n",
       "      <th>3</th>\n",
       "      <td>0.000114</td>\n",
       "      <td>0.000342</td>\n",
       "      <td>1.086242e-02</td>\n",
       "      <td>0.022247</td>\n",
       "      <td>0.015043</td>\n",
       "      <td>0.011741</td>\n",
       "      <td>0.001307</td>\n",
       "      <td>0.032737</td>\n",
       "      <td>0.000000</td>\n",
       "      <td>0.019495</td>\n",
       "      <td>...</td>\n",
       "      <td>0.013348</td>\n",
       "      <td>0.727273</td>\n",
       "      <td>0.000000</td>\n",
       "      <td>0.0</td>\n",
       "      <td>0.000000</td>\n",
       "      <td>0.000000</td>\n",
       "      <td>0.000000</td>\n",
       "      <td>0.0</td>\n",
       "      <td>0.000000</td>\n",
       "      <td>0.000000</td>\n",
       "    </tr>\n",
       "    <tr>\n",
       "      <th>4</th>\n",
       "      <td>0.000152</td>\n",
       "      <td>0.550885</td>\n",
       "      <td>6.333348e-07</td>\n",
       "      <td>0.000000</td>\n",
       "      <td>0.000716</td>\n",
       "      <td>0.000000</td>\n",
       "      <td>0.000000</td>\n",
       "      <td>0.000000</td>\n",
       "      <td>0.000000</td>\n",
       "      <td>0.000000</td>\n",
       "      <td>...</td>\n",
       "      <td>0.000000</td>\n",
       "      <td>0.727273</td>\n",
       "      <td>0.000000</td>\n",
       "      <td>0.0</td>\n",
       "      <td>0.000000</td>\n",
       "      <td>0.000000</td>\n",
       "      <td>0.000000</td>\n",
       "      <td>0.0</td>\n",
       "      <td>0.000000</td>\n",
       "      <td>0.000000</td>\n",
       "    </tr>\n",
       "    <tr>\n",
       "      <th>...</th>\n",
       "      <td>...</td>\n",
       "      <td>...</td>\n",
       "      <td>...</td>\n",
       "      <td>...</td>\n",
       "      <td>...</td>\n",
       "      <td>...</td>\n",
       "      <td>...</td>\n",
       "      <td>...</td>\n",
       "      <td>...</td>\n",
       "      <td>...</td>\n",
       "      <td>...</td>\n",
       "      <td>...</td>\n",
       "      <td>...</td>\n",
       "      <td>...</td>\n",
       "      <td>...</td>\n",
       "      <td>...</td>\n",
       "      <td>...</td>\n",
       "      <td>...</td>\n",
       "      <td>...</td>\n",
       "      <td>...</td>\n",
       "      <td>...</td>\n",
       "    </tr>\n",
       "    <tr>\n",
       "      <th>26387</th>\n",
       "      <td>0.999848</td>\n",
       "      <td>0.000825</td>\n",
       "      <td>2.663006e-04</td>\n",
       "      <td>0.001669</td>\n",
       "      <td>0.000716</td>\n",
       "      <td>0.000620</td>\n",
       "      <td>0.000027</td>\n",
       "      <td>0.002585</td>\n",
       "      <td>0.024457</td>\n",
       "      <td>0.010548</td>\n",
       "      <td>...</td>\n",
       "      <td>0.001669</td>\n",
       "      <td>0.454545</td>\n",
       "      <td>0.000000</td>\n",
       "      <td>0.0</td>\n",
       "      <td>0.000000</td>\n",
       "      <td>0.000000</td>\n",
       "      <td>0.000000</td>\n",
       "      <td>0.0</td>\n",
       "      <td>0.000000</td>\n",
       "      <td>0.000000</td>\n",
       "    </tr>\n",
       "    <tr>\n",
       "      <th>26388</th>\n",
       "      <td>0.999886</td>\n",
       "      <td>0.006895</td>\n",
       "      <td>7.500018e-08</td>\n",
       "      <td>0.000556</td>\n",
       "      <td>0.000000</td>\n",
       "      <td>0.000000</td>\n",
       "      <td>0.000000</td>\n",
       "      <td>0.000000</td>\n",
       "      <td>0.000000</td>\n",
       "      <td>0.000000</td>\n",
       "      <td>...</td>\n",
       "      <td>0.000000</td>\n",
       "      <td>0.727273</td>\n",
       "      <td>0.000000</td>\n",
       "      <td>0.0</td>\n",
       "      <td>0.000000</td>\n",
       "      <td>0.000000</td>\n",
       "      <td>0.000000</td>\n",
       "      <td>0.0</td>\n",
       "      <td>0.000000</td>\n",
       "      <td>0.000000</td>\n",
       "    </tr>\n",
       "    <tr>\n",
       "      <th>26389</th>\n",
       "      <td>0.999924</td>\n",
       "      <td>0.006054</td>\n",
       "      <td>8.813574e-01</td>\n",
       "      <td>0.011680</td>\n",
       "      <td>0.004656</td>\n",
       "      <td>0.012851</td>\n",
       "      <td>0.001253</td>\n",
       "      <td>0.093689</td>\n",
       "      <td>0.000000</td>\n",
       "      <td>0.039768</td>\n",
       "      <td>...</td>\n",
       "      <td>0.005562</td>\n",
       "      <td>0.727273</td>\n",
       "      <td>0.008712</td>\n",
       "      <td>0.0</td>\n",
       "      <td>0.005403</td>\n",
       "      <td>0.010641</td>\n",
       "      <td>0.890756</td>\n",
       "      <td>0.0</td>\n",
       "      <td>0.890756</td>\n",
       "      <td>0.890756</td>\n",
       "    </tr>\n",
       "    <tr>\n",
       "      <th>26390</th>\n",
       "      <td>0.999962</td>\n",
       "      <td>0.000825</td>\n",
       "      <td>4.036260e-04</td>\n",
       "      <td>0.000556</td>\n",
       "      <td>0.000716</td>\n",
       "      <td>0.000413</td>\n",
       "      <td>0.000086</td>\n",
       "      <td>0.003446</td>\n",
       "      <td>0.032609</td>\n",
       "      <td>0.014064</td>\n",
       "      <td>...</td>\n",
       "      <td>0.000556</td>\n",
       "      <td>0.727273</td>\n",
       "      <td>0.000000</td>\n",
       "      <td>0.0</td>\n",
       "      <td>0.000000</td>\n",
       "      <td>0.000000</td>\n",
       "      <td>0.000000</td>\n",
       "      <td>0.0</td>\n",
       "      <td>0.000000</td>\n",
       "      <td>0.000000</td>\n",
       "    </tr>\n",
       "    <tr>\n",
       "      <th>26391</th>\n",
       "      <td>1.000000</td>\n",
       "      <td>0.001245</td>\n",
       "      <td>7.250017e-07</td>\n",
       "      <td>0.000556</td>\n",
       "      <td>0.000000</td>\n",
       "      <td>0.000052</td>\n",
       "      <td>0.000000</td>\n",
       "      <td>0.000431</td>\n",
       "      <td>0.004076</td>\n",
       "      <td>0.001758</td>\n",
       "      <td>...</td>\n",
       "      <td>0.000556</td>\n",
       "      <td>0.454545</td>\n",
       "      <td>0.000000</td>\n",
       "      <td>0.0</td>\n",
       "      <td>0.000000</td>\n",
       "      <td>0.000000</td>\n",
       "      <td>0.000000</td>\n",
       "      <td>0.0</td>\n",
       "      <td>0.000000</td>\n",
       "      <td>0.000000</td>\n",
       "    </tr>\n",
       "  </tbody>\n",
       "</table>\n",
       "<p>26392 rows × 79 columns</p>\n",
       "</div>"
      ],
      "text/plain": [
       "          index  Destination_Port  Flow_Duration  Total_Fwd_Packets  \\\n",
       "0      0.000000          0.000342   1.055287e-02           0.022247   \n",
       "1      0.000038          0.000342   1.099463e-02           0.022247   \n",
       "2      0.000076          0.000342   1.325003e-06           0.000000   \n",
       "3      0.000114          0.000342   1.086242e-02           0.022247   \n",
       "4      0.000152          0.550885   6.333348e-07           0.000000   \n",
       "...         ...               ...            ...                ...   \n",
       "26387  0.999848          0.000825   2.663006e-04           0.001669   \n",
       "26388  0.999886          0.006895   7.500018e-08           0.000556   \n",
       "26389  0.999924          0.006054   8.813574e-01           0.011680   \n",
       "26390  0.999962          0.000825   4.036260e-04           0.000556   \n",
       "26391  1.000000          0.001245   7.250017e-07           0.000556   \n",
       "\n",
       "       Total_Backward_Packets  Total_Length_of_Fwd_Packets  \\\n",
       "0                    0.015759                     0.011466   \n",
       "1                    0.015759                     0.011466   \n",
       "2                    0.000358                     0.000000   \n",
       "3                    0.015043                     0.011741   \n",
       "4                    0.000716                     0.000000   \n",
       "...                       ...                          ...   \n",
       "26387                0.000716                     0.000620   \n",
       "26388                0.000000                     0.000000   \n",
       "26389                0.004656                     0.012851   \n",
       "26390                0.000716                     0.000413   \n",
       "26391                0.000000                     0.000052   \n",
       "\n",
       "       Total_Length_of_Bwd_Packets  Fwd_Packet_Length_Max  \\\n",
       "0                         0.001370               0.032737   \n",
       "1                         0.001370               0.032737   \n",
       "2                         0.000000               0.000000   \n",
       "3                         0.001307               0.032737   \n",
       "4                         0.000000               0.000000   \n",
       "...                            ...                    ...   \n",
       "26387                     0.000027               0.002585   \n",
       "26388                     0.000000               0.000000   \n",
       "26389                     0.001253               0.093689   \n",
       "26390                     0.000086               0.003446   \n",
       "26391                     0.000000               0.000431   \n",
       "\n",
       "       Fwd_Packet_Length_Min  Fwd_Packet_Length_Mean  ...  act_data_pkt_fwd  \\\n",
       "0                   0.000000                0.019038  ...          0.013348   \n",
       "1                   0.000000                0.019038  ...          0.013348   \n",
       "2                   0.000000                0.000000  ...          0.000000   \n",
       "3                   0.000000                0.019495  ...          0.013348   \n",
       "4                   0.000000                0.000000  ...          0.000000   \n",
       "...                      ...                     ...  ...               ...   \n",
       "26387               0.024457                0.010548  ...          0.001669   \n",
       "26388               0.000000                0.000000  ...          0.000000   \n",
       "26389               0.000000                0.039768  ...          0.005562   \n",
       "26390               0.032609                0.014064  ...          0.000556   \n",
       "26391               0.004076                0.001758  ...          0.000556   \n",
       "\n",
       "       min_seg_size_forward  Active_Mean  Active_Std  Active_Max  Active_Min  \\\n",
       "0                  0.727273     0.000000         0.0    0.000000    0.000000   \n",
       "1                  0.727273     0.000000         0.0    0.000000    0.000000   \n",
       "2                  0.727273     0.000000         0.0    0.000000    0.000000   \n",
       "3                  0.727273     0.000000         0.0    0.000000    0.000000   \n",
       "4                  0.727273     0.000000         0.0    0.000000    0.000000   \n",
       "...                     ...          ...         ...         ...         ...   \n",
       "26387              0.454545     0.000000         0.0    0.000000    0.000000   \n",
       "26388              0.727273     0.000000         0.0    0.000000    0.000000   \n",
       "26389              0.727273     0.008712         0.0    0.005403    0.010641   \n",
       "26390              0.727273     0.000000         0.0    0.000000    0.000000   \n",
       "26391              0.454545     0.000000         0.0    0.000000    0.000000   \n",
       "\n",
       "       Idle_Mean  Idle_Std  Idle_Max  Idle_Min  \n",
       "0       0.000000       0.0  0.000000  0.000000  \n",
       "1       0.000000       0.0  0.000000  0.000000  \n",
       "2       0.000000       0.0  0.000000  0.000000  \n",
       "3       0.000000       0.0  0.000000  0.000000  \n",
       "4       0.000000       0.0  0.000000  0.000000  \n",
       "...          ...       ...       ...       ...  \n",
       "26387   0.000000       0.0  0.000000  0.000000  \n",
       "26388   0.000000       0.0  0.000000  0.000000  \n",
       "26389   0.890756       0.0  0.890756  0.890756  \n",
       "26390   0.000000       0.0  0.000000  0.000000  \n",
       "26391   0.000000       0.0  0.000000  0.000000  \n",
       "\n",
       "[26392 rows x 79 columns]"
      ]
     },
     "execution_count": 23,
     "metadata": {},
     "output_type": "execute_result"
    }
   ],
   "source": [
    "df_scaled_features = pd.DataFrame(scaled_features, columns = features.columns)\n",
    "df_scaled_features"
   ]
  },
  {
   "cell_type": "code",
   "execution_count": 24,
   "id": "448009ce",
   "metadata": {},
   "outputs": [],
   "source": [
    "new_dataset = pd.concat([df_scaled_features,target], axis = 1)"
   ]
  },
  {
   "cell_type": "code",
   "execution_count": 25,
   "id": "483b55b6",
   "metadata": {},
   "outputs": [],
   "source": [
    "new_dataset.drop(['index'], axis = 1, inplace = True)"
   ]
  },
  {
   "cell_type": "code",
   "execution_count": 26,
   "id": "6ca9d930",
   "metadata": {
    "scrolled": true
   },
   "outputs": [
    {
     "name": "stdout",
     "output_type": "stream",
     "text": [
      "<class 'pandas.core.frame.DataFrame'>\n",
      "RangeIndex: 26392 entries, 0 to 26391\n",
      "Data columns (total 79 columns):\n",
      " #   Column                       Non-Null Count  Dtype  \n",
      "---  ------                       --------------  -----  \n",
      " 0   Destination_Port             26392 non-null  float64\n",
      " 1   Flow_Duration                26392 non-null  float64\n",
      " 2   Total_Fwd_Packets            26392 non-null  float64\n",
      " 3   Total_Backward_Packets       26392 non-null  float64\n",
      " 4   Total_Length_of_Fwd_Packets  26392 non-null  float64\n",
      " 5   Total_Length_of_Bwd_Packets  26392 non-null  float64\n",
      " 6   Fwd_Packet_Length_Max        26392 non-null  float64\n",
      " 7   Fwd_Packet_Length_Min        26392 non-null  float64\n",
      " 8   Fwd_Packet_Length_Mean       26392 non-null  float64\n",
      " 9   Fwd_Packet_Length_Std        26392 non-null  float64\n",
      " 10  Bwd_Packet_Length_Max        26392 non-null  float64\n",
      " 11  Bwd_Packet_Length_Min        26392 non-null  float64\n",
      " 12  Bwd_Packet_Length_Mean       26392 non-null  float64\n",
      " 13  Bwd_Packet_Length_Std        26392 non-null  float64\n",
      " 14  Flow_Bytes                   26392 non-null  float64\n",
      " 15  Flow_Packets                 26392 non-null  float64\n",
      " 16  Flow_IAT_Mean                26392 non-null  float64\n",
      " 17  Flow_IAT_Std                 26392 non-null  float64\n",
      " 18  Flow_IAT_Max                 26392 non-null  float64\n",
      " 19  Flow_IAT_Min                 26392 non-null  float64\n",
      " 20  Fwd_IAT_Total                26392 non-null  float64\n",
      " 21  Fwd_IAT_Mean                 26392 non-null  float64\n",
      " 22  Fwd_IAT_Std                  26392 non-null  float64\n",
      " 23  Fwd_IAT_Max                  26392 non-null  float64\n",
      " 24  Fwd_IAT_Min                  26392 non-null  float64\n",
      " 25  Bwd_IAT_Total                26392 non-null  float64\n",
      " 26  Bwd_IAT_Mean                 26392 non-null  float64\n",
      " 27  Bwd IAT_Std                  26392 non-null  float64\n",
      " 28  Bwd_IAT_Max                  26392 non-null  float64\n",
      " 29  Bwd_IAT_Min                  26392 non-null  float64\n",
      " 30  Fwd_PSH_Flags                26392 non-null  float64\n",
      " 31  Bwd_PSH_Flags                26392 non-null  float64\n",
      " 32  Fwd_URG_Flags                26392 non-null  float64\n",
      " 33  Bwd_URG_Flags                26392 non-null  float64\n",
      " 34  Fwd_Header_Length            26392 non-null  float64\n",
      " 35  Bwd_Header_Length            26392 non-null  float64\n",
      " 36  Fwd_Packets                  26392 non-null  float64\n",
      " 37  Bwd_Packets                  26392 non-null  float64\n",
      " 38  Min_Packet_Length            26392 non-null  float64\n",
      " 39  Max_Packet_Length            26392 non-null  float64\n",
      " 40  Packet_Length_Mean           26392 non-null  float64\n",
      " 41  Packet_Length_Std            26392 non-null  float64\n",
      " 42  Packet_Length_Variance       26392 non-null  float64\n",
      " 43  FIN_Flag_Count               26392 non-null  float64\n",
      " 44  SYN_Flag_Count               26392 non-null  float64\n",
      " 45  RST_Flag_Count               26392 non-null  float64\n",
      " 46  PSH_Flag_Count               26392 non-null  float64\n",
      " 47  ACK_Flag_Count               26392 non-null  float64\n",
      " 48  URG_Flag_Count               26392 non-null  float64\n",
      " 49  CWE_Flag_Count               26392 non-null  float64\n",
      " 50  ECE_Flag_Count               26392 non-null  float64\n",
      " 51  Down_Up_Ratio                26392 non-null  float64\n",
      " 52  Average_Packet_Size          26392 non-null  float64\n",
      " 53  Avg_Fwd_Segment_Size         26392 non-null  float64\n",
      " 54  Avg_Bwd_Segment_Size         26392 non-null  float64\n",
      " 55  Fwd_Header_Length            26392 non-null  float64\n",
      " 56  Fwd_Avg_Bytes                26392 non-null  float64\n",
      " 57  Fwd_Avg_Packets              26392 non-null  float64\n",
      " 58  Fwd_Avg_Bulk_Rate            26392 non-null  float64\n",
      " 59  Bwd_Avg_Bytes                26392 non-null  float64\n",
      " 60  Bwd_Avg_Packets              26392 non-null  float64\n",
      " 61  Bwd_Avg_Bulk_Rate            26392 non-null  float64\n",
      " 62  Subflow_Fwd_Packets          26392 non-null  float64\n",
      " 63  Subflow_Fwd_Bytes            26392 non-null  float64\n",
      " 64  Subflow Bwd Packets          26392 non-null  float64\n",
      " 65  Subflow Bwd Bytes            26392 non-null  float64\n",
      " 66  Init_Win_bytes_forward       26392 non-null  float64\n",
      " 67  Init_Win_bytes_backward      26392 non-null  float64\n",
      " 68  act_data_pkt_fwd             26392 non-null  float64\n",
      " 69  min_seg_size_forward         26392 non-null  float64\n",
      " 70  Active_Mean                  26392 non-null  float64\n",
      " 71  Active_Std                   26392 non-null  float64\n",
      " 72  Active_Max                   26392 non-null  float64\n",
      " 73  Active_Min                   26392 non-null  float64\n",
      " 74  Idle_Mean                    26392 non-null  float64\n",
      " 75  Idle_Std                     26392 non-null  float64\n",
      " 76  Idle_Max                     26392 non-null  float64\n",
      " 77  Idle_Min                     26392 non-null  float64\n",
      " 78  Label                        26392 non-null  int64  \n",
      "dtypes: float64(78), int64(1)\n",
      "memory usage: 15.9 MB\n"
     ]
    }
   ],
   "source": [
    "new_dataset.info()"
   ]
  },
  {
   "cell_type": "code",
   "execution_count": 27,
   "id": "ee838dd8",
   "metadata": {},
   "outputs": [],
   "source": [
    "new = new_dataset.to_csv(r'preprocessed_dataset2.csv', encoding = 'utf-8', index = False)"
   ]
  },
  {
   "cell_type": "code",
   "execution_count": 28,
   "id": "b6bbdbd4",
   "metadata": {},
   "outputs": [],
   "source": [
    "df = pd.read_csv(\"preprocessed_dataset2.csv\")"
   ]
  },
  {
   "cell_type": "code",
   "execution_count": 29,
   "id": "0b5d406d",
   "metadata": {},
   "outputs": [],
   "source": [
    "features = df.drop('Label', axis = 1)\n",
    "target = df['Label']"
   ]
  },
  {
   "cell_type": "code",
   "execution_count": 30,
   "id": "bcd77e52",
   "metadata": {},
   "outputs": [
    {
     "data": {
      "text/plain": [
       "0        0\n",
       "1        0\n",
       "2        0\n",
       "3        0\n",
       "4        0\n",
       "        ..\n",
       "26387    0\n",
       "26388    0\n",
       "26389    0\n",
       "26390    0\n",
       "26391    0\n",
       "Name: Label, Length: 26392, dtype: int64"
      ]
     },
     "execution_count": 30,
     "metadata": {},
     "output_type": "execute_result"
    }
   ],
   "source": [
    "target"
   ]
  },
  {
   "cell_type": "code",
   "execution_count": 7,
   "id": "75a8b856",
   "metadata": {},
   "outputs": [
    {
     "data": {
      "image/png": "[encoded data removed]",
      "text/plain": [
       "<Figure size 1728x576 with 1 Axes>"
      ]
     },
     "metadata": {
      "needs_background": "light"
     },
     "output_type": "display_data"
    }
   ],
   "source": [
    "from sklearn.ensemble import RandomForestClassifier\n",
    "rfc = RandomForestClassifier();\n",
    "\n",
    "# fit random forest classifier on the training set\n",
    "rfc.fit(features, target);\n",
    "# extract important features\n",
    "score = np.round(rfc.feature_importances_,3)\n",
    "importances = pd.DataFrame({'features':features.columns,'importance':score})\n",
    "importances = importances.sort_values('importance',ascending=False).set_index('features')\n",
    "# plot importances\n",
    "plt.rcParams['figure.figsize'] = (24, 8)\n",
    "importances.plot.bar();"
   ]
  },
  {
   "cell_type": "code",
   "execution_count": 38,
   "id": "cc8ed89f",
   "metadata": {},
   "outputs": [],
   "source": [
    "results_test = {}\n",
    "results_train = {}\n",
    "list_algos=[]\n",
    "\n",
    "def predict(algo_name,X_train,y_train,X_test,y_test, atype='',verbose=0):\n",
    "    algo_name.fit(X_train, y_train)\n",
    "    Y_pred = algo_name.predict(X_test)\n",
    "    acc_train = round(algo_name.score(X_train, y_train) * 100, 2)\n",
    "    acc_val = round(algo_name.score(X_test, y_test) * 100, 2)\n",
    "    \n",
    "    results_test[str(algo_name)[0:str(algo_name).find('(')]+'_'+str(atype)] = acc_val\n",
    "    results_train[str(algo_name)[0:str(algo_name).find('(')]+'_'+str(atype)] = acc_train\n",
    "    list_algos.append(str(algo_name)[0:str(algo_name).find('(')])\n",
    "    if verbose ==0:\n",
    "        print(\"Training Accuracy: \" + str(acc_train))\n",
    "        print(\"Testing  Accuracy: \"+ str(acc_val))\n",
    "    else:\n",
    "        return Y_pred"
   ]
  },
  {
   "cell_type": "code",
   "execution_count": 24,
   "id": "7d55361b",
   "metadata": {},
   "outputs": [
    {
     "data": {
      "text/plain": [
       "((21113, 79), (21113,))"
      ]
     },
     "execution_count": 24,
     "metadata": {},
     "output_type": "execute_result"
    }
   ],
   "source": [
    "X_train, X_test, y_train, y_test = train_test_split(features, target, test_size=0.2, random_state=42)\n",
    "X_train.shape, y_train.shape"
   ]
  },
  {
   "cell_type": "code",
   "execution_count": 12,
   "id": "397138cd",
   "metadata": {},
   "outputs": [
    {
     "name": "stdout",
     "output_type": "stream",
     "text": [
      "Training Accuracy: 100.0\n",
      "Testing  Accuracy: 100.0\n",
      "              precision    recall  f1-score   support\n",
      "\n",
      "           0       1.00      1.00      1.00     17973\n",
      "           1       1.00      1.00      1.00     23277\n",
      "\n",
      "    accuracy                           1.00     41250\n",
      "   macro avg       1.00      1.00      1.00     41250\n",
      "weighted avg       1.00      1.00      1.00     41250\n",
      "\n"
     ]
    }
   ],
   "source": [
    "#RF\n",
    "\n",
    "rf = RandomForestClassifier(n_estimators=250, random_state = 42)\n",
    "predict(rf,X_train,y_train,X_test,y_test)\n",
    "print(classification_report(y_test, rf.predict(X_test)))"
   ]
  },
  {
   "cell_type": "code",
   "execution_count": 26,
   "id": "fd11464f",
   "metadata": {},
   "outputs": [
    {
     "name": "stdout",
     "output_type": "stream",
     "text": [
      "Training Accuracy: 99.99\n",
      "Testing  Accuracy: 99.96\n",
      "              precision    recall  f1-score   support\n",
      "\n",
      "           0       1.00      1.00      1.00      5278\n",
      "           1       0.00      0.00      0.00         1\n",
      "\n",
      "    accuracy                           1.00      5279\n",
      "   macro avg       0.50      0.50      0.50      5279\n",
      "weighted avg       1.00      1.00      1.00      5279\n",
      "\n"
     ]
    },
    {
     "name": "stderr",
     "output_type": "stream",
     "text": [
      "C:\\Users\\moinu\\anaconda3\\lib\\site-packages\\sklearn\\linear_model\\_logistic.py:763: ConvergenceWarning: lbfgs failed to converge (status=1):\n",
      "STOP: TOTAL NO. of ITERATIONS REACHED LIMIT.\n",
      "\n",
      "Increase the number of iterations (max_iter) or scale the data as shown in:\n",
      "    https://scikit-learn.org/stable/modules/preprocessing.html\n",
      "Please also refer to the documentation for alternative solver options:\n",
      "    https://scikit-learn.org/stable/modules/linear_model.html#logistic-regression\n",
      "  n_iter_i = _check_optimize_result(\n"
     ]
    }
   ],
   "source": [
    "#LR\n",
    "\n",
    "lr = LogisticRegression(solver='lbfgs')\n",
    "predict(lr,X_train,y_train,X_test,y_test)\n",
    "print(classification_report(y_test, lr.predict(X_test)))"
   ]
  },
  {
   "cell_type": "code",
   "execution_count": 14,
   "id": "a15f191e",
   "metadata": {},
   "outputs": [
    {
     "name": "stdout",
     "output_type": "stream",
     "text": [
      "Training Accuracy: 99.99\n",
      "Testing  Accuracy: 99.99\n",
      "              precision    recall  f1-score   support\n",
      "\n",
      "           0       1.00      1.00      1.00     17973\n",
      "           1       1.00      1.00      1.00     23277\n",
      "\n",
      "    accuracy                           1.00     41250\n",
      "   macro avg       1.00      1.00      1.00     41250\n",
      "weighted avg       1.00      1.00      1.00     41250\n",
      "\n"
     ]
    }
   ],
   "source": [
    "# GBC\n",
    "\n",
    "gbc = GradientBoostingClassifier()\n",
    "predict(gbc,X_train,y_train,X_test,y_test)\n",
    "print(classification_report(y_test, gbc.predict(X_test)))"
   ]
  },
  {
   "cell_type": "code",
   "execution_count": 15,
   "id": "a24e25fd",
   "metadata": {},
   "outputs": [
    {
     "name": "stdout",
     "output_type": "stream",
     "text": [
      "Training Accuracy: 100.0\n",
      "Testing  Accuracy: 100.0\n",
      "              precision    recall  f1-score   support\n",
      "\n",
      "           0       1.00      1.00      1.00     17973\n",
      "           1       1.00      1.00      1.00     23277\n",
      "\n",
      "    accuracy                           1.00     41250\n",
      "   macro avg       1.00      1.00      1.00     41250\n",
      "weighted avg       1.00      1.00      1.00     41250\n",
      "\n"
     ]
    }
   ],
   "source": [
    "# ADA\n",
    "\n",
    "ada = AdaBoostClassifier()\n",
    "predict(ada,X_train,y_train,X_test,y_test)\n",
    "print(classification_report(y_test, ada.predict(X_test)))"
   ]
  },
  {
   "cell_type": "code",
   "execution_count": 16,
   "id": "cfbee95e",
   "metadata": {},
   "outputs": [
    {
     "name": "stdout",
     "output_type": "stream",
     "text": [
      "Training Accuracy: 100.0\n",
      "Testing  Accuracy: 99.99\n",
      "              precision    recall  f1-score   support\n",
      "\n",
      "           0       1.00      1.00      1.00     17973\n",
      "           1       1.00      1.00      1.00     23277\n",
      "\n",
      "    accuracy                           1.00     41250\n",
      "   macro avg       1.00      1.00      1.00     41250\n",
      "weighted avg       1.00      1.00      1.00     41250\n",
      "\n"
     ]
    }
   ],
   "source": [
    "# DT\n",
    "\n",
    "dt = DecisionTreeClassifier()\n",
    "predict(dt,X_train,y_train,X_test,y_test)\n",
    "print(classification_report(y_test, dt.predict(X_test)))"
   ]
  },
  {
   "cell_type": "code",
   "execution_count": 29,
   "id": "51e4e46e",
   "metadata": {},
   "outputs": [
    {
     "name": "stdout",
     "output_type": "stream",
     "text": [
      "Training Accuracy: 89.26\n",
      "Testing  Accuracy: 89.01\n",
      "              precision    recall  f1-score   support\n",
      "\n",
      "           0       1.00      0.89      0.94      5278\n",
      "           1       0.00      0.00      0.00         1\n",
      "\n",
      "    accuracy                           0.89      5279\n",
      "   macro avg       0.50      0.45      0.47      5279\n",
      "weighted avg       1.00      0.89      0.94      5279\n",
      "\n"
     ]
    }
   ],
   "source": [
    "#GaussianNB\n",
    "\n",
    "nb = GaussianNB()\n",
    "predict(nb,X_train,y_train,X_test,y_test)\n",
    "print(classification_report(y_test, nb.predict(X_test)))"
   ]
  },
  {
   "cell_type": "code",
   "execution_count": 18,
   "id": "7fd34c9e",
   "metadata": {},
   "outputs": [
    {
     "name": "stderr",
     "output_type": "stream",
     "text": [
      "C:\\Users\\moinu\\anaconda3\\lib\\site-packages\\xgboost\\sklearn.py:1146: UserWarning: The use of label encoder in XGBClassifier is deprecated and will be removed in a future release. To remove this warning, do the following: 1) Pass option use_label_encoder=False when constructing XGBClassifier object; and 2) Encode your labels (y) as integers starting with 0, i.e. 0, 1, 2, ..., [num_class - 1].\n",
      "  warnings.warn(label_encoder_deprecation_msg, UserWarning)\n"
     ]
    },
    {
     "name": "stdout",
     "output_type": "stream",
     "text": [
      "[23:43:03] WARNING: ..\\src\\learner.cc:1095: Starting in XGBoost 1.3.0, the default evaluation metric used with the objective 'binary:logistic' was changed from 'error' to 'logloss'. Explicitly set eval_metric if you'd like to restore the old behavior.\n"
     ]
    },
    {
     "name": "stderr",
     "output_type": "stream",
     "text": [
      "C:\\Users\\moinu\\anaconda3\\lib\\site-packages\\xgboost\\data.py:112: UserWarning: Use subset (sliced data) of np.ndarray is not recommended because it will generate extra copies and increase memory consumption\n",
      "  warnings.warn(\n",
      "C:\\Users\\moinu\\anaconda3\\lib\\site-packages\\xgboost\\data.py:112: UserWarning: Use subset (sliced data) of np.ndarray is not recommended because it will generate extra copies and increase memory consumption\n",
      "  warnings.warn(\n"
     ]
    },
    {
     "name": "stdout",
     "output_type": "stream",
     "text": [
      "Training Accuracy: 100.0\n",
      "Testing  Accuracy: 100.0\n",
      "              precision    recall  f1-score   support\n",
      "\n",
      "           0       1.00      1.00      1.00     17973\n",
      "           1       1.00      1.00      1.00     23277\n",
      "\n",
      "    accuracy                           1.00     41250\n",
      "   macro avg       1.00      1.00      1.00     41250\n",
      "weighted avg       1.00      1.00      1.00     41250\n",
      "\n"
     ]
    },
    {
     "name": "stderr",
     "output_type": "stream",
     "text": [
      "C:\\Users\\moinu\\anaconda3\\lib\\site-packages\\xgboost\\data.py:112: UserWarning: Use subset (sliced data) of np.ndarray is not recommended because it will generate extra copies and increase memory consumption\n",
      "  warnings.warn(\n"
     ]
    }
   ],
   "source": [
    "#xgb\n",
    "\n",
    "xg = xgb.XGBClassifier()\n",
    "predict(xg,X_train,y_train,X_test,y_test)\n",
    "print(classification_report(y_test, xg.predict(X_test)))"
   ]
  },
  {
   "cell_type": "code",
   "execution_count": 30,
   "id": "a5638fed",
   "metadata": {},
   "outputs": [
    {
     "name": "stdout",
     "output_type": "stream",
     "text": [
      "Training Accuracy: 100.0\n",
      "Testing  Accuracy: 99.98\n",
      "              precision    recall  f1-score   support\n",
      "\n",
      "           0       1.00      1.00      1.00      5278\n",
      "           1       0.00      0.00      0.00         1\n",
      "\n",
      "    accuracy                           1.00      5279\n",
      "   macro avg       0.50      0.50      0.50      5279\n",
      "weighted avg       1.00      1.00      1.00      5279\n",
      "\n"
     ]
    },
    {
     "name": "stderr",
     "output_type": "stream",
     "text": [
      "C:\\Users\\moinu\\anaconda3\\lib\\site-packages\\sklearn\\metrics\\_classification.py:1245: UndefinedMetricWarning: Precision and F-score are ill-defined and being set to 0.0 in labels with no predicted samples. Use `zero_division` parameter to control this behavior.\n",
      "  _warn_prf(average, modifier, msg_start, len(result))\n",
      "C:\\Users\\moinu\\anaconda3\\lib\\site-packages\\sklearn\\metrics\\_classification.py:1245: UndefinedMetricWarning: Precision and F-score are ill-defined and being set to 0.0 in labels with no predicted samples. Use `zero_division` parameter to control this behavior.\n",
      "  _warn_prf(average, modifier, msg_start, len(result))\n",
      "C:\\Users\\moinu\\anaconda3\\lib\\site-packages\\sklearn\\metrics\\_classification.py:1245: UndefinedMetricWarning: Precision and F-score are ill-defined and being set to 0.0 in labels with no predicted samples. Use `zero_division` parameter to control this behavior.\n",
      "  _warn_prf(average, modifier, msg_start, len(result))\n"
     ]
    }
   ],
   "source": [
    "#svc\n",
    "\n",
    "svc = SVC(kernel='linear', probability=True)\n",
    "predict(svc,X_train,y_train,X_test,y_test)\n",
    "print(classification_report(y_test, svc.predict(X_test)))"
   ]
  },
  {
   "cell_type": "code",
   "execution_count": 28,
   "id": "be8e5221",
   "metadata": {},
   "outputs": [
    {
     "name": "stdout",
     "output_type": "stream",
     "text": [
      "Training Accuracy: 99.97\n",
      "Testing  Accuracy: 99.98\n",
      "              precision    recall  f1-score   support\n",
      "\n",
      "           0       1.00      1.00      1.00      5278\n",
      "           1       0.00      0.00      0.00         1\n",
      "\n",
      "    accuracy                           1.00      5279\n",
      "   macro avg       0.50      0.50      0.50      5279\n",
      "weighted avg       1.00      1.00      1.00      5279\n",
      "\n"
     ]
    },
    {
     "name": "stderr",
     "output_type": "stream",
     "text": [
      "C:\\Users\\moinu\\anaconda3\\lib\\site-packages\\sklearn\\metrics\\_classification.py:1245: UndefinedMetricWarning: Precision and F-score are ill-defined and being set to 0.0 in labels with no predicted samples. Use `zero_division` parameter to control this behavior.\n",
      "  _warn_prf(average, modifier, msg_start, len(result))\n",
      "C:\\Users\\moinu\\anaconda3\\lib\\site-packages\\sklearn\\metrics\\_classification.py:1245: UndefinedMetricWarning: Precision and F-score are ill-defined and being set to 0.0 in labels with no predicted samples. Use `zero_division` parameter to control this behavior.\n",
      "  _warn_prf(average, modifier, msg_start, len(result))\n",
      "C:\\Users\\moinu\\anaconda3\\lib\\site-packages\\sklearn\\metrics\\_classification.py:1245: UndefinedMetricWarning: Precision and F-score are ill-defined and being set to 0.0 in labels with no predicted samples. Use `zero_division` parameter to control this behavior.\n",
      "  _warn_prf(average, modifier, msg_start, len(result))\n"
     ]
    }
   ],
   "source": [
    "#MLP\n",
    "\n",
    "from sklearn.neural_network import MLPClassifier\n",
    "mlp = MLPClassifier(random_state=42)  \n",
    "predict(mlp,X_train,y_train,X_test,y_test)\n",
    "print(classification_report(y_test, mlp.predict(X_test)))"
   ]
  },
  {
   "cell_type": "markdown",
   "id": "2e182798",
   "metadata": {},
   "source": [
    "### SMOTE"
   ]
  },
  {
   "cell_type": "code",
   "execution_count": 31,
   "id": "723f2f5e",
   "metadata": {},
   "outputs": [],
   "source": [
    "from imblearn.over_sampling import SMOTE\n",
    "\n",
    "X, y = SMOTE(random_state=42).fit_resample(features, target)"
   ]
  },
  {
   "cell_type": "code",
   "execution_count": 32,
   "id": "b5406eb5",
   "metadata": {},
   "outputs": [
    {
     "name": "stdout",
     "output_type": "stream",
     "text": [
      "[(0, 26385), (1, 26385)]\n"
     ]
    }
   ],
   "source": [
    "from collections import Counter\n",
    "print(sorted(Counter(y).items()))"
   ]
  },
  {
   "cell_type": "code",
   "execution_count": 33,
   "id": "12d9555e",
   "metadata": {},
   "outputs": [],
   "source": [
    "X_train_s,X_test,y_train_s,y_test = train_test_split(X,y, test_size = 0.2, random_state = 1)"
   ]
  },
  {
   "cell_type": "code",
   "execution_count": 34,
   "id": "cc3540c6",
   "metadata": {},
   "outputs": [],
   "source": [
    "rfc = RandomForestClassifier(n_estimators=100,random_state = 42)"
   ]
  },
  {
   "cell_type": "code",
   "execution_count": 39,
   "id": "da2de02b",
   "metadata": {
    "scrolled": true
   },
   "outputs": [
    {
     "name": "stdout",
     "output_type": "stream",
     "text": [
      "Training Accuracy: 99.63\n",
      "Testing  Accuracy: 99.72\n",
      "              precision    recall  f1-score   support\n",
      "\n",
      "           0       1.00      0.99      1.00      5366\n",
      "           1       0.99      1.00      1.00      5188\n",
      "\n",
      "    accuracy                           1.00     10554\n",
      "   macro avg       1.00      1.00      1.00     10554\n",
      "weighted avg       1.00      1.00      1.00     10554\n",
      "\n"
     ]
    }
   ],
   "source": [
    "# KNN\n",
    "\n",
    "knneig = KNeighborsClassifier(n_neighbors=100)\n",
    "knneig.fit(X_train_s, y_train_s)\n",
    "# pred_knneigh = knneig.predict(X_test1)\n",
    "# score_knneigh_before = accuracy_score(y_test, pred_knneigh)\n",
    "# print(score_knneigh_before)\n",
    "predict(knneig,X_train_s,y_train_s,X_test,y_test)\n",
    "print(classification_report(y_test, knneig.predict(X_test)))"
   ]
  },
  {
   "cell_type": "code",
   "execution_count": 35,
   "id": "e0925541",
   "metadata": {},
   "outputs": [
    {
     "name": "stdout",
     "output_type": "stream",
     "text": [
      "0.985882129998105\n",
      "              precision    recall  f1-score   support\n",
      "\n",
      "           0       1.00      0.97      0.99      5366\n",
      "           1       0.97      1.00      0.99      5188\n",
      "\n",
      "    accuracy                           0.99     10554\n",
      "   macro avg       0.99      0.99      0.99     10554\n",
      "weighted avg       0.99      0.99      0.99     10554\n",
      "\n"
     ]
    }
   ],
   "source": [
    "lr = LogisticRegression()\n",
    "lr.fit(X_train_s,y_train_s)\n",
    "predictions = lr.predict(X_test)\n",
    "predict(knneig,X_train_s,y_train_s,X_test,y_test)\n",
    "print(classification_report(y_test,predictions))"
   ]
  },
  {
   "cell_type": "code",
   "execution_count": 40,
   "id": "cea6c436",
   "metadata": {},
   "outputs": [
    {
     "name": "stdout",
     "output_type": "stream",
     "text": [
      "0.990145916240288\n",
      "              precision    recall  f1-score   support\n",
      "\n",
      "           0       1.00      0.98      0.99      5366\n",
      "           1       0.98      1.00      0.99      5188\n",
      "\n",
      "    accuracy                           0.99     10554\n",
      "   macro avg       0.99      0.99      0.99     10554\n",
      "weighted avg       0.99      0.99      0.99     10554\n",
      "\n"
     ]
    }
   ],
   "source": [
    "#GaussianNB\n",
    "\n",
    "nb = GaussianNB()\n",
    "nb.fit(X_train_s,y_train_s)\n",
    "predictions = nb.predict(X_test)\n",
    "predict(knneig,X_train_s,y_train_s,X_test,y_test)\n",
    "print(classification_report(y_test,predictions))"
   ]
  },
  {
   "cell_type": "code",
   "execution_count": 41,
   "id": "1be7276f",
   "metadata": {},
   "outputs": [
    {
     "name": "stdout",
     "output_type": "stream",
     "text": [
      "0.9989577411407997\n",
      "              precision    recall  f1-score   support\n",
      "\n",
      "           0       1.00      1.00      1.00      5366\n",
      "           1       1.00      1.00      1.00      5188\n",
      "\n",
      "    accuracy                           1.00     10554\n",
      "   macro avg       1.00      1.00      1.00     10554\n",
      "weighted avg       1.00      1.00      1.00     10554\n",
      "\n"
     ]
    }
   ],
   "source": [
    "#MLP\n",
    "\n",
    "from sklearn.neural_network import MLPClassifier\n",
    "mlp = MLPClassifier(random_state=42)\n",
    "mlp.fit(X_train_s,y_train_s)\n",
    "predictions = mlp.predict(X_test)\n",
    "predict(knneig,X_train_s,y_train_s,X_test,y_test)\n",
    "print(classification_report(y_test,predictions))"
   ]
  },
  {
   "cell_type": "code",
   "execution_count": 42,
   "id": "7085aeee",
   "metadata": {},
   "outputs": [
    {
     "name": "stdout",
     "output_type": "stream",
     "text": [
      "0.9915671783210157\n",
      "              precision    recall  f1-score   support\n",
      "\n",
      "           0       1.00      0.98      0.99      5366\n",
      "           1       0.98      1.00      0.99      5188\n",
      "\n",
      "    accuracy                           0.99     10554\n",
      "   macro avg       0.99      0.99      0.99     10554\n",
      "weighted avg       0.99      0.99      0.99     10554\n",
      "\n"
     ]
    }
   ],
   "source": [
    "#svc\n",
    "\n",
    "svc = SVC(kernel='linear', probability=True)\n",
    "svc.fit(X_train_s,y_train_s)\n",
    "predictions = svc.predict(X_test)\n",
    "predict(knneig,X_train_s,y_train_s,X_test,y_test)\n",
    "print(classification_report(y_test,predictions))"
   ]
  },
  {
   "cell_type": "code",
   "execution_count": 43,
   "id": "19cf1fb6",
   "metadata": {},
   "outputs": [],
   "source": [
    "r_probs = [0 for _ in range(len(y_test))]\n",
    "KNN_probs = knneig.predict_proba(X_test)\n",
    "LR_probs = lr.predict_proba(X_test)\n",
    "svc_probs = svc.predict_proba(X_test)\n",
    "nb_probs = nb.predict_proba(X_test)\n",
    "mlp_probs = mlp.predict_proba(X_test)\n",
    "\n",
    "\n",
    "KNN_probs = KNN_probs[:, 1]\n",
    "LR_probs = LR_probs[:, 1]\n",
    "svc_probs = svc_probs[:, 1]\n",
    "nb_probs = nb_probs[:, 1]\n",
    "mlp_probs = mlp_probs[:, 1]\n",
    "\n",
    "\n",
    "r_auc = roc_auc_score(y_test, r_probs)\n",
    "KNN_auc = roc_auc_score(y_test, KNN_probs)\n",
    "LR_auc = roc_auc_score(y_test, LR_probs)\n",
    "svc_auc = roc_auc_score(y_test, svc_probs)\n",
    "nb_auc = roc_auc_score(y_test, nb_probs)\n",
    "mlp_auc = roc_auc_score(y_test, mlp_probs)\n",
    "\n",
    "r_fpr, r_tpr, _ = roc_curve(y_test, r_probs)\n",
    "KNN_fpr, KNN_tpr, _ = roc_curve(y_test, KNN_probs)\n",
    "LR_fpr, LR_tpr, _ = roc_curve(y_test, LR_probs)\n",
    "svc_fpr, svc_tpr, _ = roc_curve(y_test, svc_probs)\n",
    "nb_fpr, nb_tpr, _ = roc_curve(y_test, nb_probs)\n",
    "mlp_fpr, mlp_tpr, _ = roc_curve(y_test, mlp_probs)"
   ]
  },
  {
   "cell_type": "code",
   "execution_count": 44,
   "id": "b7fc95e2",
   "metadata": {
    "scrolled": false
   },
   "outputs": [
    {
     "data": {
      "image/png": "[encoded data removed]",
      "text/plain": [
       "<Figure size 1152x576 with 1 Axes>"
      ]
     },
     "metadata": {
      "needs_background": "light"
     },
     "output_type": "display_data"
    }
   ],
   "source": [
    "plt.figure(figsize=(16,8))\n",
    "plt.plot(r_fpr, r_tpr, linestyle='--')\n",
    "#plt.plot(rf_fpr, rf_tpr, marker='.', label='Random Forest (AUROC = %0.3f)' % rf_auc)\n",
    "plt.plot(KNN_fpr, KNN_tpr, label='KNN (AUROC = %0.3f)' % KNN_auc)\n",
    "plt.plot(LR_fpr, LR_tpr, label='LR (AUROC = %0.3f)' % LR_auc)\n",
    "plt.plot(svc_fpr, svc_tpr, label='SVM (AUROC = %0.3f)' % svc_auc)\n",
    "plt.plot(nb_fpr, nb_tpr, label='NB (AUROC = %0.3f)' % nb_auc)\n",
    "plt.plot(mlp_fpr, mlp_tpr, label='ADA (AUROC = %0.3f)' % mlp_auc)\n",
    "\n",
    "\n",
    "\n",
    "# Title\n",
    "plt.title('ROC Plot')\n",
    "# Axis labels\n",
    "plt.xlabel('False Positive Rate')\n",
    "plt.ylabel('True Positive Rate')\n",
    "# Show legend\n",
    "plt.legend() # \n",
    "# Show plot\n",
    "plt.show()"
   ]
  },
  {
   "cell_type": "markdown",
   "id": "bcf71227",
   "metadata": {},
   "source": [
    "## RFE"
   ]
  },
  {
   "cell_type": "code",
   "execution_count": 33,
   "id": "feb19da2",
   "metadata": {},
   "outputs": [
    {
     "data": {
      "text/plain": [
       "['Destination_Port',\n",
       " 'Flow_Duration',\n",
       " 'Total_Fwd_Packets',\n",
       " 'Total_Backward_Packets',\n",
       " 'Fwd_Packet_Length_Max',\n",
       " 'Fwd_Packet_Length_Min',\n",
       " 'Bwd_Packet_Length_Min',\n",
       " 'Flow_IAT_Max',\n",
       " 'Fwd_IAT_Min',\n",
       " 'Bwd_IAT_Mean',\n",
       " 'Bwd IAT_Std',\n",
       " 'Bwd_IAT_Max',\n",
       " 'Bwd_Header_Length',\n",
       " 'Bwd_Packets',\n",
       " 'Min_Packet_Length',\n",
       " 'Max_Packet_Length',\n",
       " 'PSH_Flag_Count',\n",
       " 'URG_Flag_Count',\n",
       " 'Average_Packet_Size',\n",
       " 'Subflow_Fwd_Packets',\n",
       " 'Subflow Bwd Packets',\n",
       " 'Init_Win_bytes_forward',\n",
       " 'Init_Win_bytes_backward',\n",
       " 'act_data_pkt_fwd',\n",
       " 'min_seg_size_forward']"
      ]
     },
     "execution_count": 33,
     "metadata": {},
     "output_type": "execute_result"
    }
   ],
   "source": [
    "from sklearn.feature_selection import RFE\n",
    "import itertools\n",
    "\n",
    "# create the RFE model and select 10 attributes\n",
    "rfc = RandomForestClassifier(n_estimators=250, random_state = 42)\n",
    "rfe = RFE(rfc, n_features_to_select=25)\n",
    "rfe = rfe.fit(X, y)\n",
    "\n",
    "# summarize the selection of the attributes\n",
    "feature_map = [(i, v) for i, v in itertools.zip_longest(rfe.get_support(), X.columns)]\n",
    "selected_features = [v for i, v in feature_map if i==True]\n",
    "\n",
    "selected_features"
   ]
  },
  {
   "cell_type": "code",
   "execution_count": 34,
   "id": "d2b5420a",
   "metadata": {},
   "outputs": [
    {
     "name": "stdout",
     "output_type": "stream",
     "text": [
      "\"X\" dimension: (52770, 78)\n",
      "\"X\" column list: ['Destination_Port', 'Flow_Duration', 'Total_Fwd_Packets', 'Total_Backward_Packets', 'Total_Length_of_Fwd_Packets', 'Total_Length_of_Bwd_Packets', 'Fwd_Packet_Length_Max', 'Fwd_Packet_Length_Min', 'Fwd_Packet_Length_Mean', 'Fwd_Packet_Length_Std', 'Bwd_Packet_Length_Max', 'Bwd_Packet_Length_Min', 'Bwd_Packet_Length_Mean', 'Bwd_Packet_Length_Std', 'Flow_Bytes', 'Flow_Packets', 'Flow_IAT_Mean', 'Flow_IAT_Std', 'Flow_IAT_Max', 'Flow_IAT_Min', 'Fwd_IAT_Total', 'Fwd_IAT_Mean', 'Fwd_IAT_Std', 'Fwd_IAT_Max', 'Fwd_IAT_Min', 'Bwd_IAT_Total', 'Bwd_IAT_Mean', 'Bwd IAT_Std', 'Bwd_IAT_Max', 'Bwd_IAT_Min', 'Fwd_PSH_Flags', 'Bwd_PSH_Flags', 'Fwd_URG_Flags', 'Bwd_URG_Flags', 'Fwd_Header_Length', 'Bwd_Header_Length', 'Fwd_Packets', 'Bwd_Packets', 'Min_Packet_Length', 'Max_Packet_Length', 'Packet_Length_Mean', 'Packet_Length_Std', 'Packet_Length_Variance', 'FIN_Flag_Count', 'SYN_Flag_Count', 'RST_Flag_Count', 'PSH_Flag_Count', 'ACK_Flag_Count', 'URG_Flag_Count', 'CWE_Flag_Count', 'ECE_Flag_Count', 'Down_Up_Ratio', 'Average_Packet_Size', 'Avg_Fwd_Segment_Size', 'Avg_Bwd_Segment_Size', 'Fwd_Header_Length.1', 'Fwd_Avg_Bytes', 'Fwd_Avg_Packets', 'Fwd_Avg_Bulk_Rate', 'Bwd_Avg_Bytes', 'Bwd_Avg_Packets', 'Bwd_Avg_Bulk_Rate', 'Subflow_Fwd_Packets', 'Subflow_Fwd_Bytes', 'Subflow Bwd Packets', 'Subflow Bwd Bytes', 'Init_Win_bytes_forward', 'Init_Win_bytes_backward', 'act_data_pkt_fwd', 'min_seg_size_forward', 'Active_Mean', 'Active_Std', 'Active_Max', 'Active_Min', 'Idle_Mean', 'Idle_Std', 'Idle_Max', 'Idle_Min']\n",
      "\"X_rfe\" dimension: (52770, 25)\n",
      "\"X_rfe\" column list: ['Destination_Port', 'Flow_Duration', 'Total_Fwd_Packets', 'Total_Backward_Packets', 'Fwd_Packet_Length_Max', 'Fwd_Packet_Length_Min', 'Bwd_Packet_Length_Min', 'Flow_IAT_Max', 'Fwd_IAT_Min', 'Bwd_IAT_Mean', 'Bwd IAT_Std', 'Bwd_IAT_Max', 'Bwd_Header_Length', 'Bwd_Packets', 'Min_Packet_Length', 'Max_Packet_Length', 'PSH_Flag_Count', 'URG_Flag_Count', 'Average_Packet_Size', 'Subflow_Fwd_Packets', 'Subflow Bwd Packets', 'Init_Win_bytes_forward', 'Init_Win_bytes_backward', 'act_data_pkt_fwd', 'min_seg_size_forward']\n"
     ]
    }
   ],
   "source": [
    "X_rfe = X.iloc[:, rfe.support_]\n",
    "\n",
    "print(\"\\\"X\\\" dimension: {}\".format(X.shape))\n",
    "print(\"\\\"X\\\" column list:\", X.columns.tolist())\n",
    "print(\"\\\"X_rfe\\\" dimension: {}\".format(X_rfe.shape))\n",
    "print(\"\\\"X_rfe\\\" column list:\", X_rfe.columns.tolist())"
   ]
  },
  {
   "cell_type": "code",
   "execution_count": 35,
   "id": "512567dc",
   "metadata": {
    "scrolled": true
   },
   "outputs": [
    {
     "data": {
      "text/plain": [
       "['Destination_Port',\n",
       " 'Flow_Duration',\n",
       " 'Total_Fwd_Packets',\n",
       " 'Total_Backward_Packets',\n",
       " 'Total_Length_of_Fwd_Packets',\n",
       " 'Total_Length_of_Bwd_Packets',\n",
       " 'Fwd_Packet_Length_Max',\n",
       " 'Fwd_Packet_Length_Min',\n",
       " 'Fwd_Packet_Length_Mean',\n",
       " 'Fwd_Packet_Length_Std',\n",
       " 'Bwd_Packet_Length_Max',\n",
       " 'Bwd_Packet_Length_Min',\n",
       " 'Bwd_Packet_Length_Mean',\n",
       " 'Bwd_Packet_Length_Std',\n",
       " 'Flow_Bytes',\n",
       " 'Flow_Packets',\n",
       " 'Flow_IAT_Mean',\n",
       " 'Flow_IAT_Std',\n",
       " 'Flow_IAT_Max',\n",
       " 'Flow_IAT_Min',\n",
       " 'Fwd_IAT_Total',\n",
       " 'Fwd_IAT_Mean',\n",
       " 'Fwd_IAT_Std',\n",
       " 'Fwd_IAT_Max',\n",
       " 'Fwd_IAT_Min',\n",
       " 'Bwd_IAT_Total',\n",
       " 'Bwd_IAT_Mean',\n",
       " 'Bwd IAT_Std',\n",
       " 'Bwd_IAT_Max',\n",
       " 'Bwd_IAT_Min',\n",
       " 'Fwd_PSH_Flags',\n",
       " 'Bwd_PSH_Flags',\n",
       " 'Fwd_URG_Flags',\n",
       " 'Bwd_URG_Flags',\n",
       " 'Fwd_Header_Length',\n",
       " 'Bwd_Header_Length',\n",
       " 'Fwd_Packets',\n",
       " 'Bwd_Packets',\n",
       " 'Min_Packet_Length',\n",
       " 'Max_Packet_Length',\n",
       " 'Packet_Length_Mean',\n",
       " 'Packet_Length_Std',\n",
       " 'Packet_Length_Variance',\n",
       " 'FIN_Flag_Count',\n",
       " 'SYN_Flag_Count',\n",
       " 'RST_Flag_Count',\n",
       " 'PSH_Flag_Count',\n",
       " 'ACK_Flag_Count',\n",
       " 'URG_Flag_Count',\n",
       " 'CWE_Flag_Count',\n",
       " 'ECE_Flag_Count',\n",
       " 'Down_Up_Ratio',\n",
       " 'Average_Packet_Size',\n",
       " 'Avg_Fwd_Segment_Size',\n",
       " 'Avg_Bwd_Segment_Size',\n",
       " 'Fwd_Header_Length.1',\n",
       " 'Fwd_Avg_Bytes',\n",
       " 'Fwd_Avg_Packets',\n",
       " 'Fwd_Avg_Bulk_Rate',\n",
       " 'Bwd_Avg_Bytes',\n",
       " 'Bwd_Avg_Packets',\n",
       " 'Bwd_Avg_Bulk_Rate',\n",
       " 'Subflow_Fwd_Packets',\n",
       " 'Subflow_Fwd_Bytes',\n",
       " 'Subflow Bwd Packets',\n",
       " 'Subflow Bwd Bytes',\n",
       " 'Init_Win_bytes_forward',\n",
       " 'Init_Win_bytes_backward',\n",
       " 'act_data_pkt_fwd',\n",
       " 'min_seg_size_forward',\n",
       " 'Active_Mean',\n",
       " 'Active_Std',\n",
       " 'Active_Max',\n",
       " 'Active_Min',\n",
       " 'Idle_Mean',\n",
       " 'Idle_Std',\n",
       " 'Idle_Max',\n",
       " 'Idle_Min',\n",
       " 'label']"
      ]
     },
     "execution_count": 35,
     "metadata": {},
     "output_type": "execute_result"
    }
   ],
   "source": [
    "col = X.columns\n",
    "col = list(col)\n",
    "\n",
    "col.append('label')\n",
    "col"
   ]
  },
  {
   "cell_type": "code",
   "execution_count": 36,
   "id": "c94db75e",
   "metadata": {},
   "outputs": [
    {
     "data": {
      "text/html": [
       "<div>\n",
       "<style scoped>\n",
       "    .dataframe tbody tr th:only-of-type {\n",
       "        vertical-align: middle;\n",
       "    }\n",
       "\n",
       "    .dataframe tbody tr th {\n",
       "        vertical-align: top;\n",
       "    }\n",
       "\n",
       "    .dataframe thead th {\n",
       "        text-align: right;\n",
       "    }\n",
       "</style>\n",
       "<table border=\"1\" class=\"dataframe\">\n",
       "  <thead>\n",
       "    <tr style=\"text-align: right;\">\n",
       "      <th></th>\n",
       "      <th>Destination_Port</th>\n",
       "      <th>Flow_Duration</th>\n",
       "      <th>Total_Fwd_Packets</th>\n",
       "      <th>Total_Backward_Packets</th>\n",
       "      <th>Total_Length_of_Fwd_Packets</th>\n",
       "      <th>Total_Length_of_Bwd_Packets</th>\n",
       "      <th>Fwd_Packet_Length_Max</th>\n",
       "      <th>Fwd_Packet_Length_Min</th>\n",
       "      <th>Fwd_Packet_Length_Mean</th>\n",
       "      <th>Fwd_Packet_Length_Std</th>\n",
       "      <th>...</th>\n",
       "      <th>min_seg_size_forward</th>\n",
       "      <th>Active_Mean</th>\n",
       "      <th>Active_Std</th>\n",
       "      <th>Active_Max</th>\n",
       "      <th>Active_Min</th>\n",
       "      <th>Idle_Mean</th>\n",
       "      <th>Idle_Std</th>\n",
       "      <th>Idle_Max</th>\n",
       "      <th>Idle_Min</th>\n",
       "      <th>Label</th>\n",
       "    </tr>\n",
       "  </thead>\n",
       "  <tbody>\n",
       "    <tr>\n",
       "      <th>0</th>\n",
       "      <td>0.000342</td>\n",
       "      <td>1.055287e-02</td>\n",
       "      <td>0.022247</td>\n",
       "      <td>0.015759</td>\n",
       "      <td>0.011466</td>\n",
       "      <td>0.001370</td>\n",
       "      <td>0.032737</td>\n",
       "      <td>0.0</td>\n",
       "      <td>0.019038</td>\n",
       "      <td>0.031022</td>\n",
       "      <td>...</td>\n",
       "      <td>0.727273</td>\n",
       "      <td>0.0</td>\n",
       "      <td>0.0</td>\n",
       "      <td>0.0</td>\n",
       "      <td>0.0</td>\n",
       "      <td>0.0</td>\n",
       "      <td>0.0</td>\n",
       "      <td>0.0</td>\n",
       "      <td>0.0</td>\n",
       "      <td>0</td>\n",
       "    </tr>\n",
       "    <tr>\n",
       "      <th>1</th>\n",
       "      <td>0.000342</td>\n",
       "      <td>1.099463e-02</td>\n",
       "      <td>0.022247</td>\n",
       "      <td>0.015759</td>\n",
       "      <td>0.011466</td>\n",
       "      <td>0.001370</td>\n",
       "      <td>0.032737</td>\n",
       "      <td>0.0</td>\n",
       "      <td>0.019038</td>\n",
       "      <td>0.031022</td>\n",
       "      <td>...</td>\n",
       "      <td>0.727273</td>\n",
       "      <td>0.0</td>\n",
       "      <td>0.0</td>\n",
       "      <td>0.0</td>\n",
       "      <td>0.0</td>\n",
       "      <td>0.0</td>\n",
       "      <td>0.0</td>\n",
       "      <td>0.0</td>\n",
       "      <td>0.0</td>\n",
       "      <td>0</td>\n",
       "    </tr>\n",
       "    <tr>\n",
       "      <th>2</th>\n",
       "      <td>0.000342</td>\n",
       "      <td>1.325003e-06</td>\n",
       "      <td>0.000000</td>\n",
       "      <td>0.000358</td>\n",
       "      <td>0.000000</td>\n",
       "      <td>0.000000</td>\n",
       "      <td>0.000000</td>\n",
       "      <td>0.0</td>\n",
       "      <td>0.000000</td>\n",
       "      <td>0.000000</td>\n",
       "      <td>...</td>\n",
       "      <td>0.727273</td>\n",
       "      <td>0.0</td>\n",
       "      <td>0.0</td>\n",
       "      <td>0.0</td>\n",
       "      <td>0.0</td>\n",
       "      <td>0.0</td>\n",
       "      <td>0.0</td>\n",
       "      <td>0.0</td>\n",
       "      <td>0.0</td>\n",
       "      <td>0</td>\n",
       "    </tr>\n",
       "    <tr>\n",
       "      <th>3</th>\n",
       "      <td>0.000342</td>\n",
       "      <td>1.086242e-02</td>\n",
       "      <td>0.022247</td>\n",
       "      <td>0.015043</td>\n",
       "      <td>0.011741</td>\n",
       "      <td>0.001307</td>\n",
       "      <td>0.032737</td>\n",
       "      <td>0.0</td>\n",
       "      <td>0.019495</td>\n",
       "      <td>0.031097</td>\n",
       "      <td>...</td>\n",
       "      <td>0.727273</td>\n",
       "      <td>0.0</td>\n",
       "      <td>0.0</td>\n",
       "      <td>0.0</td>\n",
       "      <td>0.0</td>\n",
       "      <td>0.0</td>\n",
       "      <td>0.0</td>\n",
       "      <td>0.0</td>\n",
       "      <td>0.0</td>\n",
       "      <td>0</td>\n",
       "    </tr>\n",
       "    <tr>\n",
       "      <th>4</th>\n",
       "      <td>0.550885</td>\n",
       "      <td>6.333348e-07</td>\n",
       "      <td>0.000000</td>\n",
       "      <td>0.000716</td>\n",
       "      <td>0.000000</td>\n",
       "      <td>0.000000</td>\n",
       "      <td>0.000000</td>\n",
       "      <td>0.0</td>\n",
       "      <td>0.000000</td>\n",
       "      <td>0.000000</td>\n",
       "      <td>...</td>\n",
       "      <td>0.727273</td>\n",
       "      <td>0.0</td>\n",
       "      <td>0.0</td>\n",
       "      <td>0.0</td>\n",
       "      <td>0.0</td>\n",
       "      <td>0.0</td>\n",
       "      <td>0.0</td>\n",
       "      <td>0.0</td>\n",
       "      <td>0.0</td>\n",
       "      <td>0</td>\n",
       "    </tr>\n",
       "    <tr>\n",
       "      <th>...</th>\n",
       "      <td>...</td>\n",
       "      <td>...</td>\n",
       "      <td>...</td>\n",
       "      <td>...</td>\n",
       "      <td>...</td>\n",
       "      <td>...</td>\n",
       "      <td>...</td>\n",
       "      <td>...</td>\n",
       "      <td>...</td>\n",
       "      <td>...</td>\n",
       "      <td>...</td>\n",
       "      <td>...</td>\n",
       "      <td>...</td>\n",
       "      <td>...</td>\n",
       "      <td>...</td>\n",
       "      <td>...</td>\n",
       "      <td>...</td>\n",
       "      <td>...</td>\n",
       "      <td>...</td>\n",
       "      <td>...</td>\n",
       "      <td>...</td>\n",
       "    </tr>\n",
       "    <tr>\n",
       "      <th>52765</th>\n",
       "      <td>0.001245</td>\n",
       "      <td>6.269024e-03</td>\n",
       "      <td>0.000417</td>\n",
       "      <td>0.000573</td>\n",
       "      <td>0.000453</td>\n",
       "      <td>0.000042</td>\n",
       "      <td>0.003829</td>\n",
       "      <td>0.0</td>\n",
       "      <td>0.005143</td>\n",
       "      <td>0.007680</td>\n",
       "      <td>...</td>\n",
       "      <td>0.727273</td>\n",
       "      <td>0.0</td>\n",
       "      <td>0.0</td>\n",
       "      <td>0.0</td>\n",
       "      <td>0.0</td>\n",
       "      <td>0.0</td>\n",
       "      <td>0.0</td>\n",
       "      <td>0.0</td>\n",
       "      <td>0.0</td>\n",
       "      <td>1</td>\n",
       "    </tr>\n",
       "    <tr>\n",
       "      <th>52766</th>\n",
       "      <td>0.001245</td>\n",
       "      <td>7.992727e-07</td>\n",
       "      <td>0.000000</td>\n",
       "      <td>0.000358</td>\n",
       "      <td>0.000000</td>\n",
       "      <td>0.000000</td>\n",
       "      <td>0.000000</td>\n",
       "      <td>0.0</td>\n",
       "      <td>0.000000</td>\n",
       "      <td>0.000000</td>\n",
       "      <td>...</td>\n",
       "      <td>0.727273</td>\n",
       "      <td>0.0</td>\n",
       "      <td>0.0</td>\n",
       "      <td>0.0</td>\n",
       "      <td>0.0</td>\n",
       "      <td>0.0</td>\n",
       "      <td>0.0</td>\n",
       "      <td>0.0</td>\n",
       "      <td>0.0</td>\n",
       "      <td>1</td>\n",
       "    </tr>\n",
       "    <tr>\n",
       "      <th>52767</th>\n",
       "      <td>0.001245</td>\n",
       "      <td>3.235632e-03</td>\n",
       "      <td>0.000215</td>\n",
       "      <td>0.000469</td>\n",
       "      <td>0.000234</td>\n",
       "      <td>0.000022</td>\n",
       "      <td>0.001976</td>\n",
       "      <td>0.0</td>\n",
       "      <td>0.002654</td>\n",
       "      <td>0.003963</td>\n",
       "      <td>...</td>\n",
       "      <td>0.727273</td>\n",
       "      <td>0.0</td>\n",
       "      <td>0.0</td>\n",
       "      <td>0.0</td>\n",
       "      <td>0.0</td>\n",
       "      <td>0.0</td>\n",
       "      <td>0.0</td>\n",
       "      <td>0.0</td>\n",
       "      <td>0.0</td>\n",
       "      <td>1</td>\n",
       "    </tr>\n",
       "    <tr>\n",
       "      <th>52768</th>\n",
       "      <td>0.001245</td>\n",
       "      <td>1.341274e-03</td>\n",
       "      <td>0.000089</td>\n",
       "      <td>0.000404</td>\n",
       "      <td>0.000097</td>\n",
       "      <td>0.000009</td>\n",
       "      <td>0.000819</td>\n",
       "      <td>0.0</td>\n",
       "      <td>0.001100</td>\n",
       "      <td>0.001642</td>\n",
       "      <td>...</td>\n",
       "      <td>0.727273</td>\n",
       "      <td>0.0</td>\n",
       "      <td>0.0</td>\n",
       "      <td>0.0</td>\n",
       "      <td>0.0</td>\n",
       "      <td>0.0</td>\n",
       "      <td>0.0</td>\n",
       "      <td>0.0</td>\n",
       "      <td>0.0</td>\n",
       "      <td>1</td>\n",
       "    </tr>\n",
       "    <tr>\n",
       "      <th>52769</th>\n",
       "      <td>0.001245</td>\n",
       "      <td>3.490643e-02</td>\n",
       "      <td>0.002321</td>\n",
       "      <td>0.001554</td>\n",
       "      <td>0.002526</td>\n",
       "      <td>0.000232</td>\n",
       "      <td>0.021334</td>\n",
       "      <td>0.0</td>\n",
       "      <td>0.028656</td>\n",
       "      <td>0.042788</td>\n",
       "      <td>...</td>\n",
       "      <td>0.727273</td>\n",
       "      <td>0.0</td>\n",
       "      <td>0.0</td>\n",
       "      <td>0.0</td>\n",
       "      <td>0.0</td>\n",
       "      <td>0.0</td>\n",
       "      <td>0.0</td>\n",
       "      <td>0.0</td>\n",
       "      <td>0.0</td>\n",
       "      <td>1</td>\n",
       "    </tr>\n",
       "  </tbody>\n",
       "</table>\n",
       "<p>52770 rows × 79 columns</p>\n",
       "</div>"
      ],
      "text/plain": [
       "       Destination_Port  Flow_Duration  Total_Fwd_Packets  \\\n",
       "0              0.000342   1.055287e-02           0.022247   \n",
       "1              0.000342   1.099463e-02           0.022247   \n",
       "2              0.000342   1.325003e-06           0.000000   \n",
       "3              0.000342   1.086242e-02           0.022247   \n",
       "4              0.550885   6.333348e-07           0.000000   \n",
       "...                 ...            ...                ...   \n",
       "52765          0.001245   6.269024e-03           0.000417   \n",
       "52766          0.001245   7.992727e-07           0.000000   \n",
       "52767          0.001245   3.235632e-03           0.000215   \n",
       "52768          0.001245   1.341274e-03           0.000089   \n",
       "52769          0.001245   3.490643e-02           0.002321   \n",
       "\n",
       "       Total_Backward_Packets  Total_Length_of_Fwd_Packets  \\\n",
       "0                    0.015759                     0.011466   \n",
       "1                    0.015759                     0.011466   \n",
       "2                    0.000358                     0.000000   \n",
       "3                    0.015043                     0.011741   \n",
       "4                    0.000716                     0.000000   \n",
       "...                       ...                          ...   \n",
       "52765                0.000573                     0.000453   \n",
       "52766                0.000358                     0.000000   \n",
       "52767                0.000469                     0.000234   \n",
       "52768                0.000404                     0.000097   \n",
       "52769                0.001554                     0.002526   \n",
       "\n",
       "       Total_Length_of_Bwd_Packets  Fwd_Packet_Length_Max  \\\n",
       "0                         0.001370               0.032737   \n",
       "1                         0.001370               0.032737   \n",
       "2                         0.000000               0.000000   \n",
       "3                         0.001307               0.032737   \n",
       "4                         0.000000               0.000000   \n",
       "...                            ...                    ...   \n",
       "52765                     0.000042               0.003829   \n",
       "52766                     0.000000               0.000000   \n",
       "52767                     0.000022               0.001976   \n",
       "52768                     0.000009               0.000819   \n",
       "52769                     0.000232               0.021334   \n",
       "\n",
       "       Fwd_Packet_Length_Min  Fwd_Packet_Length_Mean  Fwd_Packet_Length_Std  \\\n",
       "0                        0.0                0.019038               0.031022   \n",
       "1                        0.0                0.019038               0.031022   \n",
       "2                        0.0                0.000000               0.000000   \n",
       "3                        0.0                0.019495               0.031097   \n",
       "4                        0.0                0.000000               0.000000   \n",
       "...                      ...                     ...                    ...   \n",
       "52765                    0.0                0.005143               0.007680   \n",
       "52766                    0.0                0.000000               0.000000   \n",
       "52767                    0.0                0.002654               0.003963   \n",
       "52768                    0.0                0.001100               0.001642   \n",
       "52769                    0.0                0.028656               0.042788   \n",
       "\n",
       "       ...  min_seg_size_forward  Active_Mean  Active_Std  Active_Max  \\\n",
       "0      ...              0.727273          0.0         0.0         0.0   \n",
       "1      ...              0.727273          0.0         0.0         0.0   \n",
       "2      ...              0.727273          0.0         0.0         0.0   \n",
       "3      ...              0.727273          0.0         0.0         0.0   \n",
       "4      ...              0.727273          0.0         0.0         0.0   \n",
       "...    ...                   ...          ...         ...         ...   \n",
       "52765  ...              0.727273          0.0         0.0         0.0   \n",
       "52766  ...              0.727273          0.0         0.0         0.0   \n",
       "52767  ...              0.727273          0.0         0.0         0.0   \n",
       "52768  ...              0.727273          0.0         0.0         0.0   \n",
       "52769  ...              0.727273          0.0         0.0         0.0   \n",
       "\n",
       "       Active_Min  Idle_Mean  Idle_Std  Idle_Max  Idle_Min  Label  \n",
       "0             0.0        0.0       0.0       0.0       0.0      0  \n",
       "1             0.0        0.0       0.0       0.0       0.0      0  \n",
       "2             0.0        0.0       0.0       0.0       0.0      0  \n",
       "3             0.0        0.0       0.0       0.0       0.0      0  \n",
       "4             0.0        0.0       0.0       0.0       0.0      0  \n",
       "...           ...        ...       ...       ...       ...    ...  \n",
       "52765         0.0        0.0       0.0       0.0       0.0      1  \n",
       "52766         0.0        0.0       0.0       0.0       0.0      1  \n",
       "52767         0.0        0.0       0.0       0.0       0.0      1  \n",
       "52768         0.0        0.0       0.0       0.0       0.0      1  \n",
       "52769         0.0        0.0       0.0       0.0       0.0      1  \n",
       "\n",
       "[52770 rows x 79 columns]"
      ]
     },
     "execution_count": 36,
     "metadata": {},
     "output_type": "execute_result"
    }
   ],
   "source": [
    "df = pd.concat([X, y], axis=1)\n",
    "df"
   ]
  },
  {
   "cell_type": "code",
   "execution_count": 37,
   "id": "265c3e4d",
   "metadata": {},
   "outputs": [],
   "source": [
    "df.to_csv('cicids_balanced2.csv')"
   ]
  },
  {
   "cell_type": "code",
   "execution_count": 3,
   "id": "bd986745",
   "metadata": {},
   "outputs": [],
   "source": [
    "df = pd.read_csv(\"cicids_balanced2.csv\", index_col=0)"
   ]
  },
  {
   "cell_type": "code",
   "execution_count": 4,
   "id": "63a1a2a8",
   "metadata": {},
   "outputs": [],
   "source": [
    "features = df.drop('Label', axis = 1)"
   ]
  },
  {
   "cell_type": "code",
   "execution_count": 5,
   "id": "a5a355ab",
   "metadata": {},
   "outputs": [],
   "source": [
    "features = features[['Destination_Port', 'Flow_Duration', 'Total_Fwd_Packets', 'Total_Backward_Packets', 'Fwd_Packet_Length_Max', 'Fwd_Packet_Length_Min', 'Bwd_Packet_Length_Min', 'Flow_IAT_Max', 'Fwd_IAT_Min', 'Bwd_IAT_Mean', 'Bwd IAT_Std', 'Bwd_IAT_Max', 'Bwd_Header_Length', 'Bwd_Packets', 'Min_Packet_Length', 'Max_Packet_Length', 'PSH_Flag_Count', 'URG_Flag_Count', 'Average_Packet_Size', 'Subflow_Fwd_Packets', 'Subflow Bwd Packets', 'Init_Win_bytes_forward', 'Init_Win_bytes_backward', 'act_data_pkt_fwd', 'min_seg_size_forward']]"
   ]
  },
  {
   "cell_type": "markdown",
   "id": "a065bbfc",
   "metadata": {},
   "source": [
    "## Isolation Forest"
   ]
  },
  {
   "cell_type": "code",
   "execution_count": 78,
   "id": "73042570",
   "metadata": {},
   "outputs": [
    {
     "data": {
      "text/plain": [
       "IsolationForest(n_jobs=-1, random_state=42)"
      ]
     },
     "execution_count": 78,
     "metadata": {},
     "output_type": "execute_result"
    }
   ],
   "source": [
    "from sklearn.ensemble import IsolationForest\n",
    "clf=IsolationForest(n_estimators=100, max_samples='auto', \\\n",
    "                        max_features=1.0, bootstrap=False, n_jobs=-1, random_state=42, verbose=0)\n",
    "clf.fit(features)"
   ]
  },
  {
   "cell_type": "code",
   "execution_count": 79,
   "id": "5b93c8c4",
   "metadata": {},
   "outputs": [
    {
     "name": "stdout",
     "output_type": "stream",
     "text": [
      " 1    48458\n",
      "-1     4312\n",
      "Name: anomaly, dtype: int64\n"
     ]
    }
   ],
   "source": [
    "pred = clf.predict(features)\n",
    "features['anomaly']=pred\n",
    "outliers=features.loc[features['anomaly']==-1]\n",
    "outlier_index=list(outliers.index)\n",
    "#print(outlier_index)\n",
    "#Find the number of anomalies and normal points here points classified -1 are anomalous\n",
    "print(features['anomaly'].value_counts())"
   ]
  },
  {
   "cell_type": "code",
   "execution_count": 80,
   "id": "7223df38",
   "metadata": {},
   "outputs": [
    {
     "name": "stdout",
     "output_type": "stream",
     "text": [
      "4312\n"
     ]
    }
   ],
   "source": [
    "outlier_label = []\n",
    "outlier_label = list(pred)\n",
    "\n",
    "print(outlier_label.count(-1))"
   ]
  },
  {
   "cell_type": "code",
   "execution_count": 81,
   "id": "4f9afa5e",
   "metadata": {},
   "outputs": [
    {
     "name": "stdout",
     "output_type": "stream",
     "text": [
      "0\n"
     ]
    }
   ],
   "source": [
    "c = 0\n",
    "end = 52770\n",
    "for i in range(0,end):\n",
    "    if df['Label'][i] == 'anomaly' and outlier_label[i] == -1:\n",
    "        c += 1\n",
    "    \n",
    "print(c)"
   ]
  },
  {
   "cell_type": "code",
   "execution_count": 82,
   "id": "4b662278",
   "metadata": {},
   "outputs": [],
   "source": [
    "q = 0\n",
    "while q < len(outlier_label):\n",
    "    if outlier_label[q] == -1:\n",
    "        #print(q)\n",
    "        df.drop(q,axis=0,inplace =True)\n",
    "    q+=1"
   ]
  },
  {
   "cell_type": "code",
   "execution_count": 83,
   "id": "28d1cf59",
   "metadata": {},
   "outputs": [],
   "source": [
    "df.to_csv(r'cicds_isolation2.csv',encoding='utf-8',index=False)"
   ]
  },
  {
   "cell_type": "code",
   "execution_count": 88,
   "id": "a1639840",
   "metadata": {},
   "outputs": [
    {
     "data": {
      "text/plain": [
       "Text(0, 0.5, 'Flow_Duration')"
      ]
     },
     "execution_count": 88,
     "metadata": {},
     "output_type": "execute_result"
    },
    {
     "data": {
      "image/png": "[encoded data removed]",
      "text/plain": [
       "<Figure size 504x360 with 1 Axes>"
      ]
     },
     "metadata": {
      "needs_background": "light"
     },
     "output_type": "display_data"
    }
   ],
   "source": [
    "outlier_label = np.array(outlier_label)\n",
    "#print(outlier_label)\n",
    "outlier_label = outlier_label.reshape(1,52770)\n",
    "plt.figure(figsize=(7,5))\n",
    "# plt.scatter(features[outlier_label[0] == -1].Total_Fwd_Packets,\n",
    "#             features[outlier_label[0] == -1].Flow_Duration,\n",
    "#             s=50,\n",
    "#             c='red',\n",
    "#             marker='o',\n",
    "#             edgecolors= 'black',\n",
    "#            label = 'anomaly')\n",
    "\n",
    "plt.scatter(features[outlier_label[0] == 1].Total_Fwd_Packets,\n",
    "            features[outlier_label[0] == 1].Flow_Duration,\n",
    "            s=50,\n",
    "            c='blue',\n",
    "            marker='o',\n",
    "            edgecolors= 'black',\n",
    "            label='normal')\n",
    "\n",
    "plt.legend(loc = 'lower right')\n",
    "plt.xlabel('Total_Fwd_Packets')\n",
    "plt.ylabel('Flow_Duration')"
   ]
  },
  {
   "cell_type": "code",
   "execution_count": 35,
   "id": "42b75b24",
   "metadata": {},
   "outputs": [
    {
     "data": {
      "image/png": "[encoded data removed]",
      "text/plain": [
       "<Figure size 432x288 with 1 Axes>"
      ]
     },
     "metadata": {
      "needs_background": "light"
     },
     "output_type": "display_data"
    }
   ],
   "source": [
    "import matplotlib.pyplot as plt\n",
    "from sklearn.decomposition import PCA\n",
    "from sklearn.preprocessing import StandardScaler\n",
    "from mpl_toolkits.mplot3d import Axes3D\n",
    "pca = PCA(n_components=3)  # Reduce to k=3 dimensions\n",
    "scaler = StandardScaler()\n",
    "#normalize the metrics\n",
    "X = scaler.fit_transform(features)\n",
    "X_reduce = pca.fit_transform(X)\n",
    "\n",
    "fig = plt.figure()\n",
    "ax = fig.add_subplot(111, projection='3d')\n",
    "ax.set_zlabel(\"x_composite_3\")\n",
    "\n",
    "# Plot the compressed data points\n",
    "ax.scatter(X_reduce[:, 0], X_reduce[:, 1], zs=X_reduce[:, 2], s=4, lw=1, label=\"inliers\",c=\"green\")\n",
    "\n",
    "# Plot x's for the ground truth outliers\n",
    "ax.scatter(X_reduce[outlier_index,0],X_reduce[outlier_index,1], X_reduce[outlier_index,2],\n",
    "           lw=2, s=60, marker=\"x\", c=\"red\", label=\"outliers\")\n",
    "ax.legend()\n",
    "plt.show()"
   ]
  },
  {
   "cell_type": "markdown",
   "id": "b7ab313f",
   "metadata": {},
   "source": [
    "## DBScan"
   ]
  },
  {
   "cell_type": "code",
   "execution_count": 42,
   "id": "463b1880",
   "metadata": {},
   "outputs": [],
   "source": [
    "df = pd.read_csv(\"cicids_balanced2.csv\", index_col=0)"
   ]
  },
  {
   "cell_type": "code",
   "execution_count": 43,
   "id": "79091137",
   "metadata": {},
   "outputs": [],
   "source": [
    "features = df.drop('Label', axis = 1)"
   ]
  },
  {
   "cell_type": "code",
   "execution_count": 44,
   "id": "76ab989d",
   "metadata": {},
   "outputs": [],
   "source": [
    "# features = features[['Flow_Duration', 'Total_Fwd_Packets', 'Total_Length_of_Fwd_Packets', 'Fwd_Packet_Length_Max', 'Fwd_Packet_Length_Mean', 'Bwd_Packet_Length_Max', 'Bwd_Packet_Length_Min', 'Bwd_Packet_Length_Mean', 'Flow_Bytes', 'Flow_Packets', 'Flow_IAT_Mean', 'Flow_IAT_Max', 'Bwd_Packets', 'Max_Packet_Length', 'Packet_Length_Mean', 'Packet_Length_Std', 'Packet_Length_Variance', 'PSH_Flag_Count', 'ACK_Flag_Count', 'Average_Packet_Size', 'Avg_Fwd_Segment_Size', 'Avg_Bwd_Segment_Size', 'Subflow_Fwd_Packets', 'Subflow_Fwd_Bytes', 'Init_Win_bytes_forward']]"
   ]
  },
  {
   "cell_type": "code",
   "execution_count": 45,
   "id": "374b977f",
   "metadata": {},
   "outputs": [],
   "source": [
    "from sklearn.neighbors import NearestNeighbors\n",
    "\n",
    "neigh = NearestNeighbors(n_neighbors=2,algorithm = 'ball_tree')\n",
    "nbrs = neigh.fit(features)\n",
    "\n",
    "distances, indices = nbrs.kneighbors(features)"
   ]
  },
  {
   "cell_type": "code",
   "execution_count": 46,
   "id": "2a2637cd",
   "metadata": {
    "scrolled": false
   },
   "outputs": [
    {
     "data": {
      "image/png": "[encoded data removed]",
      "text/plain": [
       "<Figure size 720x504 with 1 Axes>"
      ]
     },
     "metadata": {
      "needs_background": "light"
     },
     "output_type": "display_data"
    }
   ],
   "source": [
    "distances = np.sort(distances,axis = 0)\n",
    "distances = distances[:,1]\n",
    "plt.figure(figsize = (10,7))\n",
    "plt.plot(distances,color='blue', linestyle='dashed')\n",
    "plt.grid()"
   ]
  },
  {
   "cell_type": "code",
   "execution_count": 47,
   "id": "10dfb4f2",
   "metadata": {},
   "outputs": [
    {
     "data": {
      "text/plain": [
       "(52770, 78)"
      ]
     },
     "execution_count": 47,
     "metadata": {},
     "output_type": "execute_result"
    }
   ],
   "source": [
    "features.shape"
   ]
  },
  {
   "cell_type": "code",
   "execution_count": 48,
   "id": "f9807789",
   "metadata": {},
   "outputs": [],
   "source": [
    "from sklearn.cluster import DBSCAN\n",
    "dbscan = DBSCAN(eps = 0.15,min_samples = 100)\n",
    "\n",
    "model = dbscan.fit(features)"
   ]
  },
  {
   "cell_type": "code",
   "execution_count": 49,
   "id": "af0fba11",
   "metadata": {},
   "outputs": [
    {
     "name": "stdout",
     "output_type": "stream",
     "text": [
      "[-1 -1  0 ...  0  0  0]\n"
     ]
    }
   ],
   "source": [
    "outlier_label = model.labels_\n",
    "print(outlier_label)"
   ]
  },
  {
   "cell_type": "code",
   "execution_count": 50,
   "id": "ce058a78",
   "metadata": {},
   "outputs": [
    {
     "name": "stdout",
     "output_type": "stream",
     "text": [
      "7316\n"
     ]
    }
   ],
   "source": [
    "count = 0\n",
    "for i in outlier_label:\n",
    "    if i == -1:\n",
    "        count = count + 1\n",
    "print(count)"
   ]
  },
  {
   "cell_type": "code",
   "execution_count": 51,
   "id": "64f7d636",
   "metadata": {},
   "outputs": [],
   "source": [
    "q = 0\n",
    "while q < len(outlier_label):\n",
    "    if outlier_label[q] == -1:\n",
    "        df.drop(q,axis=0,inplace =True)\n",
    "    q+=1"
   ]
  },
  {
   "cell_type": "code",
   "execution_count": 52,
   "id": "fd31e4f8",
   "metadata": {},
   "outputs": [],
   "source": [
    "df.to_csv(r'cicids_dbscan2.csv',encoding='utf-8',index=False)"
   ]
  },
  {
   "cell_type": "markdown",
   "id": "6811b5f6",
   "metadata": {},
   "source": [
    "## KMeans"
   ]
  },
  {
   "cell_type": "code",
   "execution_count": 53,
   "id": "b2926622",
   "metadata": {},
   "outputs": [],
   "source": [
    "df = pd.read_csv(\"cicids_balanced2.csv\", index_col=0)"
   ]
  },
  {
   "cell_type": "code",
   "execution_count": 54,
   "id": "3dc42f3c",
   "metadata": {},
   "outputs": [],
   "source": [
    "# features = features[['Flow_Duration', 'Total_Fwd_Packets', 'Total_Length_of_Fwd_Packets', 'Fwd_Packet_Length_Max', 'Fwd_Packet_Length_Mean', 'Bwd_Packet_Length_Max', 'Bwd_Packet_Length_Min', 'Bwd_Packet_Length_Mean', 'Flow_Bytes', 'Flow_Packets', 'Flow_IAT_Mean', 'Flow_IAT_Max', 'Bwd_Packets', 'Max_Packet_Length', 'Packet_Length_Mean', 'Packet_Length_Std', 'Packet_Length_Variance', 'PSH_Flag_Count', 'ACK_Flag_Count', 'Average_Packet_Size', 'Avg_Fwd_Segment_Size', 'Avg_Bwd_Segment_Size', 'Subflow_Fwd_Packets', 'Subflow_Fwd_Bytes', 'Init_Win_bytes_forward']]"
   ]
  },
  {
   "cell_type": "code",
   "execution_count": 55,
   "id": "536e1e82",
   "metadata": {},
   "outputs": [
    {
     "data": {
      "image/png": "[encoded data removed]",
      "text/plain": [
       "<Figure size 432x288 with 1 Axes>"
      ]
     },
     "metadata": {
      "needs_background": "light"
     },
     "output_type": "display_data"
    }
   ],
   "source": [
    "from sklearn.cluster import KMeans\n",
    "from sklearn.metrics import silhouette_score\n",
    "\n",
    "kmeans_per_k = [KMeans(n_clusters=k, random_state = 42).fit(features) for k in range(1,10)]\n",
    "silhouette_score = [silhouette_score(features,model.labels_) for model in kmeans_per_k[1:]]\n",
    "plt.plot(range(2,10),silhouette_score,color='blue', linestyle='dashed', marker='o',\n",
    "         markerfacecolor='red', markersize=10, label = \"Silhouette Curve\")\n",
    "k = np.argmax(silhouette_score) + 2\n",
    "plt.axvline(x = k, linestyle = '--', c='green', label = \"optimal number of clusters ({})\".format(k))\n",
    "plt.scatter(k,silhouette_score[k-2],c = 'red',s=400)\n",
    "plt.legend(shadow = True)\n",
    "plt.ylabel(\"Silhouette scores\")\n",
    "plt.xlabel(\"values of K\")\n",
    "plt.grid()"
   ]
  },
  {
   "cell_type": "code",
   "execution_count": 51,
   "id": "f6d9a8d0",
   "metadata": {},
   "outputs": [
    {
     "data": {
      "image/png": "[encoded data removed]",
      "text/plain": [
       "<Figure size 432x288 with 1 Axes>"
      ]
     },
     "metadata": {
      "needs_background": "light"
     },
     "output_type": "display_data"
    }
   ],
   "source": [
    "from matplotlib import cm\n",
    "from sklearn.metrics import silhouette_samples\n",
    "\n",
    "km = KMeans(n_clusters=9, \n",
    "            init='k-means++', \n",
    "            n_init=10, \n",
    "            max_iter=300,\n",
    "            tol=1e-04,\n",
    "            random_state=42)\n",
    "y_km = km.fit_predict(features)\n",
    "\n",
    "cluster_labels = np.unique(y_km)\n",
    "n_clusters = cluster_labels.shape[0]\n",
    "silhouette_vals = silhouette_samples(features, y_km, metric='euclidean')\n",
    "y_ax_lower, y_ax_upper = 0, 0\n",
    "yticks = []\n",
    "for i, c in enumerate(cluster_labels):\n",
    "    c_silhouette_vals = silhouette_vals[y_km == c]\n",
    "    c_silhouette_vals.sort()\n",
    "    y_ax_upper += len(c_silhouette_vals)\n",
    "    color = cm.jet(float(i) / n_clusters)\n",
    "    plt.barh(range(y_ax_lower, y_ax_upper), c_silhouette_vals, height=1.0, \n",
    "             edgecolor='none', color=color)\n",
    "\n",
    "    yticks.append((y_ax_lower + y_ax_upper) / 2.)\n",
    "    y_ax_lower += len(c_silhouette_vals)\n",
    "    \n",
    "silhouette_avg = np.mean(silhouette_vals)\n",
    "plt.axvline(silhouette_avg, color=\"red\", linestyle=\"--\") \n",
    "\n",
    "plt.yticks(yticks, cluster_labels + 1)\n",
    "plt.ylabel('Cluster')\n",
    "plt.xlabel('Silhouette coefficient')\n",
    "\n",
    "plt.tight_layout()\n",
    "# plt.savefig('./figures/silhouette.png', dpi=300)\n",
    "plt.show()"
   ]
  },
  {
   "cell_type": "code",
   "execution_count": 52,
   "id": "6370df13",
   "metadata": {},
   "outputs": [
    {
     "data": {
      "text/plain": [
       "Text(0, 0.5, 'wcss')"
      ]
     },
     "execution_count": 52,
     "metadata": {},
     "output_type": "execute_result"
    },
    {
     "data": {
      "image/png": "[encoded data removed]",
      "text/plain": [
       "<Figure size 432x288 with 1 Axes>"
      ]
     },
     "metadata": {
      "needs_background": "light"
     },
     "output_type": "display_data"
    }
   ],
   "source": [
    "wcss = []\n",
    "for i in range(1,10):\n",
    "    kmeans = KMeans(n_clusters = i,init = 'k-means++',random_state=42)\n",
    "    kmeans.fit(features)\n",
    "    wcss.append(kmeans.inertia_)\n",
    "plt.plot(range(1,10),wcss,color='blue', linestyle='dashed', marker='o',\n",
    "         markerfacecolor='red', markersize=10)\n",
    "plt.title('the elbow method')\n",
    "plt.xlabel('Number of Clusters')\n",
    "plt.ylabel('wcss')"
   ]
  },
  {
   "cell_type": "code",
   "execution_count": 56,
   "id": "14bbbc41",
   "metadata": {},
   "outputs": [
    {
     "data": {
      "text/plain": [
       "KMeans(n_clusters=9, random_state=42)"
      ]
     },
     "execution_count": 56,
     "metadata": {},
     "output_type": "execute_result"
    }
   ],
   "source": [
    "clustering = KMeans(n_clusters = 9, init = 'k-means++',random_state=42)\n",
    "clustering.fit(features)"
   ]
  },
  {
   "cell_type": "code",
   "execution_count": 57,
   "id": "5eddd50f",
   "metadata": {},
   "outputs": [],
   "source": [
    "cluster_centers = list(clustering.cluster_centers_)"
   ]
  },
  {
   "cell_type": "code",
   "execution_count": 58,
   "id": "9ee15513",
   "metadata": {},
   "outputs": [
    {
     "data": {
      "text/plain": [
       "52770"
      ]
     },
     "execution_count": 58,
     "metadata": {},
     "output_type": "execute_result"
    }
   ],
   "source": [
    "df.shape[0]"
   ]
  },
  {
   "cell_type": "code",
   "execution_count": 59,
   "id": "e8cdeb54",
   "metadata": {},
   "outputs": [],
   "source": [
    "from scipy.spatial import distance\n",
    "from scipy.spatial.distance import cdist \n",
    "\n",
    "end = df.shape[0]\n",
    "distances = []\n",
    "for i in range(0,end):\n",
    "    center = list(cluster_centers[clustering.labels_[i]])\n",
    "    objects = list(features.iloc[i])\n",
    "    distances.append(distance.euclidean(center,objects))"
   ]
  },
  {
   "cell_type": "code",
   "execution_count": 60,
   "id": "0d30b30f",
   "metadata": {},
   "outputs": [],
   "source": [
    "zero = []\n",
    "one = []\n",
    "two = []\n",
    "three = []\n",
    "four = []\n",
    "five = []\n",
    "six = []\n",
    "seven = []\n",
    "eight = []\n",
    "for i in range(0,end):\n",
    "    if clustering.labels_[i] == 0:\n",
    "        zero.append(distances[i])\n",
    "    elif clustering.labels_[i] == 1:\n",
    "        one.append(distances[i])\n",
    "    elif clustering.labels_[i] == 2:\n",
    "        two.append(distances[i])\n",
    "    elif clustering.labels_[i] == 3:\n",
    "        three.append(distances[i])\n",
    "    elif clustering.labels_[i] == 4:\n",
    "        four.append(distances[i])\n",
    "    elif clustering.labels_[i] == 5:\n",
    "        five.append(distances[i])\n",
    "    elif clustering.labels_[i] == 6:\n",
    "        six.append(distances[i])\n",
    "    elif clustering.labels_[i] == 7:\n",
    "        seven.append(distances[i])\n",
    "    else:\n",
    "        eight.append(distances[i])"
   ]
  },
  {
   "cell_type": "code",
   "execution_count": 61,
   "id": "8f3cad93",
   "metadata": {},
   "outputs": [],
   "source": [
    "zero_mean = np.array(zero).mean()\n",
    "one_mean = np.array(one).mean()\n",
    "two_mean = np.array(two).mean()\n",
    "three_mean = np.array(three).mean()\n",
    "four_mean = np.array(four).mean()\n",
    "five_mean = np.array(five).mean()\n",
    "six_mean = np.array(six).mean()\n",
    "seven_mean = np.array(seven).mean()\n",
    "eight_mean = np.array(eight).mean()"
   ]
  },
  {
   "cell_type": "code",
   "execution_count": 62,
   "id": "49f9735b",
   "metadata": {},
   "outputs": [],
   "source": [
    "outlier_score = []\n",
    "outlier_score_zero = []\n",
    "outlier_score_one = []\n",
    "outlier_score_two = []\n",
    "outlier_score_three = []\n",
    "outlier_score_four = []\n",
    "outlier_score_five = []\n",
    "outlier_score_six = []\n",
    "outlier_score_seven = []\n",
    "outlier_score_eight = []\n",
    "\n",
    "for i in range(0,end):\n",
    "    if clustering.labels_[i] == 0:\n",
    "        outlier_score.append(distances[i]/zero_mean)\n",
    "        outlier_score_zero.append(distances[i]/zero_mean)\n",
    "    elif clustering.labels_[i] == 1:\n",
    "         outlier_score.append(distances[i]/one_mean)\n",
    "         outlier_score_one.append(distances[i]/one_mean)\n",
    "    elif clustering.labels_[i] == 2:\n",
    "         outlier_score.append(distances[i]/two_mean)\n",
    "         outlier_score_two.append(distances[i]/two_mean)\n",
    "    elif clustering.labels_[i] == 3:\n",
    "         outlier_score.append(distances[i]/three_mean)\n",
    "         outlier_score_three.append(distances[i]/three_mean)\n",
    "    elif clustering.labels_[i] == 4:\n",
    "         outlier_score.append(distances[i]/four_mean)\n",
    "         outlier_score_four.append(distances[i]/four_mean)\n",
    "    elif clustering.labels_[i] == 5:\n",
    "         outlier_score.append(distances[i]/five_mean)\n",
    "         outlier_score_five.append(distances[i]/five_mean)\n",
    "    elif clustering.labels_[i] == 6:\n",
    "         outlier_score.append(distances[i]/six_mean)\n",
    "         outlier_score_six.append(distances[i]/six_mean)\n",
    "    elif clustering.labels_[i] == 7:\n",
    "         outlier_score.append(distances[i]/seven_mean)\n",
    "         outlier_score_seven.append(distances[i]/seven_mean)\n",
    "    elif clustering.labels_[i] == 8:\n",
    "         outlier_score.append(distances[i]/eight_mean)\n",
    "         outlier_score_eight.append(distances[i]/eight_mean)"
   ]
  },
  {
   "cell_type": "code",
   "execution_count": 63,
   "id": "652bbb87",
   "metadata": {},
   "outputs": [],
   "source": [
    "score_zero = np.array(outlier_score_zero)\n",
    "score_one = np.array(outlier_score_one)\n",
    "score_two = np.array(outlier_score_two)\n",
    "score_three = np.array(outlier_score_three)\n",
    "score_four = np.array(outlier_score_four)\n",
    "score_five = np.array(outlier_score_five)\n",
    "score_six = np.array(outlier_score_six)\n",
    "score_seven = np.array(outlier_score_seven)\n",
    "score_eight = np.array(outlier_score_eight)"
   ]
  },
  {
   "cell_type": "code",
   "execution_count": 64,
   "id": "7c66fc43",
   "metadata": {},
   "outputs": [],
   "source": [
    "def boxplot(dist_list):\n",
    "    sort_score_zero = sorted(dist_list)\n",
    "    med1 = np.argwhere(sort_score_zero == np.percentile(sort_score_zero,50,interpolation='nearest'))\n",
    "    med1 = med1[0][0]\n",
    "    #print(med1)\n",
    "    firsthalf = sort_score_zero[0:med1+1]\n",
    "    lasthalf = sort_score_zero[med1+1:]\n",
    "    firsthalf = np.array(firsthalf)\n",
    "    lasthalf = np.array(lasthalf)\n",
    "    q1_index = np.argwhere(firsthalf == np.percentile(firsthalf,50,interpolation='nearest'))\n",
    "    #print(q1_index)\n",
    "    q1_index = q1_index[0][0]\n",
    "    q3_index = np.argwhere(lasthalf == np.percentile(lasthalf,50,interpolation='nearest'))\n",
    "    q3_index = q3_index[0][0]\n",
    "    q1 = firsthalf[q1_index]\n",
    "    q3 = lasthalf[q3_index]\n",
    "    #print(q1_index)\n",
    "    #print(q3_index)\n",
    "    IQR = q3 - q1\n",
    "    MaxT = q3 + 1.5 * IQR\n",
    "    MinT = q1 - 1.5 * IQR\n",
    "    return ((MaxT,MinT))"
   ]
  },
  {
   "cell_type": "code",
   "execution_count": 65,
   "id": "bdb0fb72",
   "metadata": {},
   "outputs": [
    {
     "name": "stdout",
     "output_type": "stream",
     "text": [
      "1000\n"
     ]
    }
   ],
   "source": [
    "print(len(score_eight))"
   ]
  },
  {
   "cell_type": "code",
   "execution_count": 66,
   "id": "d032439a",
   "metadata": {},
   "outputs": [],
   "source": [
    "MaxT1,MinT1 = boxplot(score_zero)\n",
    "MaxT2,MinT2 = boxplot(score_one)\n",
    "MaxT3,MinT3 = boxplot(score_two)\n",
    "MaxT4,MinT4 = boxplot(score_three)\n",
    "MaxT5,MinT5 = boxplot(score_four)\n",
    "MaxT6,MinT6 = boxplot(score_five)\n",
    "MaxT7,MinT7 = boxplot(score_six)\n",
    "MaxT8,MinT8 = boxplot(score_seven)\n",
    "MaxT9,MinT9 = boxplot(score_eight)"
   ]
  },
  {
   "cell_type": "code",
   "execution_count": 67,
   "id": "64012004",
   "metadata": {},
   "outputs": [],
   "source": [
    "outlier_label = []\n",
    "for i in range(0,end):\n",
    "    if clustering.labels_[i] == 0:\n",
    "        if (outlier_score[i] > MaxT1 or outlier_score[i] < MinT1):\n",
    "            outlier_label.append(0)\n",
    "        else:\n",
    "            outlier_label.append(1)\n",
    "    elif clustering.labels_[i] == 1:\n",
    "        if (outlier_score[i] > MaxT2 or outlier_score[i] < MinT2):\n",
    "            outlier_label.append(0)\n",
    "        else:\n",
    "            outlier_label.append(2)\n",
    "    elif clustering.labels_[i] == 2:\n",
    "        if (outlier_score[i] > MaxT3 or outlier_score[i] < MinT3):\n",
    "            outlier_label.append(0)\n",
    "        else:\n",
    "            outlier_label.append(3)\n",
    "    elif clustering.labels_[i] == 3:\n",
    "         if (outlier_score[i] > MaxT4 or outlier_score[i] < MinT4):\n",
    "            outlier_label.append(0)\n",
    "         else:\n",
    "            outlier_label.append(4)\n",
    "    elif clustering.labels_[i] == 8:\n",
    "        if (outlier_score[i] > MaxT9 or outlier_score[i] < MinT9):\n",
    "            outlier_label.append(0)\n",
    "        else:\n",
    "            outlier_label.append(9)\n",
    "    elif clustering.labels_[i] == 5:\n",
    "        if (outlier_score[i] > MaxT6 or outlier_score[i] < MinT6):\n",
    "            outlier_label.append(0)\n",
    "        else:\n",
    "            outlier_label.append(6)\n",
    "    elif clustering.labels_[i] == 6:\n",
    "        if (outlier_score[i] > MaxT7 or outlier_score[i] < MinT7):\n",
    "            outlier_label.append(0)\n",
    "        else:\n",
    "            outlier_label.append(7)\n",
    "    elif clustering.labels_[i] == 7:\n",
    "         if (outlier_score[i] > MaxT8 or outlier_score[i] < MinT8):\n",
    "            outlier_label.append(0)\n",
    "         else:\n",
    "            outlier_label.append(8)\n",
    "    elif clustering.labels_[i] == 4:\n",
    "        outlier_label.append(5)"
   ]
  },
  {
   "cell_type": "code",
   "execution_count": 68,
   "id": "2b24cb69",
   "metadata": {},
   "outputs": [
    {
     "name": "stdout",
     "output_type": "stream",
     "text": [
      "3773\n"
     ]
    }
   ],
   "source": [
    "print(outlier_label.count(0))"
   ]
  },
  {
   "cell_type": "code",
   "execution_count": 69,
   "id": "3e7de23a",
   "metadata": {},
   "outputs": [],
   "source": [
    "for i in range(0,end):\n",
    "    if outlier_label[i] == 0:\n",
    "        df.drop(i,axis=0,inplace =True)"
   ]
  },
  {
   "cell_type": "code",
   "execution_count": 70,
   "id": "1687607e",
   "metadata": {},
   "outputs": [],
   "source": [
    "df.to_csv(r'cicids_kmeans2.csv',encoding='utf-8',index=False)"
   ]
  },
  {
   "cell_type": "code",
   "execution_count": null,
   "id": "2e791f52",
   "metadata": {},
   "outputs": [],
   "source": []
  }
 ],
 "metadata": {
  "kernelspec": {
   "display_name": "Python 3",
   "language": "python",
   "name": "python3"
  },
  "language_info": {
   "codemirror_mode": {
    "name": "ipython",
    "version": 3
   },
   "file_extension": ".py",
   "mimetype": "text/x-python",
   "name": "python",
   "nbconvert_exporter": "python",
   "pygments_lexer": "ipython3",
   "version": "3.8.8"
  }
 },
 "nbformat": 4,
 "nbformat_minor": 5
}
