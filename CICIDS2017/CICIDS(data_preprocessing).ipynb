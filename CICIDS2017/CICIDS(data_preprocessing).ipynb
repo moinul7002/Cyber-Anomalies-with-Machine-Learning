{
 "cells": [
  {
   "cell_type": "code",
   "execution_count": 1,
   "metadata": {
    "executionInfo": {
     "elapsed": 972,
     "status": "ok",
     "timestamp": 1622830815272,
     "user": {
      "displayName": "Rony Chowdhury",
      "photoUrl": "https://lh3.googleusercontent.com/a-/AOh14GhFTjd1SSV-Q0tH4D2H9_H_qe1w3YuTsvWI1fDP=s64",
      "userId": "14877343126343374754"
     },
     "user_tz": -360
    },
    "id": "1uW0UL2Tu3W2"
   },
   "outputs": [],
   "source": [
    "import pandas as pd\n",
    "import numpy as np\n",
    "import matplotlib.pyplot as plt\n",
    "import seaborn as sns "
   ]
  },
  {
   "cell_type": "code",
   "execution_count": 2,
   "metadata": {
    "colab": {
     "base_uri": "https://localhost:8080/"
    },
    "executionInfo": {
     "elapsed": 20498,
     "status": "ok",
     "timestamp": 1622830837750,
     "user": {
      "displayName": "Rony Chowdhury",
      "photoUrl": "https://lh3.googleusercontent.com/a-/AOh14GhFTjd1SSV-Q0tH4D2H9_H_qe1w3YuTsvWI1fDP=s64",
      "userId": "14877343126343374754"
     },
     "user_tz": -360
    },
    "id": "LlQA_yPwu8On",
    "outputId": "177d51fc-c9fe-41d0-d046-0a3f1dc4dbc7"
   },
   "outputs": [
    {
     "name": "stdout",
     "output_type": "stream",
     "text": [
      "Mounted at /content/gdrive\n"
     ]
    }
   ],
   "source": [
    "from google.colab import drive\n",
    "drive.mount('/content/gdrive')"
   ]
  },
  {
   "cell_type": "code",
   "execution_count": 3,
   "metadata": {
    "colab": {
     "base_uri": "https://localhost:8080/"
    },
    "executionInfo": {
     "elapsed": 709,
     "status": "ok",
     "timestamp": 1622830841819,
     "user": {
      "displayName": "Rony Chowdhury",
      "photoUrl": "https://lh3.googleusercontent.com/a-/AOh14GhFTjd1SSV-Q0tH4D2H9_H_qe1w3YuTsvWI1fDP=s64",
      "userId": "14877343126343374754"
     },
     "user_tz": -360
    },
    "id": "lRq5VdpIvANA",
    "outputId": "1521cfbf-c5ca-48b5-d0aa-312c0dd38eb2"
   },
   "outputs": [
    {
     "name": "stdout",
     "output_type": "stream",
     "text": [
      "/content/gdrive/My Drive/Colab Notebooks/Journal_2/CICDS DATASET\n"
     ]
    }
   ],
   "source": [
    "cd gdrive/My Drive/Colab Notebooks/Journal_2/CICDS DATASET"
   ]
  },
  {
   "cell_type": "code",
   "execution_count": 22,
   "metadata": {
    "executionInfo": {
     "elapsed": 15055,
     "status": "ok",
     "timestamp": 1622831754929,
     "user": {
      "displayName": "Rony Chowdhury",
      "photoUrl": "https://lh3.googleusercontent.com/a-/AOh14GhFTjd1SSV-Q0tH4D2H9_H_qe1w3YuTsvWI1fDP=s64",
      "userId": "14877343126343374754"
     },
     "user_tz": -360
    },
    "id": "IRebp8teSX7E"
   },
   "outputs": [],
   "source": [
    "dataset_1 = pd.read_csv('data1.csv')\n",
    "dataset_2 = pd.read_csv('data2.csv')\n",
    "dataset_3 = pd.read_csv('data3.csv')\n",
    "dataset_4 = pd.read_csv('data4.csv')\n",
    "dataset_5 = pd.read_csv('data5.csv')\n",
    "dataset_6 = pd.read_csv('data6.csv')"
   ]
  },
  {
   "cell_type": "code",
   "execution_count": 23,
   "metadata": {
    "executionInfo": {
     "elapsed": 1022,
     "status": "ok",
     "timestamp": 1622831846173,
     "user": {
      "displayName": "Rony Chowdhury",
      "photoUrl": "https://lh3.googleusercontent.com/a-/AOh14GhFTjd1SSV-Q0tH4D2H9_H_qe1w3YuTsvWI1fDP=s64",
      "userId": "14877343126343374754"
     },
     "user_tz": -360
    },
    "id": "WxetiPMMT18v"
   },
   "outputs": [],
   "source": [
    "merge_dataset = pd.concat([dataset_1, dataset_2, dataset_3, dataset_4, dataset_5, dataset_6])"
   ]
  },
  {
   "cell_type": "code",
   "execution_count": 25,
   "metadata": {
    "executionInfo": {
     "elapsed": 82564,
     "status": "ok",
     "timestamp": 1622832049465,
     "user": {
      "displayName": "Rony Chowdhury",
      "photoUrl": "https://lh3.googleusercontent.com/a-/AOh14GhFTjd1SSV-Q0tH4D2H9_H_qe1w3YuTsvWI1fDP=s64",
      "userId": "14877343126343374754"
     },
     "user_tz": -360
    },
    "id": "NsBK84e2UM05"
   },
   "outputs": [],
   "source": [
    "merge_dataset.to_csv(r'cicds_data.csv', encoding='utf-8', index = False)"
   ]
  },
  {
   "cell_type": "code",
   "execution_count": 26,
   "metadata": {
    "executionInfo": {
     "elapsed": 20198,
     "status": "ok",
     "timestamp": 1622833140750,
     "user": {
      "displayName": "Rony Chowdhury",
      "photoUrl": "https://lh3.googleusercontent.com/a-/AOh14GhFTjd1SSV-Q0tH4D2H9_H_qe1w3YuTsvWI1fDP=s64",
      "userId": "14877343126343374754"
     },
     "user_tz": -360
    },
    "id": "ePj6UVe1YyCt"
   },
   "outputs": [],
   "source": [
    "dataset = pd.read_csv('cicds_data.csv')"
   ]
  },
  {
   "cell_type": "code",
   "execution_count": 27,
   "metadata": {
    "colab": {
     "base_uri": "https://localhost:8080/"
    },
    "executionInfo": {
     "elapsed": 460,
     "status": "ok",
     "timestamp": 1622833183052,
     "user": {
      "displayName": "Rony Chowdhury",
      "photoUrl": "https://lh3.googleusercontent.com/a-/AOh14GhFTjd1SSV-Q0tH4D2H9_H_qe1w3YuTsvWI1fDP=s64",
      "userId": "14877343126343374754"
     },
     "user_tz": -360
    },
    "id": "dCgUS8d4ZELw",
    "outputId": "2a42b324-5bf8-45f9-fbd3-943404336412"
   },
   "outputs": [
    {
     "name": "stdout",
     "output_type": "stream",
     "text": [
      "<class 'pandas.core.frame.DataFrame'>\n",
      "RangeIndex: 2075080 entries, 0 to 2075079\n",
      "Columns: 79 entries,  Destination Port to  Label\n",
      "dtypes: float64(24), int64(54), object(1)\n",
      "memory usage: 1.2+ GB\n"
     ]
    }
   ],
   "source": [
    "dataset.info(verbose=False)"
   ]
  },
  {
   "cell_type": "code",
   "execution_count": 30,
   "metadata": {
    "colab": {
     "base_uri": "https://localhost:8080/",
     "height": 309
    },
    "executionInfo": {
     "elapsed": 2963,
     "status": "ok",
     "timestamp": 1622833381747,
     "user": {
      "displayName": "Rony Chowdhury",
      "photoUrl": "https://lh3.googleusercontent.com/a-/AOh14GhFTjd1SSV-Q0tH4D2H9_H_qe1w3YuTsvWI1fDP=s64",
      "userId": "14877343126343374754"
     },
     "user_tz": -360
    },
    "id": "XnwSSO52Zcsf",
    "outputId": "ae745d21-59e1-4e8e-f946-72581d4d8adf"
   },
   "outputs": [
    {
     "data": {
      "text/plain": [
       "<matplotlib.axes._subplots.AxesSubplot at 0x7fd78337cdd0>"
      ]
     },
     "execution_count": 30,
     "metadata": {
      "tags": []
     },
     "output_type": "execute_result"
    },
    {
     "data": {
      "image/png": "[encoded data removed]",
      "text/plain": [
       "<Figure size 1080x288 with 1 Axes>"
      ]
     },
     "metadata": {
      "needs_background": "light",
      "tags": []
     },
     "output_type": "display_data"
    }
   ],
   "source": [
    "plt.figure(figsize=(15,4))\n",
    "sns.histplot(dataset[' Label'])"
   ]
  },
  {
   "cell_type": "code",
   "execution_count": 32,
   "metadata": {
    "executionInfo": {
     "elapsed": 342,
     "status": "ok",
     "timestamp": 1622833713208,
     "user": {
      "displayName": "Rony Chowdhury",
      "photoUrl": "https://lh3.googleusercontent.com/a-/AOh14GhFTjd1SSV-Q0tH4D2H9_H_qe1w3YuTsvWI1fDP=s64",
      "userId": "14877343126343374754"
     },
     "user_tz": -360
    },
    "id": "rZ9Y68qJaHK7"
   },
   "outputs": [],
   "source": [
    "columns = ['Destination Port', 'Flow Duration', 'Total Fwd Packets',\n",
    "       'Total Backward Packets', 'Total Length of Fwd Packets',\n",
    "       'Total Length of Bwd Packets', 'Fwd Packet Length Max',\n",
    "       'Fwd Packet Length Min', 'Fwd Packet Length Mean',\n",
    "       'Fwd Packet Length Std', 'Bwd Packet Length Max',\n",
    "       'Bwd Packet Length Min', 'Bwd Packet Length Mean',\n",
    "       'Bwd Packet Length Std', 'Flow Bytes/s', 'Flow Packets/s',\n",
    "       'Flow IAT Mean', 'Flow IAT Std', 'Flow IAT Max', 'Flow IAT Min',\n",
    "       'Fwd IAT Total', 'Fwd IAT Mean', 'Fwd IAT Std', 'Fwd IAT Max',\n",
    "       'Fwd IAT Min', 'Bwd IAT Total', 'Bwd IAT Mean', 'Bwd IAT Std',\n",
    "       'Bwd IAT Max', 'Bwd IAT Min', 'Fwd PSH Flags', 'Bwd PSH Flags',\n",
    "       'Fwd URG Flags', 'Bwd URG Flags', 'Fwd Header Length',\n",
    "       'Bwd Header Length', 'Fwd Packets/s', 'Bwd Packets/s',\n",
    "       'Min Packet Length', 'Max Packet Length', 'Packet Length Mean',\n",
    "       'Packet Length Std', 'Packet Length Variance', 'FIN Flag Count',\n",
    "       'SYN Flag Count', 'RST Flag Count', 'PSH Flag Count',\n",
    "       'ACK Flag Count', 'URG Flag Count', 'CWE Flag Count',\n",
    "       'ECE Flag Count', 'Down/Up Ratio', 'Average Packet Size',\n",
    "       'Avg Fwd Segment Size', 'Avg Bwd Segment Size',\n",
    "       'Fwd Header Length.1', 'Fwd Avg Bytes/Bulk', 'Fwd Avg Packets/Bulk',\n",
    "       'Fwd Avg Bulk Rate', 'Bwd Avg Bytes/Bulk', 'Bwd Avg Packets/Bulk',\n",
    "       'Bwd Avg Bulk Rate', 'Subflow Fwd Packets', 'Subflow Fwd Bytes',\n",
    "       'Subflow Bwd Packets', 'Subflow Bwd Bytes', 'Init_Win_bytes_forward',\n",
    "       'Init_Win_bytes_backward', 'act_data_pkt_fwd',\n",
    "       'min_seg_size_forward', 'Active Mean', 'Active Std', 'Active Max',\n",
    "       'Active Min', 'Idle Mean', 'Idle Std', 'Idle Max', 'Idle Min',\n",
    "       'Label']\n"
   ]
  },
  {
   "cell_type": "code",
   "execution_count": 33,
   "metadata": {
    "executionInfo": {
     "elapsed": 817,
     "status": "ok",
     "timestamp": 1622833730536,
     "user": {
      "displayName": "Rony Chowdhury",
      "photoUrl": "https://lh3.googleusercontent.com/a-/AOh14GhFTjd1SSV-Q0tH4D2H9_H_qe1w3YuTsvWI1fDP=s64",
      "userId": "14877343126343374754"
     },
     "user_tz": -360
    },
    "id": "SdYpZMESZkLJ"
   },
   "outputs": [],
   "source": [
    "dataset.columns = columns"
   ]
  },
  {
   "cell_type": "code",
   "execution_count": 36,
   "metadata": {
    "executionInfo": {
     "elapsed": 85303,
     "status": "ok",
     "timestamp": 1622833924700,
     "user": {
      "displayName": "Rony Chowdhury",
      "photoUrl": "https://lh3.googleusercontent.com/a-/AOh14GhFTjd1SSV-Q0tH4D2H9_H_qe1w3YuTsvWI1fDP=s64",
      "userId": "14877343126343374754"
     },
     "user_tz": -360
    },
    "id": "oQtBCpvIbY5d"
   },
   "outputs": [],
   "source": [
    "dataset.to_csv(r'cicds_data1.csv', encoding = 'utf-8', index=False)"
   ]
  },
  {
   "cell_type": "code",
   "execution_count": 37,
   "metadata": {
    "executionInfo": {
     "elapsed": 18774,
     "status": "ok",
     "timestamp": 1622834005516,
     "user": {
      "displayName": "Rony Chowdhury",
      "photoUrl": "https://lh3.googleusercontent.com/a-/AOh14GhFTjd1SSV-Q0tH4D2H9_H_qe1w3YuTsvWI1fDP=s64",
      "userId": "14877343126343374754"
     },
     "user_tz": -360
    },
    "id": "WMazLgTScP0E"
   },
   "outputs": [],
   "source": [
    "df = pd.read_csv('cicds_data1.csv')"
   ]
  },
  {
   "cell_type": "code",
   "execution_count": null,
   "metadata": {
    "colab": {
     "base_uri": "https://localhost:8080/"
    },
    "id": "uWqG7TDHcXi9",
    "outputId": "895ca168-d3a5-4b2a-a19b-9cba8043097a"
   },
   "outputs": [
    {
     "name": "stderr",
     "output_type": "stream",
     "text": [
      "/usr/local/lib/python3.7/dist-packages/ipykernel_launcher.py:4: SettingWithCopyWarning: \n",
      "A value is trying to be set on a copy of a slice from a DataFrame\n",
      "\n",
      "See the caveats in the documentation: https://pandas.pydata.org/pandas-docs/stable/user_guide/indexing.html#returning-a-view-versus-a-copy\n",
      "  after removing the cwd from sys.path.\n",
      "/usr/local/lib/python3.7/dist-packages/ipykernel_launcher.py:6: SettingWithCopyWarning: \n",
      "A value is trying to be set on a copy of a slice from a DataFrame\n",
      "\n",
      "See the caveats in the documentation: https://pandas.pydata.org/pandas-docs/stable/user_guide/indexing.html#returning-a-view-versus-a-copy\n",
      "  \n"
     ]
    }
   ],
   "source": [
    "i = 0\n",
    "for each in df['Label']:\n",
    "  if each == \"BENIGN\":\n",
    "    df['Label'][i] = 0\n",
    "  else:\n",
    "    df['Label'][i] = 1\n",
    "  i = i + 1"
   ]
  },
  {
   "cell_type": "code",
   "execution_count": null,
   "metadata": {
    "id": "caEhys8wxXWV"
   },
   "outputs": [],
   "source": [
    "columns = dataset.columns[0:10000]"
   ]
  },
  {
   "cell_type": "code",
   "execution_count": null,
   "metadata": {
    "id": "npmzs3shu3XK"
   },
   "outputs": [],
   "source": [
    "df = dataset.drop(columns=columns, axis = 1)"
   ]
  },
  {
   "cell_type": "code",
   "execution_count": null,
   "metadata": {
    "id": "AnUmpTy30VcA"
   },
   "outputs": [],
   "source": [
    "df = df.drop(labels = ['Subject'], axis = 1)"
   ]
  },
  {
   "cell_type": "code",
   "execution_count": null,
   "metadata": {
    "colab": {
     "base_uri": "https://localhost:8080/",
     "height": 202
    },
    "executionInfo": {
     "elapsed": 702,
     "status": "ok",
     "timestamp": 1622573361083,
     "user": {
      "displayName": "Rony Chowdhury",
      "photoUrl": "https://lh3.googleusercontent.com/a-/AOh14GhFTjd1SSV-Q0tH4D2H9_H_qe1w3YuTsvWI1fDP=s64",
      "userId": "14877343126343374754"
     },
     "user_tz": -360
    },
    "id": "c7n2QjI30WaA",
    "outputId": "8a28c489-da50-4e41-aead-8b8ac7759b64"
   },
   "outputs": [
    {
     "data": {
      "text/html": [
       "<div>\n",
       "<style scoped>\n",
       "    .dataframe tbody tr th:only-of-type {\n",
       "        vertical-align: middle;\n",
       "    }\n",
       "\n",
       "    .dataframe tbody tr th {\n",
       "        vertical-align: top;\n",
       "    }\n",
       "\n",
       "    .dataframe thead th {\n",
       "        text-align: right;\n",
       "    }\n",
       "</style>\n",
       "<table border=\"1\" class=\"dataframe\">\n",
       "  <thead>\n",
       "    <tr style=\"text-align: right;\">\n",
       "      <th></th>\n",
       "      <th>MAV</th>\n",
       "      <th>MedF</th>\n",
       "      <th>Muscle</th>\n",
       "      <th>Signal</th>\n",
       "      <th>Task</th>\n",
       "      <th>Target</th>\n",
       "    </tr>\n",
       "  </thead>\n",
       "  <tbody>\n",
       "    <tr>\n",
       "      <th>0</th>\n",
       "      <td>0.049547</td>\n",
       "      <td>89.833333</td>\n",
       "      <td>1</td>\n",
       "      <td>1</td>\n",
       "      <td>1</td>\n",
       "      <td>0</td>\n",
       "    </tr>\n",
       "    <tr>\n",
       "      <th>1</th>\n",
       "      <td>0.043734</td>\n",
       "      <td>79.666667</td>\n",
       "      <td>2</td>\n",
       "      <td>1</td>\n",
       "      <td>1</td>\n",
       "      <td>0</td>\n",
       "    </tr>\n",
       "    <tr>\n",
       "      <th>2</th>\n",
       "      <td>0.020549</td>\n",
       "      <td>76.500000</td>\n",
       "      <td>3</td>\n",
       "      <td>1</td>\n",
       "      <td>1</td>\n",
       "      <td>0</td>\n",
       "    </tr>\n",
       "    <tr>\n",
       "      <th>3</th>\n",
       "      <td>0.063631</td>\n",
       "      <td>91.333333</td>\n",
       "      <td>4</td>\n",
       "      <td>1</td>\n",
       "      <td>1</td>\n",
       "      <td>0</td>\n",
       "    </tr>\n",
       "    <tr>\n",
       "      <th>4</th>\n",
       "      <td>0.021106</td>\n",
       "      <td>73.666667</td>\n",
       "      <td>5</td>\n",
       "      <td>1</td>\n",
       "      <td>1</td>\n",
       "      <td>0</td>\n",
       "    </tr>\n",
       "  </tbody>\n",
       "</table>\n",
       "</div>"
      ],
      "text/plain": [
       "        MAV       MedF  Muscle  Signal  Task  Target\n",
       "0  0.049547  89.833333       1       1     1       0\n",
       "1  0.043734  79.666667       2       1     1       0\n",
       "2  0.020549  76.500000       3       1     1       0\n",
       "3  0.063631  91.333333       4       1     1       0\n",
       "4  0.021106  73.666667       5       1     1       0"
      ]
     },
     "execution_count": 8,
     "metadata": {
      "tags": []
     },
     "output_type": "execute_result"
    }
   ],
   "source": [
    "df.head()"
   ]
  },
  {
   "cell_type": "code",
   "execution_count": null,
   "metadata": {
    "colab": {
     "base_uri": "https://localhost:8080/",
     "height": 283
    },
    "executionInfo": {
     "elapsed": 645,
     "status": "ok",
     "timestamp": 1622566803452,
     "user": {
      "displayName": "Rony Chowdhury",
      "photoUrl": "https://lh3.googleusercontent.com/a-/AOh14GhFTjd1SSV-Q0tH4D2H9_H_qe1w3YuTsvWI1fDP=s64",
      "userId": "14877343126343374754"
     },
     "user_tz": -360
    },
    "id": "smkLxVwk0rQX",
    "outputId": "f54f303a-ae2c-443a-92c5-738848fe27cc"
   },
   "outputs": [
    {
     "data": {
      "text/plain": [
       "<matplotlib.axes._subplots.AxesSubplot at 0x7f57ce4fae90>"
      ]
     },
     "execution_count": 10,
     "metadata": {
      "tags": []
     },
     "output_type": "execute_result"
    },
    {
     "data": {
      "image/png": "[encoded data removed]",
      "text/plain": [
       "<Figure size 432x288 with 1 Axes>"
      ]
     },
     "metadata": {
      "needs_background": "light",
      "tags": []
     },
     "output_type": "display_data"
    }
   ],
   "source": [
    "sns.heatmap(df.isnull(), yticklabels=False,cbar=False, cmap='viridis')"
   ]
  },
  {
   "cell_type": "code",
   "execution_count": null,
   "metadata": {
    "colab": {
     "base_uri": "https://localhost:8080/"
    },
    "executionInfo": {
     "elapsed": 619,
     "status": "ok",
     "timestamp": 1622566941158,
     "user": {
      "displayName": "Rony Chowdhury",
      "photoUrl": "https://lh3.googleusercontent.com/a-/AOh14GhFTjd1SSV-Q0tH4D2H9_H_qe1w3YuTsvWI1fDP=s64",
      "userId": "14877343126343374754"
     },
     "user_tz": -360
    },
    "id": "PYXKfc7OhJJ6",
    "outputId": "2585f709-3e0b-4236-cd4c-a5c7c70ef1b1"
   },
   "outputs": [
    {
     "name": "stdout",
     "output_type": "stream",
     "text": [
      "<class 'pandas.core.frame.DataFrame'>\n",
      "RangeIndex: 3184 entries, 0 to 3183\n",
      "Data columns (total 6 columns):\n",
      " #   Column  Non-Null Count  Dtype  \n",
      "---  ------  --------------  -----  \n",
      " 0   MAV     3184 non-null   float64\n",
      " 1   MedF    3184 non-null   float64\n",
      " 2   Muscle  3184 non-null   int64  \n",
      " 3   Signal  3184 non-null   int64  \n",
      " 4   Task    3184 non-null   int64  \n",
      " 5   Target  3184 non-null   int64  \n",
      "dtypes: float64(2), int64(4)\n",
      "memory usage: 149.4 KB\n"
     ]
    }
   ],
   "source": [
    "df.info()"
   ]
  },
  {
   "cell_type": "code",
   "execution_count": null,
   "metadata": {
    "id": "TCYEkXY_hqu8"
   },
   "outputs": [],
   "source": [
    "from sklearn.preprocessing import StandardScaler\n",
    "scaler = StandardScaler()\n",
    "scaler.fit(df[['MAV','MedF']])\n",
    "scaled_features = scaler.transform(df[['MAV','MedF']])"
   ]
  },
  {
   "cell_type": "code",
   "execution_count": null,
   "metadata": {
    "id": "eQypqvIM9pKf"
   },
   "outputs": [],
   "source": [
    "from sklearn.preprocessing import MinMaxScaler\n",
    "scaler = MinMaxScaler()\n",
    "scaler.fit(df[['MAV','MedF']])\n",
    "scaled_features = scaler.transform(df[['MAV','MedF']])"
   ]
  },
  {
   "cell_type": "code",
   "execution_count": null,
   "metadata": {
    "id": "mUWxzwOAiuUF"
   },
   "outputs": [],
   "source": [
    "feature_1 = pd.DataFrame(scaled_features, columns = ['MAV','MedF'])\n",
    "feature_2 = df[['Muscle','Signal','Task']]"
   ]
  },
  {
   "cell_type": "code",
   "execution_count": null,
   "metadata": {
    "id": "JpE9gnYjiwoX"
   },
   "outputs": [],
   "source": [
    "features = pd.concat([feature_1,feature_2],axis=1)\n",
    "target = df['Target']"
   ]
  },
  {
   "cell_type": "code",
   "execution_count": null,
   "metadata": {
    "colab": {
     "base_uri": "https://localhost:8080/",
     "height": 297
    },
    "executionInfo": {
     "elapsed": 801,
     "status": "ok",
     "timestamp": 1622573912964,
     "user": {
      "displayName": "Rony Chowdhury",
      "photoUrl": "https://lh3.googleusercontent.com/a-/AOh14GhFTjd1SSV-Q0tH4D2H9_H_qe1w3YuTsvWI1fDP=s64",
      "userId": "14877343126343374754"
     },
     "user_tz": -360
    },
    "id": "Xt8WnZTSjlYU",
    "outputId": "f1893438-768f-4311-c50a-93305a68303c"
   },
   "outputs": [
    {
     "data": {
      "text/plain": [
       "<matplotlib.axes._subplots.AxesSubplot at 0x7f8c5aafadd0>"
      ]
     },
     "execution_count": 24,
     "metadata": {
      "tags": []
     },
     "output_type": "execute_result"
    },
    {
     "data": {
      "image/png": "[encoded data removed]",
      "text/plain": [
       "<Figure size 432x288 with 1 Axes>"
      ]
     },
     "metadata": {
      "needs_background": "light",
      "tags": []
     },
     "output_type": "display_data"
    }
   ],
   "source": [
    "sns.histplot(target)"
   ]
  },
  {
   "cell_type": "code",
   "execution_count": null,
   "metadata": {
    "id": "kFfxsNTmjnYK"
   },
   "outputs": [],
   "source": [
    "df = pd.concat([features,target], axis = 1)"
   ]
  },
  {
   "cell_type": "code",
   "execution_count": null,
   "metadata": {
    "colab": {
     "base_uri": "https://localhost:8080/",
     "height": 415
    },
    "executionInfo": {
     "elapsed": 368,
     "status": "ok",
     "timestamp": 1622574344397,
     "user": {
      "displayName": "Rony Chowdhury",
      "photoUrl": "https://lh3.googleusercontent.com/a-/AOh14GhFTjd1SSV-Q0tH4D2H9_H_qe1w3YuTsvWI1fDP=s64",
      "userId": "14877343126343374754"
     },
     "user_tz": -360
    },
    "id": "Lgu8ZIlClbi_",
    "outputId": "b0c04016-c565-4a84-ea61-9b81fe38f5e7"
   },
   "outputs": [
    {
     "data": {
      "text/html": [
       "<div>\n",
       "<style scoped>\n",
       "    .dataframe tbody tr th:only-of-type {\n",
       "        vertical-align: middle;\n",
       "    }\n",
       "\n",
       "    .dataframe tbody tr th {\n",
       "        vertical-align: top;\n",
       "    }\n",
       "\n",
       "    .dataframe thead th {\n",
       "        text-align: right;\n",
       "    }\n",
       "</style>\n",
       "<table border=\"1\" class=\"dataframe\">\n",
       "  <thead>\n",
       "    <tr style=\"text-align: right;\">\n",
       "      <th></th>\n",
       "      <th>MAV</th>\n",
       "      <th>MedF</th>\n",
       "      <th>Muscle</th>\n",
       "      <th>Signal</th>\n",
       "      <th>Task</th>\n",
       "      <th>Target</th>\n",
       "    </tr>\n",
       "  </thead>\n",
       "  <tbody>\n",
       "    <tr>\n",
       "      <th>0</th>\n",
       "      <td>0.270426</td>\n",
       "      <td>0.485521</td>\n",
       "      <td>1</td>\n",
       "      <td>1</td>\n",
       "      <td>1</td>\n",
       "      <td>0</td>\n",
       "    </tr>\n",
       "    <tr>\n",
       "      <th>1</th>\n",
       "      <td>0.237437</td>\n",
       "      <td>0.335182</td>\n",
       "      <td>2</td>\n",
       "      <td>1</td>\n",
       "      <td>1</td>\n",
       "      <td>0</td>\n",
       "    </tr>\n",
       "    <tr>\n",
       "      <th>2</th>\n",
       "      <td>0.105866</td>\n",
       "      <td>0.288355</td>\n",
       "      <td>3</td>\n",
       "      <td>1</td>\n",
       "      <td>1</td>\n",
       "      <td>0</td>\n",
       "    </tr>\n",
       "    <tr>\n",
       "      <th>3</th>\n",
       "      <td>0.350348</td>\n",
       "      <td>0.507702</td>\n",
       "      <td>4</td>\n",
       "      <td>1</td>\n",
       "      <td>1</td>\n",
       "      <td>0</td>\n",
       "    </tr>\n",
       "    <tr>\n",
       "      <th>4</th>\n",
       "      <td>0.109027</td>\n",
       "      <td>0.246457</td>\n",
       "      <td>5</td>\n",
       "      <td>1</td>\n",
       "      <td>1</td>\n",
       "      <td>0</td>\n",
       "    </tr>\n",
       "    <tr>\n",
       "      <th>...</th>\n",
       "      <td>...</td>\n",
       "      <td>...</td>\n",
       "      <td>...</td>\n",
       "      <td>...</td>\n",
       "      <td>...</td>\n",
       "      <td>...</td>\n",
       "    </tr>\n",
       "    <tr>\n",
       "      <th>3179</th>\n",
       "      <td>0.214660</td>\n",
       "      <td>0.290203</td>\n",
       "      <td>4</td>\n",
       "      <td>15</td>\n",
       "      <td>27</td>\n",
       "      <td>0</td>\n",
       "    </tr>\n",
       "    <tr>\n",
       "      <th>3180</th>\n",
       "      <td>0.118608</td>\n",
       "      <td>0.216266</td>\n",
       "      <td>5</td>\n",
       "      <td>15</td>\n",
       "      <td>27</td>\n",
       "      <td>0</td>\n",
       "    </tr>\n",
       "    <tr>\n",
       "      <th>3181</th>\n",
       "      <td>0.039510</td>\n",
       "      <td>0.476895</td>\n",
       "      <td>6</td>\n",
       "      <td>15</td>\n",
       "      <td>27</td>\n",
       "      <td>0</td>\n",
       "    </tr>\n",
       "    <tr>\n",
       "      <th>3182</th>\n",
       "      <td>0.039556</td>\n",
       "      <td>0.190388</td>\n",
       "      <td>7</td>\n",
       "      <td>15</td>\n",
       "      <td>27</td>\n",
       "      <td>3</td>\n",
       "    </tr>\n",
       "    <tr>\n",
       "      <th>3183</th>\n",
       "      <td>0.004950</td>\n",
       "      <td>0.184843</td>\n",
       "      <td>8</td>\n",
       "      <td>15</td>\n",
       "      <td>27</td>\n",
       "      <td>0</td>\n",
       "    </tr>\n",
       "  </tbody>\n",
       "</table>\n",
       "<p>3184 rows × 6 columns</p>\n",
       "</div>"
      ],
      "text/plain": [
       "           MAV      MedF  Muscle  Signal  Task  Target\n",
       "0     0.270426  0.485521       1       1     1       0\n",
       "1     0.237437  0.335182       2       1     1       0\n",
       "2     0.105866  0.288355       3       1     1       0\n",
       "3     0.350348  0.507702       4       1     1       0\n",
       "4     0.109027  0.246457       5       1     1       0\n",
       "...        ...       ...     ...     ...   ...     ...\n",
       "3179  0.214660  0.290203       4      15    27       0\n",
       "3180  0.118608  0.216266       5      15    27       0\n",
       "3181  0.039510  0.476895       6      15    27       0\n",
       "3182  0.039556  0.190388       7      15    27       3\n",
       "3183  0.004950  0.184843       8      15    27       0\n",
       "\n",
       "[3184 rows x 6 columns]"
      ]
     },
     "execution_count": 32,
     "metadata": {
      "tags": []
     },
     "output_type": "execute_result"
    }
   ],
   "source": [
    "df"
   ]
  },
  {
   "cell_type": "code",
   "execution_count": null,
   "metadata": {
    "id": "DKY_3MQnlctb"
   },
   "outputs": [],
   "source": [
    "new = df.to_csv(r'pre_chris.csv',encoding='utf-8', index = False)"
   ]
  },
  {
   "cell_type": "code",
   "execution_count": null,
   "metadata": {
    "id": "APqEFQXFl4rT"
   },
   "outputs": [],
   "source": [
    "dataset_1 = pd.read_csv('pre_chris.csv')"
   ]
  },
  {
   "cell_type": "code",
   "execution_count": null,
   "metadata": {
    "colab": {
     "base_uri": "https://localhost:8080/",
     "height": 297
    },
    "executionInfo": {
     "elapsed": 408,
     "status": "ok",
     "timestamp": 1622654967742,
     "user": {
      "displayName": "Rony Chowdhury",
      "photoUrl": "https://lh3.googleusercontent.com/a-/AOh14GhFTjd1SSV-Q0tH4D2H9_H_qe1w3YuTsvWI1fDP=s64",
      "userId": "14877343126343374754"
     },
     "user_tz": -360
    },
    "id": "w_8dfpHoxW8y",
    "outputId": "6dcda132-214a-4c10-db45-0dc05013c56c"
   },
   "outputs": [
    {
     "data": {
      "text/plain": [
       "<matplotlib.axes._subplots.AxesSubplot at 0x7fd7ec8c1890>"
      ]
     },
     "execution_count": 7,
     "metadata": {
      "tags": []
     },
     "output_type": "execute_result"
    },
    {
     "data": {
      "image/png": "[encoded data removed]",
      "text/plain": [
       "<Figure size 432x288 with 1 Axes>"
      ]
     },
     "metadata": {
      "needs_background": "light",
      "tags": []
     },
     "output_type": "display_data"
    }
   ],
   "source": [
    "sns.histplot(dataset_1['Target'])"
   ]
  },
  {
   "cell_type": "code",
   "execution_count": null,
   "metadata": {
    "colab": {
     "base_uri": "https://localhost:8080/"
    },
    "executionInfo": {
     "elapsed": 361,
     "status": "ok",
     "timestamp": 1622655065706,
     "user": {
      "displayName": "Rony Chowdhury",
      "photoUrl": "https://lh3.googleusercontent.com/a-/AOh14GhFTjd1SSV-Q0tH4D2H9_H_qe1w3YuTsvWI1fDP=s64",
      "userId": "14877343126343374754"
     },
     "user_tz": -360
    },
    "id": "2c-LWz_Cxdv4",
    "outputId": "f00fe6fb-3e75-4839-dafe-63b110e43fcb"
   },
   "outputs": [
    {
     "data": {
      "text/plain": [
       "0    1821\n",
       "1     453\n",
       "3     426\n",
       "4     259\n",
       "2     225\n",
       "Name: Target, dtype: int64"
      ]
     },
     "execution_count": 9,
     "metadata": {
      "tags": []
     },
     "output_type": "execute_result"
    }
   ],
   "source": [
    "dataset_1.Target.value_counts()"
   ]
  },
  {
   "cell_type": "code",
   "execution_count": null,
   "metadata": {
    "id": "SntMwxZNyAMt"
   },
   "outputs": [],
   "source": [
    "df_class_0 = dataset_1[dataset_1['Target'] == 0]\n",
    "df_class_others = dataset_1[dataset_1['Target'] != 0]"
   ]
  },
  {
   "cell_type": "code",
   "execution_count": null,
   "metadata": {
    "colab": {
     "base_uri": "https://localhost:8080/"
    },
    "executionInfo": {
     "elapsed": 10,
     "status": "ok",
     "timestamp": 1622655272839,
     "user": {
      "displayName": "Rony Chowdhury",
      "photoUrl": "https://lh3.googleusercontent.com/a-/AOh14GhFTjd1SSV-Q0tH4D2H9_H_qe1w3YuTsvWI1fDP=s64",
      "userId": "14877343126343374754"
     },
     "user_tz": -360
    },
    "id": "qC4SbYbIyPRs",
    "outputId": "a02f4f83-d21c-48a4-d3dc-3ab01bc6b191"
   },
   "outputs": [
    {
     "data": {
      "text/plain": [
       "(1363, 6)"
      ]
     },
     "execution_count": 17,
     "metadata": {
      "tags": []
     },
     "output_type": "execute_result"
    }
   ],
   "source": [
    "df_class_others.shape"
   ]
  },
  {
   "cell_type": "code",
   "execution_count": null,
   "metadata": {
    "id": "sklAc7eTyTB5"
   },
   "outputs": [],
   "source": [
    "df_class_0_under = df_class_0.sample(500)"
   ]
  },
  {
   "cell_type": "code",
   "execution_count": null,
   "metadata": {
    "id": "L95d3SoDy4j1"
   },
   "outputs": [],
   "source": [
    "merge_df = pd.concat([df_class_0_under, df_class_others], axis = 0)"
   ]
  },
  {
   "cell_type": "code",
   "execution_count": null,
   "metadata": {
    "id": "VnSThvLRzMVy"
   },
   "outputs": [],
   "source": [
    "new = merge_df.to_csv(r'pre_chris_under.csv',encoding='utf-8', index = False)"
   ]
  },
  {
   "cell_type": "markdown",
   "metadata": {
    "id": "a9F7Nw9B3_9o"
   },
   "source": [
    "**OVERSAMPLING**"
   ]
  },
  {
   "cell_type": "code",
   "execution_count": null,
   "metadata": {
    "id": "Df8_C30M4GAr"
   },
   "outputs": [],
   "source": [
    "df_class_0 = dataset_1[dataset_1['Target'] == 0]\n",
    "df_class_1 = dataset_1[dataset_1['Target'] == 1]\n",
    "df_class_2 = dataset_1[dataset_1['Target'] == 2]\n",
    "df_class_3 = dataset_1[dataset_1['Target'] == 3]\n",
    "df_class_4 = dataset_1[dataset_1['Target'] == 4]"
   ]
  },
  {
   "cell_type": "code",
   "execution_count": null,
   "metadata": {
    "id": "IZ-gR0KQ4cGn"
   },
   "outputs": [],
   "source": [
    "df_class_1_over = df_class_1.sample(1821, replace=True)\n",
    "df_class_2_over = df_class_2.sample(1821, replace=True)\n",
    "df_class_3_over = df_class_3.sample(1821, replace=True)\n",
    "df_class_4_over = df_class_4.sample(1821, replace=True)"
   ]
  },
  {
   "cell_type": "code",
   "execution_count": null,
   "metadata": {
    "id": "w11TVK8b4gAs"
   },
   "outputs": [],
   "source": [
    "merge_df = pd.concat([df_class_0,df_class_1_over, df_class_2_over, df_class_3_over, df_class_4_over])"
   ]
  },
  {
   "cell_type": "code",
   "execution_count": null,
   "metadata": {
    "colab": {
     "base_uri": "https://localhost:8080/"
    },
    "executionInfo": {
     "elapsed": 319,
     "status": "ok",
     "timestamp": 1622657056105,
     "user": {
      "displayName": "Rony Chowdhury",
      "photoUrl": "https://lh3.googleusercontent.com/a-/AOh14GhFTjd1SSV-Q0tH4D2H9_H_qe1w3YuTsvWI1fDP=s64",
      "userId": "14877343126343374754"
     },
     "user_tz": -360
    },
    "id": "MJ7J4v2_5ZGt",
    "outputId": "e3476b64-b82e-458f-f825-4823117cf98d"
   },
   "outputs": [
    {
     "data": {
      "text/plain": [
       "(9105, 6)"
      ]
     },
     "execution_count": 33,
     "metadata": {
      "tags": []
     },
     "output_type": "execute_result"
    }
   ],
   "source": [
    "merge_df.shape"
   ]
  },
  {
   "cell_type": "code",
   "execution_count": null,
   "metadata": {
    "id": "QLYVW4ej5bqd"
   },
   "outputs": [],
   "source": [
    "new = merge_df.to_csv(r'pre_chris_over.csv',encoding='utf-8', index = False)"
   ]
  },
  {
   "cell_type": "markdown",
   "metadata": {
    "id": "IaJrZHAO7tvB"
   },
   "source": [
    "**SMOTE**"
   ]
  },
  {
   "cell_type": "code",
   "execution_count": null,
   "metadata": {
    "id": "GAeMsgcE8I3f"
   },
   "outputs": [],
   "source": [
    "X = dataset_1.drop('Target', axis = 1)\n",
    "y = dataset_1['Target']"
   ]
  },
  {
   "cell_type": "code",
   "execution_count": null,
   "metadata": {
    "colab": {
     "base_uri": "https://localhost:8080/",
     "height": 415
    },
    "executionInfo": {
     "elapsed": 350,
     "status": "ok",
     "timestamp": 1622658611839,
     "user": {
      "displayName": "Rony Chowdhury",
      "photoUrl": "https://lh3.googleusercontent.com/a-/AOh14GhFTjd1SSV-Q0tH4D2H9_H_qe1w3YuTsvWI1fDP=s64",
      "userId": "14877343126343374754"
     },
     "user_tz": -360
    },
    "id": "RmjRTTgp8ZXs",
    "outputId": "9ee913e0-7019-4bee-dcdf-beaa7377f21e"
   },
   "outputs": [
    {
     "data": {
      "text/html": [
       "<div>\n",
       "<style scoped>\n",
       "    .dataframe tbody tr th:only-of-type {\n",
       "        vertical-align: middle;\n",
       "    }\n",
       "\n",
       "    .dataframe tbody tr th {\n",
       "        vertical-align: top;\n",
       "    }\n",
       "\n",
       "    .dataframe thead th {\n",
       "        text-align: right;\n",
       "    }\n",
       "</style>\n",
       "<table border=\"1\" class=\"dataframe\">\n",
       "  <thead>\n",
       "    <tr style=\"text-align: right;\">\n",
       "      <th></th>\n",
       "      <th>MAV</th>\n",
       "      <th>MedF</th>\n",
       "      <th>Muscle</th>\n",
       "      <th>Signal</th>\n",
       "      <th>Task</th>\n",
       "    </tr>\n",
       "  </thead>\n",
       "  <tbody>\n",
       "    <tr>\n",
       "      <th>0</th>\n",
       "      <td>0.270426</td>\n",
       "      <td>0.485521</td>\n",
       "      <td>1</td>\n",
       "      <td>1</td>\n",
       "      <td>1</td>\n",
       "    </tr>\n",
       "    <tr>\n",
       "      <th>1</th>\n",
       "      <td>0.237437</td>\n",
       "      <td>0.335182</td>\n",
       "      <td>2</td>\n",
       "      <td>1</td>\n",
       "      <td>1</td>\n",
       "    </tr>\n",
       "    <tr>\n",
       "      <th>2</th>\n",
       "      <td>0.105866</td>\n",
       "      <td>0.288355</td>\n",
       "      <td>3</td>\n",
       "      <td>1</td>\n",
       "      <td>1</td>\n",
       "    </tr>\n",
       "    <tr>\n",
       "      <th>3</th>\n",
       "      <td>0.350348</td>\n",
       "      <td>0.507702</td>\n",
       "      <td>4</td>\n",
       "      <td>1</td>\n",
       "      <td>1</td>\n",
       "    </tr>\n",
       "    <tr>\n",
       "      <th>4</th>\n",
       "      <td>0.109027</td>\n",
       "      <td>0.246457</td>\n",
       "      <td>5</td>\n",
       "      <td>1</td>\n",
       "      <td>1</td>\n",
       "    </tr>\n",
       "    <tr>\n",
       "      <th>...</th>\n",
       "      <td>...</td>\n",
       "      <td>...</td>\n",
       "      <td>...</td>\n",
       "      <td>...</td>\n",
       "      <td>...</td>\n",
       "    </tr>\n",
       "    <tr>\n",
       "      <th>3179</th>\n",
       "      <td>0.214660</td>\n",
       "      <td>0.290203</td>\n",
       "      <td>4</td>\n",
       "      <td>15</td>\n",
       "      <td>27</td>\n",
       "    </tr>\n",
       "    <tr>\n",
       "      <th>3180</th>\n",
       "      <td>0.118608</td>\n",
       "      <td>0.216266</td>\n",
       "      <td>5</td>\n",
       "      <td>15</td>\n",
       "      <td>27</td>\n",
       "    </tr>\n",
       "    <tr>\n",
       "      <th>3181</th>\n",
       "      <td>0.039510</td>\n",
       "      <td>0.476895</td>\n",
       "      <td>6</td>\n",
       "      <td>15</td>\n",
       "      <td>27</td>\n",
       "    </tr>\n",
       "    <tr>\n",
       "      <th>3182</th>\n",
       "      <td>0.039556</td>\n",
       "      <td>0.190388</td>\n",
       "      <td>7</td>\n",
       "      <td>15</td>\n",
       "      <td>27</td>\n",
       "    </tr>\n",
       "    <tr>\n",
       "      <th>3183</th>\n",
       "      <td>0.004950</td>\n",
       "      <td>0.184843</td>\n",
       "      <td>8</td>\n",
       "      <td>15</td>\n",
       "      <td>27</td>\n",
       "    </tr>\n",
       "  </tbody>\n",
       "</table>\n",
       "<p>3184 rows × 5 columns</p>\n",
       "</div>"
      ],
      "text/plain": [
       "           MAV      MedF  Muscle  Signal  Task\n",
       "0     0.270426  0.485521       1       1     1\n",
       "1     0.237437  0.335182       2       1     1\n",
       "2     0.105866  0.288355       3       1     1\n",
       "3     0.350348  0.507702       4       1     1\n",
       "4     0.109027  0.246457       5       1     1\n",
       "...        ...       ...     ...     ...   ...\n",
       "3179  0.214660  0.290203       4      15    27\n",
       "3180  0.118608  0.216266       5      15    27\n",
       "3181  0.039510  0.476895       6      15    27\n",
       "3182  0.039556  0.190388       7      15    27\n",
       "3183  0.004950  0.184843       8      15    27\n",
       "\n",
       "[3184 rows x 5 columns]"
      ]
     },
     "execution_count": 51,
     "metadata": {
      "tags": []
     },
     "output_type": "execute_result"
    }
   ],
   "source": [
    "X"
   ]
  },
  {
   "cell_type": "code",
   "execution_count": null,
   "metadata": {
    "colab": {
     "base_uri": "https://localhost:8080/"
    },
    "executionInfo": {
     "elapsed": 572,
     "status": "ok",
     "timestamp": 1622658887910,
     "user": {
      "displayName": "Rony Chowdhury",
      "photoUrl": "https://lh3.googleusercontent.com/a-/AOh14GhFTjd1SSV-Q0tH4D2H9_H_qe1w3YuTsvWI1fDP=s64",
      "userId": "14877343126343374754"
     },
     "user_tz": -360
    },
    "id": "wiTb0EHJ7sgT",
    "outputId": "8cf85676-6668-411a-9849-23c71959fc79"
   },
   "outputs": [
    {
     "name": "stderr",
     "output_type": "stream",
     "text": [
      "/usr/local/lib/python3.7/dist-packages/sklearn/utils/deprecation.py:87: FutureWarning: Function safe_indexing is deprecated; safe_indexing is deprecated in version 0.22 and will be removed in version 0.24.\n",
      "  warnings.warn(msg, category=FutureWarning)\n",
      "/usr/local/lib/python3.7/dist-packages/sklearn/utils/deprecation.py:87: FutureWarning: Function safe_indexing is deprecated; safe_indexing is deprecated in version 0.22 and will be removed in version 0.24.\n",
      "  warnings.warn(msg, category=FutureWarning)\n",
      "/usr/local/lib/python3.7/dist-packages/sklearn/utils/deprecation.py:87: FutureWarning: Function safe_indexing is deprecated; safe_indexing is deprecated in version 0.22 and will be removed in version 0.24.\n",
      "  warnings.warn(msg, category=FutureWarning)\n",
      "/usr/local/lib/python3.7/dist-packages/sklearn/utils/deprecation.py:87: FutureWarning: Function safe_indexing is deprecated; safe_indexing is deprecated in version 0.22 and will be removed in version 0.24.\n",
      "  warnings.warn(msg, category=FutureWarning)\n"
     ]
    }
   ],
   "source": [
    "from imblearn.over_sampling import SMOTE\n",
    "\n",
    "smote = SMOTE()\n",
    "x_sm, y_sm = smote.fit_sample(X,y)\n"
   ]
  },
  {
   "cell_type": "code",
   "execution_count": null,
   "metadata": {
    "colab": {
     "base_uri": "https://localhost:8080/",
     "height": 35
    },
    "executionInfo": {
     "elapsed": 347,
     "status": "ok",
     "timestamp": 1622658891406,
     "user": {
      "displayName": "Rony Chowdhury",
      "photoUrl": "https://lh3.googleusercontent.com/a-/AOh14GhFTjd1SSV-Q0tH4D2H9_H_qe1w3YuTsvWI1fDP=s64",
      "userId": "14877343126343374754"
     },
     "user_tz": -360
    },
    "id": "SrRX56c8_2gF",
    "outputId": "e557d825-dd38-41a4-8d1b-813bfa4da35e"
   },
   "outputs": [
    {
     "data": {
      "application/vnd.google.colaboratory.intrinsic+json": {
       "type": "string"
      },
      "text/plain": [
       "'Target'"
      ]
     },
     "execution_count": 63,
     "metadata": {
      "tags": []
     },
     "output_type": "execute_result"
    }
   ],
   "source": [
    "dataset_1.columns[-1]"
   ]
  },
  {
   "cell_type": "code",
   "execution_count": null,
   "metadata": {
    "id": "zWtP-IwT81Ho"
   },
   "outputs": [],
   "source": [
    "x_sm = pd.DataFrame(x_sm, columns=dataset_1.columns[:-1])\n",
    "y_sm = pd.DataFrame(y_sm, columns=[dataset_1.columns[-1]])"
   ]
  },
  {
   "cell_type": "code",
   "execution_count": null,
   "metadata": {
    "colab": {
     "base_uri": "https://localhost:8080/",
     "height": 415
    },
    "executionInfo": {
     "elapsed": 378,
     "status": "ok",
     "timestamp": 1622658922457,
     "user": {
      "displayName": "Rony Chowdhury",
      "photoUrl": "https://lh3.googleusercontent.com/a-/AOh14GhFTjd1SSV-Q0tH4D2H9_H_qe1w3YuTsvWI1fDP=s64",
      "userId": "14877343126343374754"
     },
     "user_tz": -360
    },
    "id": "MFr2Vgbk9ORA",
    "outputId": "bd5d39c0-c495-4bab-8a94-f46343107743"
   },
   "outputs": [
    {
     "data": {
      "text/html": [
       "<div>\n",
       "<style scoped>\n",
       "    .dataframe tbody tr th:only-of-type {\n",
       "        vertical-align: middle;\n",
       "    }\n",
       "\n",
       "    .dataframe tbody tr th {\n",
       "        vertical-align: top;\n",
       "    }\n",
       "\n",
       "    .dataframe thead th {\n",
       "        text-align: right;\n",
       "    }\n",
       "</style>\n",
       "<table border=\"1\" class=\"dataframe\">\n",
       "  <thead>\n",
       "    <tr style=\"text-align: right;\">\n",
       "      <th></th>\n",
       "      <th>Target</th>\n",
       "    </tr>\n",
       "  </thead>\n",
       "  <tbody>\n",
       "    <tr>\n",
       "      <th>0</th>\n",
       "      <td>0</td>\n",
       "    </tr>\n",
       "    <tr>\n",
       "      <th>1</th>\n",
       "      <td>0</td>\n",
       "    </tr>\n",
       "    <tr>\n",
       "      <th>2</th>\n",
       "      <td>0</td>\n",
       "    </tr>\n",
       "    <tr>\n",
       "      <th>3</th>\n",
       "      <td>0</td>\n",
       "    </tr>\n",
       "    <tr>\n",
       "      <th>4</th>\n",
       "      <td>0</td>\n",
       "    </tr>\n",
       "    <tr>\n",
       "      <th>...</th>\n",
       "      <td>...</td>\n",
       "    </tr>\n",
       "    <tr>\n",
       "      <th>9100</th>\n",
       "      <td>4</td>\n",
       "    </tr>\n",
       "    <tr>\n",
       "      <th>9101</th>\n",
       "      <td>4</td>\n",
       "    </tr>\n",
       "    <tr>\n",
       "      <th>9102</th>\n",
       "      <td>4</td>\n",
       "    </tr>\n",
       "    <tr>\n",
       "      <th>9103</th>\n",
       "      <td>4</td>\n",
       "    </tr>\n",
       "    <tr>\n",
       "      <th>9104</th>\n",
       "      <td>4</td>\n",
       "    </tr>\n",
       "  </tbody>\n",
       "</table>\n",
       "<p>9105 rows × 1 columns</p>\n",
       "</div>"
      ],
      "text/plain": [
       "      Target\n",
       "0          0\n",
       "1          0\n",
       "2          0\n",
       "3          0\n",
       "4          0\n",
       "...      ...\n",
       "9100       4\n",
       "9101       4\n",
       "9102       4\n",
       "9103       4\n",
       "9104       4\n",
       "\n",
       "[9105 rows x 1 columns]"
      ]
     },
     "execution_count": 68,
     "metadata": {
      "tags": []
     },
     "output_type": "execute_result"
    }
   ],
   "source": [
    "y_sm"
   ]
  },
  {
   "cell_type": "code",
   "execution_count": null,
   "metadata": {
    "id": "VCvczkq79Qqv"
   },
   "outputs": [],
   "source": [
    "merge_df = pd.concat([x_sm,y_sm], axis = 1)"
   ]
  },
  {
   "cell_type": "code",
   "execution_count": null,
   "metadata": {
    "colab": {
     "base_uri": "https://localhost:8080/",
     "height": 415
    },
    "executionInfo": {
     "elapsed": 363,
     "status": "ok",
     "timestamp": 1622658953665,
     "user": {
      "displayName": "Rony Chowdhury",
      "photoUrl": "https://lh3.googleusercontent.com/a-/AOh14GhFTjd1SSV-Q0tH4D2H9_H_qe1w3YuTsvWI1fDP=s64",
      "userId": "14877343126343374754"
     },
     "user_tz": -360
    },
    "id": "H1SCh5vn-4Qw",
    "outputId": "11c1c326-5f2a-4699-82e0-517461e8b31e"
   },
   "outputs": [
    {
     "data": {
      "text/html": [
       "<div>\n",
       "<style scoped>\n",
       "    .dataframe tbody tr th:only-of-type {\n",
       "        vertical-align: middle;\n",
       "    }\n",
       "\n",
       "    .dataframe tbody tr th {\n",
       "        vertical-align: top;\n",
       "    }\n",
       "\n",
       "    .dataframe thead th {\n",
       "        text-align: right;\n",
       "    }\n",
       "</style>\n",
       "<table border=\"1\" class=\"dataframe\">\n",
       "  <thead>\n",
       "    <tr style=\"text-align: right;\">\n",
       "      <th></th>\n",
       "      <th>MAV</th>\n",
       "      <th>MedF</th>\n",
       "      <th>Muscle</th>\n",
       "      <th>Signal</th>\n",
       "      <th>Task</th>\n",
       "      <th>Target</th>\n",
       "    </tr>\n",
       "  </thead>\n",
       "  <tbody>\n",
       "    <tr>\n",
       "      <th>0</th>\n",
       "      <td>0.270426</td>\n",
       "      <td>0.485521</td>\n",
       "      <td>1.000000</td>\n",
       "      <td>1.000000</td>\n",
       "      <td>1.000000</td>\n",
       "      <td>0</td>\n",
       "    </tr>\n",
       "    <tr>\n",
       "      <th>1</th>\n",
       "      <td>0.237437</td>\n",
       "      <td>0.335182</td>\n",
       "      <td>2.000000</td>\n",
       "      <td>1.000000</td>\n",
       "      <td>1.000000</td>\n",
       "      <td>0</td>\n",
       "    </tr>\n",
       "    <tr>\n",
       "      <th>2</th>\n",
       "      <td>0.105866</td>\n",
       "      <td>0.288355</td>\n",
       "      <td>3.000000</td>\n",
       "      <td>1.000000</td>\n",
       "      <td>1.000000</td>\n",
       "      <td>0</td>\n",
       "    </tr>\n",
       "    <tr>\n",
       "      <th>3</th>\n",
       "      <td>0.350348</td>\n",
       "      <td>0.507702</td>\n",
       "      <td>4.000000</td>\n",
       "      <td>1.000000</td>\n",
       "      <td>1.000000</td>\n",
       "      <td>0</td>\n",
       "    </tr>\n",
       "    <tr>\n",
       "      <th>4</th>\n",
       "      <td>0.109027</td>\n",
       "      <td>0.246457</td>\n",
       "      <td>5.000000</td>\n",
       "      <td>1.000000</td>\n",
       "      <td>1.000000</td>\n",
       "      <td>0</td>\n",
       "    </tr>\n",
       "    <tr>\n",
       "      <th>...</th>\n",
       "      <td>...</td>\n",
       "      <td>...</td>\n",
       "      <td>...</td>\n",
       "      <td>...</td>\n",
       "      <td>...</td>\n",
       "      <td>...</td>\n",
       "    </tr>\n",
       "    <tr>\n",
       "      <th>9100</th>\n",
       "      <td>0.103400</td>\n",
       "      <td>0.293493</td>\n",
       "      <td>5.000000</td>\n",
       "      <td>12.339069</td>\n",
       "      <td>12.678137</td>\n",
       "      <td>4</td>\n",
       "    </tr>\n",
       "    <tr>\n",
       "      <th>9101</th>\n",
       "      <td>0.037782</td>\n",
       "      <td>0.216097</td>\n",
       "      <td>3.000000</td>\n",
       "      <td>4.164845</td>\n",
       "      <td>26.164845</td>\n",
       "      <td>4</td>\n",
       "    </tr>\n",
       "    <tr>\n",
       "      <th>9102</th>\n",
       "      <td>0.108854</td>\n",
       "      <td>0.301330</td>\n",
       "      <td>3.000000</td>\n",
       "      <td>13.000000</td>\n",
       "      <td>24.176739</td>\n",
       "      <td>4</td>\n",
       "    </tr>\n",
       "    <tr>\n",
       "      <th>9103</th>\n",
       "      <td>0.200912</td>\n",
       "      <td>0.239484</td>\n",
       "      <td>2.602493</td>\n",
       "      <td>7.000000</td>\n",
       "      <td>16.000000</td>\n",
       "      <td>4</td>\n",
       "    </tr>\n",
       "    <tr>\n",
       "      <th>9104</th>\n",
       "      <td>0.196876</td>\n",
       "      <td>0.299644</td>\n",
       "      <td>2.130421</td>\n",
       "      <td>10.869579</td>\n",
       "      <td>24.130421</td>\n",
       "      <td>4</td>\n",
       "    </tr>\n",
       "  </tbody>\n",
       "</table>\n",
       "<p>9105 rows × 6 columns</p>\n",
       "</div>"
      ],
      "text/plain": [
       "           MAV      MedF    Muscle     Signal       Task  Target\n",
       "0     0.270426  0.485521  1.000000   1.000000   1.000000       0\n",
       "1     0.237437  0.335182  2.000000   1.000000   1.000000       0\n",
       "2     0.105866  0.288355  3.000000   1.000000   1.000000       0\n",
       "3     0.350348  0.507702  4.000000   1.000000   1.000000       0\n",
       "4     0.109027  0.246457  5.000000   1.000000   1.000000       0\n",
       "...        ...       ...       ...        ...        ...     ...\n",
       "9100  0.103400  0.293493  5.000000  12.339069  12.678137       4\n",
       "9101  0.037782  0.216097  3.000000   4.164845  26.164845       4\n",
       "9102  0.108854  0.301330  3.000000  13.000000  24.176739       4\n",
       "9103  0.200912  0.239484  2.602493   7.000000  16.000000       4\n",
       "9104  0.196876  0.299644  2.130421  10.869579  24.130421       4\n",
       "\n",
       "[9105 rows x 6 columns]"
      ]
     },
     "execution_count": 70,
     "metadata": {
      "tags": []
     },
     "output_type": "execute_result"
    }
   ],
   "source": [
    "merge_df"
   ]
  },
  {
   "cell_type": "code",
   "execution_count": null,
   "metadata": {
    "id": "Ugx0esby-QNg"
   },
   "outputs": [],
   "source": [
    "new = merge_df.to_csv(r'pre_chris_smote.csv',encoding='utf-8', index = False)"
   ]
  }
 ],
 "metadata": {
  "accelerator": "TPU",
  "colab": {
   "name": "CICDS(data_preprocessing).ipynb",
   "provenance": []
  },
  "kernelspec": {
   "display_name": "Python 3",
   "language": "python",
   "name": "python3"
  },
  "language_info": {
   "codemirror_mode": {
    "name": "ipython",
    "version": 3
   },
   "file_extension": ".py",
   "mimetype": "text/x-python",
   "name": "python",
   "nbconvert_exporter": "python",
   "pygments_lexer": "ipython3",
   "version": "3.8.8"
  }
 },
 "nbformat": 4,
 "nbformat_minor": 1
}
