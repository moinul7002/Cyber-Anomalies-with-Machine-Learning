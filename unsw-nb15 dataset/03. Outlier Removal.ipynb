{
 "cells": [
  {
   "cell_type": "code",
   "execution_count": 1,
   "id": "aeddae76",
   "metadata": {},
   "outputs": [],
   "source": [
    "import pandas as pd\n",
    "import numpy as np\n",
    "import matplotlib.pyplot as plt\n",
    "import seaborn as sns"
   ]
  },
  {
   "cell_type": "code",
   "execution_count": 2,
   "id": "c5654ba0",
   "metadata": {},
   "outputs": [],
   "source": [
    "from sklearn.linear_model import LogisticRegression \n",
    "from sklearn.ensemble import RandomForestClassifier\n",
    "from sklearn.neighbors import KNeighborsClassifier\n",
    "from sklearn.ensemble import GradientBoostingClassifier\n",
    "from sklearn.ensemble import ExtraTreesClassifier\n",
    "from sklearn.ensemble import AdaBoostClassifier\n",
    "#from catboost import CatBoostClassifier\n",
    "from sklearn.naive_bayes import GaussianNB\n",
    "from sklearn.svm import SVC\n",
    "from sklearn import tree\n",
    "#import lightgbm as lgb\n",
    "#from lightgbm import LGBMClassifier\n",
    "import xgboost as xgb\n",
    "\n",
    "from sklearn.model_selection import train_test_split\n",
    "from scipy import interp\n",
    "from sklearn.metrics import classification_report, accuracy_score, auc\n",
    "from sklearn.metrics import roc_auc_score\n",
    "from sklearn.metrics import roc_curve\n",
    "from sklearn import metrics\n",
    "from sklearn.metrics import confusion_matrix"
   ]
  },
  {
   "cell_type": "code",
   "execution_count": 3,
   "id": "5e3b3066",
   "metadata": {},
   "outputs": [],
   "source": [
    "df = pd.read_csv(\"preprocessed_unsw2.csv\", index_col=0)"
   ]
  },
  {
   "cell_type": "code",
   "execution_count": 4,
   "id": "f59bf985",
   "metadata": {},
   "outputs": [
    {
     "data": {
      "text/html": [
       "<div>\n",
       "<style scoped>\n",
       "    .dataframe tbody tr th:only-of-type {\n",
       "        vertical-align: middle;\n",
       "    }\n",
       "\n",
       "    .dataframe tbody tr th {\n",
       "        vertical-align: top;\n",
       "    }\n",
       "\n",
       "    .dataframe thead th {\n",
       "        text-align: right;\n",
       "    }\n",
       "</style>\n",
       "<table border=\"1\" class=\"dataframe\">\n",
       "  <thead>\n",
       "    <tr style=\"text-align: right;\">\n",
       "      <th></th>\n",
       "      <th>proto</th>\n",
       "      <th>service</th>\n",
       "      <th>state</th>\n",
       "      <th>spkts</th>\n",
       "      <th>dpkts</th>\n",
       "      <th>sbytes</th>\n",
       "      <th>dbytes</th>\n",
       "      <th>rate</th>\n",
       "      <th>sttl</th>\n",
       "      <th>dttl</th>\n",
       "      <th>...</th>\n",
       "      <th>ct_dst_sport_ltm</th>\n",
       "      <th>ct_dst_src_ltm</th>\n",
       "      <th>is_ftp_login</th>\n",
       "      <th>ct_ftp_cmd</th>\n",
       "      <th>ct_flw_http_mthd</th>\n",
       "      <th>ct_src_ltm</th>\n",
       "      <th>ct_srv_dst</th>\n",
       "      <th>is_sm_ips_ports</th>\n",
       "      <th>attack_cat</th>\n",
       "      <th>label</th>\n",
       "    </tr>\n",
       "    <tr>\n",
       "      <th>dur</th>\n",
       "      <th></th>\n",
       "      <th></th>\n",
       "      <th></th>\n",
       "      <th></th>\n",
       "      <th></th>\n",
       "      <th></th>\n",
       "      <th></th>\n",
       "      <th></th>\n",
       "      <th></th>\n",
       "      <th></th>\n",
       "      <th></th>\n",
       "      <th></th>\n",
       "      <th></th>\n",
       "      <th></th>\n",
       "      <th></th>\n",
       "      <th></th>\n",
       "      <th></th>\n",
       "      <th></th>\n",
       "      <th></th>\n",
       "      <th></th>\n",
       "      <th></th>\n",
       "    </tr>\n",
       "  </thead>\n",
       "  <tbody>\n",
       "    <tr>\n",
       "      <th>0.001500</th>\n",
       "      <td>0.900000</td>\n",
       "      <td>0.000000</td>\n",
       "      <td>0.6</td>\n",
       "      <td>0.004255</td>\n",
       "      <td>0.000000</td>\n",
       "      <td>0.059374</td>\n",
       "      <td>0.000000</td>\n",
       "      <td>0.998640</td>\n",
       "      <td>0.888889</td>\n",
       "      <td>0.000000</td>\n",
       "      <td>...</td>\n",
       "      <td>0.0</td>\n",
       "      <td>0.017857</td>\n",
       "      <td>0.0</td>\n",
       "      <td>0.0</td>\n",
       "      <td>0.0</td>\n",
       "      <td>0.000000</td>\n",
       "      <td>0.017857</td>\n",
       "      <td>0.0</td>\n",
       "      <td>0.666667</td>\n",
       "      <td>0</td>\n",
       "    </tr>\n",
       "    <tr>\n",
       "      <th>0.001091</th>\n",
       "      <td>0.900000</td>\n",
       "      <td>0.000000</td>\n",
       "      <td>0.6</td>\n",
       "      <td>0.004255</td>\n",
       "      <td>0.000000</td>\n",
       "      <td>0.318841</td>\n",
       "      <td>0.000000</td>\n",
       "      <td>0.999048</td>\n",
       "      <td>0.888889</td>\n",
       "      <td>0.000000</td>\n",
       "      <td>...</td>\n",
       "      <td>0.0</td>\n",
       "      <td>0.017857</td>\n",
       "      <td>0.0</td>\n",
       "      <td>0.0</td>\n",
       "      <td>0.0</td>\n",
       "      <td>0.000000</td>\n",
       "      <td>0.017857</td>\n",
       "      <td>0.0</td>\n",
       "      <td>0.666667</td>\n",
       "      <td>0</td>\n",
       "    </tr>\n",
       "    <tr>\n",
       "      <th>0.000682</th>\n",
       "      <td>0.900000</td>\n",
       "      <td>0.000000</td>\n",
       "      <td>0.6</td>\n",
       "      <td>0.004255</td>\n",
       "      <td>0.000000</td>\n",
       "      <td>0.183731</td>\n",
       "      <td>0.000000</td>\n",
       "      <td>0.999456</td>\n",
       "      <td>0.888889</td>\n",
       "      <td>0.000000</td>\n",
       "      <td>...</td>\n",
       "      <td>0.0</td>\n",
       "      <td>0.035714</td>\n",
       "      <td>0.0</td>\n",
       "      <td>0.0</td>\n",
       "      <td>0.0</td>\n",
       "      <td>0.000000</td>\n",
       "      <td>0.035714</td>\n",
       "      <td>0.0</td>\n",
       "      <td>0.666667</td>\n",
       "      <td>0</td>\n",
       "    </tr>\n",
       "    <tr>\n",
       "      <th>0.000818</th>\n",
       "      <td>0.900000</td>\n",
       "      <td>0.000000</td>\n",
       "      <td>0.6</td>\n",
       "      <td>0.004255</td>\n",
       "      <td>0.000000</td>\n",
       "      <td>0.144460</td>\n",
       "      <td>0.000000</td>\n",
       "      <td>0.999320</td>\n",
       "      <td>0.888889</td>\n",
       "      <td>0.000000</td>\n",
       "      <td>...</td>\n",
       "      <td>0.0</td>\n",
       "      <td>0.035714</td>\n",
       "      <td>0.0</td>\n",
       "      <td>0.0</td>\n",
       "      <td>0.0</td>\n",
       "      <td>0.020408</td>\n",
       "      <td>0.035714</td>\n",
       "      <td>0.0</td>\n",
       "      <td>0.666667</td>\n",
       "      <td>0</td>\n",
       "    </tr>\n",
       "    <tr>\n",
       "      <th>0.001364</th>\n",
       "      <td>0.900000</td>\n",
       "      <td>0.000000</td>\n",
       "      <td>0.6</td>\n",
       "      <td>0.004255</td>\n",
       "      <td>0.000000</td>\n",
       "      <td>0.370734</td>\n",
       "      <td>0.000000</td>\n",
       "      <td>0.998776</td>\n",
       "      <td>0.888889</td>\n",
       "      <td>0.000000</td>\n",
       "      <td>...</td>\n",
       "      <td>0.0</td>\n",
       "      <td>0.035714</td>\n",
       "      <td>0.0</td>\n",
       "      <td>0.0</td>\n",
       "      <td>0.0</td>\n",
       "      <td>0.020408</td>\n",
       "      <td>0.035714</td>\n",
       "      <td>0.0</td>\n",
       "      <td>0.666667</td>\n",
       "      <td>0</td>\n",
       "    </tr>\n",
       "    <tr>\n",
       "      <th>...</th>\n",
       "      <td>...</td>\n",
       "      <td>...</td>\n",
       "      <td>...</td>\n",
       "      <td>...</td>\n",
       "      <td>...</td>\n",
       "      <td>...</td>\n",
       "      <td>...</td>\n",
       "      <td>...</td>\n",
       "      <td>...</td>\n",
       "      <td>...</td>\n",
       "      <td>...</td>\n",
       "      <td>...</td>\n",
       "      <td>...</td>\n",
       "      <td>...</td>\n",
       "      <td>...</td>\n",
       "      <td>...</td>\n",
       "      <td>...</td>\n",
       "      <td>...</td>\n",
       "      <td>...</td>\n",
       "      <td>...</td>\n",
       "      <td>...</td>\n",
       "    </tr>\n",
       "    <tr>\n",
       "      <th>0.326923</th>\n",
       "      <td>0.853846</td>\n",
       "      <td>0.000000</td>\n",
       "      <td>0.4</td>\n",
       "      <td>0.097872</td>\n",
       "      <td>0.092437</td>\n",
       "      <td>0.568957</td>\n",
       "      <td>0.424739</td>\n",
       "      <td>0.804951</td>\n",
       "      <td>0.444444</td>\n",
       "      <td>0.166667</td>\n",
       "      <td>...</td>\n",
       "      <td>0.0</td>\n",
       "      <td>0.035714</td>\n",
       "      <td>0.0</td>\n",
       "      <td>0.0</td>\n",
       "      <td>0.0</td>\n",
       "      <td>0.081633</td>\n",
       "      <td>0.089286</td>\n",
       "      <td>0.0</td>\n",
       "      <td>0.666667</td>\n",
       "      <td>0</td>\n",
       "    </tr>\n",
       "    <tr>\n",
       "      <th>0.430578</th>\n",
       "      <td>0.853846</td>\n",
       "      <td>0.000000</td>\n",
       "      <td>0.4</td>\n",
       "      <td>0.272340</td>\n",
       "      <td>0.252101</td>\n",
       "      <td>0.613838</td>\n",
       "      <td>0.622101</td>\n",
       "      <td>0.841268</td>\n",
       "      <td>0.444444</td>\n",
       "      <td>0.166667</td>\n",
       "      <td>...</td>\n",
       "      <td>0.0</td>\n",
       "      <td>0.000000</td>\n",
       "      <td>0.0</td>\n",
       "      <td>0.0</td>\n",
       "      <td>0.0</td>\n",
       "      <td>0.081633</td>\n",
       "      <td>0.089286</td>\n",
       "      <td>0.0</td>\n",
       "      <td>0.666667</td>\n",
       "      <td>0</td>\n",
       "    </tr>\n",
       "    <tr>\n",
       "      <th>0.725314</th>\n",
       "      <td>0.853846</td>\n",
       "      <td>0.416667</td>\n",
       "      <td>0.4</td>\n",
       "      <td>0.046809</td>\n",
       "      <td>0.063025</td>\n",
       "      <td>0.288920</td>\n",
       "      <td>0.650750</td>\n",
       "      <td>0.303047</td>\n",
       "      <td>0.444444</td>\n",
       "      <td>0.166667</td>\n",
       "      <td>...</td>\n",
       "      <td>0.0</td>\n",
       "      <td>0.000000</td>\n",
       "      <td>0.0</td>\n",
       "      <td>0.0</td>\n",
       "      <td>0.2</td>\n",
       "      <td>0.020408</td>\n",
       "      <td>0.000000</td>\n",
       "      <td>0.0</td>\n",
       "      <td>0.666667</td>\n",
       "      <td>0</td>\n",
       "    </tr>\n",
       "    <tr>\n",
       "      <th>0.214812</th>\n",
       "      <td>0.853846</td>\n",
       "      <td>0.000000</td>\n",
       "      <td>0.4</td>\n",
       "      <td>0.204255</td>\n",
       "      <td>0.193277</td>\n",
       "      <td>0.541842</td>\n",
       "      <td>0.850841</td>\n",
       "      <td>0.851197</td>\n",
       "      <td>0.444444</td>\n",
       "      <td>0.166667</td>\n",
       "      <td>...</td>\n",
       "      <td>0.0</td>\n",
       "      <td>0.017857</td>\n",
       "      <td>0.0</td>\n",
       "      <td>0.0</td>\n",
       "      <td>0.0</td>\n",
       "      <td>0.081633</td>\n",
       "      <td>0.178571</td>\n",
       "      <td>0.0</td>\n",
       "      <td>0.666667</td>\n",
       "      <td>0</td>\n",
       "    </tr>\n",
       "    <tr>\n",
       "      <th>0.019094</th>\n",
       "      <td>0.900000</td>\n",
       "      <td>0.166667</td>\n",
       "      <td>0.2</td>\n",
       "      <td>0.004255</td>\n",
       "      <td>0.008403</td>\n",
       "      <td>0.016830</td>\n",
       "      <td>0.007731</td>\n",
       "      <td>0.907916</td>\n",
       "      <td>0.444444</td>\n",
       "      <td>0.166667</td>\n",
       "      <td>...</td>\n",
       "      <td>0.0</td>\n",
       "      <td>0.000000</td>\n",
       "      <td>0.0</td>\n",
       "      <td>0.0</td>\n",
       "      <td>0.0</td>\n",
       "      <td>0.000000</td>\n",
       "      <td>0.017857</td>\n",
       "      <td>0.0</td>\n",
       "      <td>0.666667</td>\n",
       "      <td>0</td>\n",
       "    </tr>\n",
       "  </tbody>\n",
       "</table>\n",
       "<p>25347 rows × 43 columns</p>\n",
       "</div>"
      ],
      "text/plain": [
       "             proto   service  state     spkts     dpkts    sbytes    dbytes  \\\n",
       "dur                                                                           \n",
       "0.001500  0.900000  0.000000    0.6  0.004255  0.000000  0.059374  0.000000   \n",
       "0.001091  0.900000  0.000000    0.6  0.004255  0.000000  0.318841  0.000000   \n",
       "0.000682  0.900000  0.000000    0.6  0.004255  0.000000  0.183731  0.000000   \n",
       "0.000818  0.900000  0.000000    0.6  0.004255  0.000000  0.144460  0.000000   \n",
       "0.001364  0.900000  0.000000    0.6  0.004255  0.000000  0.370734  0.000000   \n",
       "...            ...       ...    ...       ...       ...       ...       ...   \n",
       "0.326923  0.853846  0.000000    0.4  0.097872  0.092437  0.568957  0.424739   \n",
       "0.430578  0.853846  0.000000    0.4  0.272340  0.252101  0.613838  0.622101   \n",
       "0.725314  0.853846  0.416667    0.4  0.046809  0.063025  0.288920  0.650750   \n",
       "0.214812  0.853846  0.000000    0.4  0.204255  0.193277  0.541842  0.850841   \n",
       "0.019094  0.900000  0.166667    0.2  0.004255  0.008403  0.016830  0.007731   \n",
       "\n",
       "              rate      sttl      dttl  ...  ct_dst_sport_ltm  ct_dst_src_ltm  \\\n",
       "dur                                     ...                                     \n",
       "0.001500  0.998640  0.888889  0.000000  ...               0.0        0.017857   \n",
       "0.001091  0.999048  0.888889  0.000000  ...               0.0        0.017857   \n",
       "0.000682  0.999456  0.888889  0.000000  ...               0.0        0.035714   \n",
       "0.000818  0.999320  0.888889  0.000000  ...               0.0        0.035714   \n",
       "0.001364  0.998776  0.888889  0.000000  ...               0.0        0.035714   \n",
       "...            ...       ...       ...  ...               ...             ...   \n",
       "0.326923  0.804951  0.444444  0.166667  ...               0.0        0.035714   \n",
       "0.430578  0.841268  0.444444  0.166667  ...               0.0        0.000000   \n",
       "0.725314  0.303047  0.444444  0.166667  ...               0.0        0.000000   \n",
       "0.214812  0.851197  0.444444  0.166667  ...               0.0        0.017857   \n",
       "0.019094  0.907916  0.444444  0.166667  ...               0.0        0.000000   \n",
       "\n",
       "          is_ftp_login  ct_ftp_cmd  ct_flw_http_mthd  ct_src_ltm  ct_srv_dst  \\\n",
       "dur                                                                            \n",
       "0.001500           0.0         0.0               0.0    0.000000    0.017857   \n",
       "0.001091           0.0         0.0               0.0    0.000000    0.017857   \n",
       "0.000682           0.0         0.0               0.0    0.000000    0.035714   \n",
       "0.000818           0.0         0.0               0.0    0.020408    0.035714   \n",
       "0.001364           0.0         0.0               0.0    0.020408    0.035714   \n",
       "...                ...         ...               ...         ...         ...   \n",
       "0.326923           0.0         0.0               0.0    0.081633    0.089286   \n",
       "0.430578           0.0         0.0               0.0    0.081633    0.089286   \n",
       "0.725314           0.0         0.0               0.2    0.020408    0.000000   \n",
       "0.214812           0.0         0.0               0.0    0.081633    0.178571   \n",
       "0.019094           0.0         0.0               0.0    0.000000    0.017857   \n",
       "\n",
       "          is_sm_ips_ports  attack_cat  label  \n",
       "dur                                           \n",
       "0.001500              0.0    0.666667      0  \n",
       "0.001091              0.0    0.666667      0  \n",
       "0.000682              0.0    0.666667      0  \n",
       "0.000818              0.0    0.666667      0  \n",
       "0.001364              0.0    0.666667      0  \n",
       "...                   ...         ...    ...  \n",
       "0.326923              0.0    0.666667      0  \n",
       "0.430578              0.0    0.666667      0  \n",
       "0.725314              0.0    0.666667      0  \n",
       "0.214812              0.0    0.666667      0  \n",
       "0.019094              0.0    0.666667      0  \n",
       "\n",
       "[25347 rows x 43 columns]"
      ]
     },
     "execution_count": 4,
     "metadata": {},
     "output_type": "execute_result"
    }
   ],
   "source": [
    "df"
   ]
  },
  {
   "cell_type": "code",
   "execution_count": 5,
   "id": "a26d3619",
   "metadata": {},
   "outputs": [],
   "source": [
    "X = df.drop('label', axis=1)\n",
    "y = df['label']"
   ]
  },
  {
   "cell_type": "code",
   "execution_count": 6,
   "id": "8b1a89b7",
   "metadata": {},
   "outputs": [],
   "source": [
    "from imblearn.over_sampling import SMOTE\n",
    "\n",
    "X, y = SMOTE(random_state=42).fit_resample(X, y)"
   ]
  },
  {
   "cell_type": "code",
   "execution_count": 7,
   "id": "6b7c4db1",
   "metadata": {},
   "outputs": [
    {
     "name": "stdout",
     "output_type": "stream",
     "text": [
      "[(0, 23117), (1, 23117)]\n"
     ]
    }
   ],
   "source": [
    "from collections import Counter\n",
    "print(sorted(Counter(y).items()))"
   ]
  },
  {
   "cell_type": "code",
   "execution_count": 8,
   "id": "c67e79d8",
   "metadata": {
    "scrolled": true
   },
   "outputs": [
    {
     "data": {
      "text/plain": [
       "['proto',\n",
       " 'service',\n",
       " 'state',\n",
       " 'spkts',\n",
       " 'dpkts',\n",
       " 'sbytes',\n",
       " 'dbytes',\n",
       " 'rate',\n",
       " 'sttl',\n",
       " 'dttl',\n",
       " 'sload',\n",
       " 'dload',\n",
       " 'sloss',\n",
       " 'dloss',\n",
       " 'sinpkt',\n",
       " 'dinpkt',\n",
       " 'sjit',\n",
       " 'djit',\n",
       " 'swin',\n",
       " 'stcpb',\n",
       " 'dtcpb',\n",
       " 'dwin',\n",
       " 'tcprtt',\n",
       " 'synack',\n",
       " 'ackdat',\n",
       " 'smean',\n",
       " 'dmean',\n",
       " 'trans_depth',\n",
       " 'response_body_len',\n",
       " 'ct_srv_src',\n",
       " 'ct_state_ttl',\n",
       " 'ct_dst_ltm',\n",
       " 'ct_src_dport_ltm',\n",
       " 'ct_dst_sport_ltm',\n",
       " 'ct_dst_src_ltm',\n",
       " 'is_ftp_login',\n",
       " 'ct_ftp_cmd',\n",
       " 'ct_flw_http_mthd',\n",
       " 'ct_src_ltm',\n",
       " 'ct_srv_dst',\n",
       " 'is_sm_ips_ports',\n",
       " 'attack_cat',\n",
       " 'label']"
      ]
     },
     "execution_count": 8,
     "metadata": {},
     "output_type": "execute_result"
    }
   ],
   "source": [
    "col = X.columns\n",
    "col = list(col)\n",
    "\n",
    "col.append('label')\n",
    "col"
   ]
  },
  {
   "cell_type": "code",
   "execution_count": 9,
   "id": "855adcd6",
   "metadata": {},
   "outputs": [],
   "source": [
    "df = pd.concat([X, y], axis=1)"
   ]
  },
  {
   "cell_type": "code",
   "execution_count": 10,
   "id": "3a5cdc5f",
   "metadata": {},
   "outputs": [
    {
     "data": {
      "text/html": [
       "<div>\n",
       "<style scoped>\n",
       "    .dataframe tbody tr th:only-of-type {\n",
       "        vertical-align: middle;\n",
       "    }\n",
       "\n",
       "    .dataframe tbody tr th {\n",
       "        vertical-align: top;\n",
       "    }\n",
       "\n",
       "    .dataframe thead th {\n",
       "        text-align: right;\n",
       "    }\n",
       "</style>\n",
       "<table border=\"1\" class=\"dataframe\">\n",
       "  <thead>\n",
       "    <tr style=\"text-align: right;\">\n",
       "      <th></th>\n",
       "      <th>proto</th>\n",
       "      <th>service</th>\n",
       "      <th>state</th>\n",
       "      <th>spkts</th>\n",
       "      <th>dpkts</th>\n",
       "      <th>sbytes</th>\n",
       "      <th>dbytes</th>\n",
       "      <th>rate</th>\n",
       "      <th>sttl</th>\n",
       "      <th>dttl</th>\n",
       "      <th>...</th>\n",
       "      <th>ct_dst_sport_ltm</th>\n",
       "      <th>ct_dst_src_ltm</th>\n",
       "      <th>is_ftp_login</th>\n",
       "      <th>ct_ftp_cmd</th>\n",
       "      <th>ct_flw_http_mthd</th>\n",
       "      <th>ct_src_ltm</th>\n",
       "      <th>ct_srv_dst</th>\n",
       "      <th>is_sm_ips_ports</th>\n",
       "      <th>attack_cat</th>\n",
       "      <th>label</th>\n",
       "    </tr>\n",
       "  </thead>\n",
       "  <tbody>\n",
       "    <tr>\n",
       "      <th>0</th>\n",
       "      <td>0.900000</td>\n",
       "      <td>0.0</td>\n",
       "      <td>0.6</td>\n",
       "      <td>0.004255</td>\n",
       "      <td>0.000000</td>\n",
       "      <td>0.059374</td>\n",
       "      <td>0.000000</td>\n",
       "      <td>0.998640</td>\n",
       "      <td>0.888889</td>\n",
       "      <td>0.000000</td>\n",
       "      <td>...</td>\n",
       "      <td>0.00000</td>\n",
       "      <td>0.017857</td>\n",
       "      <td>0.0</td>\n",
       "      <td>0.0</td>\n",
       "      <td>0.0</td>\n",
       "      <td>0.000000</td>\n",
       "      <td>0.017857</td>\n",
       "      <td>0.0</td>\n",
       "      <td>0.666667</td>\n",
       "      <td>0</td>\n",
       "    </tr>\n",
       "    <tr>\n",
       "      <th>1</th>\n",
       "      <td>0.900000</td>\n",
       "      <td>0.0</td>\n",
       "      <td>0.6</td>\n",
       "      <td>0.004255</td>\n",
       "      <td>0.000000</td>\n",
       "      <td>0.318841</td>\n",
       "      <td>0.000000</td>\n",
       "      <td>0.999048</td>\n",
       "      <td>0.888889</td>\n",
       "      <td>0.000000</td>\n",
       "      <td>...</td>\n",
       "      <td>0.00000</td>\n",
       "      <td>0.017857</td>\n",
       "      <td>0.0</td>\n",
       "      <td>0.0</td>\n",
       "      <td>0.0</td>\n",
       "      <td>0.000000</td>\n",
       "      <td>0.017857</td>\n",
       "      <td>0.0</td>\n",
       "      <td>0.666667</td>\n",
       "      <td>0</td>\n",
       "    </tr>\n",
       "    <tr>\n",
       "      <th>2</th>\n",
       "      <td>0.900000</td>\n",
       "      <td>0.0</td>\n",
       "      <td>0.6</td>\n",
       "      <td>0.004255</td>\n",
       "      <td>0.000000</td>\n",
       "      <td>0.183731</td>\n",
       "      <td>0.000000</td>\n",
       "      <td>0.999456</td>\n",
       "      <td>0.888889</td>\n",
       "      <td>0.000000</td>\n",
       "      <td>...</td>\n",
       "      <td>0.00000</td>\n",
       "      <td>0.035714</td>\n",
       "      <td>0.0</td>\n",
       "      <td>0.0</td>\n",
       "      <td>0.0</td>\n",
       "      <td>0.000000</td>\n",
       "      <td>0.035714</td>\n",
       "      <td>0.0</td>\n",
       "      <td>0.666667</td>\n",
       "      <td>0</td>\n",
       "    </tr>\n",
       "    <tr>\n",
       "      <th>3</th>\n",
       "      <td>0.900000</td>\n",
       "      <td>0.0</td>\n",
       "      <td>0.6</td>\n",
       "      <td>0.004255</td>\n",
       "      <td>0.000000</td>\n",
       "      <td>0.144460</td>\n",
       "      <td>0.000000</td>\n",
       "      <td>0.999320</td>\n",
       "      <td>0.888889</td>\n",
       "      <td>0.000000</td>\n",
       "      <td>...</td>\n",
       "      <td>0.00000</td>\n",
       "      <td>0.035714</td>\n",
       "      <td>0.0</td>\n",
       "      <td>0.0</td>\n",
       "      <td>0.0</td>\n",
       "      <td>0.020408</td>\n",
       "      <td>0.035714</td>\n",
       "      <td>0.0</td>\n",
       "      <td>0.666667</td>\n",
       "      <td>0</td>\n",
       "    </tr>\n",
       "    <tr>\n",
       "      <th>4</th>\n",
       "      <td>0.900000</td>\n",
       "      <td>0.0</td>\n",
       "      <td>0.6</td>\n",
       "      <td>0.004255</td>\n",
       "      <td>0.000000</td>\n",
       "      <td>0.370734</td>\n",
       "      <td>0.000000</td>\n",
       "      <td>0.998776</td>\n",
       "      <td>0.888889</td>\n",
       "      <td>0.000000</td>\n",
       "      <td>...</td>\n",
       "      <td>0.00000</td>\n",
       "      <td>0.035714</td>\n",
       "      <td>0.0</td>\n",
       "      <td>0.0</td>\n",
       "      <td>0.0</td>\n",
       "      <td>0.020408</td>\n",
       "      <td>0.035714</td>\n",
       "      <td>0.0</td>\n",
       "      <td>0.666667</td>\n",
       "      <td>0</td>\n",
       "    </tr>\n",
       "    <tr>\n",
       "      <th>...</th>\n",
       "      <td>...</td>\n",
       "      <td>...</td>\n",
       "      <td>...</td>\n",
       "      <td>...</td>\n",
       "      <td>...</td>\n",
       "      <td>...</td>\n",
       "      <td>...</td>\n",
       "      <td>...</td>\n",
       "      <td>...</td>\n",
       "      <td>...</td>\n",
       "      <td>...</td>\n",
       "      <td>...</td>\n",
       "      <td>...</td>\n",
       "      <td>...</td>\n",
       "      <td>...</td>\n",
       "      <td>...</td>\n",
       "      <td>...</td>\n",
       "      <td>...</td>\n",
       "      <td>...</td>\n",
       "      <td>...</td>\n",
       "      <td>...</td>\n",
       "    </tr>\n",
       "    <tr>\n",
       "      <th>46229</th>\n",
       "      <td>0.853846</td>\n",
       "      <td>0.0</td>\n",
       "      <td>0.8</td>\n",
       "      <td>0.038298</td>\n",
       "      <td>0.000000</td>\n",
       "      <td>0.050491</td>\n",
       "      <td>0.000000</td>\n",
       "      <td>0.004489</td>\n",
       "      <td>0.888889</td>\n",
       "      <td>0.000000</td>\n",
       "      <td>...</td>\n",
       "      <td>0.03125</td>\n",
       "      <td>0.428571</td>\n",
       "      <td>0.0</td>\n",
       "      <td>0.0</td>\n",
       "      <td>0.0</td>\n",
       "      <td>0.428571</td>\n",
       "      <td>0.428571</td>\n",
       "      <td>0.0</td>\n",
       "      <td>0.666667</td>\n",
       "      <td>0</td>\n",
       "    </tr>\n",
       "    <tr>\n",
       "      <th>46230</th>\n",
       "      <td>0.853846</td>\n",
       "      <td>0.0</td>\n",
       "      <td>0.4</td>\n",
       "      <td>0.141755</td>\n",
       "      <td>0.137625</td>\n",
       "      <td>0.411463</td>\n",
       "      <td>0.446894</td>\n",
       "      <td>0.292001</td>\n",
       "      <td>0.444444</td>\n",
       "      <td>0.166667</td>\n",
       "      <td>...</td>\n",
       "      <td>0.00000</td>\n",
       "      <td>0.012878</td>\n",
       "      <td>0.0</td>\n",
       "      <td>0.0</td>\n",
       "      <td>0.0</td>\n",
       "      <td>0.042485</td>\n",
       "      <td>0.095725</td>\n",
       "      <td>0.0</td>\n",
       "      <td>0.666667</td>\n",
       "      <td>0</td>\n",
       "    </tr>\n",
       "    <tr>\n",
       "      <th>46231</th>\n",
       "      <td>0.853846</td>\n",
       "      <td>0.0</td>\n",
       "      <td>0.4</td>\n",
       "      <td>0.055319</td>\n",
       "      <td>0.063025</td>\n",
       "      <td>0.281440</td>\n",
       "      <td>0.232378</td>\n",
       "      <td>0.876125</td>\n",
       "      <td>0.444444</td>\n",
       "      <td>0.166667</td>\n",
       "      <td>...</td>\n",
       "      <td>0.00000</td>\n",
       "      <td>0.039355</td>\n",
       "      <td>0.0</td>\n",
       "      <td>0.0</td>\n",
       "      <td>0.0</td>\n",
       "      <td>0.050177</td>\n",
       "      <td>0.134101</td>\n",
       "      <td>0.0</td>\n",
       "      <td>0.666667</td>\n",
       "      <td>0</td>\n",
       "    </tr>\n",
       "    <tr>\n",
       "      <th>46232</th>\n",
       "      <td>0.853846</td>\n",
       "      <td>0.0</td>\n",
       "      <td>0.4</td>\n",
       "      <td>0.136957</td>\n",
       "      <td>0.129784</td>\n",
       "      <td>0.423802</td>\n",
       "      <td>0.736695</td>\n",
       "      <td>0.979109</td>\n",
       "      <td>0.444444</td>\n",
       "      <td>0.166667</td>\n",
       "      <td>...</td>\n",
       "      <td>0.00000</td>\n",
       "      <td>0.000000</td>\n",
       "      <td>0.0</td>\n",
       "      <td>0.0</td>\n",
       "      <td>0.0</td>\n",
       "      <td>0.038544</td>\n",
       "      <td>0.130290</td>\n",
       "      <td>0.0</td>\n",
       "      <td>0.666667</td>\n",
       "      <td>0</td>\n",
       "    </tr>\n",
       "    <tr>\n",
       "      <th>46233</th>\n",
       "      <td>0.853846</td>\n",
       "      <td>0.0</td>\n",
       "      <td>0.4</td>\n",
       "      <td>0.175910</td>\n",
       "      <td>0.165289</td>\n",
       "      <td>0.504472</td>\n",
       "      <td>0.815716</td>\n",
       "      <td>0.942988</td>\n",
       "      <td>0.444444</td>\n",
       "      <td>0.166667</td>\n",
       "      <td>...</td>\n",
       "      <td>0.00000</td>\n",
       "      <td>0.000000</td>\n",
       "      <td>0.0</td>\n",
       "      <td>0.0</td>\n",
       "      <td>0.0</td>\n",
       "      <td>0.088547</td>\n",
       "      <td>0.025728</td>\n",
       "      <td>0.0</td>\n",
       "      <td>0.666667</td>\n",
       "      <td>0</td>\n",
       "    </tr>\n",
       "  </tbody>\n",
       "</table>\n",
       "<p>46234 rows × 43 columns</p>\n",
       "</div>"
      ],
      "text/plain": [
       "          proto  service  state     spkts     dpkts    sbytes    dbytes  \\\n",
       "0      0.900000      0.0    0.6  0.004255  0.000000  0.059374  0.000000   \n",
       "1      0.900000      0.0    0.6  0.004255  0.000000  0.318841  0.000000   \n",
       "2      0.900000      0.0    0.6  0.004255  0.000000  0.183731  0.000000   \n",
       "3      0.900000      0.0    0.6  0.004255  0.000000  0.144460  0.000000   \n",
       "4      0.900000      0.0    0.6  0.004255  0.000000  0.370734  0.000000   \n",
       "...         ...      ...    ...       ...       ...       ...       ...   \n",
       "46229  0.853846      0.0    0.8  0.038298  0.000000  0.050491  0.000000   \n",
       "46230  0.853846      0.0    0.4  0.141755  0.137625  0.411463  0.446894   \n",
       "46231  0.853846      0.0    0.4  0.055319  0.063025  0.281440  0.232378   \n",
       "46232  0.853846      0.0    0.4  0.136957  0.129784  0.423802  0.736695   \n",
       "46233  0.853846      0.0    0.4  0.175910  0.165289  0.504472  0.815716   \n",
       "\n",
       "           rate      sttl      dttl  ...  ct_dst_sport_ltm  ct_dst_src_ltm  \\\n",
       "0      0.998640  0.888889  0.000000  ...           0.00000        0.017857   \n",
       "1      0.999048  0.888889  0.000000  ...           0.00000        0.017857   \n",
       "2      0.999456  0.888889  0.000000  ...           0.00000        0.035714   \n",
       "3      0.999320  0.888889  0.000000  ...           0.00000        0.035714   \n",
       "4      0.998776  0.888889  0.000000  ...           0.00000        0.035714   \n",
       "...         ...       ...       ...  ...               ...             ...   \n",
       "46229  0.004489  0.888889  0.000000  ...           0.03125        0.428571   \n",
       "46230  0.292001  0.444444  0.166667  ...           0.00000        0.012878   \n",
       "46231  0.876125  0.444444  0.166667  ...           0.00000        0.039355   \n",
       "46232  0.979109  0.444444  0.166667  ...           0.00000        0.000000   \n",
       "46233  0.942988  0.444444  0.166667  ...           0.00000        0.000000   \n",
       "\n",
       "       is_ftp_login  ct_ftp_cmd  ct_flw_http_mthd  ct_src_ltm  ct_srv_dst  \\\n",
       "0               0.0         0.0               0.0    0.000000    0.017857   \n",
       "1               0.0         0.0               0.0    0.000000    0.017857   \n",
       "2               0.0         0.0               0.0    0.000000    0.035714   \n",
       "3               0.0         0.0               0.0    0.020408    0.035714   \n",
       "4               0.0         0.0               0.0    0.020408    0.035714   \n",
       "...             ...         ...               ...         ...         ...   \n",
       "46229           0.0         0.0               0.0    0.428571    0.428571   \n",
       "46230           0.0         0.0               0.0    0.042485    0.095725   \n",
       "46231           0.0         0.0               0.0    0.050177    0.134101   \n",
       "46232           0.0         0.0               0.0    0.038544    0.130290   \n",
       "46233           0.0         0.0               0.0    0.088547    0.025728   \n",
       "\n",
       "       is_sm_ips_ports  attack_cat  label  \n",
       "0                  0.0    0.666667      0  \n",
       "1                  0.0    0.666667      0  \n",
       "2                  0.0    0.666667      0  \n",
       "3                  0.0    0.666667      0  \n",
       "4                  0.0    0.666667      0  \n",
       "...                ...         ...    ...  \n",
       "46229              0.0    0.666667      0  \n",
       "46230              0.0    0.666667      0  \n",
       "46231              0.0    0.666667      0  \n",
       "46232              0.0    0.666667      0  \n",
       "46233              0.0    0.666667      0  \n",
       "\n",
       "[46234 rows x 43 columns]"
      ]
     },
     "execution_count": 10,
     "metadata": {},
     "output_type": "execute_result"
    }
   ],
   "source": [
    "df"
   ]
  },
  {
   "cell_type": "code",
   "execution_count": 11,
   "id": "90d38e8a",
   "metadata": {},
   "outputs": [],
   "source": [
    "df.to_csv('unsw_balanced2.csv')"
   ]
  },
  {
   "cell_type": "code",
   "execution_count": 12,
   "id": "638d0f67",
   "metadata": {},
   "outputs": [],
   "source": [
    "df = pd.read_csv(\"unsw_balanced2.csv\", index_col=0)"
   ]
  },
  {
   "cell_type": "code",
   "execution_count": 13,
   "id": "523db43f",
   "metadata": {
    "scrolled": true
   },
   "outputs": [
    {
     "name": "stdout",
     "output_type": "stream",
     "text": [
      "<class 'pandas.core.frame.DataFrame'>\n",
      "Int64Index: 46234 entries, 0 to 46233\n",
      "Data columns (total 43 columns):\n",
      " #   Column             Non-Null Count  Dtype  \n",
      "---  ------             --------------  -----  \n",
      " 0   proto              46234 non-null  float64\n",
      " 1   service            46234 non-null  float64\n",
      " 2   state              46234 non-null  float64\n",
      " 3   spkts              46234 non-null  float64\n",
      " 4   dpkts              46234 non-null  float64\n",
      " 5   sbytes             46234 non-null  float64\n",
      " 6   dbytes             46234 non-null  float64\n",
      " 7   rate               46234 non-null  float64\n",
      " 8   sttl               46234 non-null  float64\n",
      " 9   dttl               46234 non-null  float64\n",
      " 10  sload              46234 non-null  float64\n",
      " 11  dload              46234 non-null  float64\n",
      " 12  sloss              46234 non-null  float64\n",
      " 13  dloss              46234 non-null  float64\n",
      " 14  sinpkt             46234 non-null  float64\n",
      " 15  dinpkt             46234 non-null  float64\n",
      " 16  sjit               46234 non-null  float64\n",
      " 17  djit               46234 non-null  float64\n",
      " 18  swin               46234 non-null  float64\n",
      " 19  stcpb              46234 non-null  float64\n",
      " 20  dtcpb              46234 non-null  float64\n",
      " 21  dwin               46234 non-null  float64\n",
      " 22  tcprtt             46234 non-null  float64\n",
      " 23  synack             46234 non-null  float64\n",
      " 24  ackdat             46234 non-null  float64\n",
      " 25  smean              46234 non-null  float64\n",
      " 26  dmean              46234 non-null  float64\n",
      " 27  trans_depth        46234 non-null  float64\n",
      " 28  response_body_len  46234 non-null  float64\n",
      " 29  ct_srv_src         46234 non-null  float64\n",
      " 30  ct_state_ttl       46234 non-null  float64\n",
      " 31  ct_dst_ltm         46234 non-null  float64\n",
      " 32  ct_src_dport_ltm   46234 non-null  float64\n",
      " 33  ct_dst_sport_ltm   46234 non-null  float64\n",
      " 34  ct_dst_src_ltm     46234 non-null  float64\n",
      " 35  is_ftp_login       46234 non-null  float64\n",
      " 36  ct_ftp_cmd         46234 non-null  float64\n",
      " 37  ct_flw_http_mthd   46234 non-null  float64\n",
      " 38  ct_src_ltm         46234 non-null  float64\n",
      " 39  ct_srv_dst         46234 non-null  float64\n",
      " 40  is_sm_ips_ports    46234 non-null  float64\n",
      " 41  attack_cat         46234 non-null  float64\n",
      " 42  label              46234 non-null  int64  \n",
      "dtypes: float64(42), int64(1)\n",
      "memory usage: 15.5 MB\n"
     ]
    }
   ],
   "source": [
    "df.info()"
   ]
  },
  {
   "cell_type": "code",
   "execution_count": 14,
   "id": "09e194e1",
   "metadata": {},
   "outputs": [],
   "source": [
    "features = df.drop('label', axis = 1)"
   ]
  },
  {
   "cell_type": "code",
   "execution_count": 15,
   "id": "60e9cb4e",
   "metadata": {},
   "outputs": [],
   "source": [
    "features = features[['dpkts',\n",
    " 'sbytes',\n",
    " 'dbytes',\n",
    " 'rate',\n",
    " 'sttl',\n",
    " 'sload',\n",
    " 'tcprtt',\n",
    " 'synack',\n",
    " 'smean',\n",
    " 'dmean',\n",
    " 'ct_state_ttl',\n",
    " 'ct_dst_sport_ltm',\n",
    " 'ct_dst_src_ltm',\n",
    " 'ct_srv_dst',\n",
    " 'attack_cat']]"
   ]
  },
  {
   "cell_type": "code",
   "execution_count": 16,
   "id": "99f1525c",
   "metadata": {
    "scrolled": true
   },
   "outputs": [
    {
     "name": "stdout",
     "output_type": "stream",
     "text": [
      "<class 'pandas.core.frame.DataFrame'>\n",
      "Int64Index: 46234 entries, 0 to 46233\n",
      "Data columns (total 15 columns):\n",
      " #   Column            Non-Null Count  Dtype  \n",
      "---  ------            --------------  -----  \n",
      " 0   dpkts             46234 non-null  float64\n",
      " 1   sbytes            46234 non-null  float64\n",
      " 2   dbytes            46234 non-null  float64\n",
      " 3   rate              46234 non-null  float64\n",
      " 4   sttl              46234 non-null  float64\n",
      " 5   sload             46234 non-null  float64\n",
      " 6   tcprtt            46234 non-null  float64\n",
      " 7   synack            46234 non-null  float64\n",
      " 8   smean             46234 non-null  float64\n",
      " 9   dmean             46234 non-null  float64\n",
      " 10  ct_state_ttl      46234 non-null  float64\n",
      " 11  ct_dst_sport_ltm  46234 non-null  float64\n",
      " 12  ct_dst_src_ltm    46234 non-null  float64\n",
      " 13  ct_srv_dst        46234 non-null  float64\n",
      " 14  attack_cat        46234 non-null  float64\n",
      "dtypes: float64(15)\n",
      "memory usage: 5.6 MB\n"
     ]
    }
   ],
   "source": [
    "features.info()"
   ]
  },
  {
   "cell_type": "markdown",
   "id": "a065bbfc",
   "metadata": {},
   "source": [
    "## Isolation Forest"
   ]
  },
  {
   "cell_type": "code",
   "execution_count": 17,
   "id": "73042570",
   "metadata": {},
   "outputs": [
    {
     "data": {
      "text/plain": [
       "IsolationForest(n_jobs=-1, random_state=42)"
      ]
     },
     "execution_count": 17,
     "metadata": {},
     "output_type": "execute_result"
    }
   ],
   "source": [
    "from sklearn.ensemble import IsolationForest\n",
    "clf=IsolationForest(n_estimators=100, max_samples='auto', \\\n",
    "                        max_features=1.0, bootstrap=False, n_jobs=-1, random_state=42, verbose=0)\n",
    "clf.fit(features)"
   ]
  },
  {
   "cell_type": "code",
   "execution_count": 18,
   "id": "5b93c8c4",
   "metadata": {},
   "outputs": [
    {
     "name": "stdout",
     "output_type": "stream",
     "text": [
      " 1    37828\n",
      "-1     8406\n",
      "Name: anomaly, dtype: int64\n"
     ]
    }
   ],
   "source": [
    "pred = clf.predict(features)\n",
    "features['anomaly']=pred\n",
    "outliers=features.loc[features['anomaly']==-1]\n",
    "outlier_index=list(outliers.index)\n",
    "#print(outlier_index)\n",
    "#Find the number of anomalies and normal points here points classified -1 are anomalous\n",
    "print(features['anomaly'].value_counts())"
   ]
  },
  {
   "cell_type": "code",
   "execution_count": 19,
   "id": "7223df38",
   "metadata": {},
   "outputs": [
    {
     "name": "stdout",
     "output_type": "stream",
     "text": [
      "8406\n"
     ]
    }
   ],
   "source": [
    "outlier_label = []\n",
    "outlier_label = list(pred)\n",
    "\n",
    "print(outlier_label.count(-1))"
   ]
  },
  {
   "cell_type": "code",
   "execution_count": 20,
   "id": "4f9afa5e",
   "metadata": {},
   "outputs": [
    {
     "name": "stdout",
     "output_type": "stream",
     "text": [
      "0\n"
     ]
    }
   ],
   "source": [
    "c = 0\n",
    "end = 46234\n",
    "for i in range(0,end):\n",
    "    if df['label'][i] == 'anomaly' and outlier_label[i] == -1:\n",
    "        c += 1\n",
    "    \n",
    "print(c)"
   ]
  },
  {
   "cell_type": "code",
   "execution_count": 21,
   "id": "4b662278",
   "metadata": {},
   "outputs": [],
   "source": [
    "q = 0\n",
    "while q < len(outlier_label):\n",
    "    if outlier_label[q] == -1:\n",
    "        #print(q)\n",
    "        df.drop(q,axis=0,inplace =True)\n",
    "    q+=1"
   ]
  },
  {
   "cell_type": "code",
   "execution_count": 22,
   "id": "28d1cf59",
   "metadata": {},
   "outputs": [],
   "source": [
    "df.to_csv(r'unsw_isolation2.csv',encoding='utf-8',index=False)"
   ]
  },
  {
   "cell_type": "code",
   "execution_count": 24,
   "id": "a1639840",
   "metadata": {},
   "outputs": [
    {
     "data": {
      "text/plain": [
       "Text(0, 0.5, 'ct_srv_dst')"
      ]
     },
     "execution_count": 24,
     "metadata": {},
     "output_type": "execute_result"
    },
    {
     "data": {
      "image/png": "[encoded data removed]",
      "text/plain": [
       "<Figure size 504x360 with 1 Axes>"
      ]
     },
     "metadata": {
      "needs_background": "light"
     },
     "output_type": "display_data"
    }
   ],
   "source": [
    "outlier_label = np.array(outlier_label)\n",
    "#print(outlier_label)\n",
    "outlier_label = outlier_label.reshape(1,end)\n",
    "plt.figure(figsize=(7,5))\n",
    "# plt.scatter(features[outlier_label[0] == -1].ct_dst_src_ltm,\n",
    "#             features[outlier_label[0] == -1].ct_srv_dst,\n",
    "#             s=50,\n",
    "#             c='red',\n",
    "#             marker='o',\n",
    "#             edgecolors= 'black',\n",
    "#            label = 'anomaly')\n",
    "\n",
    "plt.scatter(features[outlier_label[0] == 1].ct_dst_src_ltm,\n",
    "            features[outlier_label[0] == 1].ct_srv_dst,\n",
    "            s=50,\n",
    "            c='blue',\n",
    "            marker='o',\n",
    "            edgecolors= 'black',\n",
    "            label='normal')\n",
    "\n",
    "plt.legend(loc = 'upper left')\n",
    "plt.xlabel('ct_dst_src_ltm')\n",
    "plt.ylabel('ct_srv_dst')"
   ]
  },
  {
   "cell_type": "code",
   "execution_count": 32,
   "id": "42b75b24",
   "metadata": {},
   "outputs": [
    {
     "data": {
      "image/png": "[encoded data removed]",
      "text/plain": [
       "<Figure size 432x288 with 1 Axes>"
      ]
     },
     "metadata": {
      "needs_background": "light"
     },
     "output_type": "display_data"
    }
   ],
   "source": [
    "import matplotlib.pyplot as plt\n",
    "from sklearn.decomposition import PCA\n",
    "from sklearn.preprocessing import StandardScaler\n",
    "from mpl_toolkits.mplot3d import Axes3D\n",
    "pca = PCA(n_components=3)  # Reduce to k=3 dimensions\n",
    "scaler = StandardScaler()\n",
    "#normalize the metrics\n",
    "X = scaler.fit_transform(features)\n",
    "X_reduce = pca.fit_transform(X)\n",
    "\n",
    "fig = plt.figure()\n",
    "ax = fig.add_subplot(111, projection='3d')\n",
    "ax.set_zlabel(\"x_composite_3\")\n",
    "\n",
    "# Plot the compressed data points\n",
    "ax.scatter(X_reduce[:, 0], X_reduce[:, 1], zs=X_reduce[:, 2], s=4, lw=1, label=\"inliers\",c=\"green\")\n",
    "\n",
    "# Plot x's for the ground truth outliers\n",
    "ax.scatter(X_reduce[outlier_index,0],X_reduce[outlier_index,1], X_reduce[outlier_index,2],\n",
    "           lw=2, s=60, marker=\"x\", c=\"red\", label=\"outliers\")\n",
    "ax.legend()\n",
    "plt.show()"
   ]
  },
  {
   "cell_type": "markdown",
   "id": "b7ab313f",
   "metadata": {},
   "source": [
    "## DBScan"
   ]
  },
  {
   "cell_type": "code",
   "execution_count": 46,
   "id": "463b1880",
   "metadata": {},
   "outputs": [],
   "source": [
    "df = pd.read_csv(\"unsw_balanced2.csv\", index_col=0)"
   ]
  },
  {
   "cell_type": "code",
   "execution_count": 47,
   "id": "86ecb415",
   "metadata": {},
   "outputs": [],
   "source": [
    "features = df[['dpkts',\n",
    " 'sbytes',\n",
    " 'dbytes',\n",
    " 'rate',\n",
    " 'sttl',\n",
    " 'sload',\n",
    " 'tcprtt',\n",
    " 'synack',\n",
    " 'smean',\n",
    " 'dmean',\n",
    " 'ct_state_ttl',\n",
    " 'ct_dst_sport_ltm',\n",
    " 'ct_dst_src_ltm',\n",
    " 'ct_srv_dst',\n",
    " 'attack_cat']]"
   ]
  },
  {
   "cell_type": "code",
   "execution_count": 48,
   "id": "374b977f",
   "metadata": {},
   "outputs": [],
   "source": [
    "from sklearn.neighbors import NearestNeighbors\n",
    "\n",
    "neigh = NearestNeighbors(n_neighbors=2,algorithm = 'ball_tree')\n",
    "nbrs = neigh.fit(features)\n",
    "\n",
    "distances, indices = nbrs.kneighbors(features)"
   ]
  },
  {
   "cell_type": "code",
   "execution_count": 49,
   "id": "2a2637cd",
   "metadata": {},
   "outputs": [
    {
     "data": {
      "image/png": "[encoded data removed]",
      "text/plain": [
       "<Figure size 720x504 with 1 Axes>"
      ]
     },
     "metadata": {
      "needs_background": "light"
     },
     "output_type": "display_data"
    }
   ],
   "source": [
    "distances = np.sort(distances,axis = 0)\n",
    "distances = distances[:,1]\n",
    "plt.figure(figsize = (10,7))\n",
    "plt.plot(distances,color='blue', linestyle='dashed')\n",
    "plt.grid()"
   ]
  },
  {
   "cell_type": "code",
   "execution_count": 50,
   "id": "f9807789",
   "metadata": {},
   "outputs": [],
   "source": [
    "from sklearn.cluster import DBSCAN\n",
    "dbscan = DBSCAN(eps = 0.1,min_samples = 100)\n",
    "\n",
    "model = dbscan.fit(features)"
   ]
  },
  {
   "cell_type": "code",
   "execution_count": 51,
   "id": "af0fba11",
   "metadata": {},
   "outputs": [
    {
     "name": "stdout",
     "output_type": "stream",
     "text": [
      "[-1 30 -1 ... 24 19 19]\n"
     ]
    }
   ],
   "source": [
    "outlier_label = model.labels_\n",
    "print(outlier_label)"
   ]
  },
  {
   "cell_type": "code",
   "execution_count": 52,
   "id": "ce058a78",
   "metadata": {},
   "outputs": [
    {
     "name": "stdout",
     "output_type": "stream",
     "text": [
      "10619\n"
     ]
    }
   ],
   "source": [
    "count = 0\n",
    "for i in outlier_label:\n",
    "    if i == -1:\n",
    "        count = count + 1\n",
    "print(count)"
   ]
  },
  {
   "cell_type": "code",
   "execution_count": 53,
   "id": "64f7d636",
   "metadata": {},
   "outputs": [],
   "source": [
    "q = 0\n",
    "while q < len(outlier_label):\n",
    "    if outlier_label[q] == -1:\n",
    "        df.drop(q,axis=0,inplace =True)\n",
    "    q+=1"
   ]
  },
  {
   "cell_type": "code",
   "execution_count": 54,
   "id": "fd31e4f8",
   "metadata": {},
   "outputs": [],
   "source": [
    "df.to_csv(r'unsw_dbscan2.csv',encoding='utf-8',index=False)"
   ]
  },
  {
   "cell_type": "markdown",
   "id": "6811b5f6",
   "metadata": {},
   "source": [
    "## KMeans"
   ]
  },
  {
   "cell_type": "code",
   "execution_count": 22,
   "id": "b2926622",
   "metadata": {},
   "outputs": [],
   "source": [
    "df = pd.read_csv(\"unsw_balanced2.csv\", index_col=0)"
   ]
  },
  {
   "cell_type": "code",
   "execution_count": 23,
   "id": "3dc42f3c",
   "metadata": {},
   "outputs": [],
   "source": [
    "features = df[['dpkts',\n",
    " 'sbytes',\n",
    " 'dbytes',\n",
    " 'rate',\n",
    " 'sttl',\n",
    " 'sload',\n",
    " 'tcprtt',\n",
    " 'synack',\n",
    " 'smean',\n",
    " 'dmean',\n",
    " 'ct_state_ttl',\n",
    " 'ct_dst_sport_ltm',\n",
    " 'ct_dst_src_ltm',\n",
    " 'ct_srv_dst',\n",
    " 'attack_cat']]"
   ]
  },
  {
   "cell_type": "code",
   "execution_count": 24,
   "id": "536e1e82",
   "metadata": {},
   "outputs": [
    {
     "data": {
      "image/png": "[encoded data removed]",
      "text/plain": [
       "<Figure size 432x288 with 1 Axes>"
      ]
     },
     "metadata": {
      "needs_background": "light"
     },
     "output_type": "display_data"
    }
   ],
   "source": [
    "from sklearn.cluster import KMeans\n",
    "from sklearn.metrics import silhouette_score\n",
    "\n",
    "kmeans_per_k = [KMeans(n_clusters=k, random_state = 42).fit(features) for k in range(1,10)]\n",
    "silhouette_score = [silhouette_score(features,model.labels_) for model in kmeans_per_k[1:]]\n",
    "plt.plot(range(2,10),silhouette_score,color='blue', linestyle='dashed', marker='o',\n",
    "         markerfacecolor='red', markersize=10, label = \"Silhouette Curve\")\n",
    "k = np.argmax(silhouette_score) + 2\n",
    "plt.axvline(x = k, linestyle = '--', c='green', label = \"optimal number of clusters ({})\".format(k))\n",
    "plt.scatter(k,silhouette_score[k-2],c = 'red',s=400)\n",
    "plt.legend(shadow = True)\n",
    "plt.ylabel(\"Silhouette scores\")\n",
    "plt.xlabel(\"values of K\")\n",
    "plt.grid()"
   ]
  },
  {
   "cell_type": "code",
   "execution_count": 26,
   "id": "f6d9a8d0",
   "metadata": {},
   "outputs": [
    {
     "ename": "KeyboardInterrupt",
     "evalue": "",
     "output_type": "error",
     "traceback": [
      "\u001b[1;31m---------------------------------------------------------------------------\u001b[0m",
      "\u001b[1;31mKeyboardInterrupt\u001b[0m                         Traceback (most recent call last)",
      "\u001b[1;32m<ipython-input-26-5ecfc4f7ab29>\u001b[0m in \u001b[0;36m<module>\u001b[1;34m\u001b[0m\n\u001b[0;32m     12\u001b[0m \u001b[0mcluster_labels\u001b[0m \u001b[1;33m=\u001b[0m \u001b[0mnp\u001b[0m\u001b[1;33m.\u001b[0m\u001b[0munique\u001b[0m\u001b[1;33m(\u001b[0m\u001b[0my_km\u001b[0m\u001b[1;33m)\u001b[0m\u001b[1;33m\u001b[0m\u001b[1;33m\u001b[0m\u001b[0m\n\u001b[0;32m     13\u001b[0m \u001b[0mn_clusters\u001b[0m \u001b[1;33m=\u001b[0m \u001b[0mcluster_labels\u001b[0m\u001b[1;33m.\u001b[0m\u001b[0mshape\u001b[0m\u001b[1;33m[\u001b[0m\u001b[1;36m0\u001b[0m\u001b[1;33m]\u001b[0m\u001b[1;33m\u001b[0m\u001b[1;33m\u001b[0m\u001b[0m\n\u001b[1;32m---> 14\u001b[1;33m \u001b[0msilhouette_vals\u001b[0m \u001b[1;33m=\u001b[0m \u001b[0msilhouette_samples\u001b[0m\u001b[1;33m(\u001b[0m\u001b[0mfeatures\u001b[0m\u001b[1;33m,\u001b[0m \u001b[0my_km\u001b[0m\u001b[1;33m,\u001b[0m \u001b[0mmetric\u001b[0m\u001b[1;33m=\u001b[0m\u001b[1;34m'euclidean'\u001b[0m\u001b[1;33m)\u001b[0m\u001b[1;33m\u001b[0m\u001b[1;33m\u001b[0m\u001b[0m\n\u001b[0m\u001b[0;32m     15\u001b[0m \u001b[0my_ax_lower\u001b[0m\u001b[1;33m,\u001b[0m \u001b[0my_ax_upper\u001b[0m \u001b[1;33m=\u001b[0m \u001b[1;36m0\u001b[0m\u001b[1;33m,\u001b[0m \u001b[1;36m0\u001b[0m\u001b[1;33m\u001b[0m\u001b[1;33m\u001b[0m\u001b[0m\n\u001b[0;32m     16\u001b[0m \u001b[0myticks\u001b[0m \u001b[1;33m=\u001b[0m \u001b[1;33m[\u001b[0m\u001b[1;33m]\u001b[0m\u001b[1;33m\u001b[0m\u001b[1;33m\u001b[0m\u001b[0m\n",
      "\u001b[1;32m~\\anaconda3\\lib\\site-packages\\sklearn\\utils\\validation.py\u001b[0m in \u001b[0;36minner_f\u001b[1;34m(*args, **kwargs)\u001b[0m\n\u001b[0;32m     61\u001b[0m             \u001b[0mextra_args\u001b[0m \u001b[1;33m=\u001b[0m \u001b[0mlen\u001b[0m\u001b[1;33m(\u001b[0m\u001b[0margs\u001b[0m\u001b[1;33m)\u001b[0m \u001b[1;33m-\u001b[0m \u001b[0mlen\u001b[0m\u001b[1;33m(\u001b[0m\u001b[0mall_args\u001b[0m\u001b[1;33m)\u001b[0m\u001b[1;33m\u001b[0m\u001b[1;33m\u001b[0m\u001b[0m\n\u001b[0;32m     62\u001b[0m             \u001b[1;32mif\u001b[0m \u001b[0mextra_args\u001b[0m \u001b[1;33m<=\u001b[0m \u001b[1;36m0\u001b[0m\u001b[1;33m:\u001b[0m\u001b[1;33m\u001b[0m\u001b[1;33m\u001b[0m\u001b[0m\n\u001b[1;32m---> 63\u001b[1;33m                 \u001b[1;32mreturn\u001b[0m \u001b[0mf\u001b[0m\u001b[1;33m(\u001b[0m\u001b[1;33m*\u001b[0m\u001b[0margs\u001b[0m\u001b[1;33m,\u001b[0m \u001b[1;33m**\u001b[0m\u001b[0mkwargs\u001b[0m\u001b[1;33m)\u001b[0m\u001b[1;33m\u001b[0m\u001b[1;33m\u001b[0m\u001b[0m\n\u001b[0m\u001b[0;32m     64\u001b[0m \u001b[1;33m\u001b[0m\u001b[0m\n\u001b[0;32m     65\u001b[0m             \u001b[1;31m# extra_args > 0\u001b[0m\u001b[1;33m\u001b[0m\u001b[1;33m\u001b[0m\u001b[1;33m\u001b[0m\u001b[0m\n",
      "\u001b[1;32m~\\anaconda3\\lib\\site-packages\\sklearn\\metrics\\cluster\\_unsupervised.py\u001b[0m in \u001b[0;36msilhouette_samples\u001b[1;34m(X, labels, metric, **kwds)\u001b[0m\n\u001b[0;32m    232\u001b[0m     reduce_func = functools.partial(_silhouette_reduce,\n\u001b[0;32m    233\u001b[0m                                     labels=labels, label_freqs=label_freqs)\n\u001b[1;32m--> 234\u001b[1;33m     results = zip(*pairwise_distances_chunked(X, reduce_func=reduce_func,\n\u001b[0m\u001b[0;32m    235\u001b[0m                                               **kwds))\n\u001b[0;32m    236\u001b[0m     \u001b[0mintra_clust_dists\u001b[0m\u001b[1;33m,\u001b[0m \u001b[0minter_clust_dists\u001b[0m \u001b[1;33m=\u001b[0m \u001b[0mresults\u001b[0m\u001b[1;33m\u001b[0m\u001b[1;33m\u001b[0m\u001b[0m\n",
      "\u001b[1;32m~\\anaconda3\\lib\\site-packages\\sklearn\\metrics\\pairwise.py\u001b[0m in \u001b[0;36mpairwise_distances_chunked\u001b[1;34m(X, Y, reduce_func, metric, n_jobs, working_memory, **kwds)\u001b[0m\n\u001b[0;32m   1621\u001b[0m         \u001b[1;32melse\u001b[0m\u001b[1;33m:\u001b[0m\u001b[1;33m\u001b[0m\u001b[1;33m\u001b[0m\u001b[0m\n\u001b[0;32m   1622\u001b[0m             \u001b[0mX_chunk\u001b[0m \u001b[1;33m=\u001b[0m \u001b[0mX\u001b[0m\u001b[1;33m[\u001b[0m\u001b[0msl\u001b[0m\u001b[1;33m]\u001b[0m\u001b[1;33m\u001b[0m\u001b[1;33m\u001b[0m\u001b[0m\n\u001b[1;32m-> 1623\u001b[1;33m         D_chunk = pairwise_distances(X_chunk, Y, metric=metric,\n\u001b[0m\u001b[0;32m   1624\u001b[0m                                      n_jobs=n_jobs, **kwds)\n\u001b[0;32m   1625\u001b[0m         if ((X is Y or Y is None)\n",
      "\u001b[1;32m~\\anaconda3\\lib\\site-packages\\sklearn\\utils\\validation.py\u001b[0m in \u001b[0;36minner_f\u001b[1;34m(*args, **kwargs)\u001b[0m\n\u001b[0;32m     61\u001b[0m             \u001b[0mextra_args\u001b[0m \u001b[1;33m=\u001b[0m \u001b[0mlen\u001b[0m\u001b[1;33m(\u001b[0m\u001b[0margs\u001b[0m\u001b[1;33m)\u001b[0m \u001b[1;33m-\u001b[0m \u001b[0mlen\u001b[0m\u001b[1;33m(\u001b[0m\u001b[0mall_args\u001b[0m\u001b[1;33m)\u001b[0m\u001b[1;33m\u001b[0m\u001b[1;33m\u001b[0m\u001b[0m\n\u001b[0;32m     62\u001b[0m             \u001b[1;32mif\u001b[0m \u001b[0mextra_args\u001b[0m \u001b[1;33m<=\u001b[0m \u001b[1;36m0\u001b[0m\u001b[1;33m:\u001b[0m\u001b[1;33m\u001b[0m\u001b[1;33m\u001b[0m\u001b[0m\n\u001b[1;32m---> 63\u001b[1;33m                 \u001b[1;32mreturn\u001b[0m \u001b[0mf\u001b[0m\u001b[1;33m(\u001b[0m\u001b[1;33m*\u001b[0m\u001b[0margs\u001b[0m\u001b[1;33m,\u001b[0m \u001b[1;33m**\u001b[0m\u001b[0mkwargs\u001b[0m\u001b[1;33m)\u001b[0m\u001b[1;33m\u001b[0m\u001b[1;33m\u001b[0m\u001b[0m\n\u001b[0m\u001b[0;32m     64\u001b[0m \u001b[1;33m\u001b[0m\u001b[0m\n\u001b[0;32m     65\u001b[0m             \u001b[1;31m# extra_args > 0\u001b[0m\u001b[1;33m\u001b[0m\u001b[1;33m\u001b[0m\u001b[1;33m\u001b[0m\u001b[0m\n",
      "\u001b[1;32m~\\anaconda3\\lib\\site-packages\\sklearn\\metrics\\pairwise.py\u001b[0m in \u001b[0;36mpairwise_distances\u001b[1;34m(X, Y, metric, n_jobs, force_all_finite, **kwds)\u001b[0m\n\u001b[0;32m   1788\u001b[0m         \u001b[0mfunc\u001b[0m \u001b[1;33m=\u001b[0m \u001b[0mpartial\u001b[0m\u001b[1;33m(\u001b[0m\u001b[0mdistance\u001b[0m\u001b[1;33m.\u001b[0m\u001b[0mcdist\u001b[0m\u001b[1;33m,\u001b[0m \u001b[0mmetric\u001b[0m\u001b[1;33m=\u001b[0m\u001b[0mmetric\u001b[0m\u001b[1;33m,\u001b[0m \u001b[1;33m**\u001b[0m\u001b[0mkwds\u001b[0m\u001b[1;33m)\u001b[0m\u001b[1;33m\u001b[0m\u001b[1;33m\u001b[0m\u001b[0m\n\u001b[0;32m   1789\u001b[0m \u001b[1;33m\u001b[0m\u001b[0m\n\u001b[1;32m-> 1790\u001b[1;33m     \u001b[1;32mreturn\u001b[0m \u001b[0m_parallel_pairwise\u001b[0m\u001b[1;33m(\u001b[0m\u001b[0mX\u001b[0m\u001b[1;33m,\u001b[0m \u001b[0mY\u001b[0m\u001b[1;33m,\u001b[0m \u001b[0mfunc\u001b[0m\u001b[1;33m,\u001b[0m \u001b[0mn_jobs\u001b[0m\u001b[1;33m,\u001b[0m \u001b[1;33m**\u001b[0m\u001b[0mkwds\u001b[0m\u001b[1;33m)\u001b[0m\u001b[1;33m\u001b[0m\u001b[1;33m\u001b[0m\u001b[0m\n\u001b[0m\u001b[0;32m   1791\u001b[0m \u001b[1;33m\u001b[0m\u001b[0m\n\u001b[0;32m   1792\u001b[0m \u001b[1;33m\u001b[0m\u001b[0m\n",
      "\u001b[1;32m~\\anaconda3\\lib\\site-packages\\sklearn\\metrics\\pairwise.py\u001b[0m in \u001b[0;36m_parallel_pairwise\u001b[1;34m(X, Y, func, n_jobs, **kwds)\u001b[0m\n\u001b[0;32m   1357\u001b[0m \u001b[1;33m\u001b[0m\u001b[0m\n\u001b[0;32m   1358\u001b[0m     \u001b[1;32mif\u001b[0m \u001b[0meffective_n_jobs\u001b[0m\u001b[1;33m(\u001b[0m\u001b[0mn_jobs\u001b[0m\u001b[1;33m)\u001b[0m \u001b[1;33m==\u001b[0m \u001b[1;36m1\u001b[0m\u001b[1;33m:\u001b[0m\u001b[1;33m\u001b[0m\u001b[1;33m\u001b[0m\u001b[0m\n\u001b[1;32m-> 1359\u001b[1;33m         \u001b[1;32mreturn\u001b[0m \u001b[0mfunc\u001b[0m\u001b[1;33m(\u001b[0m\u001b[0mX\u001b[0m\u001b[1;33m,\u001b[0m \u001b[0mY\u001b[0m\u001b[1;33m,\u001b[0m \u001b[1;33m**\u001b[0m\u001b[0mkwds\u001b[0m\u001b[1;33m)\u001b[0m\u001b[1;33m\u001b[0m\u001b[1;33m\u001b[0m\u001b[0m\n\u001b[0m\u001b[0;32m   1360\u001b[0m \u001b[1;33m\u001b[0m\u001b[0m\n\u001b[0;32m   1361\u001b[0m     \u001b[1;31m# enforce a threading backend to prevent data communication overhead\u001b[0m\u001b[1;33m\u001b[0m\u001b[1;33m\u001b[0m\u001b[1;33m\u001b[0m\u001b[0m\n",
      "\u001b[1;32m~\\anaconda3\\lib\\site-packages\\sklearn\\utils\\validation.py\u001b[0m in \u001b[0;36minner_f\u001b[1;34m(*args, **kwargs)\u001b[0m\n\u001b[0;32m     61\u001b[0m             \u001b[0mextra_args\u001b[0m \u001b[1;33m=\u001b[0m \u001b[0mlen\u001b[0m\u001b[1;33m(\u001b[0m\u001b[0margs\u001b[0m\u001b[1;33m)\u001b[0m \u001b[1;33m-\u001b[0m \u001b[0mlen\u001b[0m\u001b[1;33m(\u001b[0m\u001b[0mall_args\u001b[0m\u001b[1;33m)\u001b[0m\u001b[1;33m\u001b[0m\u001b[1;33m\u001b[0m\u001b[0m\n\u001b[0;32m     62\u001b[0m             \u001b[1;32mif\u001b[0m \u001b[0mextra_args\u001b[0m \u001b[1;33m<=\u001b[0m \u001b[1;36m0\u001b[0m\u001b[1;33m:\u001b[0m\u001b[1;33m\u001b[0m\u001b[1;33m\u001b[0m\u001b[0m\n\u001b[1;32m---> 63\u001b[1;33m                 \u001b[1;32mreturn\u001b[0m \u001b[0mf\u001b[0m\u001b[1;33m(\u001b[0m\u001b[1;33m*\u001b[0m\u001b[0margs\u001b[0m\u001b[1;33m,\u001b[0m \u001b[1;33m**\u001b[0m\u001b[0mkwargs\u001b[0m\u001b[1;33m)\u001b[0m\u001b[1;33m\u001b[0m\u001b[1;33m\u001b[0m\u001b[0m\n\u001b[0m\u001b[0;32m     64\u001b[0m \u001b[1;33m\u001b[0m\u001b[0m\n\u001b[0;32m     65\u001b[0m             \u001b[1;31m# extra_args > 0\u001b[0m\u001b[1;33m\u001b[0m\u001b[1;33m\u001b[0m\u001b[1;33m\u001b[0m\u001b[0m\n",
      "\u001b[1;32m~\\anaconda3\\lib\\site-packages\\sklearn\\metrics\\pairwise.py\u001b[0m in \u001b[0;36meuclidean_distances\u001b[1;34m(X, Y, Y_norm_squared, squared, X_norm_squared)\u001b[0m\n\u001b[0;32m    311\u001b[0m     \u001b[1;32melse\u001b[0m\u001b[1;33m:\u001b[0m\u001b[1;33m\u001b[0m\u001b[1;33m\u001b[0m\u001b[0m\n\u001b[0;32m    312\u001b[0m         \u001b[1;31m# if dtype is already float64, no need to chunk and upcast\u001b[0m\u001b[1;33m\u001b[0m\u001b[1;33m\u001b[0m\u001b[1;33m\u001b[0m\u001b[0m\n\u001b[1;32m--> 313\u001b[1;33m         \u001b[0mdistances\u001b[0m \u001b[1;33m=\u001b[0m \u001b[1;33m-\u001b[0m \u001b[1;36m2\u001b[0m \u001b[1;33m*\u001b[0m \u001b[0msafe_sparse_dot\u001b[0m\u001b[1;33m(\u001b[0m\u001b[0mX\u001b[0m\u001b[1;33m,\u001b[0m \u001b[0mY\u001b[0m\u001b[1;33m.\u001b[0m\u001b[0mT\u001b[0m\u001b[1;33m,\u001b[0m \u001b[0mdense_output\u001b[0m\u001b[1;33m=\u001b[0m\u001b[1;32mTrue\u001b[0m\u001b[1;33m)\u001b[0m\u001b[1;33m\u001b[0m\u001b[1;33m\u001b[0m\u001b[0m\n\u001b[0m\u001b[0;32m    314\u001b[0m         \u001b[0mdistances\u001b[0m \u001b[1;33m+=\u001b[0m \u001b[0mXX\u001b[0m\u001b[1;33m\u001b[0m\u001b[1;33m\u001b[0m\u001b[0m\n\u001b[0;32m    315\u001b[0m         \u001b[0mdistances\u001b[0m \u001b[1;33m+=\u001b[0m \u001b[0mYY\u001b[0m\u001b[1;33m\u001b[0m\u001b[1;33m\u001b[0m\u001b[0m\n",
      "\u001b[1;31mKeyboardInterrupt\u001b[0m: "
     ]
    }
   ],
   "source": [
    "from matplotlib import cm\n",
    "from sklearn.metrics import silhouette_samples\n",
    "\n",
    "km = KMeans(n_clusters=8, \n",
    "            init='k-means++', \n",
    "            n_init=10, \n",
    "            max_iter=300,\n",
    "            tol=1e-04,\n",
    "            random_state=42)\n",
    "y_km = km.fit_predict(features)\n",
    "\n",
    "cluster_labels = np.unique(y_km)\n",
    "n_clusters = cluster_labels.shape[0]\n",
    "silhouette_vals = silhouette_samples(features, y_km, metric='euclidean')\n",
    "y_ax_lower, y_ax_upper = 0, 0\n",
    "yticks = []\n",
    "for i, c in enumerate(cluster_labels):\n",
    "    c_silhouette_vals = silhouette_vals[y_km == c]\n",
    "    c_silhouette_vals.sort()\n",
    "    y_ax_upper += len(c_silhouette_vals)\n",
    "    color = cm.jet(float(i) / n_clusters)\n",
    "    plt.barh(range(y_ax_lower, y_ax_upper), c_silhouette_vals, height=1.0, \n",
    "             edgecolor='none', color=color)\n",
    "\n",
    "    yticks.append((y_ax_lower + y_ax_upper) / 2.)\n",
    "    y_ax_lower += len(c_silhouette_vals)\n",
    "    \n",
    "silhouette_avg = np.mean(silhouette_vals)\n",
    "plt.axvline(silhouette_avg, color=\"red\", linestyle=\"--\") \n",
    "\n",
    "plt.yticks(yticks, cluster_labels + 1)\n",
    "plt.ylabel('Cluster')\n",
    "plt.xlabel('Silhouette coefficient')\n",
    "\n",
    "plt.tight_layout()\n",
    "# plt.savefig('./figures/silhouette.png', dpi=300)\n",
    "plt.show()"
   ]
  },
  {
   "cell_type": "code",
   "execution_count": 17,
   "id": "6370df13",
   "metadata": {},
   "outputs": [
    {
     "data": {
      "text/plain": [
       "Text(0, 0.5, 'wcss')"
      ]
     },
     "execution_count": 17,
     "metadata": {},
     "output_type": "execute_result"
    },
    {
     "data": {
      "image/png": "[encoded data removed]",
      "text/plain": [
       "<Figure size 432x288 with 1 Axes>"
      ]
     },
     "metadata": {
      "needs_background": "light"
     },
     "output_type": "display_data"
    }
   ],
   "source": [
    "wcss = []\n",
    "for i in range(1,10):\n",
    "    kmeans = KMeans(n_clusters = i,init = 'k-means++',random_state=42)\n",
    "    kmeans.fit(features)\n",
    "    wcss.append(kmeans.inertia_)\n",
    "plt.plot(range(1,10),wcss,color='blue', linestyle='dashed', marker='o',\n",
    "         markerfacecolor='red', markersize=10)\n",
    "plt.title('the elbow method')\n",
    "plt.xlabel('Number of Clusters')\n",
    "plt.ylabel('wcss')"
   ]
  },
  {
   "cell_type": "code",
   "execution_count": 27,
   "id": "14bbbc41",
   "metadata": {},
   "outputs": [
    {
     "data": {
      "text/plain": [
       "KMeans(random_state=42)"
      ]
     },
     "execution_count": 27,
     "metadata": {},
     "output_type": "execute_result"
    }
   ],
   "source": [
    "clustering = KMeans(n_clusters = 8, init = 'k-means++',random_state=42)\n",
    "clustering.fit(features)"
   ]
  },
  {
   "cell_type": "code",
   "execution_count": 28,
   "id": "5eddd50f",
   "metadata": {},
   "outputs": [],
   "source": [
    "cluster_centers = list(clustering.cluster_centers_)"
   ]
  },
  {
   "cell_type": "code",
   "execution_count": 29,
   "id": "9ee15513",
   "metadata": {},
   "outputs": [
    {
     "data": {
      "text/plain": [
       "46234"
      ]
     },
     "execution_count": 29,
     "metadata": {},
     "output_type": "execute_result"
    }
   ],
   "source": [
    "df.shape[0]"
   ]
  },
  {
   "cell_type": "code",
   "execution_count": 30,
   "id": "e8cdeb54",
   "metadata": {},
   "outputs": [],
   "source": [
    "from scipy.spatial import distance\n",
    "from scipy.spatial.distance import cdist \n",
    "\n",
    "end = df.shape[0]\n",
    "distances = []\n",
    "for i in range(0,end):\n",
    "    center = list(cluster_centers[clustering.labels_[i]])\n",
    "    objects = list(features.iloc[i])\n",
    "    distances.append(distance.euclidean(center,objects))"
   ]
  },
  {
   "cell_type": "code",
   "execution_count": 31,
   "id": "0d30b30f",
   "metadata": {},
   "outputs": [],
   "source": [
    "zero = []\n",
    "one = []\n",
    "two = []\n",
    "three = []\n",
    "four = []\n",
    "five = []\n",
    "six = []\n",
    "seven = []\n",
    "eight = []\n",
    "for i in range(0,end):\n",
    "    if clustering.labels_[i] == 0:\n",
    "        zero.append(distances[i])\n",
    "    elif clustering.labels_[i] == 1:\n",
    "        one.append(distances[i])\n",
    "    elif clustering.labels_[i] == 2:\n",
    "        two.append(distances[i])\n",
    "    elif clustering.labels_[i] == 3:\n",
    "        three.append(distances[i])\n",
    "    elif clustering.labels_[i] == 4:\n",
    "        four.append(distances[i])\n",
    "    elif clustering.labels_[i] == 5:\n",
    "        five.append(distances[i])\n",
    "    elif clustering.labels_[i] == 6:\n",
    "        six.append(distances[i])\n",
    "    else:\n",
    "        seven.append(distances[i])"
   ]
  },
  {
   "cell_type": "code",
   "execution_count": 32,
   "id": "8f3cad93",
   "metadata": {},
   "outputs": [],
   "source": [
    "zero_mean = np.array(zero).mean()\n",
    "one_mean = np.array(one).mean()\n",
    "two_mean = np.array(two).mean()\n",
    "three_mean = np.array(three).mean()\n",
    "four_mean = np.array(four).mean()\n",
    "five_mean = np.array(five).mean()\n",
    "six_mean = np.array(six).mean()\n",
    "seven_mean = np.array(seven).mean()"
   ]
  },
  {
   "cell_type": "code",
   "execution_count": 33,
   "id": "49f9735b",
   "metadata": {},
   "outputs": [],
   "source": [
    "outlier_score = []\n",
    "outlier_score_zero = []\n",
    "outlier_score_one = []\n",
    "outlier_score_two = []\n",
    "outlier_score_three = []\n",
    "outlier_score_four = []\n",
    "outlier_score_five = []\n",
    "outlier_score_six = []\n",
    "outlier_score_seven = []\n",
    "outlier_score_eight = []\n",
    "\n",
    "for i in range(0,end):\n",
    "    if clustering.labels_[i] == 0:\n",
    "        outlier_score.append(distances[i]/zero_mean)\n",
    "        outlier_score_zero.append(distances[i]/zero_mean)\n",
    "    elif clustering.labels_[i] == 1:\n",
    "         outlier_score.append(distances[i]/one_mean)\n",
    "         outlier_score_one.append(distances[i]/one_mean)\n",
    "    elif clustering.labels_[i] == 2:\n",
    "         outlier_score.append(distances[i]/two_mean)\n",
    "         outlier_score_two.append(distances[i]/two_mean)\n",
    "    elif clustering.labels_[i] == 3:\n",
    "         outlier_score.append(distances[i]/three_mean)\n",
    "         outlier_score_three.append(distances[i]/three_mean)\n",
    "    elif clustering.labels_[i] == 4:\n",
    "         outlier_score.append(distances[i]/four_mean)\n",
    "         outlier_score_four.append(distances[i]/four_mean)\n",
    "    elif clustering.labels_[i] == 5:\n",
    "         outlier_score.append(distances[i]/five_mean)\n",
    "         outlier_score_five.append(distances[i]/five_mean)\n",
    "    elif clustering.labels_[i] == 6:\n",
    "         outlier_score.append(distances[i]/six_mean)\n",
    "         outlier_score_six.append(distances[i]/six_mean)\n",
    "    elif clustering.labels_[i] == 7:\n",
    "         outlier_score.append(distances[i]/seven_mean)\n",
    "         outlier_score_seven.append(distances[i]/seven_mean)"
   ]
  },
  {
   "cell_type": "code",
   "execution_count": 34,
   "id": "652bbb87",
   "metadata": {},
   "outputs": [],
   "source": [
    "score_zero = np.array(outlier_score_zero)\n",
    "score_one = np.array(outlier_score_one)\n",
    "score_two = np.array(outlier_score_two)\n",
    "score_three = np.array(outlier_score_three)\n",
    "score_four = np.array(outlier_score_four)\n",
    "score_five = np.array(outlier_score_five)\n",
    "score_six = np.array(outlier_score_six)\n",
    "score_seven = np.array(outlier_score_seven)"
   ]
  },
  {
   "cell_type": "code",
   "execution_count": 35,
   "id": "7c66fc43",
   "metadata": {},
   "outputs": [],
   "source": [
    "def boxplot(dist_list):\n",
    "    sort_score_zero = sorted(dist_list)\n",
    "    med1 = np.argwhere(sort_score_zero == np.percentile(sort_score_zero,50,interpolation='nearest'))\n",
    "    med1 = med1[0][0]\n",
    "    #print(med1)\n",
    "    firsthalf = sort_score_zero[0:med1+1]\n",
    "    lasthalf = sort_score_zero[med1+1:]\n",
    "    firsthalf = np.array(firsthalf)\n",
    "    lasthalf = np.array(lasthalf)\n",
    "    q1_index = np.argwhere(firsthalf == np.percentile(firsthalf,50,interpolation='nearest'))\n",
    "    #print(q1_index)\n",
    "    q1_index = q1_index[0][0]\n",
    "    q3_index = np.argwhere(lasthalf == np.percentile(lasthalf,50,interpolation='nearest'))\n",
    "    q3_index = q3_index[0][0]\n",
    "    q1 = firsthalf[q1_index]\n",
    "    q3 = lasthalf[q3_index]\n",
    "    #print(q1_index)\n",
    "    #print(q3_index)\n",
    "    IQR = q3 - q1\n",
    "    MaxT = q3 + 1.5 * IQR\n",
    "    MinT = q1 - 1.5 * IQR\n",
    "    return ((MaxT,MinT))"
   ]
  },
  {
   "cell_type": "code",
   "execution_count": 36,
   "id": "bdb0fb72",
   "metadata": {},
   "outputs": [
    {
     "name": "stdout",
     "output_type": "stream",
     "text": [
      "3225\n"
     ]
    }
   ],
   "source": [
    "print(len(score_seven))"
   ]
  },
  {
   "cell_type": "code",
   "execution_count": 37,
   "id": "d032439a",
   "metadata": {},
   "outputs": [],
   "source": [
    "MaxT1,MinT1 = boxplot(score_zero)\n",
    "MaxT2,MinT2 = boxplot(score_one)\n",
    "MaxT3,MinT3 = boxplot(score_two)\n",
    "MaxT4,MinT4 = boxplot(score_three)\n",
    "MaxT5,MinT5 = boxplot(score_four)\n",
    "MaxT6,MinT6 = boxplot(score_five)\n",
    "MaxT7,MinT7 = boxplot(score_six)\n",
    "MaxT8,MinT8 = boxplot(score_seven)\n",
    "# MaxT9,MinT9 = boxplot(score_eight)"
   ]
  },
  {
   "cell_type": "code",
   "execution_count": 41,
   "id": "64012004",
   "metadata": {},
   "outputs": [],
   "source": [
    "outlier_label = []\n",
    "for i in range(0,end):\n",
    "    if clustering.labels_[i] == 0:\n",
    "        if (outlier_score[i] > MaxT1 or outlier_score[i] < MinT1):\n",
    "            outlier_label.append(0)\n",
    "        else:\n",
    "            outlier_label.append(1)\n",
    "    elif clustering.labels_[i] == 1:\n",
    "        if (outlier_score[i] > MaxT2 or outlier_score[i] < MinT2):\n",
    "            outlier_label.append(0)\n",
    "        else:\n",
    "            outlier_label.append(2)\n",
    "    elif clustering.labels_[i] == 2:\n",
    "        if (outlier_score[i] > MaxT3 or outlier_score[i] < MinT3):\n",
    "            outlier_label.append(0)\n",
    "        else:\n",
    "            outlier_label.append(3)\n",
    "    elif clustering.labels_[i] == 3:\n",
    "         if (outlier_score[i] > MaxT4 or outlier_score[i] < MinT4):\n",
    "            outlier_label.append(0)\n",
    "         else:\n",
    "            outlier_label.append(4)\n",
    "    elif clustering.labels_[i] == 4:\n",
    "        if (outlier_score[i] > MaxT5 or outlier_score[i] < MinT5):\n",
    "            outlier_label.append(0)\n",
    "        else:\n",
    "            outlier_label.append(5)\n",
    "    elif clustering.labels_[i] == 5:\n",
    "        if (outlier_score[i] > MaxT6 or outlier_score[i] < MinT6):\n",
    "            outlier_label.append(0)\n",
    "        else:\n",
    "            outlier_label.append(6)\n",
    "    elif clustering.labels_[i] == 6:\n",
    "        if (outlier_score[i] > MaxT7 or outlier_score[i] < MinT7):\n",
    "            outlier_label.append(0)\n",
    "        else:\n",
    "            outlier_label.append(7)\n",
    "    elif clustering.labels_[i] == 7:\n",
    "         if (outlier_score[i] > MaxT8 or outlier_score[i] < MinT8):\n",
    "            outlier_label.append(0)\n",
    "         else:\n",
    "            outlier_label.append(8)\n",
    "#     elif clustering.labels_[i] == 4:\n",
    "#         outlier_label.append(5)"
   ]
  },
  {
   "cell_type": "code",
   "execution_count": 43,
   "id": "2b24cb69",
   "metadata": {},
   "outputs": [
    {
     "name": "stdout",
     "output_type": "stream",
     "text": [
      "2684\n"
     ]
    }
   ],
   "source": [
    "print(outlier_label.count(0))"
   ]
  },
  {
   "cell_type": "code",
   "execution_count": 44,
   "id": "3e7de23a",
   "metadata": {},
   "outputs": [],
   "source": [
    "for i in range(0,end):\n",
    "    if outlier_label[i] == 0:\n",
    "        df.drop(i,axis=0,inplace =True)"
   ]
  },
  {
   "cell_type": "code",
   "execution_count": 45,
   "id": "1687607e",
   "metadata": {},
   "outputs": [],
   "source": [
    "df.to_csv(r'unsw_kmeans2.csv',encoding='utf-8',index=False)"
   ]
  },
  {
   "cell_type": "code",
   "execution_count": null,
   "id": "9f2ed9c7",
   "metadata": {},
   "outputs": [],
   "source": []
  }
 ],
 "metadata": {
  "kernelspec": {
   "display_name": "Python 3",
   "language": "python",
   "name": "python3"
  },
  "language_info": {
   "codemirror_mode": {
    "name": "ipython",
    "version": 3
   },
   "file_extension": ".py",
   "mimetype": "text/x-python",
   "name": "python",
   "nbconvert_exporter": "python",
   "pygments_lexer": "ipython3",
   "version": "3.8.8"
  }
 },
 "nbformat": 4,
 "nbformat_minor": 5
}
