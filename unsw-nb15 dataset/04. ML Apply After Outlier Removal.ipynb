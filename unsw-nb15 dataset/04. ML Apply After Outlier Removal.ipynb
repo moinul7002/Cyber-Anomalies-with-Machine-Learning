{
 "cells": [
  {
   "cell_type": "code",
   "execution_count": 1,
   "id": "2589c4f8",
   "metadata": {},
   "outputs": [],
   "source": [
    "import pandas as pd\n",
    "import numpy as np\n",
    "import matplotlib.pyplot as plt\n",
    "import seaborn as sns"
   ]
  },
  {
   "cell_type": "code",
   "execution_count": 2,
   "id": "775ef94c",
   "metadata": {},
   "outputs": [],
   "source": [
    "from sklearn.linear_model import LogisticRegression \n",
    "from sklearn.ensemble import RandomForestClassifier\n",
    "from sklearn.neighbors import KNeighborsClassifier\n",
    "from sklearn.ensemble import GradientBoostingClassifier\n",
    "from sklearn.ensemble import ExtraTreesClassifier\n",
    "from sklearn.ensemble import AdaBoostClassifier\n",
    "#from catboost import CatBoostClassifier\n",
    "from sklearn.naive_bayes import GaussianNB\n",
    "from sklearn.svm import SVC\n",
    "from sklearn import tree\n",
    "#import lightgbm as lgb\n",
    "#from lightgbm import LGBMClassifier\n",
    "import xgboost as xgb\n",
    "\n",
    "from sklearn.model_selection import train_test_split\n",
    "from scipy import interp\n",
    "from sklearn.metrics import classification_report, accuracy_score, auc\n",
    "from sklearn.metrics import roc_auc_score\n",
    "from sklearn.metrics import roc_curve\n",
    "from sklearn import metrics\n",
    "from sklearn.metrics import confusion_matrix"
   ]
  },
  {
   "cell_type": "markdown",
   "id": "0306d7c9",
   "metadata": {},
   "source": [
    "## Isolation Forest"
   ]
  },
  {
   "cell_type": "code",
   "execution_count": 23,
   "id": "1eb5bd82",
   "metadata": {},
   "outputs": [],
   "source": [
    "df = pd.read_csv(\"unsw_isolation2.csv\")"
   ]
  },
  {
   "cell_type": "code",
   "execution_count": 24,
   "id": "5023ccc9",
   "metadata": {},
   "outputs": [
    {
     "data": {
      "text/html": [
       "<div>\n",
       "<style scoped>\n",
       "    .dataframe tbody tr th:only-of-type {\n",
       "        vertical-align: middle;\n",
       "    }\n",
       "\n",
       "    .dataframe tbody tr th {\n",
       "        vertical-align: top;\n",
       "    }\n",
       "\n",
       "    .dataframe thead th {\n",
       "        text-align: right;\n",
       "    }\n",
       "</style>\n",
       "<table border=\"1\" class=\"dataframe\">\n",
       "  <thead>\n",
       "    <tr style=\"text-align: right;\">\n",
       "      <th></th>\n",
       "      <th>proto</th>\n",
       "      <th>service</th>\n",
       "      <th>state</th>\n",
       "      <th>spkts</th>\n",
       "      <th>dpkts</th>\n",
       "      <th>sbytes</th>\n",
       "      <th>dbytes</th>\n",
       "      <th>rate</th>\n",
       "      <th>sttl</th>\n",
       "      <th>dttl</th>\n",
       "      <th>...</th>\n",
       "      <th>ct_dst_sport_ltm</th>\n",
       "      <th>ct_dst_src_ltm</th>\n",
       "      <th>is_ftp_login</th>\n",
       "      <th>ct_ftp_cmd</th>\n",
       "      <th>ct_flw_http_mthd</th>\n",
       "      <th>ct_src_ltm</th>\n",
       "      <th>ct_srv_dst</th>\n",
       "      <th>is_sm_ips_ports</th>\n",
       "      <th>attack_cat</th>\n",
       "      <th>label</th>\n",
       "    </tr>\n",
       "  </thead>\n",
       "  <tbody>\n",
       "    <tr>\n",
       "      <th>0</th>\n",
       "      <td>0.900000</td>\n",
       "      <td>0.0</td>\n",
       "      <td>0.6</td>\n",
       "      <td>0.004255</td>\n",
       "      <td>0.000000</td>\n",
       "      <td>0.059374</td>\n",
       "      <td>0.000000</td>\n",
       "      <td>0.998640</td>\n",
       "      <td>0.888889</td>\n",
       "      <td>0.000000</td>\n",
       "      <td>...</td>\n",
       "      <td>0.0</td>\n",
       "      <td>0.017857</td>\n",
       "      <td>0.0</td>\n",
       "      <td>0.0</td>\n",
       "      <td>0.0</td>\n",
       "      <td>0.000000</td>\n",
       "      <td>0.017857</td>\n",
       "      <td>0.0</td>\n",
       "      <td>0.666667</td>\n",
       "      <td>0</td>\n",
       "    </tr>\n",
       "    <tr>\n",
       "      <th>1</th>\n",
       "      <td>0.900000</td>\n",
       "      <td>0.0</td>\n",
       "      <td>0.6</td>\n",
       "      <td>0.004255</td>\n",
       "      <td>0.000000</td>\n",
       "      <td>0.318841</td>\n",
       "      <td>0.000000</td>\n",
       "      <td>0.999048</td>\n",
       "      <td>0.888889</td>\n",
       "      <td>0.000000</td>\n",
       "      <td>...</td>\n",
       "      <td>0.0</td>\n",
       "      <td>0.017857</td>\n",
       "      <td>0.0</td>\n",
       "      <td>0.0</td>\n",
       "      <td>0.0</td>\n",
       "      <td>0.000000</td>\n",
       "      <td>0.017857</td>\n",
       "      <td>0.0</td>\n",
       "      <td>0.666667</td>\n",
       "      <td>0</td>\n",
       "    </tr>\n",
       "    <tr>\n",
       "      <th>2</th>\n",
       "      <td>0.900000</td>\n",
       "      <td>0.0</td>\n",
       "      <td>0.6</td>\n",
       "      <td>0.004255</td>\n",
       "      <td>0.000000</td>\n",
       "      <td>0.183731</td>\n",
       "      <td>0.000000</td>\n",
       "      <td>0.999456</td>\n",
       "      <td>0.888889</td>\n",
       "      <td>0.000000</td>\n",
       "      <td>...</td>\n",
       "      <td>0.0</td>\n",
       "      <td>0.035714</td>\n",
       "      <td>0.0</td>\n",
       "      <td>0.0</td>\n",
       "      <td>0.0</td>\n",
       "      <td>0.000000</td>\n",
       "      <td>0.035714</td>\n",
       "      <td>0.0</td>\n",
       "      <td>0.666667</td>\n",
       "      <td>0</td>\n",
       "    </tr>\n",
       "    <tr>\n",
       "      <th>3</th>\n",
       "      <td>0.900000</td>\n",
       "      <td>0.0</td>\n",
       "      <td>0.6</td>\n",
       "      <td>0.004255</td>\n",
       "      <td>0.000000</td>\n",
       "      <td>0.144460</td>\n",
       "      <td>0.000000</td>\n",
       "      <td>0.999320</td>\n",
       "      <td>0.888889</td>\n",
       "      <td>0.000000</td>\n",
       "      <td>...</td>\n",
       "      <td>0.0</td>\n",
       "      <td>0.035714</td>\n",
       "      <td>0.0</td>\n",
       "      <td>0.0</td>\n",
       "      <td>0.0</td>\n",
       "      <td>0.020408</td>\n",
       "      <td>0.035714</td>\n",
       "      <td>0.0</td>\n",
       "      <td>0.666667</td>\n",
       "      <td>0</td>\n",
       "    </tr>\n",
       "    <tr>\n",
       "      <th>4</th>\n",
       "      <td>0.900000</td>\n",
       "      <td>0.0</td>\n",
       "      <td>0.6</td>\n",
       "      <td>0.004255</td>\n",
       "      <td>0.000000</td>\n",
       "      <td>0.370734</td>\n",
       "      <td>0.000000</td>\n",
       "      <td>0.998776</td>\n",
       "      <td>0.888889</td>\n",
       "      <td>0.000000</td>\n",
       "      <td>...</td>\n",
       "      <td>0.0</td>\n",
       "      <td>0.035714</td>\n",
       "      <td>0.0</td>\n",
       "      <td>0.0</td>\n",
       "      <td>0.0</td>\n",
       "      <td>0.020408</td>\n",
       "      <td>0.035714</td>\n",
       "      <td>0.0</td>\n",
       "      <td>0.666667</td>\n",
       "      <td>0</td>\n",
       "    </tr>\n",
       "    <tr>\n",
       "      <th>...</th>\n",
       "      <td>...</td>\n",
       "      <td>...</td>\n",
       "      <td>...</td>\n",
       "      <td>...</td>\n",
       "      <td>...</td>\n",
       "      <td>...</td>\n",
       "      <td>...</td>\n",
       "      <td>...</td>\n",
       "      <td>...</td>\n",
       "      <td>...</td>\n",
       "      <td>...</td>\n",
       "      <td>...</td>\n",
       "      <td>...</td>\n",
       "      <td>...</td>\n",
       "      <td>...</td>\n",
       "      <td>...</td>\n",
       "      <td>...</td>\n",
       "      <td>...</td>\n",
       "      <td>...</td>\n",
       "      <td>...</td>\n",
       "      <td>...</td>\n",
       "    </tr>\n",
       "    <tr>\n",
       "      <th>37823</th>\n",
       "      <td>0.853846</td>\n",
       "      <td>0.0</td>\n",
       "      <td>0.4</td>\n",
       "      <td>0.155355</td>\n",
       "      <td>0.144993</td>\n",
       "      <td>0.461602</td>\n",
       "      <td>0.781941</td>\n",
       "      <td>0.912327</td>\n",
       "      <td>0.444444</td>\n",
       "      <td>0.166667</td>\n",
       "      <td>...</td>\n",
       "      <td>0.0</td>\n",
       "      <td>0.000000</td>\n",
       "      <td>0.0</td>\n",
       "      <td>0.0</td>\n",
       "      <td>0.0</td>\n",
       "      <td>0.016011</td>\n",
       "      <td>0.188733</td>\n",
       "      <td>0.0</td>\n",
       "      <td>0.666667</td>\n",
       "      <td>0</td>\n",
       "    </tr>\n",
       "    <tr>\n",
       "      <th>37824</th>\n",
       "      <td>0.853846</td>\n",
       "      <td>0.0</td>\n",
       "      <td>0.4</td>\n",
       "      <td>0.141755</td>\n",
       "      <td>0.137625</td>\n",
       "      <td>0.411463</td>\n",
       "      <td>0.446894</td>\n",
       "      <td>0.292001</td>\n",
       "      <td>0.444444</td>\n",
       "      <td>0.166667</td>\n",
       "      <td>...</td>\n",
       "      <td>0.0</td>\n",
       "      <td>0.012878</td>\n",
       "      <td>0.0</td>\n",
       "      <td>0.0</td>\n",
       "      <td>0.0</td>\n",
       "      <td>0.042485</td>\n",
       "      <td>0.095725</td>\n",
       "      <td>0.0</td>\n",
       "      <td>0.666667</td>\n",
       "      <td>0</td>\n",
       "    </tr>\n",
       "    <tr>\n",
       "      <th>37825</th>\n",
       "      <td>0.853846</td>\n",
       "      <td>0.0</td>\n",
       "      <td>0.4</td>\n",
       "      <td>0.055319</td>\n",
       "      <td>0.063025</td>\n",
       "      <td>0.281440</td>\n",
       "      <td>0.232378</td>\n",
       "      <td>0.876125</td>\n",
       "      <td>0.444444</td>\n",
       "      <td>0.166667</td>\n",
       "      <td>...</td>\n",
       "      <td>0.0</td>\n",
       "      <td>0.039355</td>\n",
       "      <td>0.0</td>\n",
       "      <td>0.0</td>\n",
       "      <td>0.0</td>\n",
       "      <td>0.050177</td>\n",
       "      <td>0.134101</td>\n",
       "      <td>0.0</td>\n",
       "      <td>0.666667</td>\n",
       "      <td>0</td>\n",
       "    </tr>\n",
       "    <tr>\n",
       "      <th>37826</th>\n",
       "      <td>0.853846</td>\n",
       "      <td>0.0</td>\n",
       "      <td>0.4</td>\n",
       "      <td>0.136957</td>\n",
       "      <td>0.129784</td>\n",
       "      <td>0.423802</td>\n",
       "      <td>0.736695</td>\n",
       "      <td>0.979109</td>\n",
       "      <td>0.444444</td>\n",
       "      <td>0.166667</td>\n",
       "      <td>...</td>\n",
       "      <td>0.0</td>\n",
       "      <td>0.000000</td>\n",
       "      <td>0.0</td>\n",
       "      <td>0.0</td>\n",
       "      <td>0.0</td>\n",
       "      <td>0.038544</td>\n",
       "      <td>0.130290</td>\n",
       "      <td>0.0</td>\n",
       "      <td>0.666667</td>\n",
       "      <td>0</td>\n",
       "    </tr>\n",
       "    <tr>\n",
       "      <th>37827</th>\n",
       "      <td>0.853846</td>\n",
       "      <td>0.0</td>\n",
       "      <td>0.4</td>\n",
       "      <td>0.175910</td>\n",
       "      <td>0.165289</td>\n",
       "      <td>0.504472</td>\n",
       "      <td>0.815716</td>\n",
       "      <td>0.942988</td>\n",
       "      <td>0.444444</td>\n",
       "      <td>0.166667</td>\n",
       "      <td>...</td>\n",
       "      <td>0.0</td>\n",
       "      <td>0.000000</td>\n",
       "      <td>0.0</td>\n",
       "      <td>0.0</td>\n",
       "      <td>0.0</td>\n",
       "      <td>0.088547</td>\n",
       "      <td>0.025728</td>\n",
       "      <td>0.0</td>\n",
       "      <td>0.666667</td>\n",
       "      <td>0</td>\n",
       "    </tr>\n",
       "  </tbody>\n",
       "</table>\n",
       "<p>37828 rows × 43 columns</p>\n",
       "</div>"
      ],
      "text/plain": [
       "          proto  service  state     spkts     dpkts    sbytes    dbytes  \\\n",
       "0      0.900000      0.0    0.6  0.004255  0.000000  0.059374  0.000000   \n",
       "1      0.900000      0.0    0.6  0.004255  0.000000  0.318841  0.000000   \n",
       "2      0.900000      0.0    0.6  0.004255  0.000000  0.183731  0.000000   \n",
       "3      0.900000      0.0    0.6  0.004255  0.000000  0.144460  0.000000   \n",
       "4      0.900000      0.0    0.6  0.004255  0.000000  0.370734  0.000000   \n",
       "...         ...      ...    ...       ...       ...       ...       ...   \n",
       "37823  0.853846      0.0    0.4  0.155355  0.144993  0.461602  0.781941   \n",
       "37824  0.853846      0.0    0.4  0.141755  0.137625  0.411463  0.446894   \n",
       "37825  0.853846      0.0    0.4  0.055319  0.063025  0.281440  0.232378   \n",
       "37826  0.853846      0.0    0.4  0.136957  0.129784  0.423802  0.736695   \n",
       "37827  0.853846      0.0    0.4  0.175910  0.165289  0.504472  0.815716   \n",
       "\n",
       "           rate      sttl      dttl  ...  ct_dst_sport_ltm  ct_dst_src_ltm  \\\n",
       "0      0.998640  0.888889  0.000000  ...               0.0        0.017857   \n",
       "1      0.999048  0.888889  0.000000  ...               0.0        0.017857   \n",
       "2      0.999456  0.888889  0.000000  ...               0.0        0.035714   \n",
       "3      0.999320  0.888889  0.000000  ...               0.0        0.035714   \n",
       "4      0.998776  0.888889  0.000000  ...               0.0        0.035714   \n",
       "...         ...       ...       ...  ...               ...             ...   \n",
       "37823  0.912327  0.444444  0.166667  ...               0.0        0.000000   \n",
       "37824  0.292001  0.444444  0.166667  ...               0.0        0.012878   \n",
       "37825  0.876125  0.444444  0.166667  ...               0.0        0.039355   \n",
       "37826  0.979109  0.444444  0.166667  ...               0.0        0.000000   \n",
       "37827  0.942988  0.444444  0.166667  ...               0.0        0.000000   \n",
       "\n",
       "       is_ftp_login  ct_ftp_cmd  ct_flw_http_mthd  ct_src_ltm  ct_srv_dst  \\\n",
       "0               0.0         0.0               0.0    0.000000    0.017857   \n",
       "1               0.0         0.0               0.0    0.000000    0.017857   \n",
       "2               0.0         0.0               0.0    0.000000    0.035714   \n",
       "3               0.0         0.0               0.0    0.020408    0.035714   \n",
       "4               0.0         0.0               0.0    0.020408    0.035714   \n",
       "...             ...         ...               ...         ...         ...   \n",
       "37823           0.0         0.0               0.0    0.016011    0.188733   \n",
       "37824           0.0         0.0               0.0    0.042485    0.095725   \n",
       "37825           0.0         0.0               0.0    0.050177    0.134101   \n",
       "37826           0.0         0.0               0.0    0.038544    0.130290   \n",
       "37827           0.0         0.0               0.0    0.088547    0.025728   \n",
       "\n",
       "       is_sm_ips_ports  attack_cat  label  \n",
       "0                  0.0    0.666667      0  \n",
       "1                  0.0    0.666667      0  \n",
       "2                  0.0    0.666667      0  \n",
       "3                  0.0    0.666667      0  \n",
       "4                  0.0    0.666667      0  \n",
       "...                ...         ...    ...  \n",
       "37823              0.0    0.666667      0  \n",
       "37824              0.0    0.666667      0  \n",
       "37825              0.0    0.666667      0  \n",
       "37826              0.0    0.666667      0  \n",
       "37827              0.0    0.666667      0  \n",
       "\n",
       "[37828 rows x 43 columns]"
      ]
     },
     "execution_count": 24,
     "metadata": {},
     "output_type": "execute_result"
    }
   ],
   "source": [
    "df"
   ]
  },
  {
   "cell_type": "code",
   "execution_count": 25,
   "id": "e13532a2",
   "metadata": {},
   "outputs": [],
   "source": [
    "X = df.drop('label', axis=1)\n",
    "y = df['label']"
   ]
  },
  {
   "cell_type": "code",
   "execution_count": 26,
   "id": "dffa71fa",
   "metadata": {},
   "outputs": [
    {
     "data": {
      "text/plain": [
       "((30262, 42), (30262,))"
      ]
     },
     "execution_count": 26,
     "metadata": {},
     "output_type": "execute_result"
    }
   ],
   "source": [
    "X_train, X_test, y_train, y_test = train_test_split(X, y, test_size=0.2, random_state=42)\n",
    "X_train.shape, y_train.shape"
   ]
  },
  {
   "cell_type": "markdown",
   "id": "20b1e57a",
   "metadata": {},
   "source": [
    "### Apply ML"
   ]
  },
  {
   "cell_type": "code",
   "execution_count": 27,
   "id": "d3fb2545",
   "metadata": {},
   "outputs": [],
   "source": [
    "results_test = {}\n",
    "results_train = {}\n",
    "list_algos=[]\n",
    "\n",
    "def predict(algo_name,X_train,y_train,X_test,y_test, atype='',verbose=0):\n",
    "    algo_name.fit(X_train, y_train)\n",
    "    Y_pred = algo_name.predict(X_test)\n",
    "    acc_train = round(algo_name.score(X_train, y_train) * 100, 2)\n",
    "    acc_val = round(algo_name.score(X_test, y_test) * 100, 2)\n",
    "    \n",
    "    results_test[str(algo_name)[0:str(algo_name).find('(')]+'_'+str(atype)] = acc_val\n",
    "    results_train[str(algo_name)[0:str(algo_name).find('(')]+'_'+str(atype)] = acc_train\n",
    "    list_algos.append(str(algo_name)[0:str(algo_name).find('(')])\n",
    "    if verbose ==0:\n",
    "        print(\"Training Accuracy: \" + str(acc_train))\n",
    "        print(\"Testing  Accuracy: \"+ str(acc_val))\n",
    "    else:\n",
    "        return Y_pred"
   ]
  },
  {
   "cell_type": "code",
   "execution_count": 28,
   "id": "65301892",
   "metadata": {},
   "outputs": [
    {
     "name": "stdout",
     "output_type": "stream",
     "text": [
      "Training Accuracy: 100.0\n",
      "Testing  Accuracy: 99.97\n",
      "              precision    recall  f1-score   support\n",
      "\n",
      "           0       1.00      1.00      1.00      3922\n",
      "           1       1.00      1.00      1.00      3644\n",
      "\n",
      "    accuracy                           1.00      7566\n",
      "   macro avg       1.00      1.00      1.00      7566\n",
      "weighted avg       1.00      1.00      1.00      7566\n",
      "\n"
     ]
    }
   ],
   "source": [
    "# KNN\n",
    "\n",
    "knneig = KNeighborsClassifier(n_neighbors=1)\n",
    "knneig.fit(X_train, y_train)\n",
    "predict(knneig,X_train,y_train,X_test,y_test)\n",
    "print(classification_report(y_test, knneig.predict(X_test)))"
   ]
  },
  {
   "cell_type": "code",
   "execution_count": 9,
   "id": "1305896b",
   "metadata": {},
   "outputs": [
    {
     "name": "stdout",
     "output_type": "stream",
     "text": [
      "Training Accuracy: 100.0\n",
      "Testing  Accuracy: 100.0\n",
      "              precision    recall  f1-score   support\n",
      "\n",
      "           0       1.00      1.00      1.00      7636\n",
      "           1       1.00      1.00      1.00      7972\n",
      "\n",
      "    accuracy                           1.00     15608\n",
      "   macro avg       1.00      1.00      1.00     15608\n",
      "weighted avg       1.00      1.00      1.00     15608\n",
      "\n"
     ]
    }
   ],
   "source": [
    "#RF\n",
    "\n",
    "rf = RandomForestClassifier(n_estimators=250, random_state = 42)\n",
    "predict(rf,X_train,y_train,X_test,y_test)\n",
    "print(classification_report(y_test, rf.predict(X_test)))"
   ]
  },
  {
   "cell_type": "code",
   "execution_count": 29,
   "id": "89d361c4",
   "metadata": {},
   "outputs": [
    {
     "name": "stdout",
     "output_type": "stream",
     "text": [
      "Training Accuracy: 99.24\n",
      "Testing  Accuracy: 99.01\n",
      "              precision    recall  f1-score   support\n",
      "\n",
      "           0       1.00      0.98      0.99      3922\n",
      "           1       0.98      1.00      0.99      3644\n",
      "\n",
      "    accuracy                           0.99      7566\n",
      "   macro avg       0.99      0.99      0.99      7566\n",
      "weighted avg       0.99      0.99      0.99      7566\n",
      "\n"
     ]
    }
   ],
   "source": [
    "#LR\n",
    "\n",
    "lr = LogisticRegression(solver='lbfgs')\n",
    "predict(lr,X_train,y_train,X_test,y_test)\n",
    "print(classification_report(y_test, lr.predict(X_test)))"
   ]
  },
  {
   "cell_type": "code",
   "execution_count": 11,
   "id": "35b1b80f",
   "metadata": {},
   "outputs": [
    {
     "name": "stdout",
     "output_type": "stream",
     "text": [
      "Training Accuracy: 100.0\n",
      "Testing  Accuracy: 100.0\n",
      "              precision    recall  f1-score   support\n",
      "\n",
      "           0       1.00      1.00      1.00      7636\n",
      "           1       1.00      1.00      1.00      7972\n",
      "\n",
      "    accuracy                           1.00     15608\n",
      "   macro avg       1.00      1.00      1.00     15608\n",
      "weighted avg       1.00      1.00      1.00     15608\n",
      "\n"
     ]
    }
   ],
   "source": [
    "# GBC\n",
    "\n",
    "gbc = GradientBoostingClassifier()\n",
    "predict(gbc,X_train,y_train,X_test,y_test)\n",
    "print(classification_report(y_test, gbc.predict(X_test)))"
   ]
  },
  {
   "cell_type": "code",
   "execution_count": 12,
   "id": "198abdba",
   "metadata": {},
   "outputs": [
    {
     "name": "stdout",
     "output_type": "stream",
     "text": [
      "Training Accuracy: 100.0\n",
      "Testing  Accuracy: 100.0\n",
      "              precision    recall  f1-score   support\n",
      "\n",
      "           0       1.00      1.00      1.00      7636\n",
      "           1       1.00      1.00      1.00      7972\n",
      "\n",
      "    accuracy                           1.00     15608\n",
      "   macro avg       1.00      1.00      1.00     15608\n",
      "weighted avg       1.00      1.00      1.00     15608\n",
      "\n"
     ]
    }
   ],
   "source": [
    "# ADA\n",
    "\n",
    "ada = AdaBoostClassifier()\n",
    "predict(ada,X_train,y_train,X_test,y_test)\n",
    "print(classification_report(y_test, ada.predict(X_test)))"
   ]
  },
  {
   "cell_type": "code",
   "execution_count": 30,
   "id": "6cc6b058",
   "metadata": {},
   "outputs": [
    {
     "name": "stdout",
     "output_type": "stream",
     "text": [
      "Training Accuracy: 99.1\n",
      "Testing  Accuracy: 98.88\n",
      "              precision    recall  f1-score   support\n",
      "\n",
      "           0       1.00      0.98      0.99      3922\n",
      "           1       0.98      1.00      0.99      3644\n",
      "\n",
      "    accuracy                           0.99      7566\n",
      "   macro avg       0.99      0.99      0.99      7566\n",
      "weighted avg       0.99      0.99      0.99      7566\n",
      "\n"
     ]
    }
   ],
   "source": [
    "#GaussianNB\n",
    "\n",
    "nb = GaussianNB()\n",
    "predict(nb,X_train,y_train,X_test,y_test)\n",
    "print(classification_report(y_test, nb.predict(X_test)))"
   ]
  },
  {
   "cell_type": "code",
   "execution_count": 14,
   "id": "917c9c4d",
   "metadata": {},
   "outputs": [
    {
     "name": "stdout",
     "output_type": "stream",
     "text": [
      "[14:40:11] WARNING: ..\\src\\learner.cc:1095: Starting in XGBoost 1.3.0, the default evaluation metric used with the objective 'binary:logistic' was changed from 'error' to 'logloss'. Explicitly set eval_metric if you'd like to restore the old behavior.\n"
     ]
    },
    {
     "name": "stderr",
     "output_type": "stream",
     "text": [
      "C:\\Users\\moinu\\anaconda3\\lib\\site-packages\\xgboost\\sklearn.py:1146: UserWarning: The use of label encoder in XGBClassifier is deprecated and will be removed in a future release. To remove this warning, do the following: 1) Pass option use_label_encoder=False when constructing XGBClassifier object; and 2) Encode your labels (y) as integers starting with 0, i.e. 0, 1, 2, ..., [num_class - 1].\n",
      "  warnings.warn(label_encoder_deprecation_msg, UserWarning)\n"
     ]
    },
    {
     "name": "stdout",
     "output_type": "stream",
     "text": [
      "Training Accuracy: 100.0\n",
      "Testing  Accuracy: 100.0\n",
      "              precision    recall  f1-score   support\n",
      "\n",
      "           0       1.00      1.00      1.00      7636\n",
      "           1       1.00      1.00      1.00      7972\n",
      "\n",
      "    accuracy                           1.00     15608\n",
      "   macro avg       1.00      1.00      1.00     15608\n",
      "weighted avg       1.00      1.00      1.00     15608\n",
      "\n"
     ]
    },
    {
     "name": "stderr",
     "output_type": "stream",
     "text": [
      "C:\\Users\\moinu\\anaconda3\\lib\\site-packages\\xgboost\\data.py:112: UserWarning: Use subset (sliced data) of np.ndarray is not recommended because it will generate extra copies and increase memory consumption\n",
      "  warnings.warn(\n",
      "C:\\Users\\moinu\\anaconda3\\lib\\site-packages\\xgboost\\data.py:112: UserWarning: Use subset (sliced data) of np.ndarray is not recommended because it will generate extra copies and increase memory consumption\n",
      "  warnings.warn(\n",
      "C:\\Users\\moinu\\anaconda3\\lib\\site-packages\\xgboost\\data.py:112: UserWarning: Use subset (sliced data) of np.ndarray is not recommended because it will generate extra copies and increase memory consumption\n",
      "  warnings.warn(\n"
     ]
    }
   ],
   "source": [
    "#xgb\n",
    "\n",
    "xg = xgb.XGBClassifier()\n",
    "predict(xg,X_train,y_train,X_test,y_test)\n",
    "print(classification_report(y_test, xg.predict(X_test)))"
   ]
  },
  {
   "cell_type": "code",
   "execution_count": 31,
   "id": "826d1e93",
   "metadata": {},
   "outputs": [
    {
     "name": "stdout",
     "output_type": "stream",
     "text": [
      "Training Accuracy: 100.0\n",
      "Testing  Accuracy: 100.0\n",
      "              precision    recall  f1-score   support\n",
      "\n",
      "           0       1.00      1.00      1.00      3922\n",
      "           1       1.00      1.00      1.00      3644\n",
      "\n",
      "    accuracy                           1.00      7566\n",
      "   macro avg       1.00      1.00      1.00      7566\n",
      "weighted avg       1.00      1.00      1.00      7566\n",
      "\n"
     ]
    }
   ],
   "source": [
    "#MLP\n",
    "\n",
    "from sklearn.neural_network import MLPClassifier\n",
    "mlp = MLPClassifier(random_state=42)  \n",
    "predict(mlp,X_train,y_train,X_test,y_test)\n",
    "print(classification_report(y_test, mlp.predict(X_test)))"
   ]
  },
  {
   "cell_type": "code",
   "execution_count": 32,
   "id": "dbca81d1",
   "metadata": {},
   "outputs": [
    {
     "name": "stdout",
     "output_type": "stream",
     "text": [
      "Training Accuracy: 99.33\n",
      "Testing  Accuracy: 99.1\n",
      "              precision    recall  f1-score   support\n",
      "\n",
      "           0       1.00      0.99      0.99      3922\n",
      "           1       0.98      1.00      0.99      3644\n",
      "\n",
      "    accuracy                           0.99      7566\n",
      "   macro avg       0.99      0.99      0.99      7566\n",
      "weighted avg       0.99      0.99      0.99      7566\n",
      "\n"
     ]
    }
   ],
   "source": [
    "#svc\n",
    "\n",
    "svc = SVC(kernel='linear', probability=True)\n",
    "predict(svc,X_train,y_train,X_test,y_test)\n",
    "print(classification_report(y_test, svc.predict(X_test)))"
   ]
  },
  {
   "cell_type": "code",
   "execution_count": 33,
   "id": "02dc7542",
   "metadata": {},
   "outputs": [],
   "source": [
    "r_probs = [0 for _ in range(len(y_test))]\n",
    "KNN_probs = knneig.predict_proba(X_test)\n",
    "LR_probs = lr.predict_proba(X_test)\n",
    "svc_probs = svc.predict_proba(X_test)\n",
    "nb_probs = nb.predict_proba(X_test)\n",
    "mlp_probs = mlp.predict_proba(X_test)\n",
    "\n",
    "\n",
    "KNN_probs = KNN_probs[:, 1]\n",
    "LR_probs = LR_probs[:, 1]\n",
    "svc_probs = svc_probs[:, 1]\n",
    "nb_probs = nb_probs[:, 1]\n",
    "mlp_probs = mlp_probs[:, 1]\n",
    "\n",
    "\n",
    "r_auc = roc_auc_score(y_test, r_probs)\n",
    "KNN_auc = roc_auc_score(y_test, KNN_probs)\n",
    "LR_auc = roc_auc_score(y_test, LR_probs)\n",
    "svc_auc = roc_auc_score(y_test, svc_probs)\n",
    "nb_auc = roc_auc_score(y_test, nb_probs)\n",
    "mlp_auc = roc_auc_score(y_test, mlp_probs)\n",
    "\n",
    "r_fpr, r_tpr, _ = roc_curve(y_test, r_probs)\n",
    "KNN_fpr, KNN_tpr, _ = roc_curve(y_test, KNN_probs)\n",
    "LR_fpr, LR_tpr, _ = roc_curve(y_test, LR_probs)\n",
    "svc_fpr, svc_tpr, _ = roc_curve(y_test, svc_probs)\n",
    "nb_fpr, nb_tpr, _ = roc_curve(y_test, nb_probs)\n",
    "mlp_fpr, mlp_tpr, _ = roc_curve(y_test, mlp_probs)"
   ]
  },
  {
   "cell_type": "code",
   "execution_count": 34,
   "id": "10644ccd",
   "metadata": {},
   "outputs": [
    {
     "data": {
      "image/png": "[encoded data removed]",
      "text/plain": [
       "<Figure size 1152x576 with 1 Axes>"
      ]
     },
     "metadata": {
      "needs_background": "light"
     },
     "output_type": "display_data"
    }
   ],
   "source": [
    "plt.figure(figsize=(16,8))\n",
    "plt.plot(r_fpr, r_tpr, linestyle='--')\n",
    "#plt.plot(rf_fpr, rf_tpr, marker='.', label='Random Forest (AUROC = %0.3f)' % rf_auc)\n",
    "plt.plot(KNN_fpr, KNN_tpr, label='KNN (AUROC = %0.3f)' % KNN_auc)\n",
    "plt.plot(LR_fpr, LR_tpr, label='LR (AUROC = %0.3f)' % LR_auc)\n",
    "plt.plot(svc_fpr, svc_tpr, label='SVC (AUROC = %0.3f)' % svc_auc)\n",
    "plt.plot(nb_fpr, nb_tpr, label='NB (AUROC = %0.3f)' % nb_auc)\n",
    "plt.plot(mlp_fpr, mlp_tpr, label='ABC (AUROC = %0.3f)' % mlp_auc)\n",
    "\n",
    "\n",
    "\n",
    "# Title\n",
    "plt.title('ROC Plot')\n",
    "# Axis labels\n",
    "plt.xlabel('False Positive Rate')\n",
    "plt.ylabel('True Positive Rate')\n",
    "# Show legend\n",
    "plt.legend() # \n",
    "# Show plot\n",
    "plt.show()"
   ]
  },
  {
   "cell_type": "code",
   "execution_count": 19,
   "id": "fff2e855",
   "metadata": {},
   "outputs": [
    {
     "name": "stdout",
     "output_type": "stream",
     "text": [
      "Model: \"sequential\"\n",
      "_________________________________________________________________\n",
      "Layer (type)                 Output Shape              Param #   \n",
      "=================================================================\n",
      "dense (Dense)                (None, 64)                2752      \n",
      "_________________________________________________________________\n",
      "dense_1 (Dense)              (None, 128)               8320      \n",
      "_________________________________________________________________\n",
      "dense_2 (Dense)              (None, 1)                 129       \n",
      "=================================================================\n",
      "Total params: 11,201\n",
      "Trainable params: 11,201\n",
      "Non-trainable params: 0\n",
      "_________________________________________________________________\n"
     ]
    }
   ],
   "source": [
    "import tensorflow as tf\n",
    "model= tf.keras.models.Sequential()\n",
    "model.add(tf.keras.layers.Dense(units=64,activation='relu',input_shape= (42,)))\n",
    "model.add(tf.keras.layers.Dense(units=128,activation='relu'))\n",
    "model.add(tf.keras.layers.Dense(units=1,activation='sigmoid'))\n",
    "\n",
    "model.summary()"
   ]
  },
  {
   "cell_type": "code",
   "execution_count": 21,
   "id": "352ff940",
   "metadata": {
    "scrolled": true
   },
   "outputs": [
    {
     "name": "stdout",
     "output_type": "stream",
     "text": [
      "Epoch 1/50\n",
      "   1/1041 [..............................] - ETA: 0s - loss: 0.7250 - accuracy: 0.3500WARNING:tensorflow:Callbacks method `on_train_batch_begin` is slow compared to the batch time (batch time: 0.0000s vs `on_train_batch_begin` time: 0.0010s). Check your callbacks.\n",
      "1041/1041 [==============================] - 1s 513us/step - loss: 0.1860 - accuracy: 0.9141\n",
      "Epoch 2/50\n",
      "1041/1041 [==============================] - 1s 500us/step - loss: 0.0867 - accuracy: 0.9673\n",
      "Epoch 3/50\n",
      "1041/1041 [==============================] - 1s 491us/step - loss: 0.0408 - accuracy: 0.9877\n",
      "Epoch 4/50\n",
      "1041/1041 [==============================] - 0s 478us/step - loss: 0.0193 - accuracy: 0.9952\n",
      "Epoch 5/50\n",
      "1041/1041 [==============================] - 0s 480us/step - loss: 0.0103 - accuracy: 0.9975\n",
      "Epoch 6/50\n",
      "1041/1041 [==============================] - 0s 472us/step - loss: 0.0058 - accuracy: 0.9988\n",
      "Epoch 7/50\n",
      "1041/1041 [==============================] - 0s 475us/step - loss: 0.0045 - accuracy: 0.9988\n",
      "Epoch 8/50\n",
      "1041/1041 [==============================] - 0s 473us/step - loss: 0.0036 - accuracy: 0.9992\n",
      "Epoch 9/50\n",
      "1041/1041 [==============================] - 0s 478us/step - loss: 0.0020 - accuracy: 0.9995\n",
      "Epoch 10/50\n",
      "1041/1041 [==============================] - 1s 500us/step - loss: 0.0018 - accuracy: 0.9995\n",
      "Epoch 11/50\n",
      "1041/1041 [==============================] - 1s 523us/step - loss: 0.0020 - accuracy: 0.9995\n",
      "Epoch 12/50\n",
      "1041/1041 [==============================] - 1s 526us/step - loss: 0.0012 - accuracy: 0.9997\n",
      "Epoch 13/50\n",
      "1041/1041 [==============================] - 1s 490us/step - loss: 8.1073e-04 - accuracy: 0.9998\n",
      "Epoch 14/50\n",
      "1041/1041 [==============================] - 1s 486us/step - loss: 9.9435e-04 - accuracy: 0.9997\n",
      "Epoch 15/50\n",
      "1041/1041 [==============================] - 1s 489us/step - loss: 0.0011 - accuracy: 0.9998\n",
      "Epoch 16/50\n",
      "1041/1041 [==============================] - 1s 496us/step - loss: 5.8999e-04 - accuracy: 0.9999\n",
      "Epoch 17/50\n",
      "1041/1041 [==============================] - 1s 484us/step - loss: 0.0015 - accuracy: 0.9996\n",
      "Epoch 18/50\n",
      "1041/1041 [==============================] - 0s 460us/step - loss: 5.7730e-04 - accuracy: 0.9999\n",
      "Epoch 19/50\n",
      "1041/1041 [==============================] - 1s 483us/step - loss: 3.4906e-04 - accuracy: 0.9999\n",
      "Epoch 20/50\n",
      "1041/1041 [==============================] - 0s 451us/step - loss: 0.0010 - accuracy: 0.9997\n",
      "Epoch 21/50\n",
      "1041/1041 [==============================] - 0s 475us/step - loss: 0.0017 - accuracy: 0.9994\n",
      "Epoch 22/50\n",
      "1041/1041 [==============================] - 0s 461us/step - loss: 3.1828e-04 - accuracy: 0.9999\n",
      "Epoch 23/50\n",
      "1041/1041 [==============================] - 0s 475us/step - loss: 6.9452e-04 - accuracy: 0.9999\n",
      "Epoch 24/50\n",
      "1041/1041 [==============================] - 0s 450us/step - loss: 2.8538e-04 - accuracy: 1.0000\n",
      "Epoch 25/50\n",
      "1041/1041 [==============================] - 1s 494us/step - loss: 0.0017 - accuracy: 0.9996\n",
      "Epoch 26/50\n",
      "1041/1041 [==============================] - 1s 488us/step - loss: 1.9295e-04 - accuracy: 0.9999\n",
      "Epoch 27/50\n",
      "1041/1041 [==============================] - 0s 468us/step - loss: 1.8963e-05 - accuracy: 1.0000\n",
      "Epoch 28/50\n",
      "1041/1041 [==============================] - 0s 480us/step - loss: 1.3726e-05 - accuracy: 1.0000\n",
      "Epoch 29/50\n",
      "1041/1041 [==============================] - 1s 521us/step - loss: 9.0856e-06 - accuracy: 1.0000\n",
      "Epoch 30/50\n",
      "1041/1041 [==============================] - 1s 486us/step - loss: 0.0018 - accuracy: 0.9994\n",
      "Epoch 31/50\n",
      "1041/1041 [==============================] - 0s 474us/step - loss: 7.6137e-05 - accuracy: 1.0000\n",
      "Epoch 32/50\n",
      "1041/1041 [==============================] - 0s 473us/step - loss: 2.6438e-05 - accuracy: 1.0000\n",
      "Epoch 33/50\n",
      "1041/1041 [==============================] - 0s 459us/step - loss: 1.6440e-05 - accuracy: 1.0000\n",
      "Epoch 34/50\n",
      "1041/1041 [==============================] - 1s 505us/step - loss: 1.1882e-05 - accuracy: 1.0000\n",
      "Epoch 35/50\n",
      "1041/1041 [==============================] - 1s 490us/step - loss: 9.5593e-06 - accuracy: 1.0000\n",
      "Epoch 36/50\n",
      "1041/1041 [==============================] - 0s 458us/step - loss: 5.8271e-06 - accuracy: 1.0000\n",
      "Epoch 37/50\n",
      "1041/1041 [==============================] - 0s 450us/step - loss: 0.0024 - accuracy: 0.9993\n",
      "Epoch 38/50\n",
      "1041/1041 [==============================] - 0s 446us/step - loss: 3.7769e-04 - accuracy: 0.9998\n",
      "Epoch 39/50\n",
      "1041/1041 [==============================] - 0s 476us/step - loss: 8.6243e-04 - accuracy: 0.9998\n",
      "Epoch 40/50\n",
      "1041/1041 [==============================] - 1s 497us/step - loss: 2.7564e-05 - accuracy: 1.0000\n",
      "Epoch 41/50\n",
      "1041/1041 [==============================] - 1s 481us/step - loss: 9.1064e-06 - accuracy: 1.0000\n",
      "Epoch 42/50\n",
      "1041/1041 [==============================] - 0s 478us/step - loss: 6.3596e-06 - accuracy: 1.0000\n",
      "Epoch 43/50\n",
      "1041/1041 [==============================] - 0s 448us/step - loss: 3.9508e-06 - accuracy: 1.0000\n",
      "Epoch 44/50\n",
      "1041/1041 [==============================] - 0s 452us/step - loss: 2.7062e-06 - accuracy: 1.0000\n",
      "Epoch 45/50\n",
      "1041/1041 [==============================] - 0s 460us/step - loss: 0.0015 - accuracy: 0.9995\n",
      "Epoch 46/50\n",
      "1041/1041 [==============================] - 0s 470us/step - loss: 2.5791e-04 - accuracy: 0.9999\n",
      "Epoch 47/50\n",
      "1041/1041 [==============================] - 1s 538us/step - loss: 1.9315e-05 - accuracy: 1.0000\n",
      "Epoch 48/50\n",
      "1041/1041 [==============================] - 1s 700us/step - loss: 5.4464e-06 - accuracy: 1.0000\n",
      "Epoch 49/50\n",
      "1041/1041 [==============================] - 1s 533us/step - loss: 3.9812e-06 - accuracy: 1.0000\n",
      "Epoch 50/50\n",
      "1041/1041 [==============================] - 0s 442us/step - loss: 2.7696e-06 - accuracy: 1.0000\n"
     ]
    }
   ],
   "source": [
    "model.compile(optimizer='adam',loss='binary_crossentropy',metrics=['accuracy'])\n",
    "\n",
    "epochs_hist = model.fit(X_train,y_train,epochs=50,batch_size=60)"
   ]
  },
  {
   "cell_type": "code",
   "execution_count": 22,
   "id": "aa6e71d7",
   "metadata": {},
   "outputs": [
    {
     "name": "stdout",
     "output_type": "stream",
     "text": [
      "              precision    recall  f1-score   support\n",
      "\n",
      "           0       1.00      1.00      1.00      7636\n",
      "           1       1.00      1.00      1.00      7972\n",
      "\n",
      "    accuracy                           1.00     15608\n",
      "   macro avg       1.00      1.00      1.00     15608\n",
      "weighted avg       1.00      1.00      1.00     15608\n",
      "\n"
     ]
    }
   ],
   "source": [
    "y_pred=model.predict(X_test)\n",
    "y_pred = (y_pred>0.5)\n",
    "\n",
    "print(classification_report(y_test,y_pred))"
   ]
  },
  {
   "cell_type": "code",
   "execution_count": 23,
   "id": "2f348065",
   "metadata": {
    "scrolled": true
   },
   "outputs": [
    {
     "data": {
      "text/plain": [
       "Text(0.5, 1.0, 'Loss and Accuracy plot')"
      ]
     },
     "execution_count": 23,
     "metadata": {},
     "output_type": "execute_result"
    },
    {
     "data": {
      "image/png": "[encoded data removed]",
      "text/plain": [
       "<Figure size 432x288 with 1 Axes>"
      ]
     },
     "metadata": {
      "needs_background": "light"
     },
     "output_type": "display_data"
    }
   ],
   "source": [
    "plt.plot(epochs_hist.history['loss'])\n",
    "plt.plot(epochs_hist.history['accuracy'])\n",
    "plt.xlabel('Epochs')\n",
    "plt.ylabel('percentage')\n",
    "plt.legend(['loss','accuracy'])\n",
    "plt.title('Loss and Accuracy plot')"
   ]
  },
  {
   "cell_type": "markdown",
   "id": "fe4884c5",
   "metadata": {},
   "source": [
    "## DBScan"
   ]
  },
  {
   "cell_type": "code",
   "execution_count": 13,
   "id": "8327d998",
   "metadata": {},
   "outputs": [],
   "source": [
    "df = pd.read_csv(\"unsw_dbscan2.csv\")"
   ]
  },
  {
   "cell_type": "code",
   "execution_count": 14,
   "id": "f9371735",
   "metadata": {},
   "outputs": [
    {
     "data": {
      "text/html": [
       "<div>\n",
       "<style scoped>\n",
       "    .dataframe tbody tr th:only-of-type {\n",
       "        vertical-align: middle;\n",
       "    }\n",
       "\n",
       "    .dataframe tbody tr th {\n",
       "        vertical-align: top;\n",
       "    }\n",
       "\n",
       "    .dataframe thead th {\n",
       "        text-align: right;\n",
       "    }\n",
       "</style>\n",
       "<table border=\"1\" class=\"dataframe\">\n",
       "  <thead>\n",
       "    <tr style=\"text-align: right;\">\n",
       "      <th></th>\n",
       "      <th>proto</th>\n",
       "      <th>service</th>\n",
       "      <th>state</th>\n",
       "      <th>spkts</th>\n",
       "      <th>dpkts</th>\n",
       "      <th>sbytes</th>\n",
       "      <th>dbytes</th>\n",
       "      <th>rate</th>\n",
       "      <th>sttl</th>\n",
       "      <th>dttl</th>\n",
       "      <th>...</th>\n",
       "      <th>ct_dst_sport_ltm</th>\n",
       "      <th>ct_dst_src_ltm</th>\n",
       "      <th>is_ftp_login</th>\n",
       "      <th>ct_ftp_cmd</th>\n",
       "      <th>ct_flw_http_mthd</th>\n",
       "      <th>ct_src_ltm</th>\n",
       "      <th>ct_srv_dst</th>\n",
       "      <th>is_sm_ips_ports</th>\n",
       "      <th>attack_cat</th>\n",
       "      <th>label</th>\n",
       "    </tr>\n",
       "  </thead>\n",
       "  <tbody>\n",
       "    <tr>\n",
       "      <th>0</th>\n",
       "      <td>0.900000</td>\n",
       "      <td>0.0</td>\n",
       "      <td>0.6</td>\n",
       "      <td>0.004255</td>\n",
       "      <td>0.000000</td>\n",
       "      <td>0.318841</td>\n",
       "      <td>0.000000</td>\n",
       "      <td>0.999048</td>\n",
       "      <td>0.888889</td>\n",
       "      <td>0.000000</td>\n",
       "      <td>...</td>\n",
       "      <td>0.00000</td>\n",
       "      <td>0.017857</td>\n",
       "      <td>0.0</td>\n",
       "      <td>0.0</td>\n",
       "      <td>0.0</td>\n",
       "      <td>0.000000</td>\n",
       "      <td>0.017857</td>\n",
       "      <td>0.0</td>\n",
       "      <td>0.666667</td>\n",
       "      <td>0</td>\n",
       "    </tr>\n",
       "    <tr>\n",
       "      <th>1</th>\n",
       "      <td>0.900000</td>\n",
       "      <td>0.0</td>\n",
       "      <td>0.6</td>\n",
       "      <td>0.004255</td>\n",
       "      <td>0.000000</td>\n",
       "      <td>0.370734</td>\n",
       "      <td>0.000000</td>\n",
       "      <td>0.998776</td>\n",
       "      <td>0.888889</td>\n",
       "      <td>0.000000</td>\n",
       "      <td>...</td>\n",
       "      <td>0.00000</td>\n",
       "      <td>0.035714</td>\n",
       "      <td>0.0</td>\n",
       "      <td>0.0</td>\n",
       "      <td>0.0</td>\n",
       "      <td>0.020408</td>\n",
       "      <td>0.035714</td>\n",
       "      <td>0.0</td>\n",
       "      <td>0.666667</td>\n",
       "      <td>0</td>\n",
       "    </tr>\n",
       "    <tr>\n",
       "      <th>2</th>\n",
       "      <td>0.900000</td>\n",
       "      <td>0.0</td>\n",
       "      <td>0.6</td>\n",
       "      <td>0.004255</td>\n",
       "      <td>0.000000</td>\n",
       "      <td>0.348294</td>\n",
       "      <td>0.000000</td>\n",
       "      <td>0.999320</td>\n",
       "      <td>0.888889</td>\n",
       "      <td>0.000000</td>\n",
       "      <td>...</td>\n",
       "      <td>0.00000</td>\n",
       "      <td>0.017857</td>\n",
       "      <td>0.0</td>\n",
       "      <td>0.0</td>\n",
       "      <td>0.0</td>\n",
       "      <td>0.020408</td>\n",
       "      <td>0.017857</td>\n",
       "      <td>0.0</td>\n",
       "      <td>0.666667</td>\n",
       "      <td>0</td>\n",
       "    </tr>\n",
       "    <tr>\n",
       "      <th>3</th>\n",
       "      <td>0.046154</td>\n",
       "      <td>0.0</td>\n",
       "      <td>0.6</td>\n",
       "      <td>0.000000</td>\n",
       "      <td>0.000000</td>\n",
       "      <td>0.000000</td>\n",
       "      <td>0.000000</td>\n",
       "      <td>0.000000</td>\n",
       "      <td>0.000000</td>\n",
       "      <td>0.000000</td>\n",
       "      <td>...</td>\n",
       "      <td>0.03125</td>\n",
       "      <td>0.017857</td>\n",
       "      <td>0.0</td>\n",
       "      <td>0.0</td>\n",
       "      <td>0.0</td>\n",
       "      <td>0.020408</td>\n",
       "      <td>0.017857</td>\n",
       "      <td>1.0</td>\n",
       "      <td>0.666667</td>\n",
       "      <td>0</td>\n",
       "    </tr>\n",
       "    <tr>\n",
       "      <th>4</th>\n",
       "      <td>0.046154</td>\n",
       "      <td>0.0</td>\n",
       "      <td>0.6</td>\n",
       "      <td>0.000000</td>\n",
       "      <td>0.000000</td>\n",
       "      <td>0.000000</td>\n",
       "      <td>0.000000</td>\n",
       "      <td>0.000000</td>\n",
       "      <td>0.000000</td>\n",
       "      <td>0.000000</td>\n",
       "      <td>...</td>\n",
       "      <td>0.03125</td>\n",
       "      <td>0.017857</td>\n",
       "      <td>0.0</td>\n",
       "      <td>0.0</td>\n",
       "      <td>0.0</td>\n",
       "      <td>0.020408</td>\n",
       "      <td>0.017857</td>\n",
       "      <td>1.0</td>\n",
       "      <td>0.666667</td>\n",
       "      <td>0</td>\n",
       "    </tr>\n",
       "    <tr>\n",
       "      <th>...</th>\n",
       "      <td>...</td>\n",
       "      <td>...</td>\n",
       "      <td>...</td>\n",
       "      <td>...</td>\n",
       "      <td>...</td>\n",
       "      <td>...</td>\n",
       "      <td>...</td>\n",
       "      <td>...</td>\n",
       "      <td>...</td>\n",
       "      <td>...</td>\n",
       "      <td>...</td>\n",
       "      <td>...</td>\n",
       "      <td>...</td>\n",
       "      <td>...</td>\n",
       "      <td>...</td>\n",
       "      <td>...</td>\n",
       "      <td>...</td>\n",
       "      <td>...</td>\n",
       "      <td>...</td>\n",
       "      <td>...</td>\n",
       "      <td>...</td>\n",
       "    </tr>\n",
       "    <tr>\n",
       "      <th>35610</th>\n",
       "      <td>0.853846</td>\n",
       "      <td>0.0</td>\n",
       "      <td>0.4</td>\n",
       "      <td>0.155355</td>\n",
       "      <td>0.144993</td>\n",
       "      <td>0.461602</td>\n",
       "      <td>0.781941</td>\n",
       "      <td>0.912327</td>\n",
       "      <td>0.444444</td>\n",
       "      <td>0.166667</td>\n",
       "      <td>...</td>\n",
       "      <td>0.00000</td>\n",
       "      <td>0.000000</td>\n",
       "      <td>0.0</td>\n",
       "      <td>0.0</td>\n",
       "      <td>0.0</td>\n",
       "      <td>0.016011</td>\n",
       "      <td>0.188733</td>\n",
       "      <td>0.0</td>\n",
       "      <td>0.666667</td>\n",
       "      <td>0</td>\n",
       "    </tr>\n",
       "    <tr>\n",
       "      <th>35611</th>\n",
       "      <td>0.853846</td>\n",
       "      <td>0.0</td>\n",
       "      <td>0.8</td>\n",
       "      <td>0.038298</td>\n",
       "      <td>0.000000</td>\n",
       "      <td>0.050491</td>\n",
       "      <td>0.000000</td>\n",
       "      <td>0.004489</td>\n",
       "      <td>0.888889</td>\n",
       "      <td>0.000000</td>\n",
       "      <td>...</td>\n",
       "      <td>0.03125</td>\n",
       "      <td>0.428571</td>\n",
       "      <td>0.0</td>\n",
       "      <td>0.0</td>\n",
       "      <td>0.0</td>\n",
       "      <td>0.428571</td>\n",
       "      <td>0.428571</td>\n",
       "      <td>0.0</td>\n",
       "      <td>0.666667</td>\n",
       "      <td>0</td>\n",
       "    </tr>\n",
       "    <tr>\n",
       "      <th>35612</th>\n",
       "      <td>0.853846</td>\n",
       "      <td>0.0</td>\n",
       "      <td>0.4</td>\n",
       "      <td>0.055319</td>\n",
       "      <td>0.063025</td>\n",
       "      <td>0.281440</td>\n",
       "      <td>0.232378</td>\n",
       "      <td>0.876125</td>\n",
       "      <td>0.444444</td>\n",
       "      <td>0.166667</td>\n",
       "      <td>...</td>\n",
       "      <td>0.00000</td>\n",
       "      <td>0.039355</td>\n",
       "      <td>0.0</td>\n",
       "      <td>0.0</td>\n",
       "      <td>0.0</td>\n",
       "      <td>0.050177</td>\n",
       "      <td>0.134101</td>\n",
       "      <td>0.0</td>\n",
       "      <td>0.666667</td>\n",
       "      <td>0</td>\n",
       "    </tr>\n",
       "    <tr>\n",
       "      <th>35613</th>\n",
       "      <td>0.853846</td>\n",
       "      <td>0.0</td>\n",
       "      <td>0.4</td>\n",
       "      <td>0.136957</td>\n",
       "      <td>0.129784</td>\n",
       "      <td>0.423802</td>\n",
       "      <td>0.736695</td>\n",
       "      <td>0.979109</td>\n",
       "      <td>0.444444</td>\n",
       "      <td>0.166667</td>\n",
       "      <td>...</td>\n",
       "      <td>0.00000</td>\n",
       "      <td>0.000000</td>\n",
       "      <td>0.0</td>\n",
       "      <td>0.0</td>\n",
       "      <td>0.0</td>\n",
       "      <td>0.038544</td>\n",
       "      <td>0.130290</td>\n",
       "      <td>0.0</td>\n",
       "      <td>0.666667</td>\n",
       "      <td>0</td>\n",
       "    </tr>\n",
       "    <tr>\n",
       "      <th>35614</th>\n",
       "      <td>0.853846</td>\n",
       "      <td>0.0</td>\n",
       "      <td>0.4</td>\n",
       "      <td>0.175910</td>\n",
       "      <td>0.165289</td>\n",
       "      <td>0.504472</td>\n",
       "      <td>0.815716</td>\n",
       "      <td>0.942988</td>\n",
       "      <td>0.444444</td>\n",
       "      <td>0.166667</td>\n",
       "      <td>...</td>\n",
       "      <td>0.00000</td>\n",
       "      <td>0.000000</td>\n",
       "      <td>0.0</td>\n",
       "      <td>0.0</td>\n",
       "      <td>0.0</td>\n",
       "      <td>0.088547</td>\n",
       "      <td>0.025728</td>\n",
       "      <td>0.0</td>\n",
       "      <td>0.666667</td>\n",
       "      <td>0</td>\n",
       "    </tr>\n",
       "  </tbody>\n",
       "</table>\n",
       "<p>35615 rows × 43 columns</p>\n",
       "</div>"
      ],
      "text/plain": [
       "          proto  service  state     spkts     dpkts    sbytes    dbytes  \\\n",
       "0      0.900000      0.0    0.6  0.004255  0.000000  0.318841  0.000000   \n",
       "1      0.900000      0.0    0.6  0.004255  0.000000  0.370734  0.000000   \n",
       "2      0.900000      0.0    0.6  0.004255  0.000000  0.348294  0.000000   \n",
       "3      0.046154      0.0    0.6  0.000000  0.000000  0.000000  0.000000   \n",
       "4      0.046154      0.0    0.6  0.000000  0.000000  0.000000  0.000000   \n",
       "...         ...      ...    ...       ...       ...       ...       ...   \n",
       "35610  0.853846      0.0    0.4  0.155355  0.144993  0.461602  0.781941   \n",
       "35611  0.853846      0.0    0.8  0.038298  0.000000  0.050491  0.000000   \n",
       "35612  0.853846      0.0    0.4  0.055319  0.063025  0.281440  0.232378   \n",
       "35613  0.853846      0.0    0.4  0.136957  0.129784  0.423802  0.736695   \n",
       "35614  0.853846      0.0    0.4  0.175910  0.165289  0.504472  0.815716   \n",
       "\n",
       "           rate      sttl      dttl  ...  ct_dst_sport_ltm  ct_dst_src_ltm  \\\n",
       "0      0.999048  0.888889  0.000000  ...           0.00000        0.017857   \n",
       "1      0.998776  0.888889  0.000000  ...           0.00000        0.035714   \n",
       "2      0.999320  0.888889  0.000000  ...           0.00000        0.017857   \n",
       "3      0.000000  0.000000  0.000000  ...           0.03125        0.017857   \n",
       "4      0.000000  0.000000  0.000000  ...           0.03125        0.017857   \n",
       "...         ...       ...       ...  ...               ...             ...   \n",
       "35610  0.912327  0.444444  0.166667  ...           0.00000        0.000000   \n",
       "35611  0.004489  0.888889  0.000000  ...           0.03125        0.428571   \n",
       "35612  0.876125  0.444444  0.166667  ...           0.00000        0.039355   \n",
       "35613  0.979109  0.444444  0.166667  ...           0.00000        0.000000   \n",
       "35614  0.942988  0.444444  0.166667  ...           0.00000        0.000000   \n",
       "\n",
       "       is_ftp_login  ct_ftp_cmd  ct_flw_http_mthd  ct_src_ltm  ct_srv_dst  \\\n",
       "0               0.0         0.0               0.0    0.000000    0.017857   \n",
       "1               0.0         0.0               0.0    0.020408    0.035714   \n",
       "2               0.0         0.0               0.0    0.020408    0.017857   \n",
       "3               0.0         0.0               0.0    0.020408    0.017857   \n",
       "4               0.0         0.0               0.0    0.020408    0.017857   \n",
       "...             ...         ...               ...         ...         ...   \n",
       "35610           0.0         0.0               0.0    0.016011    0.188733   \n",
       "35611           0.0         0.0               0.0    0.428571    0.428571   \n",
       "35612           0.0         0.0               0.0    0.050177    0.134101   \n",
       "35613           0.0         0.0               0.0    0.038544    0.130290   \n",
       "35614           0.0         0.0               0.0    0.088547    0.025728   \n",
       "\n",
       "       is_sm_ips_ports  attack_cat  label  \n",
       "0                  0.0    0.666667      0  \n",
       "1                  0.0    0.666667      0  \n",
       "2                  0.0    0.666667      0  \n",
       "3                  1.0    0.666667      0  \n",
       "4                  1.0    0.666667      0  \n",
       "...                ...         ...    ...  \n",
       "35610              0.0    0.666667      0  \n",
       "35611              0.0    0.666667      0  \n",
       "35612              0.0    0.666667      0  \n",
       "35613              0.0    0.666667      0  \n",
       "35614              0.0    0.666667      0  \n",
       "\n",
       "[35615 rows x 43 columns]"
      ]
     },
     "execution_count": 14,
     "metadata": {},
     "output_type": "execute_result"
    }
   ],
   "source": [
    "df"
   ]
  },
  {
   "cell_type": "code",
   "execution_count": 15,
   "id": "6889b7f2",
   "metadata": {},
   "outputs": [],
   "source": [
    "X = df.drop('label', axis=1)\n",
    "y = df['label']"
   ]
  },
  {
   "cell_type": "code",
   "execution_count": 16,
   "id": "2ba09e72",
   "metadata": {},
   "outputs": [
    {
     "data": {
      "text/plain": [
       "((28492, 42), (28492,))"
      ]
     },
     "execution_count": 16,
     "metadata": {},
     "output_type": "execute_result"
    }
   ],
   "source": [
    "X_train, X_test, y_train, y_test = train_test_split(X, y, test_size=0.2, random_state=42)\n",
    "X_train.shape, y_train.shape"
   ]
  },
  {
   "cell_type": "markdown",
   "id": "20b1e57a",
   "metadata": {},
   "source": [
    "### Apply ML"
   ]
  },
  {
   "cell_type": "code",
   "execution_count": 17,
   "id": "d3fb2545",
   "metadata": {},
   "outputs": [],
   "source": [
    "results_test = {}\n",
    "results_train = {}\n",
    "list_algos=[]\n",
    "\n",
    "def predict(algo_name,X_train,y_train,X_test,y_test, atype='',verbose=0):\n",
    "    algo_name.fit(X_train, y_train)\n",
    "    Y_pred = algo_name.predict(X_test)\n",
    "    acc_train = round(algo_name.score(X_train, y_train) * 100, 2)\n",
    "    acc_val = round(algo_name.score(X_test, y_test) * 100, 2)\n",
    "    \n",
    "    results_test[str(algo_name)[0:str(algo_name).find('(')]+'_'+str(atype)] = acc_val\n",
    "    results_train[str(algo_name)[0:str(algo_name).find('(')]+'_'+str(atype)] = acc_train\n",
    "    list_algos.append(str(algo_name)[0:str(algo_name).find('(')])\n",
    "    if verbose ==0:\n",
    "        print(\"Training Accuracy: \" + str(acc_train))\n",
    "        print(\"Testing  Accuracy: \"+ str(acc_val))\n",
    "    else:\n",
    "        return Y_pred"
   ]
  },
  {
   "cell_type": "code",
   "execution_count": 18,
   "id": "65301892",
   "metadata": {},
   "outputs": [
    {
     "name": "stdout",
     "output_type": "stream",
     "text": [
      "Training Accuracy: 99.93\n",
      "Testing  Accuracy: 99.96\n",
      "              precision    recall  f1-score   support\n",
      "\n",
      "           0       1.00      1.00      1.00      3908\n",
      "           1       1.00      1.00      1.00      3215\n",
      "\n",
      "    accuracy                           1.00      7123\n",
      "   macro avg       1.00      1.00      1.00      7123\n",
      "weighted avg       1.00      1.00      1.00      7123\n",
      "\n"
     ]
    }
   ],
   "source": [
    "# KNN\n",
    "\n",
    "knneig = KNeighborsClassifier(n_neighbors=100)\n",
    "knneig.fit(X_train, y_train)\n",
    "predict(knneig,X_train,y_train,X_test,y_test)\n",
    "print(classification_report(y_test, knneig.predict(X_test)))"
   ]
  },
  {
   "cell_type": "code",
   "execution_count": 30,
   "id": "1305896b",
   "metadata": {},
   "outputs": [
    {
     "name": "stdout",
     "output_type": "stream",
     "text": [
      "Training Accuracy: 100.0\n",
      "Testing  Accuracy: 100.0\n",
      "              precision    recall  f1-score   support\n",
      "\n",
      "           0       1.00      1.00      1.00      9077\n",
      "           1       1.00      1.00      1.00      8993\n",
      "\n",
      "    accuracy                           1.00     18070\n",
      "   macro avg       1.00      1.00      1.00     18070\n",
      "weighted avg       1.00      1.00      1.00     18070\n",
      "\n"
     ]
    }
   ],
   "source": [
    "#RF\n",
    "\n",
    "rf = RandomForestClassifier(n_estimators=250, random_state = 42)\n",
    "predict(rf,X_train,y_train,X_test,y_test)\n",
    "print(classification_report(y_test, rf.predict(X_test)))"
   ]
  },
  {
   "cell_type": "code",
   "execution_count": 19,
   "id": "89d361c4",
   "metadata": {},
   "outputs": [
    {
     "name": "stdout",
     "output_type": "stream",
     "text": [
      "Training Accuracy: 99.64\n",
      "Testing  Accuracy: 99.63\n",
      "              precision    recall  f1-score   support\n",
      "\n",
      "           0       1.00      0.99      1.00      3908\n",
      "           1       0.99      1.00      1.00      3215\n",
      "\n",
      "    accuracy                           1.00      7123\n",
      "   macro avg       1.00      1.00      1.00      7123\n",
      "weighted avg       1.00      1.00      1.00      7123\n",
      "\n"
     ]
    }
   ],
   "source": [
    "#LR\n",
    "\n",
    "lr = LogisticRegression(solver='lbfgs')\n",
    "predict(lr,X_train,y_train,X_test,y_test)\n",
    "print(classification_report(y_test, lr.predict(X_test)))"
   ]
  },
  {
   "cell_type": "code",
   "execution_count": 32,
   "id": "35b1b80f",
   "metadata": {},
   "outputs": [
    {
     "name": "stdout",
     "output_type": "stream",
     "text": [
      "Training Accuracy: 100.0\n",
      "Testing  Accuracy: 100.0\n",
      "              precision    recall  f1-score   support\n",
      "\n",
      "           0       1.00      1.00      1.00      9077\n",
      "           1       1.00      1.00      1.00      8993\n",
      "\n",
      "    accuracy                           1.00     18070\n",
      "   macro avg       1.00      1.00      1.00     18070\n",
      "weighted avg       1.00      1.00      1.00     18070\n",
      "\n"
     ]
    }
   ],
   "source": [
    "# GBC\n",
    "\n",
    "gbc = GradientBoostingClassifier()\n",
    "predict(gbc,X_train,y_train,X_test,y_test)\n",
    "print(classification_report(y_test, gbc.predict(X_test)))"
   ]
  },
  {
   "cell_type": "code",
   "execution_count": 33,
   "id": "198abdba",
   "metadata": {},
   "outputs": [
    {
     "name": "stdout",
     "output_type": "stream",
     "text": [
      "Training Accuracy: 100.0\n",
      "Testing  Accuracy: 100.0\n",
      "              precision    recall  f1-score   support\n",
      "\n",
      "           0       1.00      1.00      1.00      9077\n",
      "           1       1.00      1.00      1.00      8993\n",
      "\n",
      "    accuracy                           1.00     18070\n",
      "   macro avg       1.00      1.00      1.00     18070\n",
      "weighted avg       1.00      1.00      1.00     18070\n",
      "\n"
     ]
    }
   ],
   "source": [
    "# ADA\n",
    "\n",
    "ada = AdaBoostClassifier()\n",
    "predict(ada,X_train,y_train,X_test,y_test)\n",
    "print(classification_report(y_test, ada.predict(X_test)))"
   ]
  },
  {
   "cell_type": "code",
   "execution_count": 20,
   "id": "6cc6b058",
   "metadata": {},
   "outputs": [
    {
     "name": "stdout",
     "output_type": "stream",
     "text": [
      "Training Accuracy: 99.64\n",
      "Testing  Accuracy: 99.63\n",
      "              precision    recall  f1-score   support\n",
      "\n",
      "           0       1.00      0.99      1.00      3908\n",
      "           1       0.99      1.00      1.00      3215\n",
      "\n",
      "    accuracy                           1.00      7123\n",
      "   macro avg       1.00      1.00      1.00      7123\n",
      "weighted avg       1.00      1.00      1.00      7123\n",
      "\n"
     ]
    }
   ],
   "source": [
    "#GaussianNB\n",
    "\n",
    "nb = GaussianNB()\n",
    "predict(nb,X_train,y_train,X_test,y_test)\n",
    "print(classification_report(y_test, nb.predict(X_test)))"
   ]
  },
  {
   "cell_type": "code",
   "execution_count": 35,
   "id": "917c9c4d",
   "metadata": {},
   "outputs": [
    {
     "name": "stdout",
     "output_type": "stream",
     "text": [
      "[15:23:15] WARNING: ..\\src\\learner.cc:1095: Starting in XGBoost 1.3.0, the default evaluation metric used with the objective 'binary:logistic' was changed from 'error' to 'logloss'. Explicitly set eval_metric if you'd like to restore the old behavior.\n"
     ]
    },
    {
     "name": "stderr",
     "output_type": "stream",
     "text": [
      "C:\\Users\\moinu\\anaconda3\\lib\\site-packages\\xgboost\\sklearn.py:1146: UserWarning: The use of label encoder in XGBClassifier is deprecated and will be removed in a future release. To remove this warning, do the following: 1) Pass option use_label_encoder=False when constructing XGBClassifier object; and 2) Encode your labels (y) as integers starting with 0, i.e. 0, 1, 2, ..., [num_class - 1].\n",
      "  warnings.warn(label_encoder_deprecation_msg, UserWarning)\n"
     ]
    },
    {
     "name": "stdout",
     "output_type": "stream",
     "text": [
      "Training Accuracy: 100.0\n",
      "Testing  Accuracy: 100.0\n",
      "              precision    recall  f1-score   support\n",
      "\n",
      "           0       1.00      1.00      1.00      9077\n",
      "           1       1.00      1.00      1.00      8993\n",
      "\n",
      "    accuracy                           1.00     18070\n",
      "   macro avg       1.00      1.00      1.00     18070\n",
      "weighted avg       1.00      1.00      1.00     18070\n",
      "\n"
     ]
    },
    {
     "name": "stderr",
     "output_type": "stream",
     "text": [
      "C:\\Users\\moinu\\anaconda3\\lib\\site-packages\\xgboost\\data.py:112: UserWarning: Use subset (sliced data) of np.ndarray is not recommended because it will generate extra copies and increase memory consumption\n",
      "  warnings.warn(\n",
      "C:\\Users\\moinu\\anaconda3\\lib\\site-packages\\xgboost\\data.py:112: UserWarning: Use subset (sliced data) of np.ndarray is not recommended because it will generate extra copies and increase memory consumption\n",
      "  warnings.warn(\n",
      "C:\\Users\\moinu\\anaconda3\\lib\\site-packages\\xgboost\\data.py:112: UserWarning: Use subset (sliced data) of np.ndarray is not recommended because it will generate extra copies and increase memory consumption\n",
      "  warnings.warn(\n"
     ]
    }
   ],
   "source": [
    "#xgb\n",
    "\n",
    "xg = xgb.XGBClassifier()\n",
    "predict(xg,X_train,y_train,X_test,y_test)\n",
    "print(classification_report(y_test, xg.predict(X_test)))"
   ]
  },
  {
   "cell_type": "code",
   "execution_count": 21,
   "id": "826d1e93",
   "metadata": {},
   "outputs": [
    {
     "name": "stdout",
     "output_type": "stream",
     "text": [
      "Training Accuracy: 99.91\n",
      "Testing  Accuracy: 99.99\n",
      "              precision    recall  f1-score   support\n",
      "\n",
      "           0       1.00      1.00      1.00      3908\n",
      "           1       1.00      1.00      1.00      3215\n",
      "\n",
      "    accuracy                           1.00      7123\n",
      "   macro avg       1.00      1.00      1.00      7123\n",
      "weighted avg       1.00      1.00      1.00      7123\n",
      "\n"
     ]
    }
   ],
   "source": [
    "#MLP\n",
    "\n",
    "from sklearn.neural_network import MLPClassifier\n",
    "mlp = MLPClassifier(random_state=42)  \n",
    "predict(mlp,X_train,y_train,X_test,y_test)\n",
    "print(classification_report(y_test, mlp.predict(X_test)))"
   ]
  },
  {
   "cell_type": "code",
   "execution_count": 22,
   "id": "dbca81d1",
   "metadata": {},
   "outputs": [
    {
     "name": "stdout",
     "output_type": "stream",
     "text": [
      "Training Accuracy: 99.64\n",
      "Testing  Accuracy: 99.63\n",
      "              precision    recall  f1-score   support\n",
      "\n",
      "           0       1.00      0.99      1.00      3908\n",
      "           1       0.99      1.00      1.00      3215\n",
      "\n",
      "    accuracy                           1.00      7123\n",
      "   macro avg       1.00      1.00      1.00      7123\n",
      "weighted avg       1.00      1.00      1.00      7123\n",
      "\n"
     ]
    }
   ],
   "source": [
    "#svc\n",
    "\n",
    "svc = SVC(kernel='linear', probability=True)\n",
    "predict(svc,X_train,y_train,X_test,y_test)\n",
    "print(classification_report(y_test, svc.predict(X_test)))"
   ]
  },
  {
   "cell_type": "code",
   "execution_count": 38,
   "id": "ce642628",
   "metadata": {},
   "outputs": [],
   "source": [
    "r_probs = [0 for _ in range(len(y_test))]\n",
    "KNN_probs = knneig.predict_proba(X_test)\n",
    "RF_probs = rf.predict_proba(X_test)\n",
    "GBC_probs = gbc.predict_proba(X_test)\n",
    "ADA_probs = ada.predict_proba(X_test)\n",
    "LR_probs = lr.predict_proba(X_test)\n",
    "svc_probs = svc.predict_proba(X_test)\n",
    "nb_probs = nb.predict_proba(X_test)\n",
    "\n",
    "\n",
    "KNN_probs = KNN_probs[:, 1]\n",
    "RF_probs = RF_probs[:, 1]\n",
    "GBC_probs = GBC_probs[:, 1]\n",
    "LR_probs = LR_probs[:, 1]\n",
    "ADA_probs = ADA_probs[:, 1]\n",
    "svc_probs = svc_probs[:, 1]\n",
    "nb_probs = nb_probs[:, 1]\n",
    "\n",
    "\n",
    "r_auc = roc_auc_score(y_test, r_probs)\n",
    "KNN_auc = roc_auc_score(y_test, KNN_probs)\n",
    "RF_auc = roc_auc_score(y_test, RF_probs)\n",
    "GBC_auc = roc_auc_score(y_test, GBC_probs)\n",
    "LR_auc = roc_auc_score(y_test, LR_probs)\n",
    "ADA_auc = roc_auc_score(y_test, ADA_probs)\n",
    "svc_auc = roc_auc_score(y_test, svc_probs)\n",
    "nb_auc = roc_auc_score(y_test, nb_probs)\n",
    "\n",
    "r_fpr, r_tpr, _ = roc_curve(y_test, r_probs)\n",
    "KNN_fpr, KNN_tpr, _ = roc_curve(y_test, KNN_probs)\n",
    "RF_fpr, RF_tpr, _ = roc_curve(y_test, RF_probs)\n",
    "GBC_fpr, GBC_tpr, _ = roc_curve(y_test, GBC_probs)\n",
    "LR_fpr, LR_tpr, _ = roc_curve(y_test, LR_probs)\n",
    "ADA_fpr, ADA_tpr, _ = roc_curve(y_test, ADA_probs)\n",
    "svc_fpr, svc_tpr, _ = roc_curve(y_test, svc_probs)\n",
    "nb_fpr, nb_tpr, _ = roc_curve(y_test, nb_probs)"
   ]
  },
  {
   "cell_type": "code",
   "execution_count": 39,
   "id": "6e3aa0dd",
   "metadata": {},
   "outputs": [
    {
     "data": {
      "image/png": "[encoded data removed]",
      "text/plain": [
       "<Figure size 1152x576 with 1 Axes>"
      ]
     },
     "metadata": {
      "needs_background": "light"
     },
     "output_type": "display_data"
    }
   ],
   "source": [
    "plt.figure(figsize=(16,8))\n",
    "plt.plot(r_fpr, r_tpr, linestyle='--')\n",
    "#plt.plot(rf_fpr, rf_tpr, marker='.', label='Random Forest (AUROC = %0.3f)' % rf_auc)\n",
    "plt.plot(KNN_fpr, KNN_tpr, label='KNN (AUROC = %0.3f)' % KNN_auc)\n",
    "plt.plot(RF_fpr, RF_tpr, label='RF (AUROC = %0.3f)' % RF_auc)\n",
    "plt.plot(GBC_fpr, GBC_tpr, label='GBC (AUROC = %0.3f)' % GBC_auc)\n",
    "plt.plot(LR_fpr, LR_tpr, label='LR (AUROC = %0.3f)' % LR_auc)\n",
    "plt.plot(ADA_fpr, ADA_tpr, label='ADA (AUROC = %0.3f)' % ADA_auc)\n",
    "plt.plot(svc_fpr, svc_tpr, label='SVC (AUROC = %0.3f)' % svc_auc)\n",
    "plt.plot(nb_fpr, nb_tpr, label='NB (AUROC = %0.3f)' % nb_auc)\n",
    "\n",
    "\n",
    "\n",
    "# Title\n",
    "plt.title('ROC Plot')\n",
    "# Axis labels\n",
    "plt.xlabel('False Positive Rate')\n",
    "plt.ylabel('True Positive Rate')\n",
    "# Show legend\n",
    "plt.legend() # \n",
    "# Show plot\n",
    "plt.show()"
   ]
  },
  {
   "cell_type": "code",
   "execution_count": 40,
   "id": "5fa4472f",
   "metadata": {},
   "outputs": [
    {
     "name": "stdout",
     "output_type": "stream",
     "text": [
      "Model: \"sequential_1\"\n",
      "_________________________________________________________________\n",
      "Layer (type)                 Output Shape              Param #   \n",
      "=================================================================\n",
      "dense_3 (Dense)              (None, 64)                2752      \n",
      "_________________________________________________________________\n",
      "dense_4 (Dense)              (None, 128)               8320      \n",
      "_________________________________________________________________\n",
      "dense_5 (Dense)              (None, 1)                 129       \n",
      "=================================================================\n",
      "Total params: 11,201\n",
      "Trainable params: 11,201\n",
      "Non-trainable params: 0\n",
      "_________________________________________________________________\n"
     ]
    }
   ],
   "source": [
    "import tensorflow as tf\n",
    "model= tf.keras.models.Sequential()\n",
    "model.add(tf.keras.layers.Dense(units=64,activation='relu',input_shape= (42,)))\n",
    "model.add(tf.keras.layers.Dense(units=128,activation='relu'))\n",
    "model.add(tf.keras.layers.Dense(units=1,activation='sigmoid'))\n",
    "\n",
    "model.summary()"
   ]
  },
  {
   "cell_type": "code",
   "execution_count": 41,
   "id": "f0f687b1",
   "metadata": {
    "scrolled": true
   },
   "outputs": [
    {
     "name": "stdout",
     "output_type": "stream",
     "text": [
      "Epoch 1/50\n",
      "1205/1205 [==============================] - 1s 477us/step - loss: 0.1719 - accuracy: 0.9239\n",
      "Epoch 2/50\n",
      "1205/1205 [==============================] - 1s 451us/step - loss: 0.0734 - accuracy: 0.9729\n",
      "Epoch 3/50\n",
      "1205/1205 [==============================] - 1s 445us/step - loss: 0.0299 - accuracy: 0.9916\n",
      "Epoch 4/50\n",
      "1205/1205 [==============================] - 1s 442us/step - loss: 0.0111 - accuracy: 0.9974\n",
      "Epoch 5/50\n",
      "1205/1205 [==============================] - 1s 449us/step - loss: 0.0058 - accuracy: 0.9985\n",
      "Epoch 6/50\n",
      "1205/1205 [==============================] - 1s 483us/step - loss: 0.0027 - accuracy: 0.9995\n",
      "Epoch 7/50\n",
      "1205/1205 [==============================] - 1s 478us/step - loss: 0.0023 - accuracy: 0.9996\n",
      "Epoch 8/50\n",
      "1205/1205 [==============================] - 1s 470us/step - loss: 0.0021 - accuracy: 0.9995\n",
      "Epoch 9/50\n",
      "1205/1205 [==============================] - 1s 473us/step - loss: 0.0011 - accuracy: 0.9998\n",
      "Epoch 10/50\n",
      "1205/1205 [==============================] - 1s 562us/step - loss: 6.9817e-04 - accuracy: 0.9998\n",
      "Epoch 11/50\n",
      "1205/1205 [==============================] - 1s 486us/step - loss: 0.0022 - accuracy: 0.9993\n",
      "Epoch 12/50\n",
      "1205/1205 [==============================] - 1s 484us/step - loss: 9.3716e-04 - accuracy: 0.9998\n",
      "Epoch 13/50\n",
      "1205/1205 [==============================] - 1s 468us/step - loss: 0.0012 - accuracy: 0.9997\n",
      "Epoch 14/50\n",
      "1205/1205 [==============================] - 1s 478us/step - loss: 3.4769e-04 - accuracy: 0.9999\n",
      "Epoch 15/50\n",
      "1205/1205 [==============================] - 1s 465us/step - loss: 0.0011 - accuracy: 0.9997\n",
      "Epoch 16/50\n",
      "1205/1205 [==============================] - 1s 483us/step - loss: 0.0014 - accuracy: 0.9997\n",
      "Epoch 17/50\n",
      "1205/1205 [==============================] - 1s 462us/step - loss: 3.9118e-04 - accuracy: 0.9999\n",
      "Epoch 18/50\n",
      "1205/1205 [==============================] - 1s 459us/step - loss: 0.0015 - accuracy: 0.9996\n",
      "Epoch 19/50\n",
      "1205/1205 [==============================] - 1s 465us/step - loss: 2.7835e-04 - accuracy: 0.9999\n",
      "Epoch 20/50\n",
      "1205/1205 [==============================] - 1s 463us/step - loss: 1.8391e-04 - accuracy: 0.9999\n",
      "Epoch 21/50\n",
      "1205/1205 [==============================] - 1s 507us/step - loss: 1.0859e-04 - accuracy: 1.0000\n",
      "Epoch 22/50\n",
      "1205/1205 [==============================] - 1s 481us/step - loss: 1.4432e-05 - accuracy: 1.0000\n",
      "Epoch 23/50\n",
      "1205/1205 [==============================] - 1s 483us/step - loss: 3.9513e-06 - accuracy: 1.0000\n",
      "Epoch 24/50\n",
      "1205/1205 [==============================] - 1s 486us/step - loss: 2.6432e-06 - accuracy: 1.0000\n",
      "Epoch 25/50\n",
      "1205/1205 [==============================] - 1s 474us/step - loss: 2.5557e-06 - accuracy: 1.0000\n",
      "Epoch 26/50\n",
      "1205/1205 [==============================] - 1s 460us/step - loss: 0.0029 - accuracy: 0.9994\n",
      "Epoch 27/50\n",
      "1205/1205 [==============================] - 1s 460us/step - loss: 2.7565e-04 - accuracy: 0.9999\n",
      "Epoch 28/50\n",
      "1205/1205 [==============================] - 1s 461us/step - loss: 5.8187e-04 - accuracy: 0.9998\n",
      "Epoch 29/50\n",
      "1205/1205 [==============================] - 1s 458us/step - loss: 1.6418e-04 - accuracy: 0.9999\n",
      "Epoch 30/50\n",
      "1205/1205 [==============================] - 1s 459us/step - loss: 4.7735e-06 - accuracy: 1.0000\n",
      "Epoch 31/50\n",
      "1205/1205 [==============================] - 1s 460us/step - loss: 3.4119e-06 - accuracy: 1.0000\n",
      "Epoch 32/50\n",
      "1205/1205 [==============================] - 1s 462us/step - loss: 2.1386e-06 - accuracy: 1.0000\n",
      "Epoch 33/50\n",
      "1205/1205 [==============================] - 1s 460us/step - loss: 1.7420e-06 - accuracy: 1.0000\n",
      "Epoch 34/50\n",
      "1205/1205 [==============================] - 1s 477us/step - loss: 1.0410e-06 - accuracy: 1.0000\n",
      "Epoch 35/50\n",
      "1205/1205 [==============================] - 1s 508us/step - loss: 5.5040e-04 - accuracy: 0.9998\n",
      "Epoch 36/50\n",
      "1205/1205 [==============================] - 1s 472us/step - loss: 7.3265e-04 - accuracy: 0.9998\n",
      "Epoch 37/50\n",
      "1205/1205 [==============================] - 1s 466us/step - loss: 2.0918e-04 - accuracy: 0.9999\n",
      "Epoch 38/50\n",
      "1205/1205 [==============================] - 1s 462us/step - loss: 6.5543e-05 - accuracy: 1.0000\n",
      "Epoch 39/50\n",
      "1205/1205 [==============================] - 1s 464us/step - loss: 3.1621e-06 - accuracy: 1.0000\n",
      "Epoch 40/50\n",
      "1205/1205 [==============================] - 1s 466us/step - loss: 1.9664e-06 - accuracy: 1.0000\n",
      "Epoch 41/50\n",
      "1205/1205 [==============================] - 1s 468us/step - loss: 1.2989e-06 - accuracy: 1.0000\n",
      "Epoch 42/50\n",
      "1205/1205 [==============================] - 1s 509us/step - loss: 5.3417e-04 - accuracy: 0.9998\n",
      "Epoch 43/50\n",
      "1205/1205 [==============================] - 1s 472us/step - loss: 0.0013 - accuracy: 0.9998\n",
      "Epoch 44/50\n",
      "1205/1205 [==============================] - 1s 458us/step - loss: 2.1431e-04 - accuracy: 0.9999\n",
      "Epoch 45/50\n",
      "1205/1205 [==============================] - 1s 459us/step - loss: 3.7398e-05 - accuracy: 1.0000\n",
      "Epoch 46/50\n",
      "1205/1205 [==============================] - 1s 462us/step - loss: 2.9327e-04 - accuracy: 0.9999\n",
      "Epoch 47/50\n",
      "1205/1205 [==============================] - 1s 523us/step - loss: 1.9040e-06 - accuracy: 1.0000\n",
      "Epoch 48/50\n",
      "1205/1205 [==============================] - 1s 480us/step - loss: 1.1632e-06 - accuracy: 1.0000\n",
      "Epoch 49/50\n",
      "1205/1205 [==============================] - 1s 458us/step - loss: 7.9787e-07 - accuracy: 1.0000\n",
      "Epoch 50/50\n",
      "1205/1205 [==============================] - 1s 445us/step - loss: 5.0685e-07 - accuracy: 1.0000\n"
     ]
    }
   ],
   "source": [
    "model.compile(optimizer='adam',loss='binary_crossentropy',metrics=['accuracy'])\n",
    "\n",
    "epochs_hist = model.fit(X_train,y_train,epochs=50,batch_size=60)"
   ]
  },
  {
   "cell_type": "code",
   "execution_count": 42,
   "id": "24d0f74c",
   "metadata": {},
   "outputs": [
    {
     "name": "stdout",
     "output_type": "stream",
     "text": [
      "              precision    recall  f1-score   support\n",
      "\n",
      "           0       1.00      1.00      1.00      9077\n",
      "           1       1.00      1.00      1.00      8993\n",
      "\n",
      "    accuracy                           1.00     18070\n",
      "   macro avg       1.00      1.00      1.00     18070\n",
      "weighted avg       1.00      1.00      1.00     18070\n",
      "\n"
     ]
    }
   ],
   "source": [
    "y_pred=model.predict(X_test)\n",
    "y_pred = (y_pred>0.5)\n",
    "\n",
    "print(classification_report(y_test,y_pred))"
   ]
  },
  {
   "cell_type": "code",
   "execution_count": 43,
   "id": "134e1611",
   "metadata": {
    "scrolled": false
   },
   "outputs": [
    {
     "data": {
      "text/plain": [
       "Text(0.5, 1.0, 'Loss and Accuracy plot')"
      ]
     },
     "execution_count": 43,
     "metadata": {},
     "output_type": "execute_result"
    },
    {
     "data": {
      "image/png": "[encoded data removed]",
      "text/plain": [
       "<Figure size 432x288 with 1 Axes>"
      ]
     },
     "metadata": {
      "needs_background": "light"
     },
     "output_type": "display_data"
    }
   ],
   "source": [
    "plt.plot(epochs_hist.history['loss'])\n",
    "plt.plot(epochs_hist.history['accuracy'])\n",
    "plt.xlabel('Epochs')\n",
    "plt.ylabel('percentage')\n",
    "plt.legend(['loss','accuracy'])\n",
    "plt.title('Loss and Accuracy plot')"
   ]
  },
  {
   "cell_type": "markdown",
   "id": "87a63760",
   "metadata": {},
   "source": [
    "## KMeans"
   ]
  },
  {
   "cell_type": "code",
   "execution_count": 3,
   "id": "1eb5bd82",
   "metadata": {},
   "outputs": [],
   "source": [
    "df = pd.read_csv(\"unsw_kmeans2.csv\")"
   ]
  },
  {
   "cell_type": "code",
   "execution_count": 4,
   "id": "5023ccc9",
   "metadata": {},
   "outputs": [
    {
     "data": {
      "text/html": [
       "<div>\n",
       "<style scoped>\n",
       "    .dataframe tbody tr th:only-of-type {\n",
       "        vertical-align: middle;\n",
       "    }\n",
       "\n",
       "    .dataframe tbody tr th {\n",
       "        vertical-align: top;\n",
       "    }\n",
       "\n",
       "    .dataframe thead th {\n",
       "        text-align: right;\n",
       "    }\n",
       "</style>\n",
       "<table border=\"1\" class=\"dataframe\">\n",
       "  <thead>\n",
       "    <tr style=\"text-align: right;\">\n",
       "      <th></th>\n",
       "      <th>proto</th>\n",
       "      <th>service</th>\n",
       "      <th>state</th>\n",
       "      <th>spkts</th>\n",
       "      <th>dpkts</th>\n",
       "      <th>sbytes</th>\n",
       "      <th>dbytes</th>\n",
       "      <th>rate</th>\n",
       "      <th>sttl</th>\n",
       "      <th>dttl</th>\n",
       "      <th>...</th>\n",
       "      <th>ct_dst_sport_ltm</th>\n",
       "      <th>ct_dst_src_ltm</th>\n",
       "      <th>is_ftp_login</th>\n",
       "      <th>ct_ftp_cmd</th>\n",
       "      <th>ct_flw_http_mthd</th>\n",
       "      <th>ct_src_ltm</th>\n",
       "      <th>ct_srv_dst</th>\n",
       "      <th>is_sm_ips_ports</th>\n",
       "      <th>attack_cat</th>\n",
       "      <th>label</th>\n",
       "    </tr>\n",
       "  </thead>\n",
       "  <tbody>\n",
       "    <tr>\n",
       "      <th>0</th>\n",
       "      <td>0.900000</td>\n",
       "      <td>0.0</td>\n",
       "      <td>0.6</td>\n",
       "      <td>0.004255</td>\n",
       "      <td>0.000000</td>\n",
       "      <td>0.059374</td>\n",
       "      <td>0.000000</td>\n",
       "      <td>0.998640</td>\n",
       "      <td>0.888889</td>\n",
       "      <td>0.000000</td>\n",
       "      <td>...</td>\n",
       "      <td>0.00000</td>\n",
       "      <td>0.017857</td>\n",
       "      <td>0.0</td>\n",
       "      <td>0.0</td>\n",
       "      <td>0.0</td>\n",
       "      <td>0.000000</td>\n",
       "      <td>0.017857</td>\n",
       "      <td>0.0</td>\n",
       "      <td>0.666667</td>\n",
       "      <td>0</td>\n",
       "    </tr>\n",
       "    <tr>\n",
       "      <th>1</th>\n",
       "      <td>0.900000</td>\n",
       "      <td>0.0</td>\n",
       "      <td>0.6</td>\n",
       "      <td>0.004255</td>\n",
       "      <td>0.000000</td>\n",
       "      <td>0.318841</td>\n",
       "      <td>0.000000</td>\n",
       "      <td>0.999048</td>\n",
       "      <td>0.888889</td>\n",
       "      <td>0.000000</td>\n",
       "      <td>...</td>\n",
       "      <td>0.00000</td>\n",
       "      <td>0.017857</td>\n",
       "      <td>0.0</td>\n",
       "      <td>0.0</td>\n",
       "      <td>0.0</td>\n",
       "      <td>0.000000</td>\n",
       "      <td>0.017857</td>\n",
       "      <td>0.0</td>\n",
       "      <td>0.666667</td>\n",
       "      <td>0</td>\n",
       "    </tr>\n",
       "    <tr>\n",
       "      <th>2</th>\n",
       "      <td>0.900000</td>\n",
       "      <td>0.0</td>\n",
       "      <td>0.6</td>\n",
       "      <td>0.004255</td>\n",
       "      <td>0.000000</td>\n",
       "      <td>0.183731</td>\n",
       "      <td>0.000000</td>\n",
       "      <td>0.999456</td>\n",
       "      <td>0.888889</td>\n",
       "      <td>0.000000</td>\n",
       "      <td>...</td>\n",
       "      <td>0.00000</td>\n",
       "      <td>0.035714</td>\n",
       "      <td>0.0</td>\n",
       "      <td>0.0</td>\n",
       "      <td>0.0</td>\n",
       "      <td>0.000000</td>\n",
       "      <td>0.035714</td>\n",
       "      <td>0.0</td>\n",
       "      <td>0.666667</td>\n",
       "      <td>0</td>\n",
       "    </tr>\n",
       "    <tr>\n",
       "      <th>3</th>\n",
       "      <td>0.900000</td>\n",
       "      <td>0.0</td>\n",
       "      <td>0.6</td>\n",
       "      <td>0.004255</td>\n",
       "      <td>0.000000</td>\n",
       "      <td>0.144460</td>\n",
       "      <td>0.000000</td>\n",
       "      <td>0.999320</td>\n",
       "      <td>0.888889</td>\n",
       "      <td>0.000000</td>\n",
       "      <td>...</td>\n",
       "      <td>0.00000</td>\n",
       "      <td>0.035714</td>\n",
       "      <td>0.0</td>\n",
       "      <td>0.0</td>\n",
       "      <td>0.0</td>\n",
       "      <td>0.020408</td>\n",
       "      <td>0.035714</td>\n",
       "      <td>0.0</td>\n",
       "      <td>0.666667</td>\n",
       "      <td>0</td>\n",
       "    </tr>\n",
       "    <tr>\n",
       "      <th>4</th>\n",
       "      <td>0.900000</td>\n",
       "      <td>0.0</td>\n",
       "      <td>0.6</td>\n",
       "      <td>0.004255</td>\n",
       "      <td>0.000000</td>\n",
       "      <td>0.117345</td>\n",
       "      <td>0.000000</td>\n",
       "      <td>0.999728</td>\n",
       "      <td>0.888889</td>\n",
       "      <td>0.000000</td>\n",
       "      <td>...</td>\n",
       "      <td>0.00000</td>\n",
       "      <td>0.017857</td>\n",
       "      <td>0.0</td>\n",
       "      <td>0.0</td>\n",
       "      <td>0.0</td>\n",
       "      <td>0.020408</td>\n",
       "      <td>0.017857</td>\n",
       "      <td>0.0</td>\n",
       "      <td>0.666667</td>\n",
       "      <td>0</td>\n",
       "    </tr>\n",
       "    <tr>\n",
       "      <th>...</th>\n",
       "      <td>...</td>\n",
       "      <td>...</td>\n",
       "      <td>...</td>\n",
       "      <td>...</td>\n",
       "      <td>...</td>\n",
       "      <td>...</td>\n",
       "      <td>...</td>\n",
       "      <td>...</td>\n",
       "      <td>...</td>\n",
       "      <td>...</td>\n",
       "      <td>...</td>\n",
       "      <td>...</td>\n",
       "      <td>...</td>\n",
       "      <td>...</td>\n",
       "      <td>...</td>\n",
       "      <td>...</td>\n",
       "      <td>...</td>\n",
       "      <td>...</td>\n",
       "      <td>...</td>\n",
       "      <td>...</td>\n",
       "      <td>...</td>\n",
       "    </tr>\n",
       "    <tr>\n",
       "      <th>43545</th>\n",
       "      <td>0.853846</td>\n",
       "      <td>0.0</td>\n",
       "      <td>0.8</td>\n",
       "      <td>0.038298</td>\n",
       "      <td>0.000000</td>\n",
       "      <td>0.050491</td>\n",
       "      <td>0.000000</td>\n",
       "      <td>0.004489</td>\n",
       "      <td>0.888889</td>\n",
       "      <td>0.000000</td>\n",
       "      <td>...</td>\n",
       "      <td>0.03125</td>\n",
       "      <td>0.428571</td>\n",
       "      <td>0.0</td>\n",
       "      <td>0.0</td>\n",
       "      <td>0.0</td>\n",
       "      <td>0.428571</td>\n",
       "      <td>0.428571</td>\n",
       "      <td>0.0</td>\n",
       "      <td>0.666667</td>\n",
       "      <td>0</td>\n",
       "    </tr>\n",
       "    <tr>\n",
       "      <th>43546</th>\n",
       "      <td>0.853846</td>\n",
       "      <td>0.0</td>\n",
       "      <td>0.4</td>\n",
       "      <td>0.141755</td>\n",
       "      <td>0.137625</td>\n",
       "      <td>0.411463</td>\n",
       "      <td>0.446894</td>\n",
       "      <td>0.292001</td>\n",
       "      <td>0.444444</td>\n",
       "      <td>0.166667</td>\n",
       "      <td>...</td>\n",
       "      <td>0.00000</td>\n",
       "      <td>0.012878</td>\n",
       "      <td>0.0</td>\n",
       "      <td>0.0</td>\n",
       "      <td>0.0</td>\n",
       "      <td>0.042485</td>\n",
       "      <td>0.095725</td>\n",
       "      <td>0.0</td>\n",
       "      <td>0.666667</td>\n",
       "      <td>0</td>\n",
       "    </tr>\n",
       "    <tr>\n",
       "      <th>43547</th>\n",
       "      <td>0.853846</td>\n",
       "      <td>0.0</td>\n",
       "      <td>0.4</td>\n",
       "      <td>0.055319</td>\n",
       "      <td>0.063025</td>\n",
       "      <td>0.281440</td>\n",
       "      <td>0.232378</td>\n",
       "      <td>0.876125</td>\n",
       "      <td>0.444444</td>\n",
       "      <td>0.166667</td>\n",
       "      <td>...</td>\n",
       "      <td>0.00000</td>\n",
       "      <td>0.039355</td>\n",
       "      <td>0.0</td>\n",
       "      <td>0.0</td>\n",
       "      <td>0.0</td>\n",
       "      <td>0.050177</td>\n",
       "      <td>0.134101</td>\n",
       "      <td>0.0</td>\n",
       "      <td>0.666667</td>\n",
       "      <td>0</td>\n",
       "    </tr>\n",
       "    <tr>\n",
       "      <th>43548</th>\n",
       "      <td>0.853846</td>\n",
       "      <td>0.0</td>\n",
       "      <td>0.4</td>\n",
       "      <td>0.136957</td>\n",
       "      <td>0.129784</td>\n",
       "      <td>0.423802</td>\n",
       "      <td>0.736695</td>\n",
       "      <td>0.979109</td>\n",
       "      <td>0.444444</td>\n",
       "      <td>0.166667</td>\n",
       "      <td>...</td>\n",
       "      <td>0.00000</td>\n",
       "      <td>0.000000</td>\n",
       "      <td>0.0</td>\n",
       "      <td>0.0</td>\n",
       "      <td>0.0</td>\n",
       "      <td>0.038544</td>\n",
       "      <td>0.130290</td>\n",
       "      <td>0.0</td>\n",
       "      <td>0.666667</td>\n",
       "      <td>0</td>\n",
       "    </tr>\n",
       "    <tr>\n",
       "      <th>43549</th>\n",
       "      <td>0.853846</td>\n",
       "      <td>0.0</td>\n",
       "      <td>0.4</td>\n",
       "      <td>0.175910</td>\n",
       "      <td>0.165289</td>\n",
       "      <td>0.504472</td>\n",
       "      <td>0.815716</td>\n",
       "      <td>0.942988</td>\n",
       "      <td>0.444444</td>\n",
       "      <td>0.166667</td>\n",
       "      <td>...</td>\n",
       "      <td>0.00000</td>\n",
       "      <td>0.000000</td>\n",
       "      <td>0.0</td>\n",
       "      <td>0.0</td>\n",
       "      <td>0.0</td>\n",
       "      <td>0.088547</td>\n",
       "      <td>0.025728</td>\n",
       "      <td>0.0</td>\n",
       "      <td>0.666667</td>\n",
       "      <td>0</td>\n",
       "    </tr>\n",
       "  </tbody>\n",
       "</table>\n",
       "<p>43550 rows × 43 columns</p>\n",
       "</div>"
      ],
      "text/plain": [
       "          proto  service  state     spkts     dpkts    sbytes    dbytes  \\\n",
       "0      0.900000      0.0    0.6  0.004255  0.000000  0.059374  0.000000   \n",
       "1      0.900000      0.0    0.6  0.004255  0.000000  0.318841  0.000000   \n",
       "2      0.900000      0.0    0.6  0.004255  0.000000  0.183731  0.000000   \n",
       "3      0.900000      0.0    0.6  0.004255  0.000000  0.144460  0.000000   \n",
       "4      0.900000      0.0    0.6  0.004255  0.000000  0.117345  0.000000   \n",
       "...         ...      ...    ...       ...       ...       ...       ...   \n",
       "43545  0.853846      0.0    0.8  0.038298  0.000000  0.050491  0.000000   \n",
       "43546  0.853846      0.0    0.4  0.141755  0.137625  0.411463  0.446894   \n",
       "43547  0.853846      0.0    0.4  0.055319  0.063025  0.281440  0.232378   \n",
       "43548  0.853846      0.0    0.4  0.136957  0.129784  0.423802  0.736695   \n",
       "43549  0.853846      0.0    0.4  0.175910  0.165289  0.504472  0.815716   \n",
       "\n",
       "           rate      sttl      dttl  ...  ct_dst_sport_ltm  ct_dst_src_ltm  \\\n",
       "0      0.998640  0.888889  0.000000  ...           0.00000        0.017857   \n",
       "1      0.999048  0.888889  0.000000  ...           0.00000        0.017857   \n",
       "2      0.999456  0.888889  0.000000  ...           0.00000        0.035714   \n",
       "3      0.999320  0.888889  0.000000  ...           0.00000        0.035714   \n",
       "4      0.999728  0.888889  0.000000  ...           0.00000        0.017857   \n",
       "...         ...       ...       ...  ...               ...             ...   \n",
       "43545  0.004489  0.888889  0.000000  ...           0.03125        0.428571   \n",
       "43546  0.292001  0.444444  0.166667  ...           0.00000        0.012878   \n",
       "43547  0.876125  0.444444  0.166667  ...           0.00000        0.039355   \n",
       "43548  0.979109  0.444444  0.166667  ...           0.00000        0.000000   \n",
       "43549  0.942988  0.444444  0.166667  ...           0.00000        0.000000   \n",
       "\n",
       "       is_ftp_login  ct_ftp_cmd  ct_flw_http_mthd  ct_src_ltm  ct_srv_dst  \\\n",
       "0               0.0         0.0               0.0    0.000000    0.017857   \n",
       "1               0.0         0.0               0.0    0.000000    0.017857   \n",
       "2               0.0         0.0               0.0    0.000000    0.035714   \n",
       "3               0.0         0.0               0.0    0.020408    0.035714   \n",
       "4               0.0         0.0               0.0    0.020408    0.017857   \n",
       "...             ...         ...               ...         ...         ...   \n",
       "43545           0.0         0.0               0.0    0.428571    0.428571   \n",
       "43546           0.0         0.0               0.0    0.042485    0.095725   \n",
       "43547           0.0         0.0               0.0    0.050177    0.134101   \n",
       "43548           0.0         0.0               0.0    0.038544    0.130290   \n",
       "43549           0.0         0.0               0.0    0.088547    0.025728   \n",
       "\n",
       "       is_sm_ips_ports  attack_cat  label  \n",
       "0                  0.0    0.666667      0  \n",
       "1                  0.0    0.666667      0  \n",
       "2                  0.0    0.666667      0  \n",
       "3                  0.0    0.666667      0  \n",
       "4                  0.0    0.666667      0  \n",
       "...                ...         ...    ...  \n",
       "43545              0.0    0.666667      0  \n",
       "43546              0.0    0.666667      0  \n",
       "43547              0.0    0.666667      0  \n",
       "43548              0.0    0.666667      0  \n",
       "43549              0.0    0.666667      0  \n",
       "\n",
       "[43550 rows x 43 columns]"
      ]
     },
     "execution_count": 4,
     "metadata": {},
     "output_type": "execute_result"
    }
   ],
   "source": [
    "df"
   ]
  },
  {
   "cell_type": "code",
   "execution_count": 5,
   "id": "e13532a2",
   "metadata": {},
   "outputs": [],
   "source": [
    "X = df.drop('label', axis=1)\n",
    "y = df['label']"
   ]
  },
  {
   "cell_type": "code",
   "execution_count": 6,
   "id": "dffa71fa",
   "metadata": {},
   "outputs": [
    {
     "data": {
      "text/plain": [
       "((34840, 42), (34840,))"
      ]
     },
     "execution_count": 6,
     "metadata": {},
     "output_type": "execute_result"
    }
   ],
   "source": [
    "X_train, X_test, y_train, y_test = train_test_split(X, y, test_size=0.2, random_state=42)\n",
    "X_train.shape, y_train.shape"
   ]
  },
  {
   "cell_type": "markdown",
   "id": "20b1e57a",
   "metadata": {},
   "source": [
    "### Apply ML"
   ]
  },
  {
   "cell_type": "code",
   "execution_count": 7,
   "id": "d3fb2545",
   "metadata": {},
   "outputs": [],
   "source": [
    "results_test = {}\n",
    "results_train = {}\n",
    "list_algos=[]\n",
    "\n",
    "def predict(algo_name,X_train,y_train,X_test,y_test, atype='',verbose=0):\n",
    "    algo_name.fit(X_train, y_train)\n",
    "    Y_pred = algo_name.predict(X_test)\n",
    "    acc_train = round(algo_name.score(X_train, y_train) * 100, 2)\n",
    "    acc_val = round(algo_name.score(X_test, y_test) * 100, 2)\n",
    "    \n",
    "    results_test[str(algo_name)[0:str(algo_name).find('(')]+'_'+str(atype)] = acc_val\n",
    "    results_train[str(algo_name)[0:str(algo_name).find('(')]+'_'+str(atype)] = acc_train\n",
    "    list_algos.append(str(algo_name)[0:str(algo_name).find('(')])\n",
    "    if verbose ==0:\n",
    "        print(\"Training Accuracy: \" + str(acc_train))\n",
    "        print(\"Testing  Accuracy: \"+ str(acc_val))\n",
    "    else:\n",
    "        return Y_pred"
   ]
  },
  {
   "cell_type": "code",
   "execution_count": 8,
   "id": "65301892",
   "metadata": {},
   "outputs": [
    {
     "name": "stdout",
     "output_type": "stream",
     "text": [
      "Training Accuracy: 98.83\n",
      "Testing  Accuracy: 98.82\n",
      "              precision    recall  f1-score   support\n",
      "\n",
      "           0       0.98      0.99      0.99      4273\n",
      "           1       0.99      0.98      0.99      4437\n",
      "\n",
      "    accuracy                           0.99      8710\n",
      "   macro avg       0.99      0.99      0.99      8710\n",
      "weighted avg       0.99      0.99      0.99      8710\n",
      "\n"
     ]
    }
   ],
   "source": [
    "# KNN\n",
    "\n",
    "knneig = KNeighborsClassifier(n_neighbors=100)\n",
    "knneig.fit(X_train, y_train)\n",
    "predict(knneig,X_train,y_train,X_test,y_test)\n",
    "print(classification_report(y_test, knneig.predict(X_test)))"
   ]
  },
  {
   "cell_type": "code",
   "execution_count": 50,
   "id": "1305896b",
   "metadata": {},
   "outputs": [
    {
     "name": "stdout",
     "output_type": "stream",
     "text": [
      "Training Accuracy: 100.0\n",
      "Testing  Accuracy: 100.0\n",
      "              precision    recall  f1-score   support\n",
      "\n",
      "           0       1.00      1.00      1.00      8739\n",
      "           1       1.00      1.00      1.00      8840\n",
      "\n",
      "    accuracy                           1.00     17579\n",
      "   macro avg       1.00      1.00      1.00     17579\n",
      "weighted avg       1.00      1.00      1.00     17579\n",
      "\n"
     ]
    }
   ],
   "source": [
    "# #RF\n",
    "\n",
    "# rf = RandomForestClassifier(n_estimators=250, random_state = 42)\n",
    "# predict(rf,X_train,y_train,X_test,y_test)\n",
    "# print(classification_report(y_test, rf.predict(X_test)))"
   ]
  },
  {
   "cell_type": "code",
   "execution_count": 9,
   "id": "89d361c4",
   "metadata": {},
   "outputs": [
    {
     "name": "stdout",
     "output_type": "stream",
     "text": [
      "Training Accuracy: 98.22\n",
      "Testing  Accuracy: 98.42\n",
      "              precision    recall  f1-score   support\n",
      "\n",
      "           0       0.99      0.98      0.98      4273\n",
      "           1       0.98      0.99      0.98      4437\n",
      "\n",
      "    accuracy                           0.98      8710\n",
      "   macro avg       0.98      0.98      0.98      8710\n",
      "weighted avg       0.98      0.98      0.98      8710\n",
      "\n"
     ]
    },
    {
     "name": "stderr",
     "output_type": "stream",
     "text": [
      "C:\\Users\\moinu\\anaconda3\\lib\\site-packages\\sklearn\\linear_model\\_logistic.py:763: ConvergenceWarning: lbfgs failed to converge (status=1):\n",
      "STOP: TOTAL NO. of ITERATIONS REACHED LIMIT.\n",
      "\n",
      "Increase the number of iterations (max_iter) or scale the data as shown in:\n",
      "    https://scikit-learn.org/stable/modules/preprocessing.html\n",
      "Please also refer to the documentation for alternative solver options:\n",
      "    https://scikit-learn.org/stable/modules/linear_model.html#logistic-regression\n",
      "  n_iter_i = _check_optimize_result(\n"
     ]
    }
   ],
   "source": [
    "#LR\n",
    "\n",
    "lr = LogisticRegression(solver='lbfgs')\n",
    "predict(lr,X_train,y_train,X_test,y_test)\n",
    "print(classification_report(y_test, lr.predict(X_test)))"
   ]
  },
  {
   "cell_type": "code",
   "execution_count": 52,
   "id": "35b1b80f",
   "metadata": {},
   "outputs": [
    {
     "name": "stdout",
     "output_type": "stream",
     "text": [
      "Training Accuracy: 100.0\n",
      "Testing  Accuracy: 100.0\n",
      "              precision    recall  f1-score   support\n",
      "\n",
      "           0       1.00      1.00      1.00      8739\n",
      "           1       1.00      1.00      1.00      8840\n",
      "\n",
      "    accuracy                           1.00     17579\n",
      "   macro avg       1.00      1.00      1.00     17579\n",
      "weighted avg       1.00      1.00      1.00     17579\n",
      "\n"
     ]
    }
   ],
   "source": [
    "# GBC\n",
    "\n",
    "gbc = GradientBoostingClassifier()\n",
    "predict(gbc,X_train,y_train,X_test,y_test)\n",
    "print(classification_report(y_test, gbc.predict(X_test)))"
   ]
  },
  {
   "cell_type": "code",
   "execution_count": 53,
   "id": "198abdba",
   "metadata": {},
   "outputs": [
    {
     "name": "stdout",
     "output_type": "stream",
     "text": [
      "Training Accuracy: 100.0\n",
      "Testing  Accuracy: 100.0\n",
      "              precision    recall  f1-score   support\n",
      "\n",
      "           0       1.00      1.00      1.00      8739\n",
      "           1       1.00      1.00      1.00      8840\n",
      "\n",
      "    accuracy                           1.00     17579\n",
      "   macro avg       1.00      1.00      1.00     17579\n",
      "weighted avg       1.00      1.00      1.00     17579\n",
      "\n"
     ]
    }
   ],
   "source": [
    "# ADA\n",
    "\n",
    "ada = AdaBoostClassifier()\n",
    "predict(ada,X_train,y_train,X_test,y_test)\n",
    "print(classification_report(y_test, ada.predict(X_test)))"
   ]
  },
  {
   "cell_type": "code",
   "execution_count": 10,
   "id": "6cc6b058",
   "metadata": {},
   "outputs": [
    {
     "name": "stdout",
     "output_type": "stream",
     "text": [
      "Training Accuracy: 96.7\n",
      "Testing  Accuracy: 97.21\n",
      "              precision    recall  f1-score   support\n",
      "\n",
      "           0       1.00      0.94      0.97      4273\n",
      "           1       0.95      1.00      0.97      4437\n",
      "\n",
      "    accuracy                           0.97      8710\n",
      "   macro avg       0.97      0.97      0.97      8710\n",
      "weighted avg       0.97      0.97      0.97      8710\n",
      "\n"
     ]
    }
   ],
   "source": [
    "#GaussianNB\n",
    "\n",
    "nb = GaussianNB()\n",
    "predict(nb,X_train,y_train,X_test,y_test)\n",
    "print(classification_report(y_test, nb.predict(X_test)))"
   ]
  },
  {
   "cell_type": "code",
   "execution_count": 55,
   "id": "917c9c4d",
   "metadata": {},
   "outputs": [
    {
     "name": "stdout",
     "output_type": "stream",
     "text": [
      "[16:49:18] WARNING: ..\\src\\learner.cc:1095: Starting in XGBoost 1.3.0, the default evaluation metric used with the objective 'binary:logistic' was changed from 'error' to 'logloss'. Explicitly set eval_metric if you'd like to restore the old behavior.\n"
     ]
    },
    {
     "name": "stderr",
     "output_type": "stream",
     "text": [
      "C:\\Users\\moinu\\anaconda3\\lib\\site-packages\\xgboost\\sklearn.py:1146: UserWarning: The use of label encoder in XGBClassifier is deprecated and will be removed in a future release. To remove this warning, do the following: 1) Pass option use_label_encoder=False when constructing XGBClassifier object; and 2) Encode your labels (y) as integers starting with 0, i.e. 0, 1, 2, ..., [num_class - 1].\n",
      "  warnings.warn(label_encoder_deprecation_msg, UserWarning)\n"
     ]
    },
    {
     "name": "stdout",
     "output_type": "stream",
     "text": [
      "Training Accuracy: 100.0\n",
      "Testing  Accuracy: 100.0\n",
      "              precision    recall  f1-score   support\n",
      "\n",
      "           0       1.00      1.00      1.00      8739\n",
      "           1       1.00      1.00      1.00      8840\n",
      "\n",
      "    accuracy                           1.00     17579\n",
      "   macro avg       1.00      1.00      1.00     17579\n",
      "weighted avg       1.00      1.00      1.00     17579\n",
      "\n"
     ]
    },
    {
     "name": "stderr",
     "output_type": "stream",
     "text": [
      "C:\\Users\\moinu\\anaconda3\\lib\\site-packages\\xgboost\\data.py:112: UserWarning: Use subset (sliced data) of np.ndarray is not recommended because it will generate extra copies and increase memory consumption\n",
      "  warnings.warn(\n",
      "C:\\Users\\moinu\\anaconda3\\lib\\site-packages\\xgboost\\data.py:112: UserWarning: Use subset (sliced data) of np.ndarray is not recommended because it will generate extra copies and increase memory consumption\n",
      "  warnings.warn(\n",
      "C:\\Users\\moinu\\anaconda3\\lib\\site-packages\\xgboost\\data.py:112: UserWarning: Use subset (sliced data) of np.ndarray is not recommended because it will generate extra copies and increase memory consumption\n",
      "  warnings.warn(\n"
     ]
    }
   ],
   "source": [
    "#xgb\n",
    "\n",
    "xg = xgb.XGBClassifier()\n",
    "predict(xg,X_train,y_train,X_test,y_test)\n",
    "print(classification_report(y_test, xg.predict(X_test)))"
   ]
  },
  {
   "cell_type": "code",
   "execution_count": 11,
   "id": "826d1e93",
   "metadata": {},
   "outputs": [
    {
     "name": "stdout",
     "output_type": "stream",
     "text": [
      "Training Accuracy: 100.0\n",
      "Testing  Accuracy: 99.92\n",
      "              precision    recall  f1-score   support\n",
      "\n",
      "           0       1.00      1.00      1.00      4273\n",
      "           1       1.00      1.00      1.00      4437\n",
      "\n",
      "    accuracy                           1.00      8710\n",
      "   macro avg       1.00      1.00      1.00      8710\n",
      "weighted avg       1.00      1.00      1.00      8710\n",
      "\n"
     ]
    }
   ],
   "source": [
    "#MLP\n",
    "\n",
    "from sklearn.neural_network import MLPClassifier\n",
    "mlp = MLPClassifier(random_state=42)  \n",
    "predict(mlp,X_train,y_train,X_test,y_test)\n",
    "print(classification_report(y_test, mlp.predict(X_test)))"
   ]
  },
  {
   "cell_type": "code",
   "execution_count": 12,
   "id": "dbca81d1",
   "metadata": {},
   "outputs": [
    {
     "name": "stdout",
     "output_type": "stream",
     "text": [
      "Training Accuracy: 98.46\n",
      "Testing  Accuracy: 98.58\n",
      "              precision    recall  f1-score   support\n",
      "\n",
      "           0       0.99      0.99      0.99      4273\n",
      "           1       0.99      0.99      0.99      4437\n",
      "\n",
      "    accuracy                           0.99      8710\n",
      "   macro avg       0.99      0.99      0.99      8710\n",
      "weighted avg       0.99      0.99      0.99      8710\n",
      "\n"
     ]
    }
   ],
   "source": [
    "#svc\n",
    "\n",
    "svc = SVC(kernel='linear', probability=True)\n",
    "predict(svc,X_train,y_train,X_test,y_test)\n",
    "print(classification_report(y_test, svc.predict(X_test)))"
   ]
  },
  {
   "cell_type": "code",
   "execution_count": 58,
   "id": "0c6903eb",
   "metadata": {},
   "outputs": [],
   "source": [
    "r_probs = [0 for _ in range(len(y_test))]\n",
    "KNN_probs = knneig.predict_proba(X_test)\n",
    "LR_probs = lr.predict_proba(X_test)\n",
    "svc_probs = svc.predict_proba(X_test)\n",
    "nb_probs = nb.predict_proba(X_test)\n",
    "mlp_probs = mlp.predict_proba(X_test)\n",
    "\n",
    "\n",
    "KNN_probs = KNN_probs[:, 1]\n",
    "LR_probs = LR_probs[:, 1]\n",
    "svc_probs = svc_probs[:, 1]\n",
    "nb_probs = nb_probs[:, 1]\n",
    "mlp_probs = mlp_probs[:, 1]\n",
    "\n",
    "\n",
    "r_auc = roc_auc_score(y_test, r_probs)\n",
    "KNN_auc = roc_auc_score(y_test, KNN_probs)\n",
    "RF_auc = roc_auc_score(y_test, RF_probs)\n",
    "GBC_auc = roc_auc_score(y_test, GBC_probs)\n",
    "LR_auc = roc_auc_score(y_test, LR_probs)\n",
    "ADA_auc = roc_auc_score(y_test, ADA_probs)\n",
    "svc_auc = roc_auc_score(y_test, svc_probs)\n",
    "nb_auc = roc_auc_score(y_test, nb_probs)\n",
    "\n",
    "r_fpr, r_tpr, _ = roc_curve(y_test, r_probs)\n",
    "KNN_fpr, KNN_tpr, _ = roc_curve(y_test, KNN_probs)\n",
    "RF_fpr, RF_tpr, _ = roc_curve(y_test, RF_probs)\n",
    "GBC_fpr, GBC_tpr, _ = roc_curve(y_test, GBC_probs)\n",
    "LR_fpr, LR_tpr, _ = roc_curve(y_test, LR_probs)\n",
    "ADA_fpr, ADA_tpr, _ = roc_curve(y_test, ADA_probs)\n",
    "svc_fpr, svc_tpr, _ = roc_curve(y_test, svc_probs)\n",
    "nb_fpr, nb_tpr, _ = roc_curve(y_test, nb_probs)"
   ]
  },
  {
   "cell_type": "code",
   "execution_count": 59,
   "id": "26e8aa08",
   "metadata": {},
   "outputs": [
    {
     "data": {
      "image/png": "[encoded data removed]",
      "text/plain": [
       "<Figure size 1152x576 with 1 Axes>"
      ]
     },
     "metadata": {
      "needs_background": "light"
     },
     "output_type": "display_data"
    }
   ],
   "source": [
    "plt.figure(figsize=(16,8))\n",
    "plt.plot(r_fpr, r_tpr, linestyle='--')\n",
    "#plt.plot(rf_fpr, rf_tpr, marker='.', label='Random Forest (AUROC = %0.3f)' % rf_auc)\n",
    "plt.plot(KNN_fpr, KNN_tpr, label='KNN (AUROC = %0.3f)' % KNN_auc)\n",
    "plt.plot(RF_fpr, RF_tpr, label='RF (AUROC = %0.3f)' % RF_auc)\n",
    "plt.plot(GBC_fpr, GBC_tpr, label='GBC (AUROC = %0.3f)' % GBC_auc)\n",
    "plt.plot(LR_fpr, LR_tpr, label='LR (AUROC = %0.3f)' % LR_auc)\n",
    "plt.plot(ADA_fpr, ADA_tpr, label='ADA (AUROC = %0.3f)' % ADA_auc)\n",
    "plt.plot(svc_fpr, svc_tpr, label='SVC (AUROC = %0.3f)' % svc_auc)\n",
    "plt.plot(nb_fpr, nb_tpr, label='NB (AUROC = %0.3f)' % nb_auc)\n",
    "\n",
    "\n",
    "\n",
    "# Title\n",
    "plt.title('ROC Plot')\n",
    "# Axis labels\n",
    "plt.xlabel('False Positive Rate')\n",
    "plt.ylabel('True Positive Rate')\n",
    "# Show legend\n",
    "plt.legend() # \n",
    "# Show plot\n",
    "plt.show()"
   ]
  },
  {
   "cell_type": "code",
   "execution_count": 60,
   "id": "2db72089",
   "metadata": {},
   "outputs": [
    {
     "name": "stdout",
     "output_type": "stream",
     "text": [
      "Model: \"sequential_2\"\n",
      "_________________________________________________________________\n",
      "Layer (type)                 Output Shape              Param #   \n",
      "=================================================================\n",
      "dense_6 (Dense)              (None, 64)                2752      \n",
      "_________________________________________________________________\n",
      "dense_7 (Dense)              (None, 128)               8320      \n",
      "_________________________________________________________________\n",
      "dense_8 (Dense)              (None, 1)                 129       \n",
      "=================================================================\n",
      "Total params: 11,201\n",
      "Trainable params: 11,201\n",
      "Non-trainable params: 0\n",
      "_________________________________________________________________\n"
     ]
    }
   ],
   "source": [
    "import tensorflow as tf\n",
    "model= tf.keras.models.Sequential()\n",
    "model.add(tf.keras.layers.Dense(units=64,activation='relu',input_shape= (42,)))\n",
    "model.add(tf.keras.layers.Dense(units=128,activation='relu'))\n",
    "model.add(tf.keras.layers.Dense(units=1,activation='sigmoid'))\n",
    "\n",
    "model.summary()"
   ]
  },
  {
   "cell_type": "code",
   "execution_count": 61,
   "id": "3021c9b2",
   "metadata": {
    "scrolled": true
   },
   "outputs": [
    {
     "name": "stdout",
     "output_type": "stream",
     "text": [
      "Epoch 1/50\n",
      "1172/1172 [==============================] - 1s 456us/step - loss: 0.1767 - accuracy: 0.9216\n",
      "Epoch 2/50\n",
      "1172/1172 [==============================] - 1s 458us/step - loss: 0.0927 - accuracy: 0.9638\n",
      "Epoch 3/50\n",
      "1172/1172 [==============================] - 1s 451us/step - loss: 0.0366 - accuracy: 0.9898\n",
      "Epoch 4/50\n",
      "1172/1172 [==============================] - 1s 458us/step - loss: 0.0127 - accuracy: 0.9975\n",
      "Epoch 5/50\n",
      "1172/1172 [==============================] - 1s 452us/step - loss: 0.0058 - accuracy: 0.9989\n",
      "Epoch 6/50\n",
      "1172/1172 [==============================] - 1s 456us/step - loss: 0.0031 - accuracy: 0.9995\n",
      "Epoch 7/50\n",
      "1172/1172 [==============================] - 1s 458us/step - loss: 0.0021 - accuracy: 0.9996\n",
      "Epoch 8/50\n",
      "1172/1172 [==============================] - 1s 459us/step - loss: 0.0012 - accuracy: 0.9998\n",
      "Epoch 9/50\n",
      "1172/1172 [==============================] - 1s 460us/step - loss: 0.0013 - accuracy: 0.9997\n",
      "Epoch 10/50\n",
      "1172/1172 [==============================] - 1s 457us/step - loss: 0.0010 - accuracy: 0.9999\n",
      "Epoch 11/50\n",
      "1172/1172 [==============================] - 1s 455us/step - loss: 0.0027 - accuracy: 0.9994\n",
      "Epoch 12/50\n",
      "1172/1172 [==============================] - 1s 454us/step - loss: 0.0010 - accuracy: 0.9997\n",
      "Epoch 13/50\n",
      "1172/1172 [==============================] - 1s 455us/step - loss: 2.8131e-04 - accuracy: 0.9999\n",
      "Epoch 14/50\n",
      "1172/1172 [==============================] - 1s 457us/step - loss: 7.0513e-04 - accuracy: 0.9997\n",
      "Epoch 15/50\n",
      "1172/1172 [==============================] - 1s 457us/step - loss: 5.7083e-04 - accuracy: 0.9998\n",
      "Epoch 16/50\n",
      "1172/1172 [==============================] - 1s 456us/step - loss: 2.7823e-05 - accuracy: 1.0000\n",
      "Epoch 17/50\n",
      "1172/1172 [==============================] - 1s 457us/step - loss: 0.0013 - accuracy: 0.9996\n",
      "Epoch 18/50\n",
      "1172/1172 [==============================] - 1s 453us/step - loss: 8.8807e-04 - accuracy: 0.9998\n",
      "Epoch 19/50\n",
      "1172/1172 [==============================] - 1s 453us/step - loss: 1.3378e-04 - accuracy: 1.0000\n",
      "Epoch 20/50\n",
      "1172/1172 [==============================] - 1s 453us/step - loss: 1.5634e-04 - accuracy: 0.9999\n",
      "Epoch 21/50\n",
      "1172/1172 [==============================] - 1s 454us/step - loss: 3.1988e-05 - accuracy: 1.0000\n",
      "Epoch 22/50\n",
      "1172/1172 [==============================] - 1s 453us/step - loss: 0.0011 - accuracy: 0.9996\n",
      "Epoch 23/50\n",
      "1172/1172 [==============================] - 1s 456us/step - loss: 2.2636e-05 - accuracy: 1.0000\n",
      "Epoch 24/50\n",
      "1172/1172 [==============================] - 1s 458us/step - loss: 1.5450e-05 - accuracy: 1.0000\n",
      "Epoch 25/50\n",
      "1172/1172 [==============================] - 1s 457us/step - loss: 4.8069e-06 - accuracy: 1.0000\n",
      "Epoch 26/50\n",
      "1172/1172 [==============================] - 1s 453us/step - loss: 3.9044e-06 - accuracy: 1.0000\n",
      "Epoch 27/50\n",
      "1172/1172 [==============================] - 1s 459us/step - loss: 6.1177e-06 - accuracy: 1.0000\n",
      "Epoch 28/50\n",
      "1172/1172 [==============================] - 1s 458us/step - loss: 0.0013 - accuracy: 0.9997\n",
      "Epoch 29/50\n",
      "1172/1172 [==============================] - 1s 456us/step - loss: 2.9292e-04 - accuracy: 1.0000\n",
      "Epoch 30/50\n",
      "1172/1172 [==============================] - 1s 453us/step - loss: 4.7028e-06 - accuracy: 1.0000\n",
      "Epoch 31/50\n",
      "1172/1172 [==============================] - 1s 455us/step - loss: 3.5945e-06 - accuracy: 1.0000\n",
      "Epoch 32/50\n",
      "1172/1172 [==============================] - 1s 457us/step - loss: 2.5222e-06 - accuracy: 1.0000\n",
      "Epoch 33/50\n",
      "1172/1172 [==============================] - 1s 454us/step - loss: 1.7641e-06 - accuracy: 1.0000\n",
      "Epoch 34/50\n",
      "1172/1172 [==============================] - 1s 461us/step - loss: 1.2282e-06 - accuracy: 1.0000\n",
      "Epoch 35/50\n",
      "1172/1172 [==============================] - 1s 457us/step - loss: 9.3848e-07 - accuracy: 1.0000\n",
      "Epoch 36/50\n",
      "1172/1172 [==============================] - 1s 454us/step - loss: 6.7794e-07 - accuracy: 1.0000\n",
      "Epoch 37/50\n",
      "1172/1172 [==============================] - 1s 454us/step - loss: 5.8842e-04 - accuracy: 0.9998\n",
      "Epoch 38/50\n",
      "1172/1172 [==============================] - 1s 459us/step - loss: 4.8818e-04 - accuracy: 0.9999\n",
      "Epoch 39/50\n",
      "1172/1172 [==============================] - 1s 459us/step - loss: 1.8997e-04 - accuracy: 0.9999\n",
      "Epoch 40/50\n",
      "1172/1172 [==============================] - 1s 455us/step - loss: 5.2469e-06 - accuracy: 1.0000\n",
      "Epoch 41/50\n",
      "1172/1172 [==============================] - 1s 453us/step - loss: 1.4418e-06 - accuracy: 1.0000\n",
      "Epoch 42/50\n",
      "1172/1172 [==============================] - 1s 453us/step - loss: 9.0648e-07 - accuracy: 1.0000\n",
      "Epoch 43/50\n",
      "1172/1172 [==============================] - 1s 456us/step - loss: 6.5054e-07 - accuracy: 1.0000\n",
      "Epoch 44/50\n",
      "1172/1172 [==============================] - 1s 456us/step - loss: 4.9944e-07 - accuracy: 1.0000\n",
      "Epoch 45/50\n",
      "1172/1172 [==============================] - 1s 457us/step - loss: 4.2807e-07 - accuracy: 1.0000\n",
      "Epoch 46/50\n",
      "1172/1172 [==============================] - 1s 453us/step - loss: 2.9349e-07 - accuracy: 1.0000\n",
      "Epoch 47/50\n",
      "1172/1172 [==============================] - 1s 453us/step - loss: 2.3557e-07 - accuracy: 1.0000\n",
      "Epoch 48/50\n",
      "1172/1172 [==============================] - 1s 453us/step - loss: 0.0023 - accuracy: 0.9995\n",
      "Epoch 49/50\n",
      "1172/1172 [==============================] - 1s 456us/step - loss: 2.3473e-04 - accuracy: 0.9999\n",
      "Epoch 50/50\n",
      "1172/1172 [==============================] - 1s 452us/step - loss: 1.3592e-05 - accuracy: 1.0000\n"
     ]
    }
   ],
   "source": [
    "model.compile(optimizer='adam',loss='binary_crossentropy',metrics=['accuracy'])\n",
    "\n",
    "epochs_hist = model.fit(X_train,y_train,epochs=50,batch_size=60)"
   ]
  },
  {
   "cell_type": "code",
   "execution_count": 62,
   "id": "0e7f08ff",
   "metadata": {},
   "outputs": [
    {
     "name": "stdout",
     "output_type": "stream",
     "text": [
      "              precision    recall  f1-score   support\n",
      "\n",
      "           0       1.00      1.00      1.00      8739\n",
      "           1       1.00      1.00      1.00      8840\n",
      "\n",
      "    accuracy                           1.00     17579\n",
      "   macro avg       1.00      1.00      1.00     17579\n",
      "weighted avg       1.00      1.00      1.00     17579\n",
      "\n"
     ]
    }
   ],
   "source": [
    "y_pred=model.predict(X_test)\n",
    "y_pred = (y_pred>0.5)\n",
    "\n",
    "print(classification_report(y_test,y_pred))"
   ]
  },
  {
   "cell_type": "code",
   "execution_count": 63,
   "id": "95a82694",
   "metadata": {
    "scrolled": false
   },
   "outputs": [
    {
     "data": {
      "text/plain": [
       "Text(0.5, 1.0, 'Loss and Accuracy plot')"
      ]
     },
     "execution_count": 63,
     "metadata": {},
     "output_type": "execute_result"
    },
    {
     "data": {
      "image/png": "[encoded data removed]",
      "text/plain": [
       "<Figure size 432x288 with 1 Axes>"
      ]
     },
     "metadata": {
      "needs_background": "light"
     },
     "output_type": "display_data"
    }
   ],
   "source": [
    "plt.plot(epochs_hist.history['loss'])\n",
    "plt.plot(epochs_hist.history['accuracy'])\n",
    "plt.xlabel('Epochs')\n",
    "plt.ylabel('percentage')\n",
    "plt.legend(['loss','accuracy'])\n",
    "plt.title('Loss and Accuracy plot')"
   ]
  }
 ],
 "metadata": {
  "kernelspec": {
   "display_name": "Python 3",
   "language": "python",
   "name": "python3"
  },
  "language_info": {
   "codemirror_mode": {
    "name": "ipython",
    "version": 3
   },
   "file_extension": ".py",
   "mimetype": "text/x-python",
   "name": "python",
   "nbconvert_exporter": "python",
   "pygments_lexer": "ipython3",
   "version": "3.8.8"
  }
 },
 "nbformat": 4,
 "nbformat_minor": 5
}
