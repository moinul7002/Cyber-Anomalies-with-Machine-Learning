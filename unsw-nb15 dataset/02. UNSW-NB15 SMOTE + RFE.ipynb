{
 "cells": [
  {
   "cell_type": "code",
   "execution_count": 1,
   "id": "bef553e6",
   "metadata": {},
   "outputs": [],
   "source": [
    "import pandas as pd\n",
    "import numpy as np\n",
    "import matplotlib.pyplot as plt\n",
    "import seaborn as sns"
   ]
  },
  {
   "cell_type": "code",
   "execution_count": 2,
   "id": "38c46bec",
   "metadata": {},
   "outputs": [],
   "source": [
    "from sklearn.linear_model import LogisticRegression \n",
    "from sklearn.ensemble import RandomForestClassifier\n",
    "from sklearn.neighbors import KNeighborsClassifier\n",
    "from sklearn.ensemble import GradientBoostingClassifier\n",
    "from sklearn.ensemble import ExtraTreesClassifier\n",
    "from sklearn.ensemble import AdaBoostClassifier\n",
    "#from catboost import CatBoostClassifier\n",
    "from sklearn.naive_bayes import GaussianNB\n",
    "from sklearn.svm import SVC\n",
    "from sklearn import tree\n",
    "#import lightgbm as lgb\n",
    "#from lightgbm import LGBMClassifier\n",
    "import xgboost as xgb\n",
    "\n",
    "from sklearn.model_selection import train_test_split\n",
    "from scipy import interp\n",
    "from sklearn.metrics import classification_report, accuracy_score, auc\n",
    "from sklearn.metrics import roc_auc_score\n",
    "from sklearn.metrics import roc_curve\n",
    "from sklearn import metrics\n",
    "from sklearn.metrics import confusion_matrix"
   ]
  },
  {
   "cell_type": "code",
   "execution_count": 3,
   "id": "a660c2f2",
   "metadata": {},
   "outputs": [],
   "source": [
    "df = pd.read_csv(\"preprocessed_unsw2.csv\", index_col=0)"
   ]
  },
  {
   "cell_type": "code",
   "execution_count": 4,
   "id": "3581334d",
   "metadata": {},
   "outputs": [
    {
     "data": {
      "text/html": [
       "<div>\n",
       "<style scoped>\n",
       "    .dataframe tbody tr th:only-of-type {\n",
       "        vertical-align: middle;\n",
       "    }\n",
       "\n",
       "    .dataframe tbody tr th {\n",
       "        vertical-align: top;\n",
       "    }\n",
       "\n",
       "    .dataframe thead th {\n",
       "        text-align: right;\n",
       "    }\n",
       "</style>\n",
       "<table border=\"1\" class=\"dataframe\">\n",
       "  <thead>\n",
       "    <tr style=\"text-align: right;\">\n",
       "      <th></th>\n",
       "      <th>proto</th>\n",
       "      <th>service</th>\n",
       "      <th>state</th>\n",
       "      <th>spkts</th>\n",
       "      <th>dpkts</th>\n",
       "      <th>sbytes</th>\n",
       "      <th>dbytes</th>\n",
       "      <th>rate</th>\n",
       "      <th>sttl</th>\n",
       "      <th>dttl</th>\n",
       "      <th>...</th>\n",
       "      <th>ct_dst_sport_ltm</th>\n",
       "      <th>ct_dst_src_ltm</th>\n",
       "      <th>is_ftp_login</th>\n",
       "      <th>ct_ftp_cmd</th>\n",
       "      <th>ct_flw_http_mthd</th>\n",
       "      <th>ct_src_ltm</th>\n",
       "      <th>ct_srv_dst</th>\n",
       "      <th>is_sm_ips_ports</th>\n",
       "      <th>attack_cat</th>\n",
       "      <th>label</th>\n",
       "    </tr>\n",
       "    <tr>\n",
       "      <th>dur</th>\n",
       "      <th></th>\n",
       "      <th></th>\n",
       "      <th></th>\n",
       "      <th></th>\n",
       "      <th></th>\n",
       "      <th></th>\n",
       "      <th></th>\n",
       "      <th></th>\n",
       "      <th></th>\n",
       "      <th></th>\n",
       "      <th></th>\n",
       "      <th></th>\n",
       "      <th></th>\n",
       "      <th></th>\n",
       "      <th></th>\n",
       "      <th></th>\n",
       "      <th></th>\n",
       "      <th></th>\n",
       "      <th></th>\n",
       "      <th></th>\n",
       "      <th></th>\n",
       "    </tr>\n",
       "  </thead>\n",
       "  <tbody>\n",
       "    <tr>\n",
       "      <th>0.001500</th>\n",
       "      <td>0.900000</td>\n",
       "      <td>0.000000</td>\n",
       "      <td>0.6</td>\n",
       "      <td>0.004255</td>\n",
       "      <td>0.000000</td>\n",
       "      <td>0.059374</td>\n",
       "      <td>0.000000</td>\n",
       "      <td>0.998640</td>\n",
       "      <td>0.888889</td>\n",
       "      <td>0.000000</td>\n",
       "      <td>...</td>\n",
       "      <td>0.0</td>\n",
       "      <td>0.017857</td>\n",
       "      <td>0.0</td>\n",
       "      <td>0.0</td>\n",
       "      <td>0.0</td>\n",
       "      <td>0.000000</td>\n",
       "      <td>0.017857</td>\n",
       "      <td>0.0</td>\n",
       "      <td>0.666667</td>\n",
       "      <td>0</td>\n",
       "    </tr>\n",
       "    <tr>\n",
       "      <th>0.001091</th>\n",
       "      <td>0.900000</td>\n",
       "      <td>0.000000</td>\n",
       "      <td>0.6</td>\n",
       "      <td>0.004255</td>\n",
       "      <td>0.000000</td>\n",
       "      <td>0.318841</td>\n",
       "      <td>0.000000</td>\n",
       "      <td>0.999048</td>\n",
       "      <td>0.888889</td>\n",
       "      <td>0.000000</td>\n",
       "      <td>...</td>\n",
       "      <td>0.0</td>\n",
       "      <td>0.017857</td>\n",
       "      <td>0.0</td>\n",
       "      <td>0.0</td>\n",
       "      <td>0.0</td>\n",
       "      <td>0.000000</td>\n",
       "      <td>0.017857</td>\n",
       "      <td>0.0</td>\n",
       "      <td>0.666667</td>\n",
       "      <td>0</td>\n",
       "    </tr>\n",
       "    <tr>\n",
       "      <th>0.000682</th>\n",
       "      <td>0.900000</td>\n",
       "      <td>0.000000</td>\n",
       "      <td>0.6</td>\n",
       "      <td>0.004255</td>\n",
       "      <td>0.000000</td>\n",
       "      <td>0.183731</td>\n",
       "      <td>0.000000</td>\n",
       "      <td>0.999456</td>\n",
       "      <td>0.888889</td>\n",
       "      <td>0.000000</td>\n",
       "      <td>...</td>\n",
       "      <td>0.0</td>\n",
       "      <td>0.035714</td>\n",
       "      <td>0.0</td>\n",
       "      <td>0.0</td>\n",
       "      <td>0.0</td>\n",
       "      <td>0.000000</td>\n",
       "      <td>0.035714</td>\n",
       "      <td>0.0</td>\n",
       "      <td>0.666667</td>\n",
       "      <td>0</td>\n",
       "    </tr>\n",
       "    <tr>\n",
       "      <th>0.000818</th>\n",
       "      <td>0.900000</td>\n",
       "      <td>0.000000</td>\n",
       "      <td>0.6</td>\n",
       "      <td>0.004255</td>\n",
       "      <td>0.000000</td>\n",
       "      <td>0.144460</td>\n",
       "      <td>0.000000</td>\n",
       "      <td>0.999320</td>\n",
       "      <td>0.888889</td>\n",
       "      <td>0.000000</td>\n",
       "      <td>...</td>\n",
       "      <td>0.0</td>\n",
       "      <td>0.035714</td>\n",
       "      <td>0.0</td>\n",
       "      <td>0.0</td>\n",
       "      <td>0.0</td>\n",
       "      <td>0.020408</td>\n",
       "      <td>0.035714</td>\n",
       "      <td>0.0</td>\n",
       "      <td>0.666667</td>\n",
       "      <td>0</td>\n",
       "    </tr>\n",
       "    <tr>\n",
       "      <th>0.001364</th>\n",
       "      <td>0.900000</td>\n",
       "      <td>0.000000</td>\n",
       "      <td>0.6</td>\n",
       "      <td>0.004255</td>\n",
       "      <td>0.000000</td>\n",
       "      <td>0.370734</td>\n",
       "      <td>0.000000</td>\n",
       "      <td>0.998776</td>\n",
       "      <td>0.888889</td>\n",
       "      <td>0.000000</td>\n",
       "      <td>...</td>\n",
       "      <td>0.0</td>\n",
       "      <td>0.035714</td>\n",
       "      <td>0.0</td>\n",
       "      <td>0.0</td>\n",
       "      <td>0.0</td>\n",
       "      <td>0.020408</td>\n",
       "      <td>0.035714</td>\n",
       "      <td>0.0</td>\n",
       "      <td>0.666667</td>\n",
       "      <td>0</td>\n",
       "    </tr>\n",
       "    <tr>\n",
       "      <th>...</th>\n",
       "      <td>...</td>\n",
       "      <td>...</td>\n",
       "      <td>...</td>\n",
       "      <td>...</td>\n",
       "      <td>...</td>\n",
       "      <td>...</td>\n",
       "      <td>...</td>\n",
       "      <td>...</td>\n",
       "      <td>...</td>\n",
       "      <td>...</td>\n",
       "      <td>...</td>\n",
       "      <td>...</td>\n",
       "      <td>...</td>\n",
       "      <td>...</td>\n",
       "      <td>...</td>\n",
       "      <td>...</td>\n",
       "      <td>...</td>\n",
       "      <td>...</td>\n",
       "      <td>...</td>\n",
       "      <td>...</td>\n",
       "      <td>...</td>\n",
       "    </tr>\n",
       "    <tr>\n",
       "      <th>0.326923</th>\n",
       "      <td>0.853846</td>\n",
       "      <td>0.000000</td>\n",
       "      <td>0.4</td>\n",
       "      <td>0.097872</td>\n",
       "      <td>0.092437</td>\n",
       "      <td>0.568957</td>\n",
       "      <td>0.424739</td>\n",
       "      <td>0.804951</td>\n",
       "      <td>0.444444</td>\n",
       "      <td>0.166667</td>\n",
       "      <td>...</td>\n",
       "      <td>0.0</td>\n",
       "      <td>0.035714</td>\n",
       "      <td>0.0</td>\n",
       "      <td>0.0</td>\n",
       "      <td>0.0</td>\n",
       "      <td>0.081633</td>\n",
       "      <td>0.089286</td>\n",
       "      <td>0.0</td>\n",
       "      <td>0.666667</td>\n",
       "      <td>0</td>\n",
       "    </tr>\n",
       "    <tr>\n",
       "      <th>0.430578</th>\n",
       "      <td>0.853846</td>\n",
       "      <td>0.000000</td>\n",
       "      <td>0.4</td>\n",
       "      <td>0.272340</td>\n",
       "      <td>0.252101</td>\n",
       "      <td>0.613838</td>\n",
       "      <td>0.622101</td>\n",
       "      <td>0.841268</td>\n",
       "      <td>0.444444</td>\n",
       "      <td>0.166667</td>\n",
       "      <td>...</td>\n",
       "      <td>0.0</td>\n",
       "      <td>0.000000</td>\n",
       "      <td>0.0</td>\n",
       "      <td>0.0</td>\n",
       "      <td>0.0</td>\n",
       "      <td>0.081633</td>\n",
       "      <td>0.089286</td>\n",
       "      <td>0.0</td>\n",
       "      <td>0.666667</td>\n",
       "      <td>0</td>\n",
       "    </tr>\n",
       "    <tr>\n",
       "      <th>0.725314</th>\n",
       "      <td>0.853846</td>\n",
       "      <td>0.416667</td>\n",
       "      <td>0.4</td>\n",
       "      <td>0.046809</td>\n",
       "      <td>0.063025</td>\n",
       "      <td>0.288920</td>\n",
       "      <td>0.650750</td>\n",
       "      <td>0.303047</td>\n",
       "      <td>0.444444</td>\n",
       "      <td>0.166667</td>\n",
       "      <td>...</td>\n",
       "      <td>0.0</td>\n",
       "      <td>0.000000</td>\n",
       "      <td>0.0</td>\n",
       "      <td>0.0</td>\n",
       "      <td>0.2</td>\n",
       "      <td>0.020408</td>\n",
       "      <td>0.000000</td>\n",
       "      <td>0.0</td>\n",
       "      <td>0.666667</td>\n",
       "      <td>0</td>\n",
       "    </tr>\n",
       "    <tr>\n",
       "      <th>0.214812</th>\n",
       "      <td>0.853846</td>\n",
       "      <td>0.000000</td>\n",
       "      <td>0.4</td>\n",
       "      <td>0.204255</td>\n",
       "      <td>0.193277</td>\n",
       "      <td>0.541842</td>\n",
       "      <td>0.850841</td>\n",
       "      <td>0.851197</td>\n",
       "      <td>0.444444</td>\n",
       "      <td>0.166667</td>\n",
       "      <td>...</td>\n",
       "      <td>0.0</td>\n",
       "      <td>0.017857</td>\n",
       "      <td>0.0</td>\n",
       "      <td>0.0</td>\n",
       "      <td>0.0</td>\n",
       "      <td>0.081633</td>\n",
       "      <td>0.178571</td>\n",
       "      <td>0.0</td>\n",
       "      <td>0.666667</td>\n",
       "      <td>0</td>\n",
       "    </tr>\n",
       "    <tr>\n",
       "      <th>0.019094</th>\n",
       "      <td>0.900000</td>\n",
       "      <td>0.166667</td>\n",
       "      <td>0.2</td>\n",
       "      <td>0.004255</td>\n",
       "      <td>0.008403</td>\n",
       "      <td>0.016830</td>\n",
       "      <td>0.007731</td>\n",
       "      <td>0.907916</td>\n",
       "      <td>0.444444</td>\n",
       "      <td>0.166667</td>\n",
       "      <td>...</td>\n",
       "      <td>0.0</td>\n",
       "      <td>0.000000</td>\n",
       "      <td>0.0</td>\n",
       "      <td>0.0</td>\n",
       "      <td>0.0</td>\n",
       "      <td>0.000000</td>\n",
       "      <td>0.017857</td>\n",
       "      <td>0.0</td>\n",
       "      <td>0.666667</td>\n",
       "      <td>0</td>\n",
       "    </tr>\n",
       "  </tbody>\n",
       "</table>\n",
       "<p>25347 rows × 43 columns</p>\n",
       "</div>"
      ],
      "text/plain": [
       "             proto   service  state     spkts     dpkts    sbytes    dbytes  \\\n",
       "dur                                                                           \n",
       "0.001500  0.900000  0.000000    0.6  0.004255  0.000000  0.059374  0.000000   \n",
       "0.001091  0.900000  0.000000    0.6  0.004255  0.000000  0.318841  0.000000   \n",
       "0.000682  0.900000  0.000000    0.6  0.004255  0.000000  0.183731  0.000000   \n",
       "0.000818  0.900000  0.000000    0.6  0.004255  0.000000  0.144460  0.000000   \n",
       "0.001364  0.900000  0.000000    0.6  0.004255  0.000000  0.370734  0.000000   \n",
       "...            ...       ...    ...       ...       ...       ...       ...   \n",
       "0.326923  0.853846  0.000000    0.4  0.097872  0.092437  0.568957  0.424739   \n",
       "0.430578  0.853846  0.000000    0.4  0.272340  0.252101  0.613838  0.622101   \n",
       "0.725314  0.853846  0.416667    0.4  0.046809  0.063025  0.288920  0.650750   \n",
       "0.214812  0.853846  0.000000    0.4  0.204255  0.193277  0.541842  0.850841   \n",
       "0.019094  0.900000  0.166667    0.2  0.004255  0.008403  0.016830  0.007731   \n",
       "\n",
       "              rate      sttl      dttl  ...  ct_dst_sport_ltm  ct_dst_src_ltm  \\\n",
       "dur                                     ...                                     \n",
       "0.001500  0.998640  0.888889  0.000000  ...               0.0        0.017857   \n",
       "0.001091  0.999048  0.888889  0.000000  ...               0.0        0.017857   \n",
       "0.000682  0.999456  0.888889  0.000000  ...               0.0        0.035714   \n",
       "0.000818  0.999320  0.888889  0.000000  ...               0.0        0.035714   \n",
       "0.001364  0.998776  0.888889  0.000000  ...               0.0        0.035714   \n",
       "...            ...       ...       ...  ...               ...             ...   \n",
       "0.326923  0.804951  0.444444  0.166667  ...               0.0        0.035714   \n",
       "0.430578  0.841268  0.444444  0.166667  ...               0.0        0.000000   \n",
       "0.725314  0.303047  0.444444  0.166667  ...               0.0        0.000000   \n",
       "0.214812  0.851197  0.444444  0.166667  ...               0.0        0.017857   \n",
       "0.019094  0.907916  0.444444  0.166667  ...               0.0        0.000000   \n",
       "\n",
       "          is_ftp_login  ct_ftp_cmd  ct_flw_http_mthd  ct_src_ltm  ct_srv_dst  \\\n",
       "dur                                                                            \n",
       "0.001500           0.0         0.0               0.0    0.000000    0.017857   \n",
       "0.001091           0.0         0.0               0.0    0.000000    0.017857   \n",
       "0.000682           0.0         0.0               0.0    0.000000    0.035714   \n",
       "0.000818           0.0         0.0               0.0    0.020408    0.035714   \n",
       "0.001364           0.0         0.0               0.0    0.020408    0.035714   \n",
       "...                ...         ...               ...         ...         ...   \n",
       "0.326923           0.0         0.0               0.0    0.081633    0.089286   \n",
       "0.430578           0.0         0.0               0.0    0.081633    0.089286   \n",
       "0.725314           0.0         0.0               0.2    0.020408    0.000000   \n",
       "0.214812           0.0         0.0               0.0    0.081633    0.178571   \n",
       "0.019094           0.0         0.0               0.0    0.000000    0.017857   \n",
       "\n",
       "          is_sm_ips_ports  attack_cat  label  \n",
       "dur                                           \n",
       "0.001500              0.0    0.666667      0  \n",
       "0.001091              0.0    0.666667      0  \n",
       "0.000682              0.0    0.666667      0  \n",
       "0.000818              0.0    0.666667      0  \n",
       "0.001364              0.0    0.666667      0  \n",
       "...                   ...         ...    ...  \n",
       "0.326923              0.0    0.666667      0  \n",
       "0.430578              0.0    0.666667      0  \n",
       "0.725314              0.0    0.666667      0  \n",
       "0.214812              0.0    0.666667      0  \n",
       "0.019094              0.0    0.666667      0  \n",
       "\n",
       "[25347 rows x 43 columns]"
      ]
     },
     "execution_count": 4,
     "metadata": {},
     "output_type": "execute_result"
    }
   ],
   "source": [
    "df"
   ]
  },
  {
   "cell_type": "code",
   "execution_count": 5,
   "id": "c4978959",
   "metadata": {},
   "outputs": [
    {
     "data": {
      "text/plain": [
       "1    23117\n",
       "0     2230\n",
       "Name: label, dtype: int64"
      ]
     },
     "execution_count": 5,
     "metadata": {},
     "output_type": "execute_result"
    }
   ],
   "source": [
    "df.label.value_counts()"
   ]
  },
  {
   "cell_type": "code",
   "execution_count": 6,
   "id": "b4e1aaad",
   "metadata": {},
   "outputs": [],
   "source": [
    "X = df.drop('label', axis=1)\n",
    "y = df['label']"
   ]
  },
  {
   "cell_type": "code",
   "execution_count": 7,
   "id": "87026205",
   "metadata": {},
   "outputs": [],
   "source": [
    "from imblearn.over_sampling import SMOTE\n",
    "\n",
    "X, y = SMOTE(random_state=42).fit_resample(X, y)"
   ]
  },
  {
   "cell_type": "code",
   "execution_count": 8,
   "id": "0ad022d5",
   "metadata": {},
   "outputs": [
    {
     "name": "stdout",
     "output_type": "stream",
     "text": [
      "[(0, 23117), (1, 23117)]\n"
     ]
    }
   ],
   "source": [
    "from collections import Counter\n",
    "print(sorted(Counter(y).items()))"
   ]
  },
  {
   "cell_type": "code",
   "execution_count": 9,
   "id": "12d9555e",
   "metadata": {},
   "outputs": [],
   "source": [
    "X_train_s,X_test,y_train_s,y_test = train_test_split(X,y, test_size = 0.2, random_state = 1)"
   ]
  },
  {
   "cell_type": "code",
   "execution_count": 10,
   "id": "2218e264",
   "metadata": {},
   "outputs": [],
   "source": [
    "#random forest\n",
    "\n",
    "rfc = RandomForestClassifier(n_estimators=100,random_state = 42)\n",
    "# rfc.fit(X_train_s, y_train_s)\n",
    "# rfc_pred = rfc.predict(X_test)"
   ]
  },
  {
   "cell_type": "code",
   "execution_count": 11,
   "id": "657eb5e4",
   "metadata": {},
   "outputs": [],
   "source": [
    "# print(accuracy_score(y_test,rfc_pred))\n",
    "# print(classification_report(y_test,rfc_pred))"
   ]
  },
  {
   "cell_type": "code",
   "execution_count": 12,
   "id": "fff29954",
   "metadata": {},
   "outputs": [],
   "source": [
    "# gbc = GradientBoostingClassifier()\n",
    "# gbc.fit(X_train_s,y_train_s)\n",
    "# predictions = gbc.predict(X_test)\n",
    "# print(accuracy_score(y_test, predictions))\n",
    "# print(classification_report(y_test,predictions))"
   ]
  },
  {
   "cell_type": "code",
   "execution_count": 14,
   "id": "f5a404eb",
   "metadata": {
    "scrolled": true
   },
   "outputs": [
    {
     "name": "stdout",
     "output_type": "stream",
     "text": [
      "0.9816156591326917\n",
      "              precision    recall  f1-score   support\n",
      "\n",
      "           0       0.99      0.97      0.98      4606\n",
      "           1       0.97      0.99      0.98      4641\n",
      "\n",
      "    accuracy                           0.98      9247\n",
      "   macro avg       0.98      0.98      0.98      9247\n",
      "weighted avg       0.98      0.98      0.98      9247\n",
      "\n"
     ]
    },
    {
     "name": "stderr",
     "output_type": "stream",
     "text": [
      "C:\\Users\\moinu\\anaconda3\\lib\\site-packages\\sklearn\\linear_model\\_logistic.py:763: ConvergenceWarning: lbfgs failed to converge (status=1):\n",
      "STOP: TOTAL NO. of ITERATIONS REACHED LIMIT.\n",
      "\n",
      "Increase the number of iterations (max_iter) or scale the data as shown in:\n",
      "    https://scikit-learn.org/stable/modules/preprocessing.html\n",
      "Please also refer to the documentation for alternative solver options:\n",
      "    https://scikit-learn.org/stable/modules/linear_model.html#logistic-regression\n",
      "  n_iter_i = _check_optimize_result(\n"
     ]
    }
   ],
   "source": [
    "lr = LogisticRegression()\n",
    "lr.fit(X_train_s,y_train_s)\n",
    "predictions = lr.predict(X_test)\n",
    "print(accuracy_score(y_test, predictions))\n",
    "print(classification_report(y_test,predictions))"
   ]
  },
  {
   "cell_type": "code",
   "execution_count": 15,
   "id": "5054645c",
   "metadata": {},
   "outputs": [
    {
     "name": "stdout",
     "output_type": "stream",
     "text": [
      "Score KNeighnors : 0.9871309613928841\n",
      "              precision    recall  f1-score   support\n",
      "\n",
      "           0       0.98      0.99      0.99      4606\n",
      "           1       0.99      0.98      0.99      4641\n",
      "\n",
      "    accuracy                           0.99      9247\n",
      "   macro avg       0.99      0.99      0.99      9247\n",
      "weighted avg       0.99      0.99      0.99      9247\n",
      "\n"
     ]
    }
   ],
   "source": [
    "knneig = KNeighborsClassifier(n_neighbors=100)\n",
    "knneig.fit(X_train_s, y_train_s)\n",
    "pred_knneigh = knneig.predict(X_test)\n",
    "score_knneigh_before = accuracy_score(y_test, pred_knneigh)\n",
    "print(\"Score KNeighnors :\",score_knneigh_before)\n",
    "print(classification_report(y_test, pred_knneigh))"
   ]
  },
  {
   "cell_type": "code",
   "execution_count": 16,
   "id": "8e87a1f8",
   "metadata": {},
   "outputs": [],
   "source": [
    "# xg = xgb.XGBClassifier(objective=\"binary:logistic\", random_state=42, eval_metric=\"auc\")\n",
    "# xg.fit(X_train_s,y_train_s)\n",
    "# predictions = xg.predict(X_test)\n",
    "# print(accuracy_score(y_test, predictions))\n",
    "# print(classification_report(y_test,predictions))"
   ]
  },
  {
   "cell_type": "code",
   "execution_count": 17,
   "id": "1b70385b",
   "metadata": {},
   "outputs": [],
   "source": [
    "# ada = AdaBoostClassifier(n_estimators=100, random_state = 42)\n",
    "# ada.fit(X_train_s,y_train_s)\n",
    "# predictions = ada.predict(X_test)\n",
    "# print(accuracy_score(y_test, predictions))\n",
    "# print(classification_report(y_test,predictions))"
   ]
  },
  {
   "cell_type": "code",
   "execution_count": 18,
   "id": "fc723e0b",
   "metadata": {},
   "outputs": [
    {
     "name": "stdout",
     "output_type": "stream",
     "text": [
      "0.9834540932194226\n",
      "              precision    recall  f1-score   support\n",
      "\n",
      "           0       0.99      0.98      0.98      4606\n",
      "           1       0.98      0.99      0.98      4641\n",
      "\n",
      "    accuracy                           0.98      9247\n",
      "   macro avg       0.98      0.98      0.98      9247\n",
      "weighted avg       0.98      0.98      0.98      9247\n",
      "\n"
     ]
    }
   ],
   "source": [
    "#svc\n",
    "\n",
    "svc = SVC(kernel='linear', probability=True)\n",
    "svc.fit(X_train_s,y_train_s)\n",
    "predictions = svc.predict(X_test)\n",
    "print(accuracy_score(y_test, predictions))\n",
    "print(classification_report(y_test,predictions))"
   ]
  },
  {
   "cell_type": "code",
   "execution_count": 21,
   "id": "5839d5c4",
   "metadata": {},
   "outputs": [
    {
     "name": "stdout",
     "output_type": "stream",
     "text": [
      "0.9997837136368551\n",
      "              precision    recall  f1-score   support\n",
      "\n",
      "           0       1.00      1.00      1.00      4606\n",
      "           1       1.00      1.00      1.00      4641\n",
      "\n",
      "    accuracy                           1.00      9247\n",
      "   macro avg       1.00      1.00      1.00      9247\n",
      "weighted avg       1.00      1.00      1.00      9247\n",
      "\n"
     ]
    }
   ],
   "source": [
    "#MLP\n",
    "\n",
    "from sklearn.neural_network import MLPClassifier\n",
    "mlp = MLPClassifier(random_state=42)\n",
    "mlp.fit(X_train_s,y_train_s)\n",
    "predictions = mlp.predict(X_test)\n",
    "print(accuracy_score(y_test, predictions))\n",
    "print(classification_report(y_test,predictions))"
   ]
  },
  {
   "cell_type": "code",
   "execution_count": 22,
   "id": "8bc98161",
   "metadata": {},
   "outputs": [
    {
     "name": "stdout",
     "output_type": "stream",
     "text": [
      "0.9570671569157565\n",
      "              precision    recall  f1-score   support\n",
      "\n",
      "           0       1.00      0.91      0.95      4606\n",
      "           1       0.92      1.00      0.96      4641\n",
      "\n",
      "    accuracy                           0.96      9247\n",
      "   macro avg       0.96      0.96      0.96      9247\n",
      "weighted avg       0.96      0.96      0.96      9247\n",
      "\n"
     ]
    }
   ],
   "source": [
    "#GaussianNB\n",
    "\n",
    "nb = GaussianNB()\n",
    "nb.fit(X_train_s,y_train_s)\n",
    "predictions = nb.predict(X_test)\n",
    "print(accuracy_score(y_test, predictions))\n",
    "print(classification_report(y_test,predictions))"
   ]
  },
  {
   "cell_type": "code",
   "execution_count": 24,
   "id": "6993d5ea",
   "metadata": {},
   "outputs": [],
   "source": [
    "# ROC Curve\n",
    "\n",
    "r_probs = [0 for _ in range(len(y_test))]\n",
    "\n",
    "KNN_probs = knneig.predict_proba(X_test)\n",
    "svc_probs = svc.predict_proba(X_test)\n",
    "LR_probs = lr.predict_proba(X_test)\n",
    "nb_probs = nb.predict_proba(X_test)\n",
    "mlp_probs = mlp.predict_proba(X_test)\n",
    "\n",
    "\n",
    "KNN_probs = KNN_probs[:, 1]\n",
    "svc_probs = svc_probs[:, 1]\n",
    "LR_probs = LR_probs[:, 1]\n",
    "nb_probs = nb_probs[:, 1]\n",
    "mlp_probs = mlp_probs[:, 1]\n",
    "\n",
    "\n",
    "r_auc = roc_auc_score(y_test, r_probs)\n",
    "KNN_auc = roc_auc_score(y_test, KNN_probs)\n",
    "LR_auc = roc_auc_score(y_test, LR_probs)\n",
    "svc_auc = roc_auc_score(y_test, svc_probs)\n",
    "nb_auc = roc_auc_score(y_test, nb_probs)\n",
    "mlp_auc = roc_auc_score(y_test, mlp_probs)\n",
    "\n",
    "r_fpr, r_tpr, _ = roc_curve(y_test, r_probs)\n",
    "KNN_fpr, KNN_tpr, _ = roc_curve(y_test, KNN_probs)\n",
    "LR_fpr, LR_tpr, _ = roc_curve(y_test, LR_probs)\n",
    "svc_fpr, svc_tpr, _ = roc_curve(y_test, svc_probs)\n",
    "nb_fpr, nb_tpr, _ = roc_curve(y_test, nb_probs)\n",
    "mlp_fpr, mlp_tpr, _ = roc_curve(y_test, mlp_probs)"
   ]
  },
  {
   "cell_type": "code",
   "execution_count": 25,
   "id": "5997871d",
   "metadata": {},
   "outputs": [
    {
     "data": {
      "image/png": "[encoded data removed]",
      "text/plain": [
       "<Figure size 1152x576 with 1 Axes>"
      ]
     },
     "metadata": {
      "needs_background": "light"
     },
     "output_type": "display_data"
    }
   ],
   "source": [
    "plt.figure(figsize=(16,8))\n",
    "plt.plot(r_fpr, r_tpr, linestyle='--')\n",
    "#plt.plot(rf_fpr, rf_tpr, marker='.', label='Random Forest (AUROC = %0.3f)' % rf_auc)\n",
    "plt.plot(KNN_fpr, KNN_tpr, label='KNN (AUROC = %0.3f)' % KNN_auc)\n",
    "plt.plot(svc_fpr, svc_tpr, label='SVM (AUROC = %0.3f)' % svc_auc)\n",
    "plt.plot(LR_fpr, LR_tpr, label='LR (AUROC = %0.3f)' % LR_auc)\n",
    "plt.plot(nb_fpr, nb_fpr, label='NB (AUROC = %0.3f)' % nb_auc)\n",
    "plt.plot(mlp_fpr, mlp_fpr, label='ABC (AUROC = %0.3f)' % mlp_auc)\n",
    "\n",
    "\n",
    "\n",
    "# Title\n",
    "plt.title('ROC Plot')\n",
    "# Axis labels\n",
    "plt.xlabel('False Positive Rate')\n",
    "plt.ylabel('True Positive Rate')\n",
    "# Show legend\n",
    "plt.legend() # \n",
    "# Show plot\n",
    "plt.show()"
   ]
  },
  {
   "cell_type": "code",
   "execution_count": null,
   "id": "908a068b",
   "metadata": {},
   "outputs": [],
   "source": []
  },
  {
   "cell_type": "code",
   "execution_count": null,
   "id": "69188a35",
   "metadata": {},
   "outputs": [],
   "source": []
  },
  {
   "cell_type": "code",
   "execution_count": null,
   "id": "ed3f7342",
   "metadata": {},
   "outputs": [],
   "source": []
  },
  {
   "cell_type": "code",
   "execution_count": 26,
   "id": "96cdc2ee",
   "metadata": {},
   "outputs": [],
   "source": [
    "import tensorflow as tf\n",
    "model= tf.keras.models.Sequential()\n",
    "model.add(tf.keras.layers.Dense(units=64,activation='relu',input_shape= (42,)))\n",
    "model.add(tf.keras.layers.Dense(units=128,activation='relu'))\n",
    "model.add(tf.keras.layers.Dense(units=1,activation='sigmoid'))"
   ]
  },
  {
   "cell_type": "code",
   "execution_count": 27,
   "id": "59b10779",
   "metadata": {},
   "outputs": [
    {
     "name": "stdout",
     "output_type": "stream",
     "text": [
      "Model: \"sequential_1\"\n",
      "_________________________________________________________________\n",
      "Layer (type)                 Output Shape              Param #   \n",
      "=================================================================\n",
      "dense_3 (Dense)              (None, 64)                2752      \n",
      "_________________________________________________________________\n",
      "dense_4 (Dense)              (None, 128)               8320      \n",
      "_________________________________________________________________\n",
      "dense_5 (Dense)              (None, 1)                 129       \n",
      "=================================================================\n",
      "Total params: 11,201\n",
      "Trainable params: 11,201\n",
      "Non-trainable params: 0\n",
      "_________________________________________________________________\n"
     ]
    }
   ],
   "source": [
    "model.summary()"
   ]
  },
  {
   "cell_type": "code",
   "execution_count": 28,
   "id": "c97a3bc7",
   "metadata": {
    "scrolled": true
   },
   "outputs": [
    {
     "name": "stdout",
     "output_type": "stream",
     "text": [
      "Epoch 1/50\n",
      "1209/1209 [==============================] - 1s 493us/step - loss: 0.1658 - accuracy: 0.9280\n",
      "Epoch 2/50\n",
      "1209/1209 [==============================] - 1s 486us/step - loss: 0.0735 - accuracy: 0.9724\n",
      "Epoch 3/50\n",
      "1209/1209 [==============================] - 1s 487us/step - loss: 0.0313 - accuracy: 0.9905\n",
      "Epoch 4/50\n",
      "1209/1209 [==============================] - 1s 461us/step - loss: 0.0118 - accuracy: 0.9974\n",
      "Epoch 5/50\n",
      "1209/1209 [==============================] - 1s 457us/step - loss: 0.0073 - accuracy: 0.9985\n",
      "Epoch 6/50\n",
      "1209/1209 [==============================] - 1s 461us/step - loss: 0.0048 - accuracy: 0.9989\n",
      "Epoch 7/50\n",
      "1209/1209 [==============================] - 1s 472us/step - loss: 0.0031 - accuracy: 0.9993\n",
      "Epoch 8/50\n",
      "1209/1209 [==============================] - 1s 466us/step - loss: 0.0027 - accuracy: 0.9993\n",
      "Epoch 9/50\n",
      "1209/1209 [==============================] - 1s 478us/step - loss: 0.0012 - accuracy: 0.9997\n",
      "Epoch 10/50\n",
      "1209/1209 [==============================] - 1s 462us/step - loss: 0.0016 - accuracy: 0.9995\n",
      "Epoch 11/50\n",
      "1209/1209 [==============================] - 1s 460us/step - loss: 0.0012 - accuracy: 0.9997\n",
      "Epoch 12/50\n",
      "1209/1209 [==============================] - 1s 459us/step - loss: 1.9778e-04 - accuracy: 1.0000\n",
      "Epoch 13/50\n",
      "1209/1209 [==============================] - 1s 455us/step - loss: 9.3503e-04 - accuracy: 0.9998\n",
      "Epoch 14/50\n",
      "1209/1209 [==============================] - 1s 467us/step - loss: 0.0014 - accuracy: 0.9997\n",
      "Epoch 15/50\n",
      "1209/1209 [==============================] - 1s 475us/step - loss: 0.0015 - accuracy: 0.9996\n",
      "Epoch 16/50\n",
      "1209/1209 [==============================] - 1s 457us/step - loss: 5.7831e-04 - accuracy: 0.9998\n",
      "Epoch 17/50\n",
      "1209/1209 [==============================] - 1s 458us/step - loss: 8.7744e-04 - accuracy: 0.9998\n",
      "Epoch 18/50\n",
      "1209/1209 [==============================] - 1s 443us/step - loss: 2.3613e-04 - accuracy: 0.9999\n",
      "Epoch 19/50\n",
      "1209/1209 [==============================] - 1s 446us/step - loss: 2.6247e-05 - accuracy: 1.0000\n",
      "Epoch 20/50\n",
      "1209/1209 [==============================] - 1s 448us/step - loss: 1.6642e-05 - accuracy: 1.0000\n",
      "Epoch 21/50\n",
      "1209/1209 [==============================] - 1s 460us/step - loss: 9.2106e-06 - accuracy: 1.0000\n",
      "Epoch 22/50\n",
      "1209/1209 [==============================] - 1s 448us/step - loss: 0.0028 - accuracy: 0.9993\n",
      "Epoch 23/50\n",
      "1209/1209 [==============================] - 1s 471us/step - loss: 5.0681e-04 - accuracy: 0.9999\n",
      "Epoch 24/50\n",
      "1209/1209 [==============================] - 1s 479us/step - loss: 2.8795e-05 - accuracy: 1.0000\n",
      "Epoch 25/50\n",
      "1209/1209 [==============================] - 1s 437us/step - loss: 1.6112e-05 - accuracy: 1.0000\n",
      "Epoch 26/50\n",
      "1209/1209 [==============================] - 1s 464us/step - loss: 0.0033 - accuracy: 0.9992\n",
      "Epoch 27/50\n",
      "1209/1209 [==============================] - 1s 445us/step - loss: 7.0865e-04 - accuracy: 0.9999\n",
      "Epoch 28/50\n",
      "1209/1209 [==============================] - 1s 487us/step - loss: 1.2191e-04 - accuracy: 1.0000\n",
      "Epoch 29/50\n",
      "1209/1209 [==============================] - 1s 504us/step - loss: 3.9503e-05 - accuracy: 1.0000\n",
      "Epoch 30/50\n",
      "1209/1209 [==============================] - 1s 455us/step - loss: 2.1736e-05 - accuracy: 1.0000\n",
      "Epoch 31/50\n",
      "1209/1209 [==============================] - 1s 450us/step - loss: 0.0019 - accuracy: 0.9996\n",
      "Epoch 32/50\n",
      "1209/1209 [==============================] - 1s 443us/step - loss: 4.4108e-04 - accuracy: 0.9999\n",
      "Epoch 33/50\n",
      "1209/1209 [==============================] - 1s 441us/step - loss: 2.4231e-05 - accuracy: 1.0000\n",
      "Epoch 34/50\n",
      "1209/1209 [==============================] - 1s 440us/step - loss: 1.0416e-05 - accuracy: 1.0000\n",
      "Epoch 35/50\n",
      "1209/1209 [==============================] - 1s 442us/step - loss: 4.7242e-06 - accuracy: 1.0000\n",
      "Epoch 36/50\n",
      "1209/1209 [==============================] - 1s 447us/step - loss: 3.8520e-06 - accuracy: 1.0000\n",
      "Epoch 37/50\n",
      "1209/1209 [==============================] - 1s 446us/step - loss: 2.3409e-06 - accuracy: 1.0000\n",
      "Epoch 38/50\n",
      "1209/1209 [==============================] - 1s 454us/step - loss: 0.0011 - accuracy: 0.9997\n",
      "Epoch 39/50\n",
      "1209/1209 [==============================] - 1s 441us/step - loss: 6.9003e-05 - accuracy: 1.0000\n",
      "Epoch 40/50\n",
      "1209/1209 [==============================] - 1s 444us/step - loss: 7.4865e-06 - accuracy: 1.0000\n",
      "Epoch 41/50\n",
      "1209/1209 [==============================] - 1s 444us/step - loss: 5.4280e-06 - accuracy: 1.0000\n",
      "Epoch 42/50\n",
      "1209/1209 [==============================] - 1s 441us/step - loss: 3.8613e-06 - accuracy: 1.0000\n",
      "Epoch 43/50\n",
      "1209/1209 [==============================] - 1s 474us/step - loss: 2.7658e-06 - accuracy: 1.0000\n",
      "Epoch 44/50\n",
      "1209/1209 [==============================] - 1s 446us/step - loss: 2.0878e-06 - accuracy: 1.0000\n",
      "Epoch 45/50\n",
      "1209/1209 [==============================] - 1s 447us/step - loss: 1.6678e-06 - accuracy: 1.0000\n",
      "Epoch 46/50\n",
      "1209/1209 [==============================] - 1s 439us/step - loss: 0.0028 - accuracy: 0.9995\n",
      "Epoch 47/50\n",
      "1209/1209 [==============================] - 1s 454us/step - loss: 8.0921e-05 - accuracy: 1.0000\n",
      "Epoch 48/50\n",
      "1209/1209 [==============================] - 1s 438us/step - loss: 0.0011 - accuracy: 0.9997\n",
      "Epoch 49/50\n",
      "1209/1209 [==============================] - 1s 442us/step - loss: 1.4230e-04 - accuracy: 0.9999\n",
      "Epoch 50/50\n",
      "1209/1209 [==============================] - 1s 444us/step - loss: 1.4048e-05 - accuracy: 1.0000\n"
     ]
    }
   ],
   "source": [
    "model.compile(optimizer='adam',loss='binary_crossentropy',metrics=['accuracy'])\n",
    "\n",
    "epochs_hist = model.fit(X_train_s,y_train_s,epochs=50,batch_size=60)"
   ]
  },
  {
   "cell_type": "code",
   "execution_count": 30,
   "id": "6d81eec2",
   "metadata": {},
   "outputs": [
    {
     "name": "stdout",
     "output_type": "stream",
     "text": [
      "              precision    recall  f1-score   support\n",
      "\n",
      "           0       1.00      1.00      1.00      9043\n",
      "           1       1.00      1.00      1.00      9090\n",
      "\n",
      "    accuracy                           1.00     18133\n",
      "   macro avg       1.00      1.00      1.00     18133\n",
      "weighted avg       1.00      1.00      1.00     18133\n",
      "\n"
     ]
    }
   ],
   "source": [
    "y_pred=model.predict(X_test)\n",
    "y_pred = (y_pred>0.5)\n",
    "\n",
    "print(classification_report(y_test,y_pred))"
   ]
  },
  {
   "cell_type": "code",
   "execution_count": 31,
   "id": "847a1eb8",
   "metadata": {},
   "outputs": [
    {
     "data": {
      "text/plain": [
       "Text(0.5, 1.0, 'Loss and Accuracy plot')"
      ]
     },
     "execution_count": 31,
     "metadata": {},
     "output_type": "execute_result"
    },
    {
     "data": {
      "image/png": "[encoded data removed]",
      "text/plain": [
       "<Figure size 432x288 with 1 Axes>"
      ]
     },
     "metadata": {
      "needs_background": "light"
     },
     "output_type": "display_data"
    }
   ],
   "source": [
    "plt.plot(epochs_hist.history['loss'])\n",
    "plt.plot(epochs_hist.history['accuracy'])\n",
    "plt.xlabel('Epochs')\n",
    "plt.ylabel('percentage')\n",
    "plt.legend(['loss','accuracy'])\n",
    "plt.title('Loss and Accuracy plot')"
   ]
  },
  {
   "cell_type": "markdown",
   "id": "61b37dbf",
   "metadata": {},
   "source": [
    "## RFECV"
   ]
  },
  {
   "cell_type": "code",
   "execution_count": 32,
   "id": "233aeeb6",
   "metadata": {},
   "outputs": [
    {
     "data": {
      "text/plain": [
       "RFECV(cv=StratifiedKFold(n_splits=5, random_state=42, shuffle=True),\n",
       "      estimator=RandomForestClassifier(random_state=42), scoring='accuracy')"
      ]
     },
     "execution_count": 32,
     "metadata": {},
     "output_type": "execute_result"
    }
   ],
   "source": [
    "# from sklearn.feature_selection import RFECV\n",
    "# from sklearn.model_selection import cross_validate, RepeatedStratifiedKFold, learning_curve, cross_val_score, RandomizedSearchCV, train_test_split, StratifiedKFold\n",
    "\n",
    "# rfecv = RFECV(estimator=rfc, cv=StratifiedKFold(5, random_state=42, shuffle=True), scoring=\"accuracy\")\n",
    "# rfecv.fit(X, y)"
   ]
  },
  {
   "cell_type": "code",
   "execution_count": 33,
   "id": "9a669c23",
   "metadata": {},
   "outputs": [
    {
     "data": {
      "text/plain": [
       "1"
      ]
     },
     "execution_count": 33,
     "metadata": {},
     "output_type": "execute_result"
    }
   ],
   "source": [
    "# rfecv.n_features_"
   ]
  },
  {
   "cell_type": "code",
   "execution_count": 34,
   "id": "886c26d7",
   "metadata": {},
   "outputs": [],
   "source": [
    "# X_rfe = X.iloc[:, rfecv.support_]"
   ]
  },
  {
   "cell_type": "code",
   "execution_count": 35,
   "id": "bce7c197",
   "metadata": {},
   "outputs": [
    {
     "name": "stdout",
     "output_type": "stream",
     "text": [
      "\"X\" dimension: (90664, 42)\n",
      "\"X\" column list: ['proto', 'service', 'state', 'spkts', 'dpkts', 'sbytes', 'dbytes', 'rate', 'sttl', 'dttl', 'sload', 'dload', 'sloss', 'dloss', 'sinpkt', 'dinpkt', 'sjit', 'djit', 'swin', 'stcpb', 'dtcpb', 'dwin', 'tcprtt', 'synack', 'ackdat', 'smean', 'dmean', 'trans_depth', 'response_body_len', 'ct_srv_src', 'ct_state_ttl', 'ct_dst_ltm', 'ct_src_dport_ltm', 'ct_dst_sport_ltm', 'ct_dst_src_ltm', 'is_ftp_login', 'ct_ftp_cmd', 'ct_flw_http_mthd', 'ct_src_ltm', 'ct_srv_dst', 'is_sm_ips_ports', 'attack_cat']\n",
      "\"X_rfe\" dimension: (90664, 1)\n",
      "\"X_rfe\" column list: ['attack_cat']\n"
     ]
    }
   ],
   "source": [
    "# print(\"\\\"X\\\" dimension: {}\".format(X.shape))\n",
    "# print(\"\\\"X\\\" column list:\", X.columns.tolist())\n",
    "# print(\"\\\"X_rfe\\\" dimension: {}\".format(X_rfe.shape))\n",
    "# print(\"\\\"X_rfe\\\" column list:\", X_rfe.columns.tolist())"
   ]
  },
  {
   "cell_type": "markdown",
   "id": "7e4a3535",
   "metadata": {},
   "source": [
    "## Feature Importances"
   ]
  },
  {
   "cell_type": "code",
   "execution_count": 36,
   "id": "f68b6a01",
   "metadata": {
    "scrolled": false
   },
   "outputs": [
    {
     "data": {
      "image/png": "[encoded data removed]",
      "text/plain": [
       "<Figure size 1728x576 with 1 Axes>"
      ]
     },
     "metadata": {
      "needs_background": "light"
     },
     "output_type": "display_data"
    }
   ],
   "source": [
    "from sklearn.ensemble import RandomForestClassifier\n",
    "rfc = RandomForestClassifier();\n",
    "\n",
    "# fit random forest classifier on the training set\n",
    "rfc.fit(X, y);\n",
    "# extract important features\n",
    "score = np.round(rfc.feature_importances_,3)\n",
    "importances = pd.DataFrame({'features':X.columns,'importance':score})\n",
    "importances = importances.sort_values('importance',ascending=False).set_index('features')\n",
    "# plot importances\n",
    "plt.rcParams['figure.figsize'] = (24, 8)\n",
    "importances.plot.bar();"
   ]
  },
  {
   "cell_type": "markdown",
   "id": "73681e54",
   "metadata": {},
   "source": [
    "## RFE"
   ]
  },
  {
   "cell_type": "code",
   "execution_count": 20,
   "id": "c5d75034",
   "metadata": {},
   "outputs": [
    {
     "data": {
      "text/plain": [
       "['dpkts',\n",
       " 'dbytes',\n",
       " 'rate',\n",
       " 'sttl',\n",
       " 'dttl',\n",
       " 'sload',\n",
       " 'dload',\n",
       " 'tcprtt',\n",
       " 'ackdat',\n",
       " 'smean',\n",
       " 'dmean',\n",
       " 'ct_state_ttl',\n",
       " 'ct_dst_src_ltm',\n",
       " 'ct_srv_dst',\n",
       " 'attack_cat']"
      ]
     },
     "execution_count": 20,
     "metadata": {},
     "output_type": "execute_result"
    }
   ],
   "source": [
    "from sklearn.feature_selection import RFE\n",
    "import itertools\n",
    "\n",
    "\n",
    "# create the RFE model and select 10 attributes\n",
    "rfe = RFE(rfc, n_features_to_select=15)\n",
    "rfe = rfe.fit(X, y)\n",
    "\n",
    "# summarize the selection of the attributes\n",
    "feature_map = [(i, v) for i, v in itertools.zip_longest(rfe.get_support(), X.columns)]\n",
    "selected_features = [v for i, v in feature_map if i==True]\n",
    "\n",
    "selected_features"
   ]
  },
  {
   "cell_type": "code",
   "execution_count": 21,
   "id": "5e9f63e2",
   "metadata": {},
   "outputs": [],
   "source": [
    "X_rfe = X.iloc[:, rfe.support_]"
   ]
  },
  {
   "cell_type": "code",
   "execution_count": 22,
   "id": "9825ea3c",
   "metadata": {},
   "outputs": [
    {
     "name": "stdout",
     "output_type": "stream",
     "text": [
      "\"X\" dimension: (46234, 42)\n",
      "\"X\" column list: ['proto', 'service', 'state', 'spkts', 'dpkts', 'sbytes', 'dbytes', 'rate', 'sttl', 'dttl', 'sload', 'dload', 'sloss', 'dloss', 'sinpkt', 'dinpkt', 'sjit', 'djit', 'swin', 'stcpb', 'dtcpb', 'dwin', 'tcprtt', 'synack', 'ackdat', 'smean', 'dmean', 'trans_depth', 'response_body_len', 'ct_srv_src', 'ct_state_ttl', 'ct_dst_ltm', 'ct_src_dport_ltm', 'ct_dst_sport_ltm', 'ct_dst_src_ltm', 'is_ftp_login', 'ct_ftp_cmd', 'ct_flw_http_mthd', 'ct_src_ltm', 'ct_srv_dst', 'is_sm_ips_ports', 'attack_cat']\n",
      "\"X_rfe\" dimension: (46234, 15)\n",
      "\"X_rfe\" column list: ['dpkts', 'dbytes', 'rate', 'sttl', 'dttl', 'sload', 'dload', 'tcprtt', 'ackdat', 'smean', 'dmean', 'ct_state_ttl', 'ct_dst_src_ltm', 'ct_srv_dst', 'attack_cat']\n"
     ]
    }
   ],
   "source": [
    "print(\"\\\"X\\\" dimension: {}\".format(X.shape))\n",
    "print(\"\\\"X\\\" column list:\", X.columns.tolist())\n",
    "print(\"\\\"X_rfe\\\" dimension: {}\".format(X_rfe.shape))\n",
    "print(\"\\\"X_rfe\\\" column list:\", X_rfe.columns.tolist())"
   ]
  },
  {
   "cell_type": "markdown",
   "id": "0511586d",
   "metadata": {},
   "source": [
    "## Apply ML after RFE"
   ]
  },
  {
   "cell_type": "code",
   "execution_count": 23,
   "id": "19935009",
   "metadata": {},
   "outputs": [],
   "source": [
    "results_test = {}\n",
    "results_train = {}\n",
    "list_algos=[]\n",
    "\n",
    "def predict(algo_name,X_train,y_train,X_test,y_test, atype='',verbose=0):\n",
    "    algo_name.fit(X_train, y_train)\n",
    "    Y_pred = algo_name.predict(X_test)\n",
    "    acc_train = round(algo_name.score(X_train, y_train) * 100, 2)\n",
    "    acc_val = round(algo_name.score(X_test, y_test) * 100, 2)\n",
    "    \n",
    "    results_test[str(algo_name)[0:str(algo_name).find('(')]+'_'+str(atype)] = acc_val\n",
    "    results_train[str(algo_name)[0:str(algo_name).find('(')]+'_'+str(atype)] = acc_train\n",
    "    list_algos.append(str(algo_name)[0:str(algo_name).find('(')])\n",
    "    if verbose ==0:\n",
    "        print(\"Training Accuracy: \" + str(acc_train))\n",
    "        print(\"Testing  Accuracy: \"+ str(acc_val))\n",
    "    else:\n",
    "        return Y_pred"
   ]
  },
  {
   "cell_type": "code",
   "execution_count": 24,
   "id": "3b3ecab8",
   "metadata": {},
   "outputs": [
    {
     "name": "stdout",
     "output_type": "stream",
     "text": [
      "Train size: 36987\n",
      "Test size: 9247\n"
     ]
    }
   ],
   "source": [
    "X_rfe_train, X_rfe_test, y_train, y_test = train_test_split(X_rfe, y, \n",
    "                                                                             test_size=0.2, \n",
    "                                                                             stratify=y,\n",
    "                                                                             random_state=42)\n",
    "print(\"Train size: {}\".format(len(y_train)))\n",
    "print(\"Test size: {}\".format(len(y_test)))"
   ]
  },
  {
   "cell_type": "code",
   "execution_count": 25,
   "id": "be2f02af",
   "metadata": {},
   "outputs": [
    {
     "name": "stdout",
     "output_type": "stream",
     "text": [
      "Training Accuracy: 99.98\n",
      "Testing  Accuracy: 100.0\n",
      "              precision    recall  f1-score   support\n",
      "\n",
      "           0       1.00      1.00      1.00      4624\n",
      "           1       1.00      1.00      1.00      4623\n",
      "\n",
      "    accuracy                           1.00      9247\n",
      "   macro avg       1.00      1.00      1.00      9247\n",
      "weighted avg       1.00      1.00      1.00      9247\n",
      "\n"
     ]
    }
   ],
   "source": [
    "# KNN\n",
    "\n",
    "knneig = KNeighborsClassifier(n_neighbors=2)\n",
    "knneig.fit(X_rfe_train, y_train)\n",
    "# pred_knneigh = knneig.predict(X_test_g)\n",
    "# score_knneigh_before = accuracy_score(y_test, pred_knneigh)\n",
    "# print(score_knneigh_before)\n",
    "predict(knneig,X_rfe_train,y_train,X_rfe_test,y_test)\n",
    "print(classification_report(y_test, knneig.predict(X_rfe_test)))"
   ]
  },
  {
   "cell_type": "code",
   "execution_count": 46,
   "id": "fbbbec49",
   "metadata": {},
   "outputs": [
    {
     "name": "stdout",
     "output_type": "stream",
     "text": [
      "Training Accuracy: 100.0\n",
      "Testing  Accuracy: 100.0\n",
      "              precision    recall  f1-score   support\n",
      "\n",
      "           0       1.00      1.00      1.00      9067\n",
      "           1       1.00      1.00      1.00      9066\n",
      "\n",
      "    accuracy                           1.00     18133\n",
      "   macro avg       1.00      1.00      1.00     18133\n",
      "weighted avg       1.00      1.00      1.00     18133\n",
      "\n"
     ]
    }
   ],
   "source": [
    "#RF\n",
    "\n",
    "rf = RandomForestClassifier(n_estimators=250, random_state = 42)\n",
    "predict(rf,X_rfe_train,y_train,X_rfe_test,y_test)\n",
    "print(classification_report(y_test, rf.predict(X_rfe_test)))"
   ]
  },
  {
   "cell_type": "code",
   "execution_count": 47,
   "id": "fa77230d",
   "metadata": {},
   "outputs": [
    {
     "name": "stdout",
     "output_type": "stream",
     "text": [
      "Training Accuracy: 92.6\n",
      "Testing  Accuracy: 92.52\n",
      "              precision    recall  f1-score   support\n",
      "\n",
      "           0       0.91      0.95      0.93      9067\n",
      "           1       0.94      0.90      0.92      9066\n",
      "\n",
      "    accuracy                           0.93     18133\n",
      "   macro avg       0.93      0.93      0.93     18133\n",
      "weighted avg       0.93      0.93      0.93     18133\n",
      "\n"
     ]
    }
   ],
   "source": [
    "#LR\n",
    "\n",
    "lr = LogisticRegression(solver='lbfgs')\n",
    "predict(lr,X_rfe_train,y_train,X_rfe_test,y_test)\n",
    "print(classification_report(y_test, lr.predict(X_rfe_test)))"
   ]
  },
  {
   "cell_type": "code",
   "execution_count": 48,
   "id": "2d1cc8c7",
   "metadata": {},
   "outputs": [
    {
     "name": "stdout",
     "output_type": "stream",
     "text": [
      "Training Accuracy: 100.0\n",
      "Testing  Accuracy: 100.0\n",
      "              precision    recall  f1-score   support\n",
      "\n",
      "           0       1.00      1.00      1.00      9067\n",
      "           1       1.00      1.00      1.00      9066\n",
      "\n",
      "    accuracy                           1.00     18133\n",
      "   macro avg       1.00      1.00      1.00     18133\n",
      "weighted avg       1.00      1.00      1.00     18133\n",
      "\n"
     ]
    }
   ],
   "source": [
    "# GBC\n",
    "\n",
    "gbc = GradientBoostingClassifier()\n",
    "predict(gbc,X_rfe_train,y_train,X_rfe_test,y_test)\n",
    "print(classification_report(y_test, gbc.predict(X_rfe_test)))"
   ]
  },
  {
   "cell_type": "code",
   "execution_count": 49,
   "id": "da828938",
   "metadata": {},
   "outputs": [
    {
     "name": "stdout",
     "output_type": "stream",
     "text": [
      "Training Accuracy: 100.0\n",
      "Testing  Accuracy: 100.0\n",
      "              precision    recall  f1-score   support\n",
      "\n",
      "           0       1.00      1.00      1.00      9067\n",
      "           1       1.00      1.00      1.00      9066\n",
      "\n",
      "    accuracy                           1.00     18133\n",
      "   macro avg       1.00      1.00      1.00     18133\n",
      "weighted avg       1.00      1.00      1.00     18133\n",
      "\n"
     ]
    }
   ],
   "source": [
    "# ADA\n",
    "\n",
    "ada = AdaBoostClassifier()\n",
    "predict(ada,X_rfe_train,y_train,X_rfe_test,y_test)\n",
    "print(classification_report(y_test, ada.predict(X_rfe_test)))"
   ]
  },
  {
   "cell_type": "code",
   "execution_count": 51,
   "id": "f5a77c20",
   "metadata": {},
   "outputs": [
    {
     "name": "stdout",
     "output_type": "stream",
     "text": [
      "Training Accuracy: 100.0\n",
      "Testing  Accuracy: 100.0\n",
      "              precision    recall  f1-score   support\n",
      "\n",
      "           0       1.00      1.00      1.00      9067\n",
      "           1       1.00      1.00      1.00      9066\n",
      "\n",
      "    accuracy                           1.00     18133\n",
      "   macro avg       1.00      1.00      1.00     18133\n",
      "weighted avg       1.00      1.00      1.00     18133\n",
      "\n"
     ]
    }
   ],
   "source": [
    "# DT\n",
    "from sklearn.tree import DecisionTreeClassifier\n",
    "\n",
    "dt = DecisionTreeClassifier()\n",
    "predict(dt,X_rfe_train,y_train,X_rfe_test,y_test)\n",
    "print(classification_report(y_test, dt.predict(X_rfe_test)))"
   ]
  },
  {
   "cell_type": "code",
   "execution_count": 52,
   "id": "4acb5dcd",
   "metadata": {},
   "outputs": [
    {
     "name": "stdout",
     "output_type": "stream",
     "text": [
      "Training Accuracy: 98.76\n",
      "Testing  Accuracy: 98.79\n",
      "              precision    recall  f1-score   support\n",
      "\n",
      "           0       1.00      0.98      0.99      9067\n",
      "           1       0.98      1.00      0.99      9066\n",
      "\n",
      "    accuracy                           0.99     18133\n",
      "   macro avg       0.99      0.99      0.99     18133\n",
      "weighted avg       0.99      0.99      0.99     18133\n",
      "\n"
     ]
    }
   ],
   "source": [
    "#GaussianNB\n",
    "\n",
    "nb = GaussianNB()\n",
    "predict(nb,X_rfe_train,y_train,X_rfe_test,y_test)\n",
    "print(classification_report(y_test, nb.predict(X_rfe_test)))"
   ]
  },
  {
   "cell_type": "code",
   "execution_count": 53,
   "id": "fc5cd662",
   "metadata": {},
   "outputs": [
    {
     "name": "stderr",
     "output_type": "stream",
     "text": [
      "C:\\Users\\moinu\\anaconda3\\lib\\site-packages\\xgboost\\sklearn.py:1146: UserWarning: The use of label encoder in XGBClassifier is deprecated and will be removed in a future release. To remove this warning, do the following: 1) Pass option use_label_encoder=False when constructing XGBClassifier object; and 2) Encode your labels (y) as integers starting with 0, i.e. 0, 1, 2, ..., [num_class - 1].\n",
      "  warnings.warn(label_encoder_deprecation_msg, UserWarning)\n"
     ]
    },
    {
     "name": "stdout",
     "output_type": "stream",
     "text": [
      "[21:22:02] WARNING: ..\\src\\learner.cc:1095: Starting in XGBoost 1.3.0, the default evaluation metric used with the objective 'binary:logistic' was changed from 'error' to 'logloss'. Explicitly set eval_metric if you'd like to restore the old behavior.\n",
      "Training Accuracy: 100.0\n",
      "Testing  Accuracy: 100.0\n",
      "              precision    recall  f1-score   support\n",
      "\n",
      "           0       1.00      1.00      1.00      9067\n",
      "           1       1.00      1.00      1.00      9066\n",
      "\n",
      "    accuracy                           1.00     18133\n",
      "   macro avg       1.00      1.00      1.00     18133\n",
      "weighted avg       1.00      1.00      1.00     18133\n",
      "\n"
     ]
    },
    {
     "name": "stderr",
     "output_type": "stream",
     "text": [
      "C:\\Users\\moinu\\anaconda3\\lib\\site-packages\\xgboost\\data.py:112: UserWarning: Use subset (sliced data) of np.ndarray is not recommended because it will generate extra copies and increase memory consumption\n",
      "  warnings.warn(\n",
      "C:\\Users\\moinu\\anaconda3\\lib\\site-packages\\xgboost\\data.py:112: UserWarning: Use subset (sliced data) of np.ndarray is not recommended because it will generate extra copies and increase memory consumption\n",
      "  warnings.warn(\n",
      "C:\\Users\\moinu\\anaconda3\\lib\\site-packages\\xgboost\\data.py:112: UserWarning: Use subset (sliced data) of np.ndarray is not recommended because it will generate extra copies and increase memory consumption\n",
      "  warnings.warn(\n"
     ]
    }
   ],
   "source": [
    "#xgb\n",
    "\n",
    "xg = xgb.XGBClassifier()\n",
    "predict(xg,X_rfe_train,y_train,X_rfe_test,y_test)\n",
    "print(classification_report(y_test, xg.predict(X_rfe_test)))"
   ]
  },
  {
   "cell_type": "code",
   "execution_count": 55,
   "id": "1a33edad",
   "metadata": {},
   "outputs": [
    {
     "name": "stdout",
     "output_type": "stream",
     "text": [
      "Training Accuracy: 95.47\n",
      "Testing  Accuracy: 95.38\n",
      "              precision    recall  f1-score   support\n",
      "\n",
      "           0       0.92      1.00      0.96      9067\n",
      "           1       1.00      0.91      0.95      9066\n",
      "\n",
      "    accuracy                           0.95     18133\n",
      "   macro avg       0.96      0.95      0.95     18133\n",
      "weighted avg       0.96      0.95      0.95     18133\n",
      "\n"
     ]
    }
   ],
   "source": [
    "#svc\n",
    "\n",
    "svc = SVC(kernel='linear', probability=True)\n",
    "predict(svc,X_rfe_train,y_train,X_rfe_test,y_test)\n",
    "print(classification_report(y_test, svc.predict(X_rfe_test)))"
   ]
  },
  {
   "cell_type": "code",
   "execution_count": 54,
   "id": "5839d5c4",
   "metadata": {},
   "outputs": [
    {
     "name": "stdout",
     "output_type": "stream",
     "text": [
      "Training Accuracy: 100.0\n",
      "Testing  Accuracy: 99.98\n",
      "              precision    recall  f1-score   support\n",
      "\n",
      "           0       1.00      1.00      1.00      9067\n",
      "           1       1.00      1.00      1.00      9066\n",
      "\n",
      "    accuracy                           1.00     18133\n",
      "   macro avg       1.00      1.00      1.00     18133\n",
      "weighted avg       1.00      1.00      1.00     18133\n",
      "\n"
     ]
    }
   ],
   "source": [
    "#MLP\n",
    "\n",
    "from sklearn.neural_network import MLPClassifier\n",
    "mlp = MLPClassifier(random_state=1)\n",
    "predict(mlp,X_rfe_train,y_train,X_rfe_test,y_test)\n",
    "print(classification_report(y_test, mlp.predict(X_rfe_test)))"
   ]
  },
  {
   "cell_type": "code",
   "execution_count": 56,
   "id": "c864ccf8",
   "metadata": {},
   "outputs": [],
   "source": [
    "# ROC Curve\n",
    "\n",
    "r_probs = [0 for _ in range(len(y_test))]\n",
    "KNN_probs = knneig.predict_proba(X_rfe_test)\n",
    "RF_probs = rf.predict_proba(X_rfe_test)\n",
    "GBC_probs = gbc.predict_proba(X_rfe_test)\n",
    "ADA_probs = ada.predict_proba(X_rfe_test)\n",
    "LR_probs = lr.predict_proba(X_rfe_test)\n",
    "svc_probs = svc.predict_proba(X_rfe_test)\n",
    "nb_probs = nb.predict_proba(X_rfe_test)\n",
    "\n",
    "\n",
    "KNN_probs = KNN_probs[:, 1]\n",
    "RF_probs = RF_probs[:, 1]\n",
    "GBC_probs = GBC_probs[:, 1]\n",
    "LR_probs = LR_probs[:, 1]\n",
    "ADA_probs = ADA_probs[:, 1]\n",
    "svc_probs = svc_probs[:, 1]\n",
    "nb_probs = nb_probs[:, 1]\n",
    "\n",
    "\n",
    "r_auc = roc_auc_score(y_test, r_probs)\n",
    "KNN_auc = roc_auc_score(y_test, KNN_probs)\n",
    "RF_auc = roc_auc_score(y_test, RF_probs)\n",
    "GBC_auc = roc_auc_score(y_test, GBC_probs)\n",
    "LR_auc = roc_auc_score(y_test, LR_probs)\n",
    "ADA_auc = roc_auc_score(y_test, ADA_probs)\n",
    "svc_auc = roc_auc_score(y_test, svc_probs)\n",
    "nb_auc = roc_auc_score(y_test, nb_probs)\n",
    "\n",
    "r_fpr, r_tpr, _ = roc_curve(y_test, r_probs)\n",
    "KNN_fpr, KNN_tpr, _ = roc_curve(y_test, KNN_probs)\n",
    "RF_fpr, RF_tpr, _ = roc_curve(y_test, RF_probs)\n",
    "GBC_fpr, GBC_tpr, _ = roc_curve(y_test, GBC_probs)\n",
    "LR_fpr, LR_tpr, _ = roc_curve(y_test, LR_probs)\n",
    "ADA_fpr, ADA_tpr, _ = roc_curve(y_test, ADA_probs)\n",
    "svc_fpr, svc_tpr, _ = roc_curve(y_test, svc_probs)\n",
    "nb_fpr, nb_tpr, _ = roc_curve(y_test, nb_probs)"
   ]
  },
  {
   "cell_type": "code",
   "execution_count": 59,
   "id": "a4138bd9",
   "metadata": {
    "scrolled": true
   },
   "outputs": [
    {
     "data": {
      "image/png": "[encoded data removed]",
      "text/plain": [
       "<Figure size 1152x576 with 1 Axes>"
      ]
     },
     "metadata": {
      "needs_background": "light"
     },
     "output_type": "display_data"
    }
   ],
   "source": [
    "plt.figure(figsize=(16,8))\n",
    "plt.plot(r_fpr, r_tpr, linestyle='--')\n",
    "#plt.plot(rf_fpr, rf_tpr, marker='.', label='Random Forest (AUROC = %0.3f)' % rf_auc)\n",
    "plt.plot(KNN_fpr, KNN_tpr, label='KNN (AUROC = %0.3f)' % KNN_auc)\n",
    "plt.plot(RF_fpr, RF_tpr, label='RF (AUROC = %0.3f)' % RF_auc)\n",
    "plt.plot(GBC_fpr, GBC_tpr, label='GBC (AUROC = %0.3f)' % GBC_auc)\n",
    "plt.plot(LR_fpr, LR_tpr, label='LR (AUROC = %0.3f)' % LR_auc)\n",
    "plt.plot(ADA_fpr, ADA_tpr, label='ADA (AUROC = %0.3f)' % ADA_auc)\n",
    "plt.plot(svc_fpr, svc_tpr, label='SVC (AUROC = %0.3f)' % svc_auc)\n",
    "plt.plot(nb_fpr, nb_fpr, label='NB (AUROC = %0.3f)' % nb_auc)\n",
    "\n",
    "\n",
    "\n",
    "# Title\n",
    "plt.title('ROC Plot')\n",
    "# Axis labels\n",
    "plt.xlabel('False Positive Rate')\n",
    "plt.ylabel('True Positive Rate')\n",
    "# Show legend\n",
    "plt.legend() # \n",
    "# Show plot\n",
    "plt.show()"
   ]
  },
  {
   "cell_type": "code",
   "execution_count": 60,
   "id": "518e6060",
   "metadata": {},
   "outputs": [],
   "source": [
    "import tensorflow as tf\n",
    "model= tf.keras.models.Sequential()\n",
    "model.add(tf.keras.layers.Dense(units=64,activation='relu',input_shape= (,)))\n",
    "model.add(tf.keras.layers.Dense(units=128,activation='relu'))\n",
    "model.add(tf.keras.layers.Dense(units=1,activation='sigmoid'))"
   ]
  },
  {
   "cell_type": "code",
   "execution_count": 61,
   "id": "1d05b9e0",
   "metadata": {},
   "outputs": [
    {
     "name": "stdout",
     "output_type": "stream",
     "text": [
      "Model: \"sequential_2\"\n",
      "_________________________________________________________________\n",
      "Layer (type)                 Output Shape              Param #   \n",
      "=================================================================\n",
      "dense_6 (Dense)              (None, 64)                1024      \n",
      "_________________________________________________________________\n",
      "dense_7 (Dense)              (None, 128)               8320      \n",
      "_________________________________________________________________\n",
      "dense_8 (Dense)              (None, 1)                 129       \n",
      "=================================================================\n",
      "Total params: 9,473\n",
      "Trainable params: 9,473\n",
      "Non-trainable params: 0\n",
      "_________________________________________________________________\n"
     ]
    }
   ],
   "source": [
    "model.summary()"
   ]
  },
  {
   "cell_type": "code",
   "execution_count": 62,
   "id": "41f8483d",
   "metadata": {
    "scrolled": true
   },
   "outputs": [
    {
     "name": "stdout",
     "output_type": "stream",
     "text": [
      "Epoch 1/50\n",
      "1209/1209 [==============================] - 1s 493us/step - loss: 0.1512 - accuracy: 0.9393\n",
      "Epoch 2/50\n",
      "1209/1209 [==============================] - 1s 483us/step - loss: 0.0361 - accuracy: 0.9892\n",
      "Epoch 3/50\n",
      "1209/1209 [==============================] - 1s 450us/step - loss: 0.0091 - accuracy: 0.9986\n",
      "Epoch 4/50\n",
      "1209/1209 [==============================] - 1s 458us/step - loss: 0.0043 - accuracy: 0.9993\n",
      "Epoch 5/50\n",
      "1209/1209 [==============================] - 1s 449us/step - loss: 0.0026 - accuracy: 0.9995\n",
      "Epoch 6/50\n",
      "1209/1209 [==============================] - 1s 448us/step - loss: 0.0017 - accuracy: 0.9997\n",
      "Epoch 7/50\n",
      "1209/1209 [==============================] - 1s 475us/step - loss: 0.0016 - accuracy: 0.9997\n",
      "Epoch 8/50\n",
      "1209/1209 [==============================] - 1s 464us/step - loss: 0.0012 - accuracy: 0.9998\n",
      "Epoch 9/50\n",
      "1209/1209 [==============================] - 1s 481us/step - loss: 8.7369e-04 - accuracy: 0.9999\n",
      "Epoch 10/50\n",
      "1209/1209 [==============================] - 1s 470us/step - loss: 8.7191e-04 - accuracy: 0.9998\n",
      "Epoch 11/50\n",
      "1209/1209 [==============================] - 1s 469us/step - loss: 8.3363e-04 - accuracy: 0.9999\n",
      "Epoch 12/50\n",
      "1209/1209 [==============================] - 1s 495us/step - loss: 9.1255e-04 - accuracy: 0.9998\n",
      "Epoch 13/50\n",
      "1209/1209 [==============================] - 1s 474us/step - loss: 7.3610e-04 - accuracy: 0.9999\n",
      "Epoch 14/50\n",
      "1209/1209 [==============================] - 1s 464us/step - loss: 7.6280e-04 - accuracy: 0.9999\n",
      "Epoch 15/50\n",
      "1209/1209 [==============================] - 1s 488us/step - loss: 3.9358e-04 - accuracy: 0.9999\n",
      "Epoch 16/50\n",
      "1209/1209 [==============================] - 1s 469us/step - loss: 4.5503e-04 - accuracy: 0.9999\n",
      "Epoch 17/50\n",
      "1209/1209 [==============================] - 1s 470us/step - loss: 3.9193e-04 - accuracy: 0.9999\n",
      "Epoch 18/50\n",
      "1209/1209 [==============================] - 1s 471us/step - loss: 5.6341e-04 - accuracy: 0.9999\n",
      "Epoch 19/50\n",
      "1209/1209 [==============================] - 1s 477us/step - loss: 1.5967e-04 - accuracy: 1.0000\n",
      "Epoch 20/50\n",
      "1209/1209 [==============================] - 1s 460us/step - loss: 3.7651e-04 - accuracy: 0.9999\n",
      "Epoch 21/50\n",
      "1209/1209 [==============================] - 1s 474us/step - loss: 2.2901e-04 - accuracy: 0.9999\n",
      "Epoch 22/50\n",
      "1209/1209 [==============================] - 1s 472us/step - loss: 3.2227e-04 - accuracy: 0.9999\n",
      "Epoch 23/50\n",
      "1209/1209 [==============================] - 1s 475us/step - loss: 1.1200e-05 - accuracy: 1.0000\n",
      "Epoch 24/50\n",
      "1209/1209 [==============================] - 1s 492us/step - loss: 5.3816e-06 - accuracy: 1.0000\n",
      "Epoch 25/50\n",
      "1209/1209 [==============================] - 1s 483us/step - loss: 3.5725e-06 - accuracy: 1.0000\n",
      "Epoch 26/50\n",
      "1209/1209 [==============================] - 1s 493us/step - loss: 6.0204e-04 - accuracy: 0.9999\n",
      "Epoch 27/50\n",
      "1209/1209 [==============================] - 1s 486us/step - loss: 2.8464e-04 - accuracy: 1.0000\n",
      "Epoch 28/50\n",
      "1209/1209 [==============================] - 1s 499us/step - loss: 2.5240e-05 - accuracy: 1.0000\n",
      "Epoch 29/50\n",
      "1209/1209 [==============================] - 1s 469us/step - loss: 4.5003e-06 - accuracy: 1.0000\n",
      "Epoch 30/50\n",
      "1209/1209 [==============================] - 1s 485us/step - loss: 2.4523e-06 - accuracy: 1.0000\n",
      "Epoch 31/50\n",
      "1209/1209 [==============================] - 1s 456us/step - loss: 1.5932e-06 - accuracy: 1.0000\n",
      "Epoch 32/50\n",
      "1209/1209 [==============================] - 1s 455us/step - loss: 1.5422e-06 - accuracy: 1.0000\n",
      "Epoch 33/50\n",
      "1209/1209 [==============================] - 1s 477us/step - loss: 8.6558e-07 - accuracy: 1.0000\n",
      "Epoch 34/50\n",
      "1209/1209 [==============================] - 1s 503us/step - loss: 1.5173e-05 - accuracy: 1.0000\n",
      "Epoch 35/50\n",
      "1209/1209 [==============================] - 1s 465us/step - loss: 0.0015 - accuracy: 0.9995\n",
      "Epoch 36/50\n",
      "1209/1209 [==============================] - 1s 450us/step - loss: 1.9530e-05 - accuracy: 1.0000\n",
      "Epoch 37/50\n",
      "1209/1209 [==============================] - 1s 475us/step - loss: 3.2775e-06 - accuracy: 1.0000\n",
      "Epoch 38/50\n",
      "1209/1209 [==============================] - 1s 460us/step - loss: 2.2349e-06 - accuracy: 1.0000\n",
      "Epoch 39/50\n",
      "1209/1209 [==============================] - 1s 452us/step - loss: 1.5681e-06 - accuracy: 1.0000\n",
      "Epoch 40/50\n",
      "1209/1209 [==============================] - 1s 470us/step - loss: 1.4014e-06 - accuracy: 1.0000\n",
      "Epoch 41/50\n",
      "1209/1209 [==============================] - 1s 451us/step - loss: 3.5997e-04 - accuracy: 0.9999\n",
      "Epoch 42/50\n",
      "1209/1209 [==============================] - 1s 465us/step - loss: 1.3649e-04 - accuracy: 1.0000\n",
      "Epoch 43/50\n",
      "1209/1209 [==============================] - 1s 455us/step - loss: 2.1196e-04 - accuracy: 1.0000\n",
      "Epoch 44/50\n",
      "1209/1209 [==============================] - 1s 447us/step - loss: 2.2606e-05 - accuracy: 1.0000\n",
      "Epoch 45/50\n",
      "1209/1209 [==============================] - 1s 453us/step - loss: 1.8574e-06 - accuracy: 1.0000\n",
      "Epoch 46/50\n",
      "1209/1209 [==============================] - 1s 486us/step - loss: 8.9073e-07 - accuracy: 1.0000\n",
      "Epoch 47/50\n",
      "1209/1209 [==============================] - 1s 470us/step - loss: 5.6066e-07 - accuracy: 1.0000\n",
      "Epoch 48/50\n",
      "1209/1209 [==============================] - 1s 456us/step - loss: 3.7253e-07 - accuracy: 1.0000\n",
      "Epoch 49/50\n",
      "1209/1209 [==============================] - 1s 448us/step - loss: 2.3995e-07 - accuracy: 1.0000\n",
      "Epoch 50/50\n",
      "1209/1209 [==============================] - 1s 431us/step - loss: 1.5807e-07 - accuracy: 1.0000\n"
     ]
    }
   ],
   "source": [
    "model.compile(optimizer='adam',loss='binary_crossentropy',metrics=['accuracy'])\n",
    "\n",
    "epochs_hist = model.fit(X_rfe_train,y_train,epochs=50,batch_size=60)"
   ]
  },
  {
   "cell_type": "code",
   "execution_count": 63,
   "id": "ceb82dc8",
   "metadata": {
    "scrolled": false
   },
   "outputs": [
    {
     "data": {
      "text/plain": [
       "Text(0.5, 1.0, 'Loss and Accuracy plot')"
      ]
     },
     "execution_count": 63,
     "metadata": {},
     "output_type": "execute_result"
    },
    {
     "data": {
      "image/png": "[encoded data removed]",
      "text/plain": [
       "<Figure size 1728x576 with 1 Axes>"
      ]
     },
     "metadata": {
      "needs_background": "light"
     },
     "output_type": "display_data"
    }
   ],
   "source": [
    "y_pred=model.predict(X_rfe_test)\n",
    "\n",
    "y_pred = (y_pred>0.5)\n",
    "\n",
    "plt.plot(epochs_hist.history['loss'])\n",
    "plt.plot(epochs_hist.history['accuracy'])\n",
    "plt.xlabel('Epochs')\n",
    "plt.ylabel('percentage')\n",
    "plt.legend(['loss','accuracy'])\n",
    "plt.title('Loss and Accuracy plot')"
   ]
  },
  {
   "cell_type": "code",
   "execution_count": 64,
   "id": "825d662b",
   "metadata": {},
   "outputs": [
    {
     "name": "stdout",
     "output_type": "stream",
     "text": [
      "              precision    recall  f1-score   support\n",
      "\n",
      "           0       1.00      1.00      1.00      9067\n",
      "           1       1.00      1.00      1.00      9066\n",
      "\n",
      "    accuracy                           1.00     18133\n",
      "   macro avg       1.00      1.00      1.00     18133\n",
      "weighted avg       1.00      1.00      1.00     18133\n",
      "\n"
     ]
    }
   ],
   "source": [
    "print(classification_report(y_test,y_pred))"
   ]
  }
 ],
 "metadata": {
  "kernelspec": {
   "display_name": "Python 3",
   "language": "python",
   "name": "python3"
  },
  "language_info": {
   "codemirror_mode": {
    "name": "ipython",
    "version": 3
   },
   "file_extension": ".py",
   "mimetype": "text/x-python",
   "name": "python",
   "nbconvert_exporter": "python",
   "pygments_lexer": "ipython3",
   "version": "3.8.8"
  }
 },
 "nbformat": 4,
 "nbformat_minor": 5
}
